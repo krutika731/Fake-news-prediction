{
 "cells": [
  {
   "cell_type": "markdown",
   "metadata": {},
   "source": [
    "### Modeling with Neural network\n",
    "\n",
    "In this notebook I trained LSTM model to classify news articles to find that it has high , mixed or low factual data\n"
   ]
  },
  {
   "cell_type": "code",
   "execution_count": 1,
   "metadata": {},
   "outputs": [
    {
     "name": "stderr",
     "output_type": "stream",
     "text": [
      "Using TensorFlow backend.\n"
     ]
    }
   ],
   "source": [
    "import re\n",
    "\n",
    "import pandas as pd\n",
    "import numpy as np\n",
    "\n",
    "import matplotlib.pyplot as plt\n",
    "import seaborn as sns\n",
    "\n",
    "from tqdm import tqdm\n",
    "tqdm.pandas(desc=\"progress-bar\")\n",
    "\n",
    "from sklearn import utils\n",
    "\n",
    "\n",
    "from sklearn.utils import shuffle,resample\n",
    "\n",
    "from sklearn.pipeline import Pipeline\n",
    "\n",
    "from sklearn.feature_extraction.text import CountVectorizer,TfidfVectorizer\n",
    "\n",
    "from sklearn.model_selection import train_test_split,GridSearchCV,cross_val_score\n",
    "from sklearn.linear_model import LogisticRegression\n",
    "from sklearn.ensemble import RandomForestClassifier\n",
    "from sklearn.svm import SVC\n",
    "from sklearn.naive_bayes import MultinomialNB\n",
    "\n",
    "\n",
    "from sklearn.metrics import accuracy_score, confusion_matrix,classification_report\n",
    "\n",
    "from nltk.stem import PorterStemmer\n",
    "from nltk.tokenize import word_tokenize\n",
    "from nltk.tokenize import sent_tokenize\n",
    "from nltk.stem import WordNetLemmatizer\n",
    "from nltk.corpus import stopwords\n",
    "\n",
    "from gensim import utils\n",
    "from gensim.models.doc2vec import LabeledSentence\n",
    "from gensim.models import Doc2Vec\n",
    "from gensim.models.doc2vec import TaggedDocument\n",
    "\n",
    "from keras.preprocessing.text import Tokenizer\n",
    "from keras.preprocessing.sequence import pad_sequences\n",
    "from keras.layers import LSTM, Dense, Input, Embedding, Dropout, Activation, GRU, Flatten,SpatialDropout1D\n",
    "from keras.layers import Bidirectional, GlobalMaxPool1D\n",
    "from keras.layers.convolutional import MaxPooling1D\n",
    "from keras.layers import Convolution1D\n",
    "from keras.layers.convolutional import Conv1D,Conv2D\n",
    "from keras.models import Model,Sequential\n",
    "from keras import initializers, constraints, regularizers, optimizers, layers\n",
    "from keras.callbacks import EarlyStopping\n",
    "from keras.metrics import categorical_accuracy\n",
    "from keras.models import load_model\n",
    "\n",
    "\n",
    "import warnings\n",
    "warnings.simplefilter(action='ignore')"
   ]
  },
  {
   "cell_type": "code",
   "execution_count": 2,
   "metadata": {},
   "outputs": [],
   "source": [
    "\n",
    "data_file = './data/news_data.csv'"
   ]
  },
  {
   "cell_type": "code",
   "execution_count": 3,
   "metadata": {},
   "outputs": [],
   "source": [
    "## Load data into dataframe\n",
    "news_df = pd.read_csv(data_file)"
   ]
  },
  {
   "cell_type": "code",
   "execution_count": 4,
   "metadata": {},
   "outputs": [
    {
     "data": {
      "text/html": [
       "<div>\n",
       "<style scoped>\n",
       "    .dataframe tbody tr th:only-of-type {\n",
       "        vertical-align: middle;\n",
       "    }\n",
       "\n",
       "    .dataframe tbody tr th {\n",
       "        vertical-align: top;\n",
       "    }\n",
       "\n",
       "    .dataframe thead th {\n",
       "        text-align: right;\n",
       "    }\n",
       "</style>\n",
       "<table border=\"1\" class=\"dataframe\">\n",
       "  <thead>\n",
       "    <tr style=\"text-align: right;\">\n",
       "      <th></th>\n",
       "      <th>Unnamed: 0</th>\n",
       "      <th>author</th>\n",
       "      <th>country</th>\n",
       "      <th>crawled</th>\n",
       "      <th>domain_rank</th>\n",
       "      <th>facebook_comments</th>\n",
       "      <th>facebook_likes</th>\n",
       "      <th>language</th>\n",
       "      <th>main_image</th>\n",
       "      <th>participants_count</th>\n",
       "      <th>published</th>\n",
       "      <th>rating</th>\n",
       "      <th>site</th>\n",
       "      <th>site_categories</th>\n",
       "      <th>site_type</th>\n",
       "      <th>text</th>\n",
       "      <th>title</th>\n",
       "      <th>url</th>\n",
       "      <th>factual_reporting</th>\n",
       "    </tr>\n",
       "  </thead>\n",
       "  <tbody>\n",
       "    <tr>\n",
       "      <th>0</th>\n",
       "      <td>0</td>\n",
       "      <td>Javier Moreno</td>\n",
       "      <td>US</td>\n",
       "      <td>2019-04-11T07:20:39.028+03:00</td>\n",
       "      <td>137.0</td>\n",
       "      <td>319</td>\n",
       "      <td>382</td>\n",
       "      <td>english</td>\n",
       "      <td>https://img.buzzfeed.com/buzzfeed-static/stati...</td>\n",
       "      <td>1</td>\n",
       "      <td>2019-04-11T12:14:00.000+03:00</td>\n",
       "      <td>NaN</td>\n",
       "      <td>www.buzzfeed.com</td>\n",
       "      <td>['media', 'homework_study_tips', 'education']</td>\n",
       "      <td>blogs</td>\n",
       "      <td>Questions are coming. HBO Correct Incorrect Co...</td>\n",
       "      <td>Which \"Game Of Thrones\" Group Do You Really Be...</td>\n",
       "      <td>https://www.buzzfeed.com/javiermoreno/game-of-...</td>\n",
       "      <td>Mixed</td>\n",
       "    </tr>\n",
       "    <tr>\n",
       "      <th>1</th>\n",
       "      <td>1</td>\n",
       "      <td>Political Reporter Jackson Gothe-Snape</td>\n",
       "      <td>AU</td>\n",
       "      <td>2019-04-11T07:25:13.024+03:00</td>\n",
       "      <td>1455.0</td>\n",
       "      <td>45</td>\n",
       "      <td>43</td>\n",
       "      <td>english</td>\n",
       "      <td>https://www.abc.net.au/news/image/9226414-16x9...</td>\n",
       "      <td>1</td>\n",
       "      <td>2019-04-11T03:00:00.000+03:00</td>\n",
       "      <td>NaN</td>\n",
       "      <td>www.abc.net.au</td>\n",
       "      <td>['television', 'music', 'entertainment']</td>\n",
       "      <td>news</td>\n",
       "      <td>Australians are increasingly suspicious of gov...</td>\n",
       "      <td>Election to focus on economy but voters losing...</td>\n",
       "      <td>https://www.abc.net.au/news/2019-04-11/federal...</td>\n",
       "      <td>High</td>\n",
       "    </tr>\n",
       "    <tr>\n",
       "      <th>2</th>\n",
       "      <td>2</td>\n",
       "      <td>sports.yahoo.com</td>\n",
       "      <td>US</td>\n",
       "      <td>2019-04-11T07:35:44.051+03:00</td>\n",
       "      <td>137.0</td>\n",
       "      <td>0</td>\n",
       "      <td>0</td>\n",
       "      <td>english</td>\n",
       "      <td>https://img.buzzfeed.com/buzzfeed-static/stati...</td>\n",
       "      <td>1</td>\n",
       "      <td>2019-04-11T03:00:00.000+03:00</td>\n",
       "      <td>NaN</td>\n",
       "      <td>www.buzzfeed.com</td>\n",
       "      <td>['media', 'homework_study_tips', 'education']</td>\n",
       "      <td>news</td>\n",
       "      <td>Share On facebook Share On facebook Compartilh...</td>\n",
       "      <td>Responda estas perguntas sobre sexo e adivinha...</td>\n",
       "      <td>https://www.buzzfeed.com/br/luisdelvalle/respo...</td>\n",
       "      <td>Mixed</td>\n",
       "    </tr>\n",
       "    <tr>\n",
       "      <th>3</th>\n",
       "      <td>3</td>\n",
       "      <td>Yoonjung Seo</td>\n",
       "      <td>US</td>\n",
       "      <td>2019-04-11T07:36:28.007+03:00</td>\n",
       "      <td>81.0</td>\n",
       "      <td>3031</td>\n",
       "      <td>24808</td>\n",
       "      <td>english</td>\n",
       "      <td>https://cdn.cnn.com/cnnnext/dam/assets/1904101...</td>\n",
       "      <td>1</td>\n",
       "      <td>2019-04-11T12:19:00.000+03:00</td>\n",
       "      <td>NaN</td>\n",
       "      <td>edition.cnn.com</td>\n",
       "      <td>['media']</td>\n",
       "      <td>news</td>\n",
       "      <td>Seoul (CNN) South Korea's 66-year abortion ban...</td>\n",
       "      <td>Will South Korea legalize abortion after 50-ye...</td>\n",
       "      <td>https://edition.cnn.com/2019/04/11/health/sout...</td>\n",
       "      <td>Mixed</td>\n",
       "    </tr>\n",
       "    <tr>\n",
       "      <th>4</th>\n",
       "      <td>4</td>\n",
       "      <td>Caroline Kelly</td>\n",
       "      <td>US</td>\n",
       "      <td>2019-04-11T07:36:45.001+03:00</td>\n",
       "      <td>81.0</td>\n",
       "      <td>5701</td>\n",
       "      <td>20690</td>\n",
       "      <td>english</td>\n",
       "      <td>https://cdn.cnn.com/cnnnext/dam/assets/1603211...</td>\n",
       "      <td>1</td>\n",
       "      <td>2019-04-11T12:24:00.000+03:00</td>\n",
       "      <td>NaN</td>\n",
       "      <td>edition.cnn.com</td>\n",
       "      <td>['media']</td>\n",
       "      <td>news</td>\n",
       "      <td>Washington (CNN) President Donald Trump's olde...</td>\n",
       "      <td>Investigation into Maryanne Trump Barry, Presi...</td>\n",
       "      <td>https://edition.cnn.com/2019/04/11/politics/ma...</td>\n",
       "      <td>Mixed</td>\n",
       "    </tr>\n",
       "  </tbody>\n",
       "</table>\n",
       "</div>"
      ],
      "text/plain": [
       "   Unnamed: 0                                  author country  \\\n",
       "0           0                           Javier Moreno      US   \n",
       "1           1  Political Reporter Jackson Gothe-Snape      AU   \n",
       "2           2                        sports.yahoo.com      US   \n",
       "3           3                            Yoonjung Seo      US   \n",
       "4           4                          Caroline Kelly      US   \n",
       "\n",
       "                         crawled  domain_rank  facebook_comments  \\\n",
       "0  2019-04-11T07:20:39.028+03:00        137.0                319   \n",
       "1  2019-04-11T07:25:13.024+03:00       1455.0                 45   \n",
       "2  2019-04-11T07:35:44.051+03:00        137.0                  0   \n",
       "3  2019-04-11T07:36:28.007+03:00         81.0               3031   \n",
       "4  2019-04-11T07:36:45.001+03:00         81.0               5701   \n",
       "\n",
       "   facebook_likes language                                         main_image  \\\n",
       "0             382  english  https://img.buzzfeed.com/buzzfeed-static/stati...   \n",
       "1              43  english  https://www.abc.net.au/news/image/9226414-16x9...   \n",
       "2               0  english  https://img.buzzfeed.com/buzzfeed-static/stati...   \n",
       "3           24808  english  https://cdn.cnn.com/cnnnext/dam/assets/1904101...   \n",
       "4           20690  english  https://cdn.cnn.com/cnnnext/dam/assets/1603211...   \n",
       "\n",
       "   participants_count                      published  rating  \\\n",
       "0                   1  2019-04-11T12:14:00.000+03:00     NaN   \n",
       "1                   1  2019-04-11T03:00:00.000+03:00     NaN   \n",
       "2                   1  2019-04-11T03:00:00.000+03:00     NaN   \n",
       "3                   1  2019-04-11T12:19:00.000+03:00     NaN   \n",
       "4                   1  2019-04-11T12:24:00.000+03:00     NaN   \n",
       "\n",
       "               site                                site_categories site_type  \\\n",
       "0  www.buzzfeed.com  ['media', 'homework_study_tips', 'education']     blogs   \n",
       "1    www.abc.net.au       ['television', 'music', 'entertainment']      news   \n",
       "2  www.buzzfeed.com  ['media', 'homework_study_tips', 'education']      news   \n",
       "3   edition.cnn.com                                      ['media']      news   \n",
       "4   edition.cnn.com                                      ['media']      news   \n",
       "\n",
       "                                                text  \\\n",
       "0  Questions are coming. HBO Correct Incorrect Co...   \n",
       "1  Australians are increasingly suspicious of gov...   \n",
       "2  Share On facebook Share On facebook Compartilh...   \n",
       "3  Seoul (CNN) South Korea's 66-year abortion ban...   \n",
       "4  Washington (CNN) President Donald Trump's olde...   \n",
       "\n",
       "                                               title  \\\n",
       "0  Which \"Game Of Thrones\" Group Do You Really Be...   \n",
       "1  Election to focus on economy but voters losing...   \n",
       "2  Responda estas perguntas sobre sexo e adivinha...   \n",
       "3  Will South Korea legalize abortion after 50-ye...   \n",
       "4  Investigation into Maryanne Trump Barry, Presi...   \n",
       "\n",
       "                                                 url factual_reporting  \n",
       "0  https://www.buzzfeed.com/javiermoreno/game-of-...             Mixed  \n",
       "1  https://www.abc.net.au/news/2019-04-11/federal...              High  \n",
       "2  https://www.buzzfeed.com/br/luisdelvalle/respo...             Mixed  \n",
       "3  https://edition.cnn.com/2019/04/11/health/sout...             Mixed  \n",
       "4  https://edition.cnn.com/2019/04/11/politics/ma...             Mixed  "
      ]
     },
     "execution_count": 4,
     "metadata": {},
     "output_type": "execute_result"
    }
   ],
   "source": [
    "news_df.head()"
   ]
  },
  {
   "cell_type": "code",
   "execution_count": 5,
   "metadata": {},
   "outputs": [
    {
     "data": {
      "text/plain": [
       "(34680, 19)"
      ]
     },
     "execution_count": 5,
     "metadata": {},
     "output_type": "execute_result"
    }
   ],
   "source": [
    "news_df.shape"
   ]
  },
  {
   "cell_type": "markdown",
   "metadata": {},
   "source": [
    "### It seems that unnamed is an extra column so we need to drop it and also rating value of each article is not available.So we need to drop both of them"
   ]
  },
  {
   "cell_type": "code",
   "execution_count": 6,
   "metadata": {},
   "outputs": [],
   "source": [
    "news_df.drop(['Unnamed: 0','rating'],axis=1,inplace=True)"
   ]
  },
  {
   "cell_type": "code",
   "execution_count": 7,
   "metadata": {},
   "outputs": [
    {
     "data": {
      "text/plain": [
       "(34680, 17)"
      ]
     },
     "execution_count": 7,
     "metadata": {},
     "output_type": "execute_result"
    }
   ],
   "source": [
    "news_df.shape"
   ]
  },
  {
   "cell_type": "code",
   "execution_count": 8,
   "metadata": {},
   "outputs": [
    {
     "data": {
      "text/plain": [
       "['author', 'country', 'main_image', 'title']"
      ]
     },
     "execution_count": 8,
     "metadata": {},
     "output_type": "execute_result"
    }
   ],
   "source": [
    "#finding the columns having null values and data type is object\n",
    "null_columns_with_dt_object = [col for col in news_df.columns if (news_df[col].isnull().sum()>0) & (news_df[col].dtype == np.object)]\n",
    "                #(news_df[col].dtype == np.object)] \n",
    "null_columns_with_dt_object"
   ]
  },
  {
   "cell_type": "code",
   "execution_count": 9,
   "metadata": {},
   "outputs": [],
   "source": [
    "#replacing the null values\n",
    "for each_column in null_columns_with_dt_object:\n",
    "    news_df[each_column].fillna('NA',inplace=True)\n",
    "    "
   ]
  },
  {
   "cell_type": "code",
   "execution_count": 10,
   "metadata": {},
   "outputs": [],
   "source": [
    "#replacing the null values for domain rank\n",
    "news_df['domain_rank'].fillna(0,inplace=True)\n"
   ]
  },
  {
   "cell_type": "code",
   "execution_count": 11,
   "metadata": {},
   "outputs": [],
   "source": [
    "#changing the country code to their corresponsing name\n",
    "country_encoded_dict = {'US' :  'United States', 'AU' : 'Australia', 'JP' : 'Japan', 'CZ' : 'Czech Repulbic', 'GB' : 'United Kingdom(GB)', 'CA' : 'Canada', \n",
    "             'DE' : 'Germany', 'CC' : 'Cocos (Keeling) Islands', 'CH' : 'Switzerland', 'TK' : 'Tokelau', 'ID' :  'Indonesia',\n",
    "             'BG' :  'Bulgaria','EU':'European Union','PH': 'Philippines','ML': 'Mali','IN':'India','NG':'Nigeria','TR':'Turkey',\n",
    "            'MA': 'Morocco','LI': 'Liechtenstein','FR':'France','IT':'Italy','NL':'Netherlands','IL':'Israel','NA':'NA'}\n",
    "news_df['country'] = news_df['country'].map(lambda x: country_encoded_dict[x])"
   ]
  },
  {
   "cell_type": "code",
   "execution_count": 12,
   "metadata": {},
   "outputs": [],
   "source": [
    "# creating the copy of actual df and from now onwords we will work on this copy\n",
    "news_df_new = news_df.copy()"
   ]
  },
  {
   "cell_type": "markdown",
   "metadata": {},
   "source": [
    "### Removing all the duplicate articles"
   ]
  },
  {
   "cell_type": "code",
   "execution_count": 13,
   "metadata": {},
   "outputs": [],
   "source": [
    "news_df_new.drop_duplicates(subset='title',inplace=True,keep='first')"
   ]
  },
  {
   "cell_type": "code",
   "execution_count": 14,
   "metadata": {},
   "outputs": [
    {
     "data": {
      "text/plain": [
       "(26754, 17)"
      ]
     },
     "execution_count": 14,
     "metadata": {},
     "output_type": "execute_result"
    }
   ],
   "source": [
    "news_df_new.shape"
   ]
  },
  {
   "cell_type": "code",
   "execution_count": 15,
   "metadata": {},
   "outputs": [
    {
     "data": {
      "text/plain": [
       "High     12311\n",
       "Mixed    12121\n",
       "Low       2322\n",
       "Name: factual_reporting, dtype: int64"
      ]
     },
     "execution_count": 15,
     "metadata": {},
     "output_type": "execute_result"
    }
   ],
   "source": [
    "#No. of articles in each category after remoc=ving duplicate articles\n",
    "news_df_new['factual_reporting'].value_counts()"
   ]
  },
  {
   "cell_type": "code",
   "execution_count": 16,
   "metadata": {},
   "outputs": [
    {
     "data": {
      "text/plain": [
       "author                0\n",
       "country               0\n",
       "crawled               0\n",
       "domain_rank           0\n",
       "facebook_comments     0\n",
       "facebook_likes        0\n",
       "language              0\n",
       "main_image            0\n",
       "participants_count    0\n",
       "published             0\n",
       "site                  0\n",
       "site_categories       0\n",
       "site_type             0\n",
       "text                  0\n",
       "title                 0\n",
       "url                   0\n",
       "factual_reporting     0\n",
       "dtype: int64"
      ]
     },
     "execution_count": 16,
     "metadata": {},
     "output_type": "execute_result"
    }
   ],
   "source": [
    "news_df_new.isnull().sum()"
   ]
  },
  {
   "cell_type": "markdown",
   "metadata": {},
   "source": [
    "### Look at how many articles are there other than English language and drop all those articles"
   ]
  },
  {
   "cell_type": "code",
   "execution_count": 17,
   "metadata": {},
   "outputs": [
    {
     "data": {
      "text/plain": [
       "english       24460\n",
       "arabic          936\n",
       "spanish         643\n",
       "japanese        525\n",
       "portuguese      180\n",
       "french            3\n",
       "german            3\n",
       "chinese           2\n",
       "indonesian        1\n",
       "welsh             1\n",
       "Name: language, dtype: int64"
      ]
     },
     "execution_count": 17,
     "metadata": {},
     "output_type": "execute_result"
    }
   ],
   "source": [
    "news_df_new['language'].value_counts()"
   ]
  },
  {
   "cell_type": "code",
   "execution_count": 18,
   "metadata": {},
   "outputs": [
    {
     "data": {
      "text/plain": [
       "(24460, 17)"
      ]
     },
     "execution_count": 18,
     "metadata": {},
     "output_type": "execute_result"
    }
   ],
   "source": [
    "news_df_new.drop(news_df_new[news_df_new['language'] != 'english'].index,inplace=True)\n",
    "news_df_new.shape"
   ]
  },
  {
   "cell_type": "code",
   "execution_count": 19,
   "metadata": {},
   "outputs": [
    {
     "data": {
      "text/plain": [
       "High     12306\n",
       "Mixed     9833\n",
       "Low       2321\n",
       "Name: factual_reporting, dtype: int64"
      ]
     },
     "execution_count": 19,
     "metadata": {},
     "output_type": "execute_result"
    }
   ],
   "source": [
    "# No of articles in each category after removing all non-english articles\n",
    "news_df_new['factual_reporting'].value_counts()"
   ]
  },
  {
   "cell_type": "code",
   "execution_count": 20,
   "metadata": {},
   "outputs": [
    {
     "name": "stdout",
     "output_type": "stream",
     "text": [
      "Minimum published date: 2019-04-10T02:29:00.000+03:00\n",
      "Maximum published date: 2019-05-11T12:28:00.000+03:00\n"
     ]
    }
   ],
   "source": [
    "#Minimum and maximum published date in data set\n",
    "print(\"Minimum published date:\", news_df_new['published'].min())\n",
    "print(\"Maximum published date:\", news_df_new['published'].max())\n"
   ]
  },
  {
   "cell_type": "code",
   "execution_count": 21,
   "metadata": {},
   "outputs": [
    {
     "data": {
      "text/plain": [
       "High     0.503107\n",
       "Mixed    0.402003\n",
       "Low      0.094890\n",
       "Name: factual_reporting, dtype: float64"
      ]
     },
     "execution_count": 21,
     "metadata": {},
     "output_type": "execute_result"
    }
   ],
   "source": [
    "#baseline\n",
    "news_df_new['factual_reporting'].value_counts(normalize=True)"
   ]
  },
  {
   "cell_type": "code",
   "execution_count": 22,
   "metadata": {},
   "outputs": [],
   "source": [
    "## Preprocessing the articles to convert article text into numerical data\n",
    "lemmatizer = WordNetLemmatizer()\n",
    "custom_stop_words = ['correct','incorrect']\n",
    "stop_words = stopwords.words(\"english\")\n",
    "stop_words.extend(custom_stop_words)\n",
    "\n",
    "def preprocess_article(article_text):\n",
    "    article_text = re.sub(r'[^\\w\\s]','',article_text, re.UNICODE)\n",
    "    article_text = article_text.lower()\n",
    "    article_text = [lemmatizer.lemmatize(token) for token in article_text.split(\" \")]\n",
    "    article_text = [lemmatizer.lemmatize(token) for token in article_text]\n",
    "    article_text = [word for word in article_text if not word in stop_words]\n",
    "    article_text = \" \".join(article_text)\n",
    "    #print(article_text)\n",
    "    return article_text"
   ]
  },
  {
   "cell_type": "code",
   "execution_count": 23,
   "metadata": {},
   "outputs": [],
   "source": [
    "news_df_new['processed_articles'] = news_df_new['text'].apply(lambda x: preprocess_article(x))"
   ]
  },
  {
   "cell_type": "code",
   "execution_count": 24,
   "metadata": {},
   "outputs": [],
   "source": [
    "df_processed_article = news_df_new[['processed_articles','text','factual_reporting']];"
   ]
  },
  {
   "cell_type": "code",
   "execution_count": 25,
   "metadata": {},
   "outputs": [
    {
     "data": {
      "text/plain": [
       "353.61860179885525"
      ]
     },
     "execution_count": 25,
     "metadata": {},
     "output_type": "execute_result"
    }
   ],
   "source": [
    "df_processed_article['processed_articles'].apply(lambda x: len(x.split(\" \"))).mean()\n"
   ]
  },
  {
   "cell_type": "markdown",
   "metadata": {},
   "source": [
    "### Working with nueral networks"
   ]
  },
  {
   "cell_type": "code",
   "execution_count": 26,
   "metadata": {},
   "outputs": [
    {
     "name": "stdout",
     "output_type": "stream",
     "text": [
      "Found 180802 unique tokens.\n"
     ]
    }
   ],
   "source": [
    "# Creating the vocabulary from the article text. The maximum number of words to be used are specified in MAX_NB_WORDS. (most frequent)\n",
    "#MAX_NB_WORDS = 20000\n",
    "MAX_NB_WORDS = 2000\n",
    "tokenizer = Tokenizer(num_words=MAX_NB_WORDS)\n",
    "tokenizer.fit_on_texts(df_processed_article['processed_articles'])\n",
    "word_index = tokenizer.word_index\n",
    "print('Found %s unique tokens.' % len(word_index))"
   ]
  },
  {
   "cell_type": "code",
   "execution_count": 27,
   "metadata": {},
   "outputs": [],
   "source": [
    "#convert it sequence for computation\n",
    "#generating sparse matrix from the word tokens\n",
    "X = tokenizer.texts_to_sequences(df_processed_article['processed_articles'].values)\n",
    "# Max number of words in each article\n",
    "#MAX_SEQUENCE_LENGTH = 250\n",
    "MAX_SEQUENCE_LENGTH = 350\n",
    "X = pad_sequences(X, maxlen=MAX_SEQUENCE_LENGTH)"
   ]
  },
  {
   "cell_type": "code",
   "execution_count": 28,
   "metadata": {},
   "outputs": [
    {
     "data": {
      "text/plain": [
       "(24460, 350)"
      ]
     },
     "execution_count": 28,
     "metadata": {},
     "output_type": "execute_result"
    }
   ],
   "source": [
    "X.shape"
   ]
  },
  {
   "cell_type": "code",
   "execution_count": 29,
   "metadata": {},
   "outputs": [],
   "source": [
    "y = pd.get_dummies(df_processed_article['factual_reporting'].values)"
   ]
  },
  {
   "cell_type": "code",
   "execution_count": 30,
   "metadata": {},
   "outputs": [
    {
     "data": {
      "text/plain": [
       "(24460, 3)"
      ]
     },
     "execution_count": 30,
     "metadata": {},
     "output_type": "execute_result"
    }
   ],
   "source": [
    "y.shape"
   ]
  },
  {
   "cell_type": "code",
   "execution_count": 31,
   "metadata": {},
   "outputs": [
    {
     "data": {
      "text/plain": [
       "(24460, 350)"
      ]
     },
     "execution_count": 31,
     "metadata": {},
     "output_type": "execute_result"
    }
   ],
   "source": [
    "X.shape"
   ]
  },
  {
   "cell_type": "code",
   "execution_count": 32,
   "metadata": {},
   "outputs": [
    {
     "data": {
      "text/plain": [
       "(24460, 3)"
      ]
     },
     "execution_count": 32,
     "metadata": {},
     "output_type": "execute_result"
    }
   ],
   "source": [
    "y.shape"
   ]
  },
  {
   "cell_type": "code",
   "execution_count": 33,
   "metadata": {},
   "outputs": [
    {
     "name": "stdout",
     "output_type": "stream",
     "text": [
      "(16388, 350) (16388, 3)\n",
      "(8072, 350) (8072, 3)\n"
     ]
    }
   ],
   "source": [
    "## Creating train test split for LSTM model\n",
    "X_train, X_test, y_train, y_test = train_test_split(X,y, test_size = 0.33, random_state = 43)\n",
    "print(X_train.shape,y_train.shape)\n",
    "print(X_test.shape,y_test.shape)"
   ]
  },
  {
   "cell_type": "markdown",
   "metadata": {},
   "source": [
    "### Modeling data"
   ]
  },
  {
   "cell_type": "code",
   "execution_count": 35,
   "metadata": {},
   "outputs": [
    {
     "name": "stdout",
     "output_type": "stream",
     "text": [
      "_________________________________________________________________\n",
      "Layer (type)                 Output Shape              Param #   \n",
      "=================================================================\n",
      "embedding_1 (Embedding)      (None, 350, 130)          260000    \n",
      "_________________________________________________________________\n",
      "spatial_dropout1d_1 (Spatial (None, 350, 130)          0         \n",
      "_________________________________________________________________\n",
      "lstm_1 (LSTM)                (None, 100)               92400     \n",
      "_________________________________________________________________\n",
      "dense_1 (Dense)              (None, 3)                 303       \n",
      "=================================================================\n",
      "Total params: 352,703\n",
      "Trainable params: 352,703\n",
      "Non-trainable params: 0\n",
      "_________________________________________________________________\n",
      "None\n"
     ]
    }
   ],
   "source": [
    "## Neural network with embedding layer and LSTM\n",
    "embed_size=130\n",
    "#generating sequential nueral network\n",
    "model = Sequential()\n",
    "#specifyting the input layer of word embedding\n",
    "model.add(Embedding(MAX_NB_WORDS,embed_size,input_length=X.shape[1]))\n",
    "#specifying the dropout layer so model won't overfit\n",
    "model.add(SpatialDropout1D(0.2))\n",
    "#specifying LSTM layer\n",
    "model.add(LSTM(100,dropout=0.2,recurrent_dropout=0.2))\n",
    "#specifying the output layer(3 repesents the number class in which you want to classifiy and activation methon is Softmax because we\n",
    "#need to find the probability of the words)\n",
    "model.add(Dense(3,activation='softmax'))\n",
    "#compiling the model(we put categorical cross entropy becase of multiclass classification and we are looking for improving \n",
    "#model accuracy that's why the metrics is 'accuracy')\n",
    "model.compile(loss='categorical_crossentropy',optimizer='adam',metrics=['accuracy'])\n",
    "print(model.summary())"
   ]
  },
  {
   "cell_type": "code",
   "execution_count": 36,
   "metadata": {},
   "outputs": [
    {
     "name": "stdout",
     "output_type": "stream",
     "text": [
      "Train on 10979 samples, validate on 5409 samples\n",
      "Epoch 1/5\n",
      "10979/10979 [==============================] - ETA: 6:06 - loss: 1.1018 - acc: 0.218 - ETA: 4:15 - loss: 1.0996 - acc: 0.281 - ETA: 3:40 - loss: 1.0968 - acc: 0.343 - ETA: 3:19 - loss: 1.0939 - acc: 0.378 - ETA: 3:08 - loss: 1.0905 - acc: 0.421 - ETA: 3:08 - loss: 1.0871 - acc: 0.455 - ETA: 3:08 - loss: 1.0833 - acc: 0.479 - ETA: 3:03 - loss: 1.0800 - acc: 0.494 - ETA: 2:58 - loss: 1.0748 - acc: 0.508 - ETA: 2:53 - loss: 1.0714 - acc: 0.515 - ETA: 2:50 - loss: 1.0678 - acc: 0.519 - ETA: 2:46 - loss: 1.0612 - acc: 0.529 - ETA: 2:43 - loss: 1.0531 - acc: 0.538 - ETA: 2:41 - loss: 1.0464 - acc: 0.540 - ETA: 2:38 - loss: 1.0320 - acc: 0.547 - ETA: 2:36 - loss: 1.0301 - acc: 0.551 - ETA: 2:33 - loss: 1.0360 - acc: 0.546 - ETA: 2:31 - loss: 1.0381 - acc: 0.539 - ETA: 2:29 - loss: 1.0306 - acc: 0.544 - ETA: 2:27 - loss: 1.0289 - acc: 0.546 - ETA: 2:26 - loss: 1.0198 - acc: 0.550 - ETA: 2:24 - loss: 1.0133 - acc: 0.554 - ETA: 2:24 - loss: 1.0074 - acc: 0.556 - ETA: 2:23 - loss: 1.0015 - acc: 0.559 - ETA: 2:24 - loss: 0.9983 - acc: 0.560 - ETA: 2:23 - loss: 0.9938 - acc: 0.563 - ETA: 2:23 - loss: 0.9894 - acc: 0.561 - ETA: 2:22 - loss: 0.9826 - acc: 0.567 - ETA: 2:21 - loss: 0.9780 - acc: 0.570 - ETA: 2:21 - loss: 0.9758 - acc: 0.569 - ETA: 2:20 - loss: 0.9712 - acc: 0.570 - ETA: 2:19 - loss: 0.9680 - acc: 0.570 - ETA: 2:18 - loss: 0.9643 - acc: 0.571 - ETA: 2:18 - loss: 0.9604 - acc: 0.570 - ETA: 2:17 - loss: 0.9576 - acc: 0.571 - ETA: 2:16 - loss: 0.9507 - acc: 0.575 - ETA: 2:15 - loss: 0.9460 - acc: 0.578 - ETA: 2:15 - loss: 0.9378 - acc: 0.583 - ETA: 2:15 - loss: 0.9348 - acc: 0.583 - ETA: 2:14 - loss: 0.9305 - acc: 0.585 - ETA: 2:13 - loss: 0.9234 - acc: 0.591 - ETA: 2:12 - loss: 0.9168 - acc: 0.595 - ETA: 2:11 - loss: 0.9111 - acc: 0.596 - ETA: 2:10 - loss: 0.9057 - acc: 0.599 - ETA: 2:09 - loss: 0.9004 - acc: 0.601 - ETA: 2:08 - loss: 0.8999 - acc: 0.601 - ETA: 2:07 - loss: 0.8948 - acc: 0.603 - ETA: 2:06 - loss: 0.8879 - acc: 0.606 - ETA: 2:05 - loss: 0.8836 - acc: 0.609 - ETA: 2:04 - loss: 0.8798 - acc: 0.612 - ETA: 2:03 - loss: 0.8750 - acc: 0.614 - ETA: 2:02 - loss: 0.8721 - acc: 0.615 - ETA: 2:01 - loss: 0.8656 - acc: 0.619 - ETA: 2:00 - loss: 0.8616 - acc: 0.620 - ETA: 1:59 - loss: 0.8612 - acc: 0.620 - ETA: 1:58 - loss: 0.8561 - acc: 0.623 - ETA: 1:57 - loss: 0.8508 - acc: 0.626 - ETA: 1:56 - loss: 0.8471 - acc: 0.627 - ETA: 1:55 - loss: 0.8437 - acc: 0.629 - ETA: 1:54 - loss: 0.8413 - acc: 0.629 - ETA: 1:53 - loss: 0.8371 - acc: 0.632 - ETA: 1:52 - loss: 0.8326 - acc: 0.634 - ETA: 1:51 - loss: 0.8279 - acc: 0.637 - ETA: 1:51 - loss: 0.8265 - acc: 0.638 - ETA: 1:50 - loss: 0.8244 - acc: 0.639 - ETA: 1:49 - loss: 0.8210 - acc: 0.640 - ETA: 1:48 - loss: 0.8174 - acc: 0.643 - ETA: 1:47 - loss: 0.8139 - acc: 0.645 - ETA: 1:45 - loss: 0.8118 - acc: 0.644 - ETA: 1:44 - loss: 0.8077 - acc: 0.647 - ETA: 1:43 - loss: 0.8043 - acc: 0.649 - ETA: 1:43 - loss: 0.8045 - acc: 0.648 - ETA: 1:42 - loss: 0.8005 - acc: 0.650 - ETA: 1:41 - loss: 0.7969 - acc: 0.653 - ETA: 1:40 - loss: 0.7946 - acc: 0.654 - ETA: 1:39 - loss: 0.7908 - acc: 0.656 - ETA: 1:38 - loss: 0.7867 - acc: 0.658 - ETA: 1:37 - loss: 0.7835 - acc: 0.660 - ETA: 1:36 - loss: 0.7800 - acc: 0.661 - ETA: 1:35 - loss: 0.7766 - acc: 0.662 - ETA: 1:34 - loss: 0.7765 - acc: 0.663 - ETA: 1:33 - loss: 0.7727 - acc: 0.664 - ETA: 1:32 - loss: 0.7700 - acc: 0.665 - ETA: 1:31 - loss: 0.7680 - acc: 0.667 - ETA: 1:30 - loss: 0.7666 - acc: 0.667 - ETA: 1:29 - loss: 0.7645 - acc: 0.668 - ETA: 1:28 - loss: 0.7622 - acc: 0.670 - ETA: 1:27 - loss: 0.7610 - acc: 0.671 - ETA: 1:26 - loss: 0.7569 - acc: 0.672 - ETA: 1:25 - loss: 0.7541 - acc: 0.674 - ETA: 1:24 - loss: 0.7505 - acc: 0.676 - ETA: 1:23 - loss: 0.7482 - acc: 0.677 - ETA: 1:22 - loss: 0.7470 - acc: 0.678 - ETA: 1:21 - loss: 0.7445 - acc: 0.679 - ETA: 1:20 - loss: 0.7419 - acc: 0.681 - ETA: 1:19 - loss: 0.7406 - acc: 0.682 - ETA: 1:17 - loss: 0.7385 - acc: 0.682 - ETA: 1:16 - loss: 0.7363 - acc: 0.683 - ETA: 1:15 - loss: 0.7336 - acc: 0.685 - ETA: 1:14 - loss: 0.7328 - acc: 0.685 - ETA: 1:13 - loss: 0.7302 - acc: 0.687 - ETA: 1:12 - loss: 0.7287 - acc: 0.687 - ETA: 1:11 - loss: 0.7249 - acc: 0.689 - ETA: 1:10 - loss: 0.7221 - acc: 0.691 - ETA: 1:09 - loss: 0.7192 - acc: 0.692 - ETA: 1:08 - loss: 0.7163 - acc: 0.694 - ETA: 1:07 - loss: 0.7141 - acc: 0.695 - ETA: 1:06 - loss: 0.7131 - acc: 0.695 - ETA: 1:05 - loss: 0.7127 - acc: 0.696 - ETA: 1:04 - loss: 0.7098 - acc: 0.697 - ETA: 1:03 - loss: 0.7074 - acc: 0.698 - ETA: 1:02 - loss: 0.7036 - acc: 0.700 - ETA: 1:01 - loss: 0.7007 - acc: 0.702 - ETA: 1:00 - loss: 0.6986 - acc: 0.703 - ETA: 59s - loss: 0.6956 - acc: 0.704 - ETA: 58s - loss: 0.6937 - acc: 0.70 - ETA: 57s - loss: 0.6928 - acc: 0.70 - ETA: 56s - loss: 0.6909 - acc: 0.70 - ETA: 54s - loss: 0.6884 - acc: 0.70 - ETA: 53s - loss: 0.6866 - acc: 0.70 - ETA: 52s - loss: 0.6845 - acc: 0.71 - ETA: 51s - loss: 0.6828 - acc: 0.71 - ETA: 50s - loss: 0.6800 - acc: 0.71 - ETA: 49s - loss: 0.6782 - acc: 0.71 - ETA: 48s - loss: 0.6767 - acc: 0.71 - ETA: 47s - loss: 0.6745 - acc: 0.71 - ETA: 46s - loss: 0.6720 - acc: 0.71 - ETA: 45s - loss: 0.6704 - acc: 0.71 - ETA: 44s - loss: 0.6690 - acc: 0.71 - ETA: 43s - loss: 0.6684 - acc: 0.71 - ETA: 42s - loss: 0.6667 - acc: 0.72 - ETA: 41s - loss: 0.6649 - acc: 0.72 - ETA: 40s - loss: 0.6615 - acc: 0.72 - ETA: 39s - loss: 0.6607 - acc: 0.72 - ETA: 38s - loss: 0.6595 - acc: 0.72 - ETA: 37s - loss: 0.6573 - acc: 0.72 - ETA: 36s - loss: 0.6562 - acc: 0.72 - ETA: 35s - loss: 0.6555 - acc: 0.72 - ETA: 34s - loss: 0.6542 - acc: 0.72 - ETA: 33s - loss: 0.6523 - acc: 0.72 - ETA: 32s - loss: 0.6509 - acc: 0.72 - ETA: 30s - loss: 0.6500 - acc: 0.73 - ETA: 29s - loss: 0.6488 - acc: 0.73 - ETA: 28s - loss: 0.6484 - acc: 0.73 - ETA: 27s - loss: 0.6474 - acc: 0.73 - ETA: 26s - loss: 0.6453 - acc: 0.73 - ETA: 25s - loss: 0.6441 - acc: 0.73 - ETA: 24s - loss: 0.6432 - acc: 0.73 - ETA: 23s - loss: 0.6423 - acc: 0.73 - ETA: 22s - loss: 0.6409 - acc: 0.73 - ETA: 21s - loss: 0.6398 - acc: 0.73 - ETA: 20s - loss: 0.6386 - acc: 0.73 - ETA: 19s - loss: 0.6376 - acc: 0.73 - ETA: 18s - loss: 0.6362 - acc: 0.73 - ETA: 17s - loss: 0.6342 - acc: 0.73 - ETA: 16s - loss: 0.6333 - acc: 0.73 - ETA: 15s - loss: 0.6329 - acc: 0.73 - ETA: 14s - loss: 0.6312 - acc: 0.73 - ETA: 13s - loss: 0.6294 - acc: 0.74 - ETA: 12s - loss: 0.6290 - acc: 0.74 - ETA: 11s - loss: 0.6283 - acc: 0.74 - ETA: 10s - loss: 0.6277 - acc: 0.74 - ETA: 8s - loss: 0.6268 - acc: 0.7427 - ETA: 7s - loss: 0.6257 - acc: 0.743 - ETA: 6s - loss: 0.6245 - acc: 0.743 - ETA: 5s - loss: 0.6244 - acc: 0.744 - ETA: 4s - loss: 0.6228 - acc: 0.745 - ETA: 3s - loss: 0.6225 - acc: 0.745 - ETA: 2s - loss: 0.6214 - acc: 0.746 - ETA: 1s - loss: 0.6199 - acc: 0.746 - ETA: 0s - loss: 0.6178 - acc: 0.747 - 199s 18ms/step - loss: 0.6170 - acc: 0.7481 - val_loss: 0.3658 - val_acc: 0.8632\n",
      "Epoch 2/5\n",
      "10979/10979 [==============================] - ETA: 3:10 - loss: 0.3939 - acc: 0.843 - ETA: 3:02 - loss: 0.3600 - acc: 0.867 - ETA: 3:07 - loss: 0.4050 - acc: 0.838 - ETA: 3:03 - loss: 0.4418 - acc: 0.828 - ETA: 3:02 - loss: 0.4593 - acc: 0.825 - ETA: 3:03 - loss: 0.4659 - acc: 0.822 - ETA: 3:03 - loss: 0.4330 - acc: 0.839 - ETA: 3:01 - loss: 0.4419 - acc: 0.834 - ETA: 2:59 - loss: 0.4267 - acc: 0.845 - ETA: 2:58 - loss: 0.4141 - acc: 0.850 - ETA: 2:55 - loss: 0.4075 - acc: 0.855 - ETA: 2:53 - loss: 0.4032 - acc: 0.856 - ETA: 2:51 - loss: 0.4101 - acc: 0.857 - ETA: 2:50 - loss: 0.4130 - acc: 0.859 - ETA: 2:50 - loss: 0.4068 - acc: 0.861 - ETA: 2:49 - loss: 0.4115 - acc: 0.857 - ETA: 2:48 - loss: 0.4076 - acc: 0.860 - ETA: 2:48 - loss: 0.3993 - acc: 0.864 - ETA: 2:47 - loss: 0.3967 - acc: 0.866 - ETA: 2:46 - loss: 0.3949 - acc: 0.866 - ETA: 2:44 - loss: 0.3921 - acc: 0.868 - ETA: 2:43 - loss: 0.3937 - acc: 0.865 - ETA: 2:42 - loss: 0.3910 - acc: 0.866 - ETA: 2:42 - loss: 0.3926 - acc: 0.865 - ETA: 2:42 - loss: 0.3918 - acc: 0.864 - ETA: 2:41 - loss: 0.3912 - acc: 0.864 - ETA: 2:40 - loss: 0.3915 - acc: 0.862 - ETA: 2:40 - loss: 0.3877 - acc: 0.865 - ETA: 2:39 - loss: 0.3830 - acc: 0.865 - ETA: 2:38 - loss: 0.3773 - acc: 0.868 - ETA: 2:36 - loss: 0.3761 - acc: 0.868 - ETA: 2:35 - loss: 0.3753 - acc: 0.868 - ETA: 2:34 - loss: 0.3788 - acc: 0.866 - ETA: 2:33 - loss: 0.3764 - acc: 0.866 - ETA: 2:32 - loss: 0.3747 - acc: 0.866 - ETA: 2:31 - loss: 0.3733 - acc: 0.867 - ETA: 2:30 - loss: 0.3760 - acc: 0.867 - ETA: 2:28 - loss: 0.3762 - acc: 0.866 - ETA: 2:27 - loss: 0.3784 - acc: 0.864 - ETA: 2:26 - loss: 0.3828 - acc: 0.862 - ETA: 2:25 - loss: 0.3802 - acc: 0.865 - ETA: 2:23 - loss: 0.3817 - acc: 0.863 - ETA: 2:22 - loss: 0.3797 - acc: 0.865 - ETA: 2:21 - loss: 0.3832 - acc: 0.864 - ETA: 2:20 - loss: 0.3813 - acc: 0.865 - ETA: 2:18 - loss: 0.3824 - acc: 0.864 - ETA: 2:17 - loss: 0.3832 - acc: 0.864 - ETA: 2:16 - loss: 0.3846 - acc: 0.863 - ETA: 2:15 - loss: 0.3844 - acc: 0.863 - ETA: 2:14 - loss: 0.3872 - acc: 0.861 - ETA: 2:12 - loss: 0.3882 - acc: 0.860 - ETA: 2:11 - loss: 0.3855 - acc: 0.862 - ETA: 2:10 - loss: 0.3832 - acc: 0.862 - ETA: 2:09 - loss: 0.3808 - acc: 0.862 - ETA: 2:08 - loss: 0.3809 - acc: 0.863 - ETA: 2:07 - loss: 0.3817 - acc: 0.862 - ETA: 2:05 - loss: 0.3793 - acc: 0.864 - ETA: 2:04 - loss: 0.3801 - acc: 0.863 - ETA: 2:03 - loss: 0.3788 - acc: 0.863 - ETA: 2:02 - loss: 0.3770 - acc: 0.864 - ETA: 2:01 - loss: 0.3770 - acc: 0.864 - ETA: 2:00 - loss: 0.3759 - acc: 0.864 - ETA: 1:58 - loss: 0.3735 - acc: 0.865 - ETA: 1:57 - loss: 0.3729 - acc: 0.865 - ETA: 1:56 - loss: 0.3717 - acc: 0.865 - ETA: 1:55 - loss: 0.3713 - acc: 0.866 - ETA: 1:54 - loss: 0.3678 - acc: 0.867 - ETA: 1:52 - loss: 0.3653 - acc: 0.868 - ETA: 1:51 - loss: 0.3660 - acc: 0.868 - ETA: 1:50 - loss: 0.3665 - acc: 0.868 - ETA: 1:49 - loss: 0.3658 - acc: 0.868 - ETA: 1:48 - loss: 0.3652 - acc: 0.868 - ETA: 1:47 - loss: 0.3672 - acc: 0.868 - ETA: 1:46 - loss: 0.3664 - acc: 0.868 - ETA: 1:44 - loss: 0.3662 - acc: 0.868 - ETA: 1:43 - loss: 0.3677 - acc: 0.868 - ETA: 1:42 - loss: 0.3667 - acc: 0.868 - ETA: 1:41 - loss: 0.3655 - acc: 0.869 - ETA: 1:40 - loss: 0.3651 - acc: 0.869 - ETA: 1:39 - loss: 0.3651 - acc: 0.869 - ETA: 1:37 - loss: 0.3671 - acc: 0.868 - ETA: 1:36 - loss: 0.3660 - acc: 0.868 - ETA: 1:35 - loss: 0.3648 - acc: 0.869 - ETA: 1:34 - loss: 0.3644 - acc: 0.869 - ETA: 1:33 - loss: 0.3658 - acc: 0.868 - ETA: 1:32 - loss: 0.3664 - acc: 0.868 - ETA: 1:31 - loss: 0.3657 - acc: 0.868 - ETA: 1:30 - loss: 0.3642 - acc: 0.869 - ETA: 1:29 - loss: 0.3635 - acc: 0.869 - ETA: 1:28 - loss: 0.3619 - acc: 0.869 - ETA: 1:27 - loss: 0.3631 - acc: 0.869 - ETA: 1:26 - loss: 0.3632 - acc: 0.869 - ETA: 1:24 - loss: 0.3631 - acc: 0.869 - ETA: 1:23 - loss: 0.3612 - acc: 0.870 - ETA: 1:22 - loss: 0.3608 - acc: 0.870 - ETA: 1:21 - loss: 0.3605 - acc: 0.870 - ETA: 1:20 - loss: 0.3622 - acc: 0.870 - ETA: 1:19 - loss: 0.3623 - acc: 0.870 - ETA: 1:18 - loss: 0.3630 - acc: 0.870 - ETA: 1:17 - loss: 0.3670 - acc: 0.869 - ETA: 1:15 - loss: 0.3663 - acc: 0.870 - ETA: 1:14 - loss: 0.3695 - acc: 0.869 - ETA: 1:13 - loss: 0.3733 - acc: 0.868 - ETA: 1:12 - loss: 0.3737 - acc: 0.868 - ETA: 1:11 - loss: 0.3758 - acc: 0.867 - ETA: 1:10 - loss: 0.3762 - acc: 0.867 - ETA: 1:09 - loss: 0.3765 - acc: 0.867 - ETA: 1:08 - loss: 0.3761 - acc: 0.867 - ETA: 1:07 - loss: 0.3751 - acc: 0.867 - ETA: 1:06 - loss: 0.3755 - acc: 0.867 - ETA: 1:05 - loss: 0.3753 - acc: 0.867 - ETA: 1:04 - loss: 0.3749 - acc: 0.867 - ETA: 1:03 - loss: 0.3753 - acc: 0.867 - ETA: 1:01 - loss: 0.3761 - acc: 0.866 - ETA: 1:00 - loss: 0.3761 - acc: 0.867 - ETA: 59s - loss: 0.3770 - acc: 0.866 - ETA: 58s - loss: 0.3777 - acc: 0.86 - ETA: 57s - loss: 0.3787 - acc: 0.86 - ETA: 56s - loss: 0.3791 - acc: 0.86 - ETA: 55s - loss: 0.3794 - acc: 0.86 - ETA: 54s - loss: 0.3793 - acc: 0.86 - ETA: 53s - loss: 0.3796 - acc: 0.86 - ETA: 52s - loss: 0.3802 - acc: 0.86 - ETA: 51s - loss: 0.3796 - acc: 0.86 - ETA: 49s - loss: 0.3794 - acc: 0.86 - ETA: 48s - loss: 0.3804 - acc: 0.86 - ETA: 47s - loss: 0.3799 - acc: 0.86 - ETA: 46s - loss: 0.3813 - acc: 0.86 - ETA: 45s - loss: 0.3811 - acc: 0.86 - ETA: 44s - loss: 0.3813 - acc: 0.86 - ETA: 43s - loss: 0.3823 - acc: 0.86 - ETA: 42s - loss: 0.3835 - acc: 0.86 - ETA: 41s - loss: 0.3839 - acc: 0.86 - ETA: 40s - loss: 0.3847 - acc: 0.86 - ETA: 39s - loss: 0.3842 - acc: 0.86 - ETA: 38s - loss: 0.3839 - acc: 0.86 - ETA: 36s - loss: 0.3839 - acc: 0.86 - ETA: 35s - loss: 0.3838 - acc: 0.86 - ETA: 34s - loss: 0.3832 - acc: 0.86 - ETA: 33s - loss: 0.3824 - acc: 0.86 - ETA: 32s - loss: 0.3812 - acc: 0.86 - ETA: 31s - loss: 0.3822 - acc: 0.86 - ETA: 30s - loss: 0.3829 - acc: 0.86 - ETA: 29s - loss: 0.3836 - acc: 0.86 - ETA: 28s - loss: 0.3835 - acc: 0.86 - ETA: 27s - loss: 0.3851 - acc: 0.86 - ETA: 26s - loss: 0.3845 - acc: 0.86 - ETA: 25s - loss: 0.3847 - acc: 0.86 - ETA: 24s - loss: 0.3845 - acc: 0.86 - ETA: 23s - loss: 0.3839 - acc: 0.86 - ETA: 21s - loss: 0.3839 - acc: 0.86 - ETA: 20s - loss: 0.3840 - acc: 0.86 - ETA: 19s - loss: 0.3835 - acc: 0.86 - ETA: 18s - loss: 0.3827 - acc: 0.86 - ETA: 17s - loss: 0.3829 - acc: 0.86 - ETA: 16s - loss: 0.3824 - acc: 0.86 - ETA: 15s - loss: 0.3814 - acc: 0.86 - ETA: 14s - loss: 0.3810 - acc: 0.86 - ETA: 13s - loss: 0.3805 - acc: 0.86 - ETA: 12s - loss: 0.3804 - acc: 0.86 - ETA: 11s - loss: 0.3811 - acc: 0.86 - ETA: 10s - loss: 0.3808 - acc: 0.86 - ETA: 9s - loss: 0.3817 - acc: 0.8651 - ETA: 8s - loss: 0.3810 - acc: 0.865 - ETA: 6s - loss: 0.3803 - acc: 0.865 - ETA: 5s - loss: 0.3798 - acc: 0.865 - ETA: 4s - loss: 0.3797 - acc: 0.865 - ETA: 3s - loss: 0.3805 - acc: 0.865 - ETA: 2s - loss: 0.3797 - acc: 0.866 - ETA: 1s - loss: 0.3792 - acc: 0.866 - ETA: 0s - loss: 0.3789 - acc: 0.866 - 201s 18ms/step - loss: 0.3786 - acc: 0.8666 - val_loss: 0.3201 - val_acc: 0.8909\n",
      "Epoch 3/5\n"
     ]
    },
    {
     "name": "stdout",
     "output_type": "stream",
     "text": [
      "10979/10979 [==============================] - ETA: 2:53 - loss: 0.5175 - acc: 0.796 - ETA: 2:55 - loss: 0.3726 - acc: 0.859 - ETA: 2:57 - loss: 0.3453 - acc: 0.875 - ETA: 2:55 - loss: 0.3254 - acc: 0.878 - ETA: 2:54 - loss: 0.3408 - acc: 0.875 - ETA: 2:53 - loss: 0.3510 - acc: 0.875 - ETA: 2:52 - loss: 0.3362 - acc: 0.886 - ETA: 2:51 - loss: 0.3287 - acc: 0.888 - ETA: 2:51 - loss: 0.3229 - acc: 0.890 - ETA: 2:50 - loss: 0.3101 - acc: 0.898 - ETA: 2:49 - loss: 0.3083 - acc: 0.899 - ETA: 2:49 - loss: 0.3004 - acc: 0.902 - ETA: 2:49 - loss: 0.3038 - acc: 0.901 - ETA: 2:48 - loss: 0.2981 - acc: 0.905 - ETA: 2:47 - loss: 0.3079 - acc: 0.904 - ETA: 2:46 - loss: 0.3241 - acc: 0.895 - ETA: 2:45 - loss: 0.3386 - acc: 0.888 - ETA: 2:44 - loss: 0.3411 - acc: 0.887 - ETA: 2:43 - loss: 0.3418 - acc: 0.887 - ETA: 2:42 - loss: 0.3456 - acc: 0.885 - ETA: 2:41 - loss: 0.3470 - acc: 0.883 - ETA: 2:40 - loss: 0.3442 - acc: 0.882 - ETA: 2:39 - loss: 0.3405 - acc: 0.883 - ETA: 2:38 - loss: 0.3428 - acc: 0.882 - ETA: 2:37 - loss: 0.3442 - acc: 0.879 - ETA: 2:36 - loss: 0.3435 - acc: 0.878 - ETA: 2:34 - loss: 0.3468 - acc: 0.877 - ETA: 2:33 - loss: 0.3485 - acc: 0.876 - ETA: 2:32 - loss: 0.3509 - acc: 0.874 - ETA: 2:30 - loss: 0.3489 - acc: 0.875 - ETA: 2:29 - loss: 0.3486 - acc: 0.876 - ETA: 2:28 - loss: 0.3465 - acc: 0.877 - ETA: 2:27 - loss: 0.3469 - acc: 0.876 - ETA: 2:26 - loss: 0.3504 - acc: 0.874 - ETA: 2:26 - loss: 0.3487 - acc: 0.875 - ETA: 2:25 - loss: 0.3513 - acc: 0.873 - ETA: 2:24 - loss: 0.3509 - acc: 0.874 - ETA: 2:23 - loss: 0.3487 - acc: 0.875 - ETA: 2:22 - loss: 0.3484 - acc: 0.875 - ETA: 2:21 - loss: 0.3471 - acc: 0.874 - ETA: 2:20 - loss: 0.3447 - acc: 0.875 - ETA: 2:19 - loss: 0.3414 - acc: 0.876 - ETA: 2:18 - loss: 0.3388 - acc: 0.877 - ETA: 2:17 - loss: 0.3366 - acc: 0.878 - ETA: 2:16 - loss: 0.3381 - acc: 0.879 - ETA: 2:14 - loss: 0.3353 - acc: 0.879 - ETA: 2:13 - loss: 0.3381 - acc: 0.879 - ETA: 2:12 - loss: 0.3389 - acc: 0.878 - ETA: 2:11 - loss: 0.3418 - acc: 0.878 - ETA: 2:10 - loss: 0.3432 - acc: 0.878 - ETA: 2:09 - loss: 0.3417 - acc: 0.878 - ETA: 2:08 - loss: 0.3415 - acc: 0.878 - ETA: 2:07 - loss: 0.3420 - acc: 0.879 - ETA: 2:06 - loss: 0.3403 - acc: 0.879 - ETA: 2:05 - loss: 0.3411 - acc: 0.880 - ETA: 2:04 - loss: 0.3392 - acc: 0.880 - ETA: 2:03 - loss: 0.3379 - acc: 0.881 - ETA: 2:02 - loss: 0.3360 - acc: 0.882 - ETA: 2:00 - loss: 0.3352 - acc: 0.882 - ETA: 2:00 - loss: 0.3340 - acc: 0.883 - ETA: 1:59 - loss: 0.3355 - acc: 0.882 - ETA: 1:58 - loss: 0.3349 - acc: 0.882 - ETA: 1:57 - loss: 0.3338 - acc: 0.882 - ETA: 1:55 - loss: 0.3332 - acc: 0.883 - ETA: 1:54 - loss: 0.3316 - acc: 0.884 - ETA: 1:53 - loss: 0.3291 - acc: 0.885 - ETA: 1:52 - loss: 0.3298 - acc: 0.885 - ETA: 1:51 - loss: 0.3283 - acc: 0.885 - ETA: 1:50 - loss: 0.3265 - acc: 0.886 - ETA: 1:49 - loss: 0.3267 - acc: 0.886 - ETA: 1:48 - loss: 0.3258 - acc: 0.887 - ETA: 1:47 - loss: 0.3248 - acc: 0.887 - ETA: 1:46 - loss: 0.3224 - acc: 0.888 - ETA: 1:44 - loss: 0.3218 - acc: 0.888 - ETA: 1:43 - loss: 0.3241 - acc: 0.887 - ETA: 1:42 - loss: 0.3238 - acc: 0.887 - ETA: 1:41 - loss: 0.3233 - acc: 0.887 - ETA: 1:40 - loss: 0.3221 - acc: 0.888 - ETA: 1:39 - loss: 0.3222 - acc: 0.888 - ETA: 1:38 - loss: 0.3218 - acc: 0.888 - ETA: 1:37 - loss: 0.3212 - acc: 0.888 - ETA: 1:36 - loss: 0.3224 - acc: 0.888 - ETA: 1:35 - loss: 0.3225 - acc: 0.888 - ETA: 1:33 - loss: 0.3213 - acc: 0.888 - ETA: 1:32 - loss: 0.3213 - acc: 0.889 - ETA: 1:31 - loss: 0.3222 - acc: 0.888 - ETA: 1:30 - loss: 0.3212 - acc: 0.888 - ETA: 1:29 - loss: 0.3238 - acc: 0.888 - ETA: 1:28 - loss: 0.3222 - acc: 0.889 - ETA: 1:27 - loss: 0.3207 - acc: 0.889 - ETA: 1:26 - loss: 0.3230 - acc: 0.889 - ETA: 1:25 - loss: 0.3218 - acc: 0.889 - ETA: 1:23 - loss: 0.3217 - acc: 0.889 - ETA: 1:22 - loss: 0.3212 - acc: 0.890 - ETA: 1:21 - loss: 0.3211 - acc: 0.890 - ETA: 1:20 - loss: 0.3211 - acc: 0.890 - ETA: 1:19 - loss: 0.3204 - acc: 0.890 - ETA: 1:18 - loss: 0.3206 - acc: 0.890 - ETA: 1:17 - loss: 0.3185 - acc: 0.891 - ETA: 1:16 - loss: 0.3163 - acc: 0.892 - ETA: 1:15 - loss: 0.3164 - acc: 0.892 - ETA: 1:14 - loss: 0.3150 - acc: 0.893 - ETA: 1:13 - loss: 0.3145 - acc: 0.893 - ETA: 1:12 - loss: 0.3146 - acc: 0.893 - ETA: 1:11 - loss: 0.3139 - acc: 0.893 - ETA: 1:09 - loss: 0.3132 - acc: 0.894 - ETA: 1:08 - loss: 0.3149 - acc: 0.893 - ETA: 1:07 - loss: 0.3152 - acc: 0.893 - ETA: 1:06 - loss: 0.3168 - acc: 0.893 - ETA: 1:05 - loss: 0.3173 - acc: 0.892 - ETA: 1:04 - loss: 0.3165 - acc: 0.893 - ETA: 1:03 - loss: 0.3161 - acc: 0.893 - ETA: 1:02 - loss: 0.3163 - acc: 0.893 - ETA: 1:01 - loss: 0.3161 - acc: 0.893 - ETA: 1:00 - loss: 0.3149 - acc: 0.893 - ETA: 59s - loss: 0.3150 - acc: 0.893 - ETA: 58s - loss: 0.3170 - acc: 0.89 - ETA: 57s - loss: 0.3176 - acc: 0.89 - ETA: 56s - loss: 0.3180 - acc: 0.89 - ETA: 54s - loss: 0.3179 - acc: 0.89 - ETA: 53s - loss: 0.3183 - acc: 0.89 - ETA: 52s - loss: 0.3195 - acc: 0.89 - ETA: 51s - loss: 0.3190 - acc: 0.89 - ETA: 50s - loss: 0.3197 - acc: 0.89 - ETA: 49s - loss: 0.3199 - acc: 0.89 - ETA: 48s - loss: 0.3202 - acc: 0.89 - ETA: 47s - loss: 0.3199 - acc: 0.89 - ETA: 46s - loss: 0.3207 - acc: 0.89 - ETA: 45s - loss: 0.3208 - acc: 0.89 - ETA: 44s - loss: 0.3207 - acc: 0.89 - ETA: 43s - loss: 0.3206 - acc: 0.89 - ETA: 42s - loss: 0.3211 - acc: 0.89 - ETA: 41s - loss: 0.3213 - acc: 0.89 - ETA: 40s - loss: 0.3207 - acc: 0.89 - ETA: 39s - loss: 0.3205 - acc: 0.89 - ETA: 38s - loss: 0.3207 - acc: 0.89 - ETA: 37s - loss: 0.3204 - acc: 0.89 - ETA: 36s - loss: 0.3206 - acc: 0.89 - ETA: 35s - loss: 0.3200 - acc: 0.89 - ETA: 34s - loss: 0.3208 - acc: 0.89 - ETA: 33s - loss: 0.3199 - acc: 0.89 - ETA: 32s - loss: 0.3206 - acc: 0.89 - ETA: 31s - loss: 0.3207 - acc: 0.89 - ETA: 30s - loss: 0.3203 - acc: 0.89 - ETA: 28s - loss: 0.3207 - acc: 0.89 - ETA: 27s - loss: 0.3202 - acc: 0.89 - ETA: 26s - loss: 0.3197 - acc: 0.89 - ETA: 25s - loss: 0.3196 - acc: 0.89 - ETA: 24s - loss: 0.3209 - acc: 0.89 - ETA: 23s - loss: 0.3212 - acc: 0.89 - ETA: 22s - loss: 0.3209 - acc: 0.89 - ETA: 21s - loss: 0.3215 - acc: 0.89 - ETA: 20s - loss: 0.3217 - acc: 0.88 - ETA: 19s - loss: 0.3214 - acc: 0.88 - ETA: 18s - loss: 0.3213 - acc: 0.88 - ETA: 16s - loss: 0.3219 - acc: 0.88 - ETA: 15s - loss: 0.3216 - acc: 0.88 - ETA: 14s - loss: 0.3216 - acc: 0.88 - ETA: 13s - loss: 0.3219 - acc: 0.88 - ETA: 12s - loss: 0.3216 - acc: 0.88 - ETA: 11s - loss: 0.3214 - acc: 0.88 - ETA: 10s - loss: 0.3214 - acc: 0.88 - ETA: 9s - loss: 0.3220 - acc: 0.8891 - ETA: 8s - loss: 0.3221 - acc: 0.888 - ETA: 7s - loss: 0.3212 - acc: 0.889 - ETA: 6s - loss: 0.3212 - acc: 0.889 - ETA: 4s - loss: 0.3211 - acc: 0.889 - ETA: 3s - loss: 0.3208 - acc: 0.889 - ETA: 2s - loss: 0.3201 - acc: 0.889 - ETA: 1s - loss: 0.3193 - acc: 0.889 - ETA: 0s - loss: 0.3198 - acc: 0.889 - 206s 19ms/step - loss: 0.3198 - acc: 0.8896 - val_loss: 0.3335 - val_acc: 0.8876\n",
      "Epoch 4/5\n",
      "10979/10979 [==============================] - ETA: 2:59 - loss: 0.2986 - acc: 0.890 - ETA: 2:56 - loss: 0.3204 - acc: 0.898 - ETA: 2:56 - loss: 0.2632 - acc: 0.916 - ETA: 2:55 - loss: 0.2780 - acc: 0.910 - ETA: 2:54 - loss: 0.3093 - acc: 0.903 - ETA: 2:55 - loss: 0.3208 - acc: 0.903 - ETA: 2:53 - loss: 0.3079 - acc: 0.904 - ETA: 2:53 - loss: 0.2903 - acc: 0.910 - ETA: 2:53 - loss: 0.2816 - acc: 0.911 - ETA: 2:52 - loss: 0.2801 - acc: 0.914 - ETA: 2:51 - loss: 0.2811 - acc: 0.909 - ETA: 2:50 - loss: 0.2842 - acc: 0.907 - ETA: 2:49 - loss: 0.2748 - acc: 0.911 - ETA: 2:48 - loss: 0.2813 - acc: 0.907 - ETA: 2:47 - loss: 0.2872 - acc: 0.904 - ETA: 2:47 - loss: 0.2933 - acc: 0.900 - ETA: 2:46 - loss: 0.2912 - acc: 0.898 - ETA: 2:45 - loss: 0.2868 - acc: 0.902 - ETA: 2:44 - loss: 0.2823 - acc: 0.902 - ETA: 2:43 - loss: 0.2779 - acc: 0.905 - ETA: 2:42 - loss: 0.2750 - acc: 0.907 - ETA: 2:41 - loss: 0.2730 - acc: 0.908 - ETA: 2:40 - loss: 0.2682 - acc: 0.909 - ETA: 2:39 - loss: 0.2644 - acc: 0.910 - ETA: 2:37 - loss: 0.2622 - acc: 0.910 - ETA: 2:36 - loss: 0.2613 - acc: 0.911 - ETA: 2:35 - loss: 0.2578 - acc: 0.912 - ETA: 2:34 - loss: 0.2536 - acc: 0.912 - ETA: 2:33 - loss: 0.2519 - acc: 0.913 - ETA: 2:32 - loss: 0.2526 - acc: 0.914 - ETA: 2:30 - loss: 0.2503 - acc: 0.915 - ETA: 2:29 - loss: 0.2506 - acc: 0.915 - ETA: 2:28 - loss: 0.2483 - acc: 0.916 - ETA: 2:27 - loss: 0.2486 - acc: 0.916 - ETA: 2:26 - loss: 0.2513 - acc: 0.915 - ETA: 2:25 - loss: 0.2560 - acc: 0.914 - ETA: 2:23 - loss: 0.2551 - acc: 0.913 - ETA: 2:23 - loss: 0.2611 - acc: 0.912 - ETA: 2:22 - loss: 0.2623 - acc: 0.911 - ETA: 2:21 - loss: 0.2627 - acc: 0.912 - ETA: 2:19 - loss: 0.2631 - acc: 0.912 - ETA: 2:18 - loss: 0.2620 - acc: 0.913 - ETA: 2:17 - loss: 0.2635 - acc: 0.912 - ETA: 2:16 - loss: 0.2650 - acc: 0.911 - ETA: 2:15 - loss: 0.2641 - acc: 0.911 - ETA: 2:14 - loss: 0.2636 - acc: 0.912 - ETA: 2:13 - loss: 0.2677 - acc: 0.909 - ETA: 2:12 - loss: 0.2669 - acc: 0.910 - ETA: 2:11 - loss: 0.2675 - acc: 0.910 - ETA: 2:10 - loss: 0.2697 - acc: 0.909 - ETA: 2:08 - loss: 0.2687 - acc: 0.909 - ETA: 2:07 - loss: 0.2685 - acc: 0.909 - ETA: 2:06 - loss: 0.2695 - acc: 0.909 - ETA: 2:05 - loss: 0.2728 - acc: 0.908 - ETA: 2:04 - loss: 0.2738 - acc: 0.907 - ETA: 2:03 - loss: 0.2733 - acc: 0.907 - ETA: 2:02 - loss: 0.2734 - acc: 0.906 - ETA: 2:01 - loss: 0.2725 - acc: 0.907 - ETA: 2:00 - loss: 0.2726 - acc: 0.907 - ETA: 1:59 - loss: 0.2733 - acc: 0.907 - ETA: 1:58 - loss: 0.2728 - acc: 0.907 - ETA: 1:56 - loss: 0.2748 - acc: 0.907 - ETA: 1:55 - loss: 0.2734 - acc: 0.907 - ETA: 1:54 - loss: 0.2737 - acc: 0.907 - ETA: 1:53 - loss: 0.2726 - acc: 0.907 - ETA: 1:52 - loss: 0.2732 - acc: 0.907 - ETA: 1:52 - loss: 0.2731 - acc: 0.907 - ETA: 1:51 - loss: 0.2716 - acc: 0.907 - ETA: 1:50 - loss: 0.2714 - acc: 0.907 - ETA: 1:49 - loss: 0.2708 - acc: 0.907 - ETA: 1:48 - loss: 0.2702 - acc: 0.907 - ETA: 1:47 - loss: 0.2725 - acc: 0.907 - ETA: 1:46 - loss: 0.2709 - acc: 0.907 - ETA: 1:45 - loss: 0.2713 - acc: 0.907 - ETA: 1:43 - loss: 0.2725 - acc: 0.906 - ETA: 1:42 - loss: 0.2723 - acc: 0.906 - ETA: 1:41 - loss: 0.2718 - acc: 0.906 - ETA: 1:40 - loss: 0.2701 - acc: 0.907 - ETA: 1:39 - loss: 0.2703 - acc: 0.907 - ETA: 1:38 - loss: 0.2685 - acc: 0.908 - ETA: 1:37 - loss: 0.2694 - acc: 0.908 - ETA: 1:36 - loss: 0.2683 - acc: 0.909 - ETA: 1:35 - loss: 0.2689 - acc: 0.909 - ETA: 1:34 - loss: 0.2689 - acc: 0.909 - ETA: 1:32 - loss: 0.2686 - acc: 0.909 - ETA: 1:31 - loss: 0.2683 - acc: 0.909 - ETA: 1:30 - loss: 0.2679 - acc: 0.909 - ETA: 1:29 - loss: 0.2665 - acc: 0.910 - ETA: 1:28 - loss: 0.2653 - acc: 0.910 - ETA: 1:27 - loss: 0.2647 - acc: 0.910 - ETA: 1:26 - loss: 0.2630 - acc: 0.911 - ETA: 1:25 - loss: 0.2626 - acc: 0.911 - ETA: 1:24 - loss: 0.2643 - acc: 0.911 - ETA: 1:23 - loss: 0.2647 - acc: 0.911 - ETA: 1:22 - loss: 0.2654 - acc: 0.910 - ETA: 1:20 - loss: 0.2654 - acc: 0.910 - ETA: 1:19 - loss: 0.2644 - acc: 0.910 - ETA: 1:18 - loss: 0.2635 - acc: 0.911 - ETA: 1:17 - loss: 0.2634 - acc: 0.911 - ETA: 1:16 - loss: 0.2634 - acc: 0.911 - ETA: 1:15 - loss: 0.2633 - acc: 0.911 - ETA: 1:14 - loss: 0.2624 - acc: 0.911 - ETA: 1:13 - loss: 0.2619 - acc: 0.911 - ETA: 1:12 - loss: 0.2614 - acc: 0.911 - ETA: 1:11 - loss: 0.2615 - acc: 0.911 - ETA: 1:10 - loss: 0.2624 - acc: 0.911 - ETA: 1:09 - loss: 0.2624 - acc: 0.911 - ETA: 1:08 - loss: 0.2623 - acc: 0.911 - ETA: 1:07 - loss: 0.2615 - acc: 0.911 - ETA: 1:06 - loss: 0.2617 - acc: 0.911 - ETA: 1:05 - loss: 0.2623 - acc: 0.911 - ETA: 1:04 - loss: 0.2622 - acc: 0.911 - ETA: 1:03 - loss: 0.2632 - acc: 0.911 - ETA: 1:02 - loss: 0.2650 - acc: 0.910 - ETA: 1:00 - loss: 0.2659 - acc: 0.909 - ETA: 59s - loss: 0.2656 - acc: 0.909 - ETA: 58s - loss: 0.2647 - acc: 0.91 - ETA: 57s - loss: 0.2646 - acc: 0.91 - ETA: 56s - loss: 0.2658 - acc: 0.90 - ETA: 55s - loss: 0.2659 - acc: 0.90 - ETA: 54s - loss: 0.2671 - acc: 0.90 - ETA: 53s - loss: 0.2684 - acc: 0.90 - ETA: 52s - loss: 0.2681 - acc: 0.90 - ETA: 51s - loss: 0.2680 - acc: 0.90 - ETA: 50s - loss: 0.2682 - acc: 0.90 - ETA: 49s - loss: 0.2678 - acc: 0.90 - ETA: 48s - loss: 0.2669 - acc: 0.90 - ETA: 47s - loss: 0.2669 - acc: 0.90 - ETA: 46s - loss: 0.2679 - acc: 0.90 - ETA: 44s - loss: 0.2671 - acc: 0.90 - ETA: 43s - loss: 0.2672 - acc: 0.90 - ETA: 42s - loss: 0.2670 - acc: 0.90 - ETA: 41s - loss: 0.2662 - acc: 0.90 - ETA: 40s - loss: 0.2661 - acc: 0.90 - ETA: 39s - loss: 0.2657 - acc: 0.90 - ETA: 38s - loss: 0.2662 - acc: 0.90 - ETA: 37s - loss: 0.2662 - acc: 0.90 - ETA: 36s - loss: 0.2661 - acc: 0.90 - ETA: 35s - loss: 0.2655 - acc: 0.90 - ETA: 34s - loss: 0.2665 - acc: 0.90 - ETA: 33s - loss: 0.2664 - acc: 0.90 - ETA: 31s - loss: 0.2666 - acc: 0.90 - ETA: 30s - loss: 0.2667 - acc: 0.90 - ETA: 29s - loss: 0.2675 - acc: 0.90 - ETA: 28s - loss: 0.2685 - acc: 0.90 - ETA: 27s - loss: 0.2688 - acc: 0.90 - ETA: 26s - loss: 0.2690 - acc: 0.90 - ETA: 25s - loss: 0.2685 - acc: 0.90 - ETA: 24s - loss: 0.2699 - acc: 0.90 - ETA: 23s - loss: 0.2713 - acc: 0.90 - ETA: 22s - loss: 0.2706 - acc: 0.90 - ETA: 21s - loss: 0.2702 - acc: 0.90 - ETA: 19s - loss: 0.2705 - acc: 0.90 - ETA: 18s - loss: 0.2701 - acc: 0.90 - ETA: 17s - loss: 0.2700 - acc: 0.90 - ETA: 16s - loss: 0.2699 - acc: 0.90 - ETA: 15s - loss: 0.2700 - acc: 0.90 - ETA: 14s - loss: 0.2698 - acc: 0.90 - ETA: 13s - loss: 0.2700 - acc: 0.90 - ETA: 12s - loss: 0.2696 - acc: 0.90 - ETA: 11s - loss: 0.2688 - acc: 0.90 - ETA: 10s - loss: 0.2690 - acc: 0.90 - ETA: 9s - loss: 0.2683 - acc: 0.9093 - ETA: 8s - loss: 0.2680 - acc: 0.909 - ETA: 7s - loss: 0.2687 - acc: 0.908 - ETA: 5s - loss: 0.2681 - acc: 0.909 - ETA: 4s - loss: 0.2682 - acc: 0.909 - ETA: 3s - loss: 0.2686 - acc: 0.909 - ETA: 2s - loss: 0.2680 - acc: 0.909 - ETA: 1s - loss: 0.2684 - acc: 0.909 - ETA: 0s - loss: 0.2688 - acc: 0.909 - 204s 19ms/step - loss: 0.2686 - acc: 0.9095 - val_loss: 0.3422 - val_acc: 0.8870\n",
      "Epoch 5/5\n"
     ]
    },
    {
     "name": "stdout",
     "output_type": "stream",
     "text": [
      "10979/10979 [==============================] - ETA: 2:52 - loss: 0.1884 - acc: 0.953 - ETA: 2:50 - loss: 0.1862 - acc: 0.945 - ETA: 2:50 - loss: 0.2285 - acc: 0.927 - ETA: 3:02 - loss: 0.2648 - acc: 0.914 - ETA: 3:01 - loss: 0.2514 - acc: 0.918 - ETA: 2:58 - loss: 0.2574 - acc: 0.916 - ETA: 2:57 - loss: 0.2487 - acc: 0.921 - ETA: 2:57 - loss: 0.2526 - acc: 0.919 - ETA: 2:55 - loss: 0.2482 - acc: 0.923 - ETA: 2:54 - loss: 0.2397 - acc: 0.929 - ETA: 2:53 - loss: 0.2439 - acc: 0.929 - ETA: 2:51 - loss: 0.2415 - acc: 0.929 - ETA: 2:50 - loss: 0.2471 - acc: 0.925 - ETA: 2:49 - loss: 0.2557 - acc: 0.923 - ETA: 2:48 - loss: 0.2549 - acc: 0.924 - ETA: 2:46 - loss: 0.2561 - acc: 0.924 - ETA: 2:45 - loss: 0.2535 - acc: 0.925 - ETA: 2:43 - loss: 0.2580 - acc: 0.924 - ETA: 2:42 - loss: 0.2575 - acc: 0.923 - ETA: 2:41 - loss: 0.2563 - acc: 0.924 - ETA: 2:40 - loss: 0.2506 - acc: 0.924 - ETA: 2:39 - loss: 0.2463 - acc: 0.926 - ETA: 2:38 - loss: 0.2409 - acc: 0.928 - ETA: 2:37 - loss: 0.2400 - acc: 0.929 - ETA: 2:36 - loss: 0.2384 - acc: 0.928 - ETA: 2:34 - loss: 0.2347 - acc: 0.929 - ETA: 2:33 - loss: 0.2336 - acc: 0.929 - ETA: 2:32 - loss: 0.2308 - acc: 0.930 - ETA: 2:31 - loss: 0.2288 - acc: 0.930 - ETA: 2:30 - loss: 0.2257 - acc: 0.931 - ETA: 2:29 - loss: 0.2271 - acc: 0.932 - ETA: 2:28 - loss: 0.2260 - acc: 0.931 - ETA: 2:27 - loss: 0.2264 - acc: 0.931 - ETA: 2:26 - loss: 0.2265 - acc: 0.932 - ETA: 2:25 - loss: 0.2249 - acc: 0.932 - ETA: 2:24 - loss: 0.2255 - acc: 0.931 - ETA: 2:23 - loss: 0.2296 - acc: 0.930 - ETA: 2:21 - loss: 0.2312 - acc: 0.929 - ETA: 2:20 - loss: 0.2323 - acc: 0.928 - ETA: 2:19 - loss: 0.2340 - acc: 0.927 - ETA: 2:18 - loss: 0.2343 - acc: 0.926 - ETA: 2:17 - loss: 0.2329 - acc: 0.927 - ETA: 2:16 - loss: 0.2344 - acc: 0.926 - ETA: 2:15 - loss: 0.2325 - acc: 0.927 - ETA: 2:14 - loss: 0.2337 - acc: 0.927 - ETA: 2:13 - loss: 0.2325 - acc: 0.927 - ETA: 2:12 - loss: 0.2323 - acc: 0.926 - ETA: 2:11 - loss: 0.2320 - acc: 0.927 - ETA: 2:10 - loss: 0.2317 - acc: 0.927 - ETA: 2:08 - loss: 0.2305 - acc: 0.927 - ETA: 2:07 - loss: 0.2306 - acc: 0.927 - ETA: 2:06 - loss: 0.2298 - acc: 0.927 - ETA: 2:05 - loss: 0.2315 - acc: 0.927 - ETA: 2:04 - loss: 0.2308 - acc: 0.927 - ETA: 2:03 - loss: 0.2299 - acc: 0.927 - ETA: 2:02 - loss: 0.2308 - acc: 0.926 - ETA: 2:01 - loss: 0.2293 - acc: 0.927 - ETA: 2:01 - loss: 0.2284 - acc: 0.927 - ETA: 2:00 - loss: 0.2295 - acc: 0.927 - ETA: 1:59 - loss: 0.2306 - acc: 0.927 - ETA: 1:58 - loss: 0.2304 - acc: 0.927 - ETA: 1:57 - loss: 0.2304 - acc: 0.926 - ETA: 1:56 - loss: 0.2292 - acc: 0.927 - ETA: 1:56 - loss: 0.2297 - acc: 0.927 - ETA: 1:54 - loss: 0.2313 - acc: 0.926 - ETA: 1:53 - loss: 0.2304 - acc: 0.927 - ETA: 1:52 - loss: 0.2309 - acc: 0.927 - ETA: 1:51 - loss: 0.2306 - acc: 0.927 - ETA: 1:50 - loss: 0.2305 - acc: 0.927 - ETA: 1:49 - loss: 0.2301 - acc: 0.927 - ETA: 1:48 - loss: 0.2315 - acc: 0.927 - ETA: 1:47 - loss: 0.2312 - acc: 0.927 - ETA: 1:46 - loss: 0.2317 - acc: 0.926 - ETA: 1:45 - loss: 0.2314 - acc: 0.926 - ETA: 1:44 - loss: 0.2314 - acc: 0.925 - ETA: 1:42 - loss: 0.2308 - acc: 0.926 - ETA: 1:41 - loss: 0.2294 - acc: 0.926 - ETA: 1:40 - loss: 0.2287 - acc: 0.926 - ETA: 1:39 - loss: 0.2290 - acc: 0.926 - ETA: 1:38 - loss: 0.2291 - acc: 0.926 - ETA: 1:37 - loss: 0.2287 - acc: 0.926 - ETA: 1:36 - loss: 0.2302 - acc: 0.926 - ETA: 1:35 - loss: 0.2298 - acc: 0.926 - ETA: 1:34 - loss: 0.2288 - acc: 0.926 - ETA: 1:32 - loss: 0.2294 - acc: 0.926 - ETA: 1:31 - loss: 0.2299 - acc: 0.926 - ETA: 1:30 - loss: 0.2300 - acc: 0.926 - ETA: 1:29 - loss: 0.2282 - acc: 0.926 - ETA: 1:28 - loss: 0.2275 - acc: 0.927 - ETA: 1:27 - loss: 0.2270 - acc: 0.927 - ETA: 1:26 - loss: 0.2279 - acc: 0.926 - ETA: 1:25 - loss: 0.2291 - acc: 0.926 - ETA: 1:24 - loss: 0.2326 - acc: 0.925 - ETA: 1:23 - loss: 0.2331 - acc: 0.925 - ETA: 1:22 - loss: 0.2333 - acc: 0.925 - ETA: 1:21 - loss: 0.2340 - acc: 0.925 - ETA: 1:20 - loss: 0.2341 - acc: 0.925 - ETA: 1:19 - loss: 0.2339 - acc: 0.925 - ETA: 1:18 - loss: 0.2323 - acc: 0.926 - ETA: 1:17 - loss: 0.2324 - acc: 0.926 - ETA: 1:16 - loss: 0.2337 - acc: 0.925 - ETA: 1:15 - loss: 0.2327 - acc: 0.925 - ETA: 1:14 - loss: 0.2321 - acc: 0.925 - ETA: 1:13 - loss: 0.2326 - acc: 0.925 - ETA: 1:12 - loss: 0.2337 - acc: 0.924 - ETA: 1:11 - loss: 0.2332 - acc: 0.924 - ETA: 1:10 - loss: 0.2323 - acc: 0.924 - ETA: 1:09 - loss: 0.2329 - acc: 0.924 - ETA: 1:08 - loss: 0.2335 - acc: 0.924 - ETA: 1:07 - loss: 0.2323 - acc: 0.924 - ETA: 1:06 - loss: 0.2324 - acc: 0.924 - ETA: 1:05 - loss: 0.2342 - acc: 0.924 - ETA: 1:04 - loss: 0.2339 - acc: 0.924 - ETA: 1:03 - loss: 0.2354 - acc: 0.923 - ETA: 1:02 - loss: 0.2368 - acc: 0.923 - ETA: 1:00 - loss: 0.2360 - acc: 0.923 - ETA: 59s - loss: 0.2358 - acc: 0.923 - ETA: 58s - loss: 0.2351 - acc: 0.92 - ETA: 57s - loss: 0.2348 - acc: 0.92 - ETA: 56s - loss: 0.2344 - acc: 0.92 - ETA: 55s - loss: 0.2337 - acc: 0.92 - ETA: 54s - loss: 0.2338 - acc: 0.92 - ETA: 53s - loss: 0.2339 - acc: 0.92 - ETA: 52s - loss: 0.2335 - acc: 0.92 - ETA: 51s - loss: 0.2331 - acc: 0.92 - ETA: 50s - loss: 0.2322 - acc: 0.92 - ETA: 49s - loss: 0.2332 - acc: 0.92 - ETA: 48s - loss: 0.2332 - acc: 0.92 - ETA: 47s - loss: 0.2327 - acc: 0.92 - ETA: 45s - loss: 0.2329 - acc: 0.92 - ETA: 44s - loss: 0.2328 - acc: 0.92 - ETA: 43s - loss: 0.2316 - acc: 0.92 - ETA: 42s - loss: 0.2328 - acc: 0.92 - ETA: 41s - loss: 0.2327 - acc: 0.92 - ETA: 40s - loss: 0.2326 - acc: 0.92 - ETA: 39s - loss: 0.2333 - acc: 0.92 - ETA: 38s - loss: 0.2345 - acc: 0.92 - ETA: 36s - loss: 0.2352 - acc: 0.92 - ETA: 35s - loss: 0.2357 - acc: 0.92 - ETA: 34s - loss: 0.2369 - acc: 0.92 - ETA: 33s - loss: 0.2374 - acc: 0.92 - ETA: 32s - loss: 0.2369 - acc: 0.92 - ETA: 31s - loss: 0.2362 - acc: 0.92 - ETA: 30s - loss: 0.2361 - acc: 0.92 - ETA: 29s - loss: 0.2358 - acc: 0.92 - ETA: 28s - loss: 0.2356 - acc: 0.92 - ETA: 27s - loss: 0.2352 - acc: 0.92 - ETA: 25s - loss: 0.2350 - acc: 0.92 - ETA: 24s - loss: 0.2362 - acc: 0.92 - ETA: 23s - loss: 0.2363 - acc: 0.92 - ETA: 22s - loss: 0.2365 - acc: 0.92 - ETA: 21s - loss: 0.2366 - acc: 0.92 - ETA: 20s - loss: 0.2374 - acc: 0.92 - ETA: 19s - loss: 0.2370 - acc: 0.92 - ETA: 18s - loss: 0.2369 - acc: 0.92 - ETA: 17s - loss: 0.2370 - acc: 0.92 - ETA: 16s - loss: 0.2371 - acc: 0.92 - ETA: 14s - loss: 0.2372 - acc: 0.92 - ETA: 13s - loss: 0.2379 - acc: 0.92 - ETA: 12s - loss: 0.2373 - acc: 0.92 - ETA: 11s - loss: 0.2366 - acc: 0.92 - ETA: 10s - loss: 0.2370 - acc: 0.92 - ETA: 9s - loss: 0.2362 - acc: 0.9217 - ETA: 8s - loss: 0.2358 - acc: 0.921 - ETA: 7s - loss: 0.2354 - acc: 0.922 - ETA: 6s - loss: 0.2360 - acc: 0.922 - ETA: 5s - loss: 0.2360 - acc: 0.922 - ETA: 3s - loss: 0.2359 - acc: 0.922 - ETA: 2s - loss: 0.2366 - acc: 0.921 - ETA: 1s - loss: 0.2366 - acc: 0.921 - ETA: 0s - loss: 0.2363 - acc: 0.921 - 207s 19ms/step - loss: 0.2368 - acc: 0.9218 - val_loss: 0.3277 - val_acc: 0.8898\n"
     ]
    }
   ],
   "source": [
    "batch_size=64\n",
    "epochs = 5\n",
    "#fitting the model and running 5 epochs with batch size of 64\n",
    "history = model.fit(X_train, y_train, epochs=epochs, batch_size=batch_size,validation_split=0.33,\\\n",
    "                    callbacks=[EarlyStopping(monitor='val_loss', patience=3, min_delta=0.0001)])\n",
    "\n",
    "#we specified Earlystopping so when model is not improving on accuracy it stops and Patience=3 indicates that it will wait for\n",
    "#3 iteration for its improvement and still accuracy is not improved than model will stop iterating on epochs"
   ]
  },
  {
   "cell_type": "code",
   "execution_count": 37,
   "metadata": {},
   "outputs": [
    {
     "name": "stdout",
     "output_type": "stream",
     "text": [
      "8072/8072 [==============================] - ETA: 34 - ETA: 34 - ETA: 30 - ETA: 29 - ETA: 27 - ETA: 27 - ETA: 26 - ETA: 26 - ETA: 26 - ETA: 26 - ETA: 26 - ETA: 25 - ETA: 25 - ETA: 25 - ETA: 25 - ETA: 25 - ETA: 24 - ETA: 24 - ETA: 24 - ETA: 24 - ETA: 24 - ETA: 24 - ETA: 24 - ETA: 23 - ETA: 23 - ETA: 23 - ETA: 23 - ETA: 23 - ETA: 23 - ETA: 23 - ETA: 23 - ETA: 23 - ETA: 23 - ETA: 23 - ETA: 24 - ETA: 24 - ETA: 24 - ETA: 24 - ETA: 24 - ETA: 24 - ETA: 23 - ETA: 24 - ETA: 24 - ETA: 24 - ETA: 23 - ETA: 23 - ETA: 23 - ETA: 23 - ETA: 23 - ETA: 23 - ETA: 23 - ETA: 22 - ETA: 22 - ETA: 22 - ETA: 22 - ETA: 22 - ETA: 22 - ETA: 22 - ETA: 21 - ETA: 21 - ETA: 21 - ETA: 21 - ETA: 21 - ETA: 21 - ETA: 21 - ETA: 20 - ETA: 20 - ETA: 20 - ETA: 20 - ETA: 20 - ETA: 20 - ETA: 20 - ETA: 19 - ETA: 19 - ETA: 19 - ETA: 19 - ETA: 19 - ETA: 19 - ETA: 19 - ETA: 19 - ETA: 18 - ETA: 18 - ETA: 18 - ETA: 18 - ETA: 18 - ETA: 18 - ETA: 18 - ETA: 17 - ETA: 17 - ETA: 17 - ETA: 17 - ETA: 17 - ETA: 17 - ETA: 17 - ETA: 17 - ETA: 17 - ETA: 16 - ETA: 16 - ETA: 16 - ETA: 16 - ETA: 16 - ETA: 16 - ETA: 16 - ETA: 16 - ETA: 15 - ETA: 15 - ETA: 15 - ETA: 15 - ETA: 15 - ETA: 15 - ETA: 15 - ETA: 15 - ETA: 15 - ETA: 14 - ETA: 14 - ETA: 14 - ETA: 14 - ETA: 14 - ETA: 14 - ETA: 14 - ETA: 14 - ETA: 14 - ETA: 13 - ETA: 13 - ETA: 13 - ETA: 13 - ETA: 13 - ETA: 13 - ETA: 13 - ETA: 13 - ETA: 13 - ETA: 12 - ETA: 12 - ETA: 12 - ETA: 12 - ETA: 12 - ETA: 12 - ETA: 12 - ETA: 12 - ETA: 12 - ETA: 12 - ETA: 11 - ETA: 11 - ETA: 11 - ETA: 11 - ETA: 11 - ETA: 11 - ETA: 11 - ETA: 11 - ETA: 11 - ETA: 11 - ETA: 11 - ETA: 10 - ETA: 10 - ETA: 10 - ETA: 10 - ETA: 10 - ETA: 10 - ETA: 10 - ETA: 10 - ETA: 10 - ETA: 10 - ETA: 9 - ETA:  - ETA:  - ETA:  - ETA:  - ETA:  - ETA:  - ETA:  - ETA:  - ETA:  - ETA:  - ETA:  - ETA:  - ETA:  - ETA:  - ETA:  - ETA:  - ETA:  - ETA:  - ETA:  - ETA:  - ETA:  - ETA:  - ETA:  - ETA:  - ETA:  - ETA:  - ETA:  - ETA:  - ETA:  - ETA:  - ETA:  - ETA:  - ETA:  - ETA:  - ETA:  - ETA:  - ETA:  - ETA:  - ETA:  - ETA:  - ETA:  - ETA:  - ETA:  - ETA:  - ETA:  - ETA:  - ETA:  - ETA:  - ETA:  - ETA:  - ETA:  - ETA:  - ETA:  - ETA:  - ETA:  - ETA:  - ETA:  - ETA:  - ETA:  - ETA:  - ETA:  - ETA:  - ETA:  - ETA:  - ETA:  - ETA:  - ETA:  - ETA:  - ETA:  - ETA:  - ETA:  - ETA:  - ETA:  - ETA:  - ETA:  - ETA:  - ETA:  - ETA:  - ETA:  - ETA:  - ETA:  - ETA:  - ETA:  - ETA:  - ETA:  - ETA:  - ETA:  - ETA:  - ETA:  - 30s 4ms/step\n"
     ]
    },
    {
     "data": {
      "text/plain": [
       "[0.34018459217576724, 0.8868929633300298]"
      ]
     },
     "execution_count": 37,
     "metadata": {},
     "output_type": "execute_result"
    }
   ],
   "source": [
    "#evaluating the accuracy on text data\n",
    "accr = model.evaluate(X_test,y_test)\n",
    "accr"
   ]
  },
  {
   "cell_type": "code",
   "execution_count": 38,
   "metadata": {},
   "outputs": [],
   "source": [
    "y_pred = model.predict(X_test)"
   ]
  },
  {
   "cell_type": "code",
   "execution_count": 39,
   "metadata": {},
   "outputs": [],
   "source": [
    "y_pred = pd.DataFrame(y_pred).apply(np.round)"
   ]
  },
  {
   "cell_type": "code",
   "execution_count": 40,
   "metadata": {},
   "outputs": [],
   "source": [
    "y_test2 = y_test.idxmax(axis=1)"
   ]
  },
  {
   "cell_type": "code",
   "execution_count": 41,
   "metadata": {},
   "outputs": [],
   "source": [
    "y_pred.columns = ['High','Low','Mixed']"
   ]
  },
  {
   "cell_type": "code",
   "execution_count": 42,
   "metadata": {},
   "outputs": [],
   "source": [
    "y_pred2 = y_pred.idxmax(axis=1)"
   ]
  },
  {
   "cell_type": "code",
   "execution_count": 55,
   "metadata": {},
   "outputs": [],
   "source": [
    "def genrate_classificatoin_report(y_test,y_pred):\n",
    "    print(classification_report(y_test,y_pred))"
   ]
  },
  {
   "cell_type": "code",
   "execution_count": 44,
   "metadata": {},
   "outputs": [
    {
     "name": "stdout",
     "output_type": "stream",
     "text": [
      "              precision    recall  f1-score   support\n",
      "\n",
      "        High       0.92      0.89      0.91      4090\n",
      "         Low       0.73      0.67      0.70       757\n",
      "       Mixed       0.88      0.93      0.91      3225\n",
      "\n",
      "    accuracy                           0.89      8072\n",
      "   macro avg       0.85      0.83      0.84      8072\n",
      "weighted avg       0.89      0.89      0.89      8072\n",
      "\n"
     ]
    }
   ],
   "source": [
    "genrate_classificatoin_report(y_test2,y_pred2)"
   ]
  },
  {
   "cell_type": "code",
   "execution_count": 56,
   "metadata": {},
   "outputs": [],
   "source": [
    "def generate_confusion_matrix(y_test,y_pred):\n",
    "    class_names=['High','Low','Mixed'] \n",
    "    cnf_matrix = confusion_matrix(y_test, y_pred)\n",
    "\n",
    "    fig, ax = plt.subplots()\n",
    "\n",
    "    sns.heatmap(pd.DataFrame(cnf_matrix,columns=['High','Low','Medium'],index=['High','Low','Medium']), annot=True, cmap=\"YlGnBu\" ,fmt='g')\n",
    "    ax.xaxis.set_label_position(\"top\")\n",
    "    plt.tight_layout()\n",
    "    plt.title('Confusion matrix', y=1.1)\n",
    "    plt.ylabel('Actual label')\n",
    "    plt.xlabel('Predicted label')"
   ]
  },
  {
   "cell_type": "code",
   "execution_count": 46,
   "metadata": {},
   "outputs": [
    {
     "data": {
      "image/png": "[encoded data removed]",
      "text/plain": [
       "<Figure size 432x288 with 2 Axes>"
      ]
     },
     "metadata": {
      "needs_background": "light"
     },
     "output_type": "display_data"
    }
   ],
   "source": [
    "generate_confusion_matrix(y_test2,y_pred2)"
   ]
  },
  {
   "cell_type": "markdown",
   "metadata": {},
   "source": [
    "### Nueral nework with Bidirectional LSTM and including 1 dimensional Convolutional network"
   ]
  },
  {
   "cell_type": "code",
   "execution_count": 47,
   "metadata": {
    "scrolled": true
   },
   "outputs": [
    {
     "name": "stdout",
     "output_type": "stream",
     "text": [
      "_________________________________________________________________\n",
      "Layer (type)                 Output Shape              Param #   \n",
      "=================================================================\n",
      "embedding_2 (Embedding)      (None, 350, 130)          260000    \n",
      "_________________________________________________________________\n",
      "conv1d_1 (Conv1D)            (None, 350, 32)           12512     \n",
      "_________________________________________________________________\n",
      "max_pooling1d_1 (MaxPooling1 (None, 175, 32)           0         \n",
      "_________________________________________________________________\n",
      "bidirectional_1 (Bidirection (None, 200)               106400    \n",
      "_________________________________________________________________\n",
      "dense_2 (Dense)              (None, 3)                 603       \n",
      "=================================================================\n",
      "Total params: 379,515\n",
      "Trainable params: 379,515\n",
      "Non-trainable params: 0\n",
      "_________________________________________________________________\n",
      "None\n"
     ]
    }
   ],
   "source": [
    "embed_size=130\n",
    "model = Sequential()\n",
    "model.add(Embedding(MAX_NB_WORDS,embed_size,input_length=X.shape[1]))\n",
    "#provided Conv1D layer to identify aomplex pattern in text to get meaning out of it\n",
    "model.add(Conv1D(filters=32, kernel_size=3, padding='same', activation='relu'))\n",
    "#pool size is provided to reduce the dimentions\n",
    "model.add(MaxPooling1D(pool_size=2))\n",
    "#Bidirectional LSTM layer is specified so model will work on both original and reversed vectors\n",
    "model.add(Bidirectional(LSTM(100,dropout=0.2,recurrent_dropout=0.2)))\n",
    "model.add(Dense(3,activation='softmax'))\n",
    "model.compile(loss='categorical_crossentropy',optimizer='adam',metrics=['accuracy'])\n",
    "print(model.summary())"
   ]
  },
  {
   "cell_type": "code",
   "execution_count": 48,
   "metadata": {},
   "outputs": [
    {
     "name": "stdout",
     "output_type": "stream",
     "text": [
      "Train on 10979 samples, validate on 5409 samples\n",
      "Epoch 1/5\n",
      "10979/10979 [==============================] - ETA: 14:39 - loss: 1.0971 - acc: 0.35 - ETA: 9:40 - loss: 1.0906 - acc: 0.4141 - ETA: 8:03 - loss: 1.0840 - acc: 0.442 - ETA: 7:12 - loss: 1.0776 - acc: 0.476 - ETA: 6:36 - loss: 1.0697 - acc: 0.496 - ETA: 6:14 - loss: 1.0599 - acc: 0.492 - ETA: 5:58 - loss: 1.0541 - acc: 0.482 - ETA: 5:46 - loss: 1.0475 - acc: 0.478 - ETA: 5:37 - loss: 1.0333 - acc: 0.491 - ETA: 5:29 - loss: 1.0201 - acc: 0.506 - ETA: 5:22 - loss: 1.0190 - acc: 0.505 - ETA: 5:15 - loss: 1.0238 - acc: 0.496 - ETA: 5:09 - loss: 1.0180 - acc: 0.498 - ETA: 5:03 - loss: 1.0160 - acc: 0.493 - ETA: 4:58 - loss: 1.0158 - acc: 0.493 - ETA: 4:53 - loss: 1.0068 - acc: 0.498 - ETA: 4:49 - loss: 0.9989 - acc: 0.508 - ETA: 4:45 - loss: 0.9920 - acc: 0.515 - ETA: 4:42 - loss: 0.9855 - acc: 0.521 - ETA: 4:41 - loss: 0.9787 - acc: 0.523 - ETA: 4:38 - loss: 0.9751 - acc: 0.528 - ETA: 4:35 - loss: 0.9734 - acc: 0.527 - ETA: 4:33 - loss: 0.9657 - acc: 0.531 - ETA: 4:31 - loss: 0.9622 - acc: 0.530 - ETA: 4:29 - loss: 0.9578 - acc: 0.531 - ETA: 4:27 - loss: 0.9540 - acc: 0.530 - ETA: 4:24 - loss: 0.9522 - acc: 0.534 - ETA: 4:22 - loss: 0.9536 - acc: 0.536 - ETA: 4:19 - loss: 0.9492 - acc: 0.539 - ETA: 4:18 - loss: 0.9479 - acc: 0.542 - ETA: 4:16 - loss: 0.9487 - acc: 0.539 - ETA: 4:14 - loss: 0.9421 - acc: 0.546 - ETA: 4:12 - loss: 0.9399 - acc: 0.551 - ETA: 4:10 - loss: 0.9357 - acc: 0.556 - ETA: 4:09 - loss: 0.9339 - acc: 0.558 - ETA: 4:07 - loss: 0.9308 - acc: 0.561 - ETA: 4:04 - loss: 0.9256 - acc: 0.564 - ETA: 4:03 - loss: 0.9204 - acc: 0.566 - ETA: 4:01 - loss: 0.9183 - acc: 0.568 - ETA: 3:59 - loss: 0.9137 - acc: 0.570 - ETA: 3:57 - loss: 0.9091 - acc: 0.573 - ETA: 3:55 - loss: 0.9026 - acc: 0.575 - ETA: 3:53 - loss: 0.8997 - acc: 0.578 - ETA: 3:51 - loss: 0.8929 - acc: 0.582 - ETA: 3:49 - loss: 0.8889 - acc: 0.584 - ETA: 3:48 - loss: 0.8881 - acc: 0.583 - ETA: 3:46 - loss: 0.8840 - acc: 0.586 - ETA: 3:44 - loss: 0.8788 - acc: 0.590 - ETA: 3:42 - loss: 0.8757 - acc: 0.592 - ETA: 3:41 - loss: 0.8730 - acc: 0.593 - ETA: 3:40 - loss: 0.8695 - acc: 0.595 - ETA: 3:39 - loss: 0.8647 - acc: 0.597 - ETA: 3:37 - loss: 0.8615 - acc: 0.597 - ETA: 3:35 - loss: 0.8574 - acc: 0.599 - ETA: 3:33 - loss: 0.8529 - acc: 0.602 - ETA: 3:32 - loss: 0.8466 - acc: 0.604 - ETA: 3:30 - loss: 0.8473 - acc: 0.604 - ETA: 3:28 - loss: 0.8436 - acc: 0.606 - ETA: 3:26 - loss: 0.8393 - acc: 0.607 - ETA: 3:24 - loss: 0.8358 - acc: 0.610 - ETA: 3:22 - loss: 0.8320 - acc: 0.612 - ETA: 3:21 - loss: 0.8296 - acc: 0.614 - ETA: 3:19 - loss: 0.8260 - acc: 0.616 - ETA: 3:17 - loss: 0.8240 - acc: 0.616 - ETA: 3:15 - loss: 0.8216 - acc: 0.618 - ETA: 3:13 - loss: 0.8206 - acc: 0.618 - ETA: 3:11 - loss: 0.8156 - acc: 0.622 - ETA: 3:10 - loss: 0.8109 - acc: 0.624 - ETA: 3:08 - loss: 0.8074 - acc: 0.627 - ETA: 3:06 - loss: 0.8055 - acc: 0.628 - ETA: 3:04 - loss: 0.8014 - acc: 0.631 - ETA: 3:02 - loss: 0.7967 - acc: 0.633 - ETA: 3:01 - loss: 0.7958 - acc: 0.634 - ETA: 2:59 - loss: 0.7929 - acc: 0.636 - ETA: 2:57 - loss: 0.7909 - acc: 0.637 - ETA: 2:55 - loss: 0.7886 - acc: 0.639 - ETA: 2:53 - loss: 0.7845 - acc: 0.641 - ETA: 2:51 - loss: 0.7809 - acc: 0.643 - ETA: 2:49 - loss: 0.7785 - acc: 0.645 - ETA: 2:47 - loss: 0.7750 - acc: 0.646 - ETA: 2:45 - loss: 0.7738 - acc: 0.647 - ETA: 2:43 - loss: 0.7692 - acc: 0.650 - ETA: 2:41 - loss: 0.7672 - acc: 0.651 - ETA: 2:39 - loss: 0.7645 - acc: 0.653 - ETA: 2:38 - loss: 0.7612 - acc: 0.655 - ETA: 2:36 - loss: 0.7583 - acc: 0.657 - ETA: 2:34 - loss: 0.7550 - acc: 0.659 - ETA: 2:32 - loss: 0.7541 - acc: 0.660 - ETA: 2:30 - loss: 0.7503 - acc: 0.661 - ETA: 2:28 - loss: 0.7483 - acc: 0.662 - ETA: 2:26 - loss: 0.7454 - acc: 0.664 - ETA: 2:25 - loss: 0.7427 - acc: 0.666 - ETA: 2:23 - loss: 0.7407 - acc: 0.667 - ETA: 2:21 - loss: 0.7390 - acc: 0.669 - ETA: 2:19 - loss: 0.7357 - acc: 0.671 - ETA: 2:17 - loss: 0.7342 - acc: 0.672 - ETA: 2:15 - loss: 0.7316 - acc: 0.673 - ETA: 2:14 - loss: 0.7277 - acc: 0.675 - ETA: 2:12 - loss: 0.7253 - acc: 0.676 - ETA: 2:10 - loss: 0.7217 - acc: 0.678 - ETA: 2:08 - loss: 0.7187 - acc: 0.680 - ETA: 2:06 - loss: 0.7164 - acc: 0.681 - ETA: 2:04 - loss: 0.7130 - acc: 0.682 - ETA: 2:02 - loss: 0.7135 - acc: 0.683 - ETA: 2:01 - loss: 0.7124 - acc: 0.683 - ETA: 1:59 - loss: 0.7113 - acc: 0.684 - ETA: 1:57 - loss: 0.7092 - acc: 0.684 - ETA: 1:55 - loss: 0.7065 - acc: 0.686 - ETA: 1:53 - loss: 0.7062 - acc: 0.686 - ETA: 1:52 - loss: 0.7026 - acc: 0.688 - ETA: 1:50 - loss: 0.7009 - acc: 0.689 - ETA: 1:48 - loss: 0.6993 - acc: 0.690 - ETA: 1:46 - loss: 0.6965 - acc: 0.691 - ETA: 1:44 - loss: 0.6950 - acc: 0.692 - ETA: 1:42 - loss: 0.6927 - acc: 0.694 - ETA: 1:41 - loss: 0.6911 - acc: 0.695 - ETA: 1:39 - loss: 0.6900 - acc: 0.695 - ETA: 1:37 - loss: 0.6885 - acc: 0.696 - ETA: 1:35 - loss: 0.6868 - acc: 0.697 - ETA: 1:33 - loss: 0.6846 - acc: 0.698 - ETA: 1:32 - loss: 0.6825 - acc: 0.699 - ETA: 1:30 - loss: 0.6807 - acc: 0.700 - ETA: 1:28 - loss: 0.6793 - acc: 0.701 - ETA: 1:26 - loss: 0.6771 - acc: 0.702 - ETA: 1:24 - loss: 0.6736 - acc: 0.704 - ETA: 1:22 - loss: 0.6719 - acc: 0.705 - ETA: 1:21 - loss: 0.6710 - acc: 0.706 - ETA: 1:19 - loss: 0.6692 - acc: 0.707 - ETA: 1:17 - loss: 0.6673 - acc: 0.709 - ETA: 1:15 - loss: 0.6670 - acc: 0.709 - ETA: 1:13 - loss: 0.6662 - acc: 0.710 - ETA: 1:11 - loss: 0.6646 - acc: 0.710 - ETA: 1:10 - loss: 0.6626 - acc: 0.711 - ETA: 1:08 - loss: 0.6610 - acc: 0.712 - ETA: 1:06 - loss: 0.6594 - acc: 0.713 - ETA: 1:04 - loss: 0.6580 - acc: 0.714 - ETA: 1:02 - loss: 0.6561 - acc: 0.715 - ETA: 1:01 - loss: 0.6548 - acc: 0.716 - ETA: 59s - loss: 0.6529 - acc: 0.717 - ETA: 57s - loss: 0.6514 - acc: 0.71 - ETA: 55s - loss: 0.6504 - acc: 0.71 - ETA: 53s - loss: 0.6493 - acc: 0.71 - ETA: 51s - loss: 0.6481 - acc: 0.72 - ETA: 50s - loss: 0.6459 - acc: 0.72 - ETA: 48s - loss: 0.6454 - acc: 0.72 - ETA: 46s - loss: 0.6443 - acc: 0.72 - ETA: 44s - loss: 0.6425 - acc: 0.72 - ETA: 42s - loss: 0.6413 - acc: 0.72 - ETA: 41s - loss: 0.6423 - acc: 0.72 - ETA: 39s - loss: 0.6409 - acc: 0.72 - ETA: 37s - loss: 0.6386 - acc: 0.72 - ETA: 35s - loss: 0.6379 - acc: 0.72 - ETA: 33s - loss: 0.6362 - acc: 0.72 - ETA: 32s - loss: 0.6346 - acc: 0.72 - ETA: 30s - loss: 0.6339 - acc: 0.72 - ETA: 28s - loss: 0.6320 - acc: 0.72 - ETA: 26s - loss: 0.6311 - acc: 0.72 - ETA: 24s - loss: 0.6300 - acc: 0.72 - ETA: 22s - loss: 0.6280 - acc: 0.73 - ETA: 21s - loss: 0.6274 - acc: 0.73 - ETA: 19s - loss: 0.6269 - acc: 0.73 - ETA: 17s - loss: 0.6268 - acc: 0.73 - ETA: 15s - loss: 0.6257 - acc: 0.73 - ETA: 13s - loss: 0.6247 - acc: 0.73 - ETA: 11s - loss: 0.6237 - acc: 0.73 - ETA: 10s - loss: 0.6230 - acc: 0.73 - ETA: 8s - loss: 0.6219 - acc: 0.7348 - ETA: 6s - loss: 0.6212 - acc: 0.735 - ETA: 4s - loss: 0.6205 - acc: 0.735 - ETA: 2s - loss: 0.6196 - acc: 0.736 - ETA: 0s - loss: 0.6184 - acc: 0.736 - 329s 30ms/step - loss: 0.6179 - acc: 0.7369 - val_loss: 0.4094 - val_acc: 0.8382\n",
      "Epoch 2/5\n",
      "10979/10979 [==============================] - ETA: 4:51 - loss: 0.4173 - acc: 0.796 - ETA: 5:02 - loss: 0.4027 - acc: 0.828 - ETA: 5:07 - loss: 0.4276 - acc: 0.817 - ETA: 4:59 - loss: 0.3983 - acc: 0.828 - ETA: 4:57 - loss: 0.4074 - acc: 0.821 - ETA: 4:58 - loss: 0.4032 - acc: 0.822 - ETA: 4:54 - loss: 0.3900 - acc: 0.832 - ETA: 4:52 - loss: 0.4025 - acc: 0.835 - ETA: 4:51 - loss: 0.4000 - acc: 0.842 - ETA: 4:49 - loss: 0.4150 - acc: 0.837 - ETA: 4:47 - loss: 0.4027 - acc: 0.843 - ETA: 4:45 - loss: 0.4051 - acc: 0.839 - ETA: 4:43 - loss: 0.4027 - acc: 0.841 - ETA: 4:42 - loss: 0.4128 - acc: 0.838 - ETA: 4:41 - loss: 0.4099 - acc: 0.839 - ETA: 4:38 - loss: 0.4139 - acc: 0.835 - ETA: 4:36 - loss: 0.4162 - acc: 0.835 - ETA: 4:34 - loss: 0.4232 - acc: 0.833 - ETA: 4:32 - loss: 0.4138 - acc: 0.838 - ETA: 4:30 - loss: 0.4086 - acc: 0.840 - ETA: 4:28 - loss: 0.4070 - acc: 0.840 - ETA: 4:26 - loss: 0.4030 - acc: 0.842 - ETA: 4:24 - loss: 0.4065 - acc: 0.840 - ETA: 4:23 - loss: 0.4111 - acc: 0.836 - ETA: 4:21 - loss: 0.4082 - acc: 0.838 - ETA: 4:20 - loss: 0.4068 - acc: 0.838 - ETA: 4:18 - loss: 0.4056 - acc: 0.839 - ETA: 4:16 - loss: 0.4060 - acc: 0.839 - ETA: 4:14 - loss: 0.4083 - acc: 0.838 - ETA: 4:12 - loss: 0.4053 - acc: 0.839 - ETA: 4:10 - loss: 0.4060 - acc: 0.838 - ETA: 4:09 - loss: 0.4056 - acc: 0.838 - ETA: 4:07 - loss: 0.4058 - acc: 0.840 - ETA: 4:05 - loss: 0.4075 - acc: 0.840 - ETA: 4:03 - loss: 0.4076 - acc: 0.839 - ETA: 4:01 - loss: 0.4064 - acc: 0.839 - ETA: 3:59 - loss: 0.4069 - acc: 0.839 - ETA: 3:57 - loss: 0.4061 - acc: 0.840 - ETA: 3:55 - loss: 0.4060 - acc: 0.839 - ETA: 3:53 - loss: 0.4059 - acc: 0.839 - ETA: 3:51 - loss: 0.4100 - acc: 0.837 - ETA: 3:50 - loss: 0.4069 - acc: 0.839 - ETA: 3:48 - loss: 0.4060 - acc: 0.839 - ETA: 3:46 - loss: 0.4051 - acc: 0.839 - ETA: 3:44 - loss: 0.4031 - acc: 0.841 - ETA: 3:43 - loss: 0.4049 - acc: 0.841 - ETA: 3:41 - loss: 0.4019 - acc: 0.842 - ETA: 3:39 - loss: 0.4023 - acc: 0.842 - ETA: 3:37 - loss: 0.4029 - acc: 0.842 - ETA: 3:36 - loss: 0.4046 - acc: 0.841 - ETA: 3:34 - loss: 0.4009 - acc: 0.843 - ETA: 3:32 - loss: 0.3987 - acc: 0.843 - ETA: 3:31 - loss: 0.3978 - acc: 0.843 - ETA: 3:29 - loss: 0.3969 - acc: 0.844 - ETA: 3:27 - loss: 0.3968 - acc: 0.844 - ETA: 3:25 - loss: 0.3974 - acc: 0.844 - ETA: 3:23 - loss: 0.3978 - acc: 0.844 - ETA: 3:22 - loss: 0.3949 - acc: 0.845 - ETA: 3:20 - loss: 0.3936 - acc: 0.847 - ETA: 3:18 - loss: 0.3922 - acc: 0.848 - ETA: 3:17 - loss: 0.3920 - acc: 0.848 - ETA: 3:15 - loss: 0.3919 - acc: 0.848 - ETA: 3:13 - loss: 0.3935 - acc: 0.848 - ETA: 3:11 - loss: 0.3920 - acc: 0.849 - ETA: 3:10 - loss: 0.3925 - acc: 0.849 - ETA: 3:08 - loss: 0.3904 - acc: 0.850 - ETA: 3:06 - loss: 0.3884 - acc: 0.850 - ETA: 3:04 - loss: 0.3867 - acc: 0.852 - ETA: 3:02 - loss: 0.3866 - acc: 0.852 - ETA: 3:00 - loss: 0.3858 - acc: 0.852 - ETA: 2:59 - loss: 0.3866 - acc: 0.851 - ETA: 2:57 - loss: 0.3870 - acc: 0.851 - ETA: 2:56 - loss: 0.3874 - acc: 0.851 - ETA: 2:54 - loss: 0.3873 - acc: 0.852 - ETA: 2:52 - loss: 0.3854 - acc: 0.853 - ETA: 2:51 - loss: 0.3842 - acc: 0.853 - ETA: 2:49 - loss: 0.3820 - acc: 0.854 - ETA: 2:47 - loss: 0.3834 - acc: 0.855 - ETA: 2:46 - loss: 0.3841 - acc: 0.855 - ETA: 2:44 - loss: 0.3878 - acc: 0.854 - ETA: 2:42 - loss: 0.3885 - acc: 0.853 - ETA: 2:40 - loss: 0.3889 - acc: 0.853 - ETA: 2:38 - loss: 0.3884 - acc: 0.854 - ETA: 2:37 - loss: 0.3893 - acc: 0.854 - ETA: 2:35 - loss: 0.3885 - acc: 0.854 - ETA: 2:33 - loss: 0.3884 - acc: 0.855 - ETA: 2:32 - loss: 0.3907 - acc: 0.854 - ETA: 2:30 - loss: 0.3902 - acc: 0.854 - ETA: 2:28 - loss: 0.3907 - acc: 0.854 - ETA: 2:26 - loss: 0.3934 - acc: 0.852 - ETA: 2:24 - loss: 0.3934 - acc: 0.853 - ETA: 2:23 - loss: 0.3941 - acc: 0.852 - ETA: 2:21 - loss: 0.3962 - acc: 0.851 - ETA: 2:19 - loss: 0.3965 - acc: 0.851 - ETA: 2:17 - loss: 0.3961 - acc: 0.851 - ETA: 2:15 - loss: 0.3957 - acc: 0.851 - ETA: 2:14 - loss: 0.3962 - acc: 0.851 - ETA: 2:12 - loss: 0.3946 - acc: 0.851 - ETA: 2:10 - loss: 0.3938 - acc: 0.852 - ETA: 2:09 - loss: 0.3948 - acc: 0.851 - ETA: 2:07 - loss: 0.3933 - acc: 0.852 - ETA: 2:05 - loss: 0.3942 - acc: 0.852 - ETA: 2:03 - loss: 0.3955 - acc: 0.851 - ETA: 2:01 - loss: 0.3961 - acc: 0.851 - ETA: 1:59 - loss: 0.3955 - acc: 0.851 - ETA: 1:58 - loss: 0.3945 - acc: 0.851 - ETA: 1:56 - loss: 0.3948 - acc: 0.851 - ETA: 1:54 - loss: 0.3935 - acc: 0.852 - ETA: 1:52 - loss: 0.3957 - acc: 0.851 - ETA: 1:50 - loss: 0.3962 - acc: 0.851 - ETA: 1:49 - loss: 0.3975 - acc: 0.850 - ETA: 1:47 - loss: 0.3974 - acc: 0.850 - ETA: 1:45 - loss: 0.3970 - acc: 0.850 - ETA: 1:43 - loss: 0.3969 - acc: 0.850 - ETA: 1:41 - loss: 0.3965 - acc: 0.850 - ETA: 1:40 - loss: 0.3974 - acc: 0.849 - ETA: 1:38 - loss: 0.3969 - acc: 0.850 - ETA: 1:36 - loss: 0.3974 - acc: 0.850 - ETA: 1:34 - loss: 0.3996 - acc: 0.849 - ETA: 1:32 - loss: 0.3995 - acc: 0.849 - ETA: 1:31 - loss: 0.3995 - acc: 0.849 - ETA: 1:29 - loss: 0.3990 - acc: 0.849 - ETA: 1:27 - loss: 0.3989 - acc: 0.849 - ETA: 1:25 - loss: 0.4002 - acc: 0.848 - ETA: 1:23 - loss: 0.3995 - acc: 0.848 - ETA: 1:22 - loss: 0.4005 - acc: 0.847 - ETA: 1:20 - loss: 0.4008 - acc: 0.847 - ETA: 1:18 - loss: 0.4012 - acc: 0.847 - ETA: 1:16 - loss: 0.4004 - acc: 0.848 - ETA: 1:14 - loss: 0.4007 - acc: 0.848 - ETA: 1:13 - loss: 0.4018 - acc: 0.848 - ETA: 1:11 - loss: 0.4018 - acc: 0.848 - ETA: 1:09 - loss: 0.4018 - acc: 0.848 - ETA: 1:07 - loss: 0.4020 - acc: 0.847 - ETA: 1:05 - loss: 0.4017 - acc: 0.848 - ETA: 1:04 - loss: 0.4019 - acc: 0.847 - ETA: 1:02 - loss: 0.4027 - acc: 0.847 - ETA: 1:00 - loss: 0.4021 - acc: 0.847 - ETA: 58s - loss: 0.4019 - acc: 0.847 - ETA: 56s - loss: 0.4013 - acc: 0.84 - ETA: 54s - loss: 0.4003 - acc: 0.84 - ETA: 53s - loss: 0.4003 - acc: 0.84 - ETA: 51s - loss: 0.3996 - acc: 0.84 - ETA: 49s - loss: 0.3986 - acc: 0.84 - ETA: 47s - loss: 0.3971 - acc: 0.84 - ETA: 46s - loss: 0.3972 - acc: 0.84 - ETA: 44s - loss: 0.3976 - acc: 0.84 - ETA: 42s - loss: 0.3975 - acc: 0.84 - ETA: 40s - loss: 0.3974 - acc: 0.84 - ETA: 38s - loss: 0.3982 - acc: 0.84 - ETA: 36s - loss: 0.3977 - acc: 0.84 - ETA: 35s - loss: 0.3980 - acc: 0.84 - ETA: 33s - loss: 0.3976 - acc: 0.84 - ETA: 31s - loss: 0.3986 - acc: 0.84 - ETA: 29s - loss: 0.3981 - acc: 0.84 - ETA: 27s - loss: 0.3988 - acc: 0.84 - ETA: 26s - loss: 0.3996 - acc: 0.84 - ETA: 24s - loss: 0.4000 - acc: 0.84 - ETA: 22s - loss: 0.3997 - acc: 0.84 - ETA: 20s - loss: 0.4001 - acc: 0.84 - ETA: 18s - loss: 0.4000 - acc: 0.84 - ETA: 17s - loss: 0.3998 - acc: 0.84 - ETA: 15s - loss: 0.4002 - acc: 0.84 - ETA: 13s - loss: 0.3992 - acc: 0.84 - ETA: 11s - loss: 0.3989 - acc: 0.84 - ETA: 9s - loss: 0.3980 - acc: 0.8495 - ETA: 8s - loss: 0.3973 - acc: 0.849 - ETA: 6s - loss: 0.3972 - acc: 0.849 - ETA: 4s - loss: 0.3965 - acc: 0.850 - ETA: 2s - loss: 0.3966 - acc: 0.850 - ETA: 0s - loss: 0.3979 - acc: 0.850 - 325s 30ms/step - loss: 0.3981 - acc: 0.8503 - val_loss: 0.3780 - val_acc: 0.8802\n",
      "Epoch 3/5\n"
     ]
    },
    {
     "name": "stdout",
     "output_type": "stream",
     "text": [
      "10979/10979 [==============================] - ETA: 4:30 - loss: 0.3888 - acc: 0.906 - ETA: 4:43 - loss: 0.3522 - acc: 0.882 - ETA: 4:47 - loss: 0.3518 - acc: 0.895 - ETA: 4:51 - loss: 0.3260 - acc: 0.898 - ETA: 4:48 - loss: 0.3358 - acc: 0.900 - ETA: 4:47 - loss: 0.3301 - acc: 0.898 - ETA: 4:45 - loss: 0.3149 - acc: 0.901 - ETA: 4:41 - loss: 0.3033 - acc: 0.902 - ETA: 4:38 - loss: 0.2967 - acc: 0.906 - ETA: 4:38 - loss: 0.2975 - acc: 0.903 - ETA: 4:37 - loss: 0.2966 - acc: 0.903 - ETA: 4:36 - loss: 0.2997 - acc: 0.902 - ETA: 4:34 - loss: 0.2961 - acc: 0.902 - ETA: 4:31 - loss: 0.3036 - acc: 0.899 - ETA: 4:30 - loss: 0.3066 - acc: 0.900 - ETA: 4:27 - loss: 0.3096 - acc: 0.899 - ETA: 4:26 - loss: 0.3028 - acc: 0.901 - ETA: 4:24 - loss: 0.2975 - acc: 0.902 - ETA: 4:22 - loss: 0.2927 - acc: 0.903 - ETA: 4:22 - loss: 0.2934 - acc: 0.904 - ETA: 4:20 - loss: 0.2932 - acc: 0.905 - ETA: 4:19 - loss: 0.2994 - acc: 0.903 - ETA: 4:17 - loss: 0.2946 - acc: 0.905 - ETA: 4:16 - loss: 0.2963 - acc: 0.904 - ETA: 4:14 - loss: 0.2970 - acc: 0.903 - ETA: 4:13 - loss: 0.2895 - acc: 0.905 - ETA: 4:11 - loss: 0.2865 - acc: 0.905 - ETA: 4:10 - loss: 0.2842 - acc: 0.904 - ETA: 4:08 - loss: 0.2830 - acc: 0.906 - ETA: 4:06 - loss: 0.2815 - acc: 0.906 - ETA: 4:04 - loss: 0.2841 - acc: 0.906 - ETA: 4:02 - loss: 0.2859 - acc: 0.906 - ETA: 4:01 - loss: 0.2884 - acc: 0.904 - ETA: 3:59 - loss: 0.2914 - acc: 0.904 - ETA: 3:56 - loss: 0.2914 - acc: 0.903 - ETA: 3:54 - loss: 0.2945 - acc: 0.901 - ETA: 3:53 - loss: 0.2946 - acc: 0.900 - ETA: 3:51 - loss: 0.2927 - acc: 0.900 - ETA: 3:49 - loss: 0.2962 - acc: 0.899 - ETA: 3:47 - loss: 0.2955 - acc: 0.899 - ETA: 3:46 - loss: 0.2975 - acc: 0.897 - ETA: 3:44 - loss: 0.2938 - acc: 0.899 - ETA: 3:43 - loss: 0.2990 - acc: 0.898 - ETA: 3:41 - loss: 0.3022 - acc: 0.897 - ETA: 3:39 - loss: 0.3059 - acc: 0.895 - ETA: 3:38 - loss: 0.3062 - acc: 0.895 - ETA: 3:36 - loss: 0.3077 - acc: 0.893 - ETA: 3:34 - loss: 0.3076 - acc: 0.894 - ETA: 3:33 - loss: 0.3088 - acc: 0.893 - ETA: 3:31 - loss: 0.3076 - acc: 0.894 - ETA: 3:29 - loss: 0.3098 - acc: 0.893 - ETA: 3:28 - loss: 0.3106 - acc: 0.892 - ETA: 3:26 - loss: 0.3100 - acc: 0.893 - ETA: 3:24 - loss: 0.3105 - acc: 0.892 - ETA: 3:22 - loss: 0.3098 - acc: 0.892 - ETA: 3:21 - loss: 0.3125 - acc: 0.891 - ETA: 3:19 - loss: 0.3108 - acc: 0.891 - ETA: 3:17 - loss: 0.3105 - acc: 0.891 - ETA: 3:16 - loss: 0.3082 - acc: 0.892 - ETA: 3:14 - loss: 0.3093 - acc: 0.891 - ETA: 3:12 - loss: 0.3089 - acc: 0.891 - ETA: 3:11 - loss: 0.3085 - acc: 0.891 - ETA: 3:09 - loss: 0.3089 - acc: 0.890 - ETA: 3:07 - loss: 0.3086 - acc: 0.891 - ETA: 3:05 - loss: 0.3070 - acc: 0.891 - ETA: 3:04 - loss: 0.3070 - acc: 0.891 - ETA: 3:02 - loss: 0.3061 - acc: 0.891 - ETA: 3:00 - loss: 0.3051 - acc: 0.892 - ETA: 2:59 - loss: 0.3069 - acc: 0.892 - ETA: 2:57 - loss: 0.3052 - acc: 0.892 - ETA: 2:55 - loss: 0.3050 - acc: 0.892 - ETA: 2:54 - loss: 0.3053 - acc: 0.893 - ETA: 2:52 - loss: 0.3031 - acc: 0.894 - ETA: 2:50 - loss: 0.3035 - acc: 0.893 - ETA: 2:48 - loss: 0.3021 - acc: 0.893 - ETA: 2:47 - loss: 0.3037 - acc: 0.892 - ETA: 2:45 - loss: 0.3042 - acc: 0.892 - ETA: 2:43 - loss: 0.3031 - acc: 0.892 - ETA: 2:42 - loss: 0.3041 - acc: 0.892 - ETA: 2:40 - loss: 0.3025 - acc: 0.893 - ETA: 2:38 - loss: 0.3021 - acc: 0.893 - ETA: 2:36 - loss: 0.3009 - acc: 0.893 - ETA: 2:35 - loss: 0.3012 - acc: 0.893 - ETA: 2:33 - loss: 0.3000 - acc: 0.893 - ETA: 2:31 - loss: 0.2994 - acc: 0.893 - ETA: 2:29 - loss: 0.2991 - acc: 0.893 - ETA: 2:28 - loss: 0.2989 - acc: 0.894 - ETA: 2:26 - loss: 0.2988 - acc: 0.894 - ETA: 2:24 - loss: 0.3003 - acc: 0.893 - ETA: 2:22 - loss: 0.3001 - acc: 0.893 - ETA: 2:21 - loss: 0.2994 - acc: 0.893 - ETA: 2:19 - loss: 0.3000 - acc: 0.893 - ETA: 2:17 - loss: 0.2992 - acc: 0.893 - ETA: 2:15 - loss: 0.2982 - acc: 0.893 - ETA: 2:13 - loss: 0.2978 - acc: 0.893 - ETA: 2:12 - loss: 0.2997 - acc: 0.893 - ETA: 2:10 - loss: 0.2991 - acc: 0.893 - ETA: 2:08 - loss: 0.2972 - acc: 0.893 - ETA: 2:06 - loss: 0.2966 - acc: 0.893 - ETA: 2:05 - loss: 0.2958 - acc: 0.893 - ETA: 2:03 - loss: 0.2954 - acc: 0.893 - ETA: 2:01 - loss: 0.2946 - acc: 0.894 - ETA: 1:59 - loss: 0.2939 - acc: 0.894 - ETA: 1:57 - loss: 0.2938 - acc: 0.894 - ETA: 1:56 - loss: 0.2940 - acc: 0.894 - ETA: 1:54 - loss: 0.2945 - acc: 0.894 - ETA: 1:52 - loss: 0.2939 - acc: 0.894 - ETA: 1:50 - loss: 0.2930 - acc: 0.894 - ETA: 1:48 - loss: 0.2921 - acc: 0.895 - ETA: 1:47 - loss: 0.2918 - acc: 0.895 - ETA: 1:45 - loss: 0.2929 - acc: 0.895 - ETA: 1:43 - loss: 0.2931 - acc: 0.894 - ETA: 1:41 - loss: 0.2931 - acc: 0.894 - ETA: 1:40 - loss: 0.2946 - acc: 0.894 - ETA: 1:38 - loss: 0.2941 - acc: 0.894 - ETA: 1:36 - loss: 0.2940 - acc: 0.894 - ETA: 1:34 - loss: 0.2930 - acc: 0.895 - ETA: 1:33 - loss: 0.2926 - acc: 0.895 - ETA: 1:31 - loss: 0.2919 - acc: 0.895 - ETA: 1:29 - loss: 0.2925 - acc: 0.895 - ETA: 1:27 - loss: 0.2935 - acc: 0.894 - ETA: 1:25 - loss: 0.2942 - acc: 0.894 - ETA: 1:24 - loss: 0.2967 - acc: 0.893 - ETA: 1:22 - loss: 0.2974 - acc: 0.893 - ETA: 1:20 - loss: 0.2980 - acc: 0.893 - ETA: 1:18 - loss: 0.2988 - acc: 0.892 - ETA: 1:17 - loss: 0.3012 - acc: 0.891 - ETA: 1:15 - loss: 0.3020 - acc: 0.891 - ETA: 1:13 - loss: 0.3025 - acc: 0.891 - ETA: 1:11 - loss: 0.3037 - acc: 0.891 - ETA: 1:10 - loss: 0.3039 - acc: 0.890 - ETA: 1:08 - loss: 0.3049 - acc: 0.890 - ETA: 1:06 - loss: 0.3054 - acc: 0.889 - ETA: 1:05 - loss: 0.3079 - acc: 0.888 - ETA: 1:03 - loss: 0.3089 - acc: 0.888 - ETA: 1:01 - loss: 0.3095 - acc: 0.887 - ETA: 59s - loss: 0.3099 - acc: 0.887 - ETA: 58s - loss: 0.3104 - acc: 0.88 - ETA: 56s - loss: 0.3113 - acc: 0.88 - ETA: 54s - loss: 0.3127 - acc: 0.88 - ETA: 52s - loss: 0.3128 - acc: 0.88 - ETA: 51s - loss: 0.3128 - acc: 0.88 - ETA: 49s - loss: 0.3129 - acc: 0.88 - ETA: 47s - loss: 0.3130 - acc: 0.88 - ETA: 45s - loss: 0.3144 - acc: 0.88 - ETA: 44s - loss: 0.3149 - acc: 0.88 - ETA: 42s - loss: 0.3142 - acc: 0.88 - ETA: 40s - loss: 0.3144 - acc: 0.88 - ETA: 39s - loss: 0.3140 - acc: 0.88 - ETA: 37s - loss: 0.3135 - acc: 0.88 - ETA: 35s - loss: 0.3144 - acc: 0.88 - ETA: 33s - loss: 0.3141 - acc: 0.88 - ETA: 32s - loss: 0.3140 - acc: 0.88 - ETA: 30s - loss: 0.3137 - acc: 0.88 - ETA: 28s - loss: 0.3134 - acc: 0.88 - ETA: 26s - loss: 0.3137 - acc: 0.88 - ETA: 25s - loss: 0.3130 - acc: 0.88 - ETA: 23s - loss: 0.3119 - acc: 0.88 - ETA: 21s - loss: 0.3120 - acc: 0.88 - ETA: 19s - loss: 0.3126 - acc: 0.88 - ETA: 18s - loss: 0.3123 - acc: 0.88 - ETA: 16s - loss: 0.3124 - acc: 0.88 - ETA: 14s - loss: 0.3119 - acc: 0.88 - ETA: 13s - loss: 0.3115 - acc: 0.88 - ETA: 11s - loss: 0.3114 - acc: 0.88 - ETA: 9s - loss: 0.3123 - acc: 0.8854 - ETA: 7s - loss: 0.3126 - acc: 0.885 - ETA: 6s - loss: 0.3120 - acc: 0.885 - ETA: 4s - loss: 0.3125 - acc: 0.885 - ETA: 2s - loss: 0.3128 - acc: 0.885 - ETA: 0s - loss: 0.3126 - acc: 0.885 - 311s 28ms/step - loss: 0.3128 - acc: 0.8852 - val_loss: 0.2655 - val_acc: 0.9055\n",
      "Epoch 4/5\n",
      "10979/10979 [==============================] - ETA: 4:44 - loss: 0.2202 - acc: 0.906 - ETA: 4:53 - loss: 0.2068 - acc: 0.921 - ETA: 4:55 - loss: 0.1933 - acc: 0.932 - ETA: 4:59 - loss: 0.1929 - acc: 0.933 - ETA: 5:02 - loss: 0.1889 - acc: 0.937 - ETA: 4:52 - loss: 0.1980 - acc: 0.937 - ETA: 4:46 - loss: 0.2213 - acc: 0.926 - ETA: 4:43 - loss: 0.2204 - acc: 0.927 - ETA: 4:40 - loss: 0.2330 - acc: 0.921 - ETA: 4:37 - loss: 0.2321 - acc: 0.921 - ETA: 4:36 - loss: 0.2310 - acc: 0.923 - ETA: 4:34 - loss: 0.2349 - acc: 0.921 - ETA: 4:33 - loss: 0.2457 - acc: 0.915 - ETA: 4:30 - loss: 0.2583 - acc: 0.911 - ETA: 4:29 - loss: 0.2617 - acc: 0.909 - ETA: 4:26 - loss: 0.2623 - acc: 0.909 - ETA: 4:23 - loss: 0.2734 - acc: 0.906 - ETA: 4:20 - loss: 0.2717 - acc: 0.907 - ETA: 4:19 - loss: 0.2710 - acc: 0.907 - ETA: 4:17 - loss: 0.2650 - acc: 0.910 - ETA: 4:15 - loss: 0.2653 - acc: 0.909 - ETA: 4:14 - loss: 0.2657 - acc: 0.909 - ETA: 4:11 - loss: 0.2663 - acc: 0.906 - ETA: 4:08 - loss: 0.2621 - acc: 0.907 - ETA: 4:07 - loss: 0.2654 - acc: 0.905 - ETA: 4:06 - loss: 0.2616 - acc: 0.906 - ETA: 4:04 - loss: 0.2578 - acc: 0.908 - ETA: 4:02 - loss: 0.2574 - acc: 0.906 - ETA: 3:59 - loss: 0.2566 - acc: 0.907 - ETA: 3:57 - loss: 0.2581 - acc: 0.905 - ETA: 3:55 - loss: 0.2582 - acc: 0.905 - ETA: 3:55 - loss: 0.2554 - acc: 0.907 - ETA: 3:53 - loss: 0.2522 - acc: 0.909 - ETA: 3:51 - loss: 0.2531 - acc: 0.910 - ETA: 3:49 - loss: 0.2514 - acc: 0.911 - ETA: 3:47 - loss: 0.2512 - acc: 0.911 - ETA: 3:45 - loss: 0.2517 - acc: 0.910 - ETA: 3:44 - loss: 0.2499 - acc: 0.910 - ETA: 3:42 - loss: 0.2504 - acc: 0.910 - ETA: 3:41 - loss: 0.2466 - acc: 0.912 - ETA: 3:39 - loss: 0.2481 - acc: 0.910 - ETA: 3:37 - loss: 0.2472 - acc: 0.911 - ETA: 3:35 - loss: 0.2457 - acc: 0.911 - ETA: 3:34 - loss: 0.2438 - acc: 0.911 - ETA: 3:32 - loss: 0.2449 - acc: 0.911 - ETA: 3:30 - loss: 0.2466 - acc: 0.910 - ETA: 3:28 - loss: 0.2455 - acc: 0.910 - ETA: 3:26 - loss: 0.2440 - acc: 0.911 - ETA: 3:25 - loss: 0.2443 - acc: 0.912 - ETA: 3:23 - loss: 0.2487 - acc: 0.910 - ETA: 3:22 - loss: 0.2491 - acc: 0.910 - ETA: 3:20 - loss: 0.2469 - acc: 0.911 - ETA: 3:18 - loss: 0.2461 - acc: 0.912 - ETA: 3:16 - loss: 0.2461 - acc: 0.911 - ETA: 3:14 - loss: 0.2485 - acc: 0.910 - ETA: 3:13 - loss: 0.2479 - acc: 0.910 - ETA: 3:11 - loss: 0.2489 - acc: 0.910 - ETA: 3:09 - loss: 0.2477 - acc: 0.911 - ETA: 3:07 - loss: 0.2502 - acc: 0.910 - ETA: 3:06 - loss: 0.2498 - acc: 0.910 - ETA: 3:04 - loss: 0.2498 - acc: 0.910 - ETA: 3:02 - loss: 0.2501 - acc: 0.910 - ETA: 3:01 - loss: 0.2499 - acc: 0.910 - ETA: 2:59 - loss: 0.2486 - acc: 0.911 - ETA: 2:57 - loss: 0.2473 - acc: 0.911 - ETA: 2:56 - loss: 0.2485 - acc: 0.911 - ETA: 2:54 - loss: 0.2478 - acc: 0.911 - ETA: 2:52 - loss: 0.2472 - acc: 0.911 - ETA: 2:50 - loss: 0.2465 - acc: 0.912 - ETA: 2:49 - loss: 0.2455 - acc: 0.912 - ETA: 2:47 - loss: 0.2443 - acc: 0.913 - ETA: 2:45 - loss: 0.2438 - acc: 0.913 - ETA: 2:44 - loss: 0.2423 - acc: 0.914 - ETA: 2:42 - loss: 0.2427 - acc: 0.914 - ETA: 2:41 - loss: 0.2422 - acc: 0.914 - ETA: 2:39 - loss: 0.2440 - acc: 0.913 - ETA: 2:37 - loss: 0.2428 - acc: 0.913 - ETA: 2:35 - loss: 0.2419 - acc: 0.914 - ETA: 2:34 - loss: 0.2419 - acc: 0.914 - ETA: 2:32 - loss: 0.2419 - acc: 0.914 - ETA: 2:30 - loss: 0.2413 - acc: 0.914 - ETA: 2:28 - loss: 0.2410 - acc: 0.914 - ETA: 2:27 - loss: 0.2411 - acc: 0.914 - ETA: 2:25 - loss: 0.2403 - acc: 0.914 - ETA: 2:23 - loss: 0.2401 - acc: 0.914 - ETA: 2:22 - loss: 0.2402 - acc: 0.914 - ETA: 2:21 - loss: 0.2385 - acc: 0.915 - ETA: 2:19 - loss: 0.2373 - acc: 0.915 - ETA: 2:17 - loss: 0.2370 - acc: 0.915 - ETA: 2:16 - loss: 0.2371 - acc: 0.916 - ETA: 2:14 - loss: 0.2382 - acc: 0.915 - ETA: 2:13 - loss: 0.2378 - acc: 0.915 - ETA: 2:11 - loss: 0.2384 - acc: 0.915 - ETA: 2:10 - loss: 0.2388 - acc: 0.915 - ETA: 2:08 - loss: 0.2386 - acc: 0.915 - ETA: 2:06 - loss: 0.2387 - acc: 0.915 - ETA: 2:05 - loss: 0.2385 - acc: 0.915 - ETA: 2:03 - loss: 0.2392 - acc: 0.915 - ETA: 2:01 - loss: 0.2398 - acc: 0.915 - ETA: 2:00 - loss: 0.2394 - acc: 0.915 - ETA: 1:58 - loss: 0.2392 - acc: 0.916 - ETA: 1:56 - loss: 0.2402 - acc: 0.915 - ETA: 1:55 - loss: 0.2398 - acc: 0.915 - ETA: 1:53 - loss: 0.2394 - acc: 0.915 - ETA: 1:52 - loss: 0.2392 - acc: 0.915 - ETA: 1:50 - loss: 0.2391 - acc: 0.915 - ETA: 1:48 - loss: 0.2388 - acc: 0.915 - ETA: 1:47 - loss: 0.2393 - acc: 0.915 - ETA: 1:45 - loss: 0.2392 - acc: 0.915 - ETA: 1:43 - loss: 0.2395 - acc: 0.914 - ETA: 1:42 - loss: 0.2395 - acc: 0.914 - ETA: 1:40 - loss: 0.2381 - acc: 0.915 - ETA: 1:38 - loss: 0.2373 - acc: 0.916 - ETA: 1:37 - loss: 0.2371 - acc: 0.916 - ETA: 1:35 - loss: 0.2370 - acc: 0.916 - ETA: 1:33 - loss: 0.2370 - acc: 0.916 - ETA: 1:32 - loss: 0.2379 - acc: 0.915 - ETA: 1:30 - loss: 0.2372 - acc: 0.916 - ETA: 1:28 - loss: 0.2372 - acc: 0.916 - ETA: 1:27 - loss: 0.2366 - acc: 0.916 - ETA: 1:25 - loss: 0.2365 - acc: 0.916 - ETA: 1:23 - loss: 0.2367 - acc: 0.916 - ETA: 1:22 - loss: 0.2367 - acc: 0.916 - ETA: 1:20 - loss: 0.2366 - acc: 0.916 - ETA: 1:18 - loss: 0.2372 - acc: 0.915 - ETA: 1:16 - loss: 0.2382 - acc: 0.915 - ETA: 1:15 - loss: 0.2388 - acc: 0.915 - ETA: 1:13 - loss: 0.2384 - acc: 0.915 - ETA: 1:11 - loss: 0.2383 - acc: 0.915 - ETA: 1:10 - loss: 0.2379 - acc: 0.915 - ETA: 1:08 - loss: 0.2378 - acc: 0.915 - ETA: 1:06 - loss: 0.2372 - acc: 0.915 - ETA: 1:05 - loss: 0.2370 - acc: 0.916 - ETA: 1:03 - loss: 0.2369 - acc: 0.915 - ETA: 1:01 - loss: 0.2364 - acc: 0.915 - ETA: 1:00 - loss: 0.2368 - acc: 0.915 - ETA: 58s - loss: 0.2373 - acc: 0.915 - ETA: 56s - loss: 0.2370 - acc: 0.91 - ETA: 55s - loss: 0.2381 - acc: 0.91 - ETA: 53s - loss: 0.2376 - acc: 0.91 - ETA: 51s - loss: 0.2381 - acc: 0.91 - ETA: 50s - loss: 0.2386 - acc: 0.91 - ETA: 48s - loss: 0.2393 - acc: 0.91 - ETA: 46s - loss: 0.2393 - acc: 0.91 - ETA: 45s - loss: 0.2406 - acc: 0.91 - ETA: 43s - loss: 0.2407 - acc: 0.91 - ETA: 41s - loss: 0.2405 - acc: 0.91 - ETA: 40s - loss: 0.2409 - acc: 0.91 - ETA: 38s - loss: 0.2405 - acc: 0.91 - ETA: 36s - loss: 0.2409 - acc: 0.91 - ETA: 35s - loss: 0.2405 - acc: 0.91 - ETA: 33s - loss: 0.2412 - acc: 0.91 - ETA: 31s - loss: 0.2415 - acc: 0.91 - ETA: 30s - loss: 0.2419 - acc: 0.91 - ETA: 28s - loss: 0.2416 - acc: 0.91 - ETA: 26s - loss: 0.2410 - acc: 0.91 - ETA: 24s - loss: 0.2411 - acc: 0.91 - ETA: 23s - loss: 0.2422 - acc: 0.91 - ETA: 21s - loss: 0.2426 - acc: 0.91 - ETA: 19s - loss: 0.2425 - acc: 0.91 - ETA: 18s - loss: 0.2418 - acc: 0.91 - ETA: 16s - loss: 0.2409 - acc: 0.91 - ETA: 14s - loss: 0.2414 - acc: 0.91 - ETA: 12s - loss: 0.2418 - acc: 0.91 - ETA: 11s - loss: 0.2425 - acc: 0.91 - ETA: 9s - loss: 0.2431 - acc: 0.9137 - ETA: 7s - loss: 0.2436 - acc: 0.913 - ETA: 6s - loss: 0.2433 - acc: 0.913 - ETA: 4s - loss: 0.2429 - acc: 0.913 - ETA: 2s - loss: 0.2427 - acc: 0.913 - ETA: 0s - loss: 0.2431 - acc: 0.913 - 310s 28ms/step - loss: 0.2441 - acc: 0.9128 - val_loss: 0.2565 - val_acc: 0.9011\n",
      "Epoch 5/5\n"
     ]
    },
    {
     "name": "stdout",
     "output_type": "stream",
     "text": [
      "10979/10979 [==============================] - ETA: 4:54 - loss: 0.1596 - acc: 0.953 - ETA: 5:01 - loss: 0.1794 - acc: 0.960 - ETA: 5:01 - loss: 0.1862 - acc: 0.953 - ETA: 4:59 - loss: 0.2039 - acc: 0.941 - ETA: 4:49 - loss: 0.1893 - acc: 0.943 - ETA: 4:49 - loss: 0.1824 - acc: 0.945 - ETA: 4:54 - loss: 0.1994 - acc: 0.939 - ETA: 4:49 - loss: 0.2090 - acc: 0.931 - ETA: 4:50 - loss: 0.2123 - acc: 0.930 - ETA: 4:47 - loss: 0.2173 - acc: 0.928 - ETA: 4:45 - loss: 0.2092 - acc: 0.933 - ETA: 4:42 - loss: 0.2152 - acc: 0.932 - ETA: 4:40 - loss: 0.2094 - acc: 0.933 - ETA: 4:39 - loss: 0.2103 - acc: 0.934 - ETA: 4:38 - loss: 0.2010 - acc: 0.937 - ETA: 4:36 - loss: 0.2010 - acc: 0.937 - ETA: 4:33 - loss: 0.2009 - acc: 0.934 - ETA: 4:32 - loss: 0.2025 - acc: 0.932 - ETA: 4:29 - loss: 0.1995 - acc: 0.932 - ETA: 4:27 - loss: 0.2036 - acc: 0.928 - ETA: 4:26 - loss: 0.2041 - acc: 0.926 - ETA: 4:23 - loss: 0.1991 - acc: 0.929 - ETA: 4:22 - loss: 0.1987 - acc: 0.928 - ETA: 4:22 - loss: 0.1988 - acc: 0.927 - ETA: 4:19 - loss: 0.1975 - acc: 0.927 - ETA: 4:17 - loss: 0.2009 - acc: 0.926 - ETA: 4:15 - loss: 0.2016 - acc: 0.925 - ETA: 4:13 - loss: 0.1998 - acc: 0.926 - ETA: 4:12 - loss: 0.1987 - acc: 0.926 - ETA: 4:09 - loss: 0.1973 - acc: 0.926 - ETA: 4:07 - loss: 0.1945 - acc: 0.927 - ETA: 4:06 - loss: 0.1920 - acc: 0.927 - ETA: 4:03 - loss: 0.1947 - acc: 0.926 - ETA: 4:01 - loss: 0.1964 - acc: 0.926 - ETA: 3:59 - loss: 0.1947 - acc: 0.926 - ETA: 3:56 - loss: 0.1949 - acc: 0.926 - ETA: 3:54 - loss: 0.1918 - acc: 0.927 - ETA: 3:52 - loss: 0.1893 - acc: 0.929 - ETA: 3:51 - loss: 0.1895 - acc: 0.929 - ETA: 3:49 - loss: 0.1929 - acc: 0.928 - ETA: 3:47 - loss: 0.1960 - acc: 0.927 - ETA: 3:45 - loss: 0.2012 - acc: 0.926 - ETA: 3:43 - loss: 0.1983 - acc: 0.927 - ETA: 3:41 - loss: 0.1978 - acc: 0.927 - ETA: 3:39 - loss: 0.1974 - acc: 0.928 - ETA: 3:37 - loss: 0.1978 - acc: 0.929 - ETA: 3:35 - loss: 0.1964 - acc: 0.929 - ETA: 3:33 - loss: 0.1954 - acc: 0.930 - ETA: 3:31 - loss: 0.1979 - acc: 0.928 - ETA: 3:29 - loss: 0.1969 - acc: 0.929 - ETA: 3:27 - loss: 0.1958 - acc: 0.930 - ETA: 3:26 - loss: 0.1953 - acc: 0.930 - ETA: 3:24 - loss: 0.1953 - acc: 0.931 - ETA: 3:22 - loss: 0.1942 - acc: 0.932 - ETA: 3:20 - loss: 0.1939 - acc: 0.932 - ETA: 3:18 - loss: 0.1933 - acc: 0.932 - ETA: 3:16 - loss: 0.1915 - acc: 0.933 - ETA: 3:15 - loss: 0.1906 - acc: 0.934 - ETA: 3:13 - loss: 0.1918 - acc: 0.933 - ETA: 3:11 - loss: 0.1934 - acc: 0.933 - ETA: 3:09 - loss: 0.1942 - acc: 0.932 - ETA: 3:08 - loss: 0.1921 - acc: 0.933 - ETA: 3:06 - loss: 0.1941 - acc: 0.932 - ETA: 3:04 - loss: 0.1944 - acc: 0.932 - ETA: 3:02 - loss: 0.1942 - acc: 0.932 - ETA: 3:00 - loss: 0.1932 - acc: 0.932 - ETA: 2:59 - loss: 0.1951 - acc: 0.931 - ETA: 2:57 - loss: 0.1960 - acc: 0.930 - ETA: 2:55 - loss: 0.1971 - acc: 0.930 - ETA: 2:53 - loss: 0.1986 - acc: 0.929 - ETA: 2:52 - loss: 0.1970 - acc: 0.929 - ETA: 2:50 - loss: 0.1974 - acc: 0.929 - ETA: 2:48 - loss: 0.1997 - acc: 0.928 - ETA: 2:46 - loss: 0.1993 - acc: 0.928 - ETA: 2:44 - loss: 0.1990 - acc: 0.929 - ETA: 2:43 - loss: 0.1983 - acc: 0.929 - ETA: 2:41 - loss: 0.1978 - acc: 0.929 - ETA: 2:40 - loss: 0.1985 - acc: 0.929 - ETA: 2:38 - loss: 0.1973 - acc: 0.930 - ETA: 2:36 - loss: 0.1984 - acc: 0.929 - ETA: 2:35 - loss: 0.1993 - acc: 0.929 - ETA: 2:33 - loss: 0.1999 - acc: 0.929 - ETA: 2:31 - loss: 0.1994 - acc: 0.930 - ETA: 2:30 - loss: 0.1976 - acc: 0.930 - ETA: 2:28 - loss: 0.1978 - acc: 0.930 - ETA: 2:26 - loss: 0.1975 - acc: 0.930 - ETA: 2:24 - loss: 0.1982 - acc: 0.930 - ETA: 2:23 - loss: 0.1974 - acc: 0.930 - ETA: 2:21 - loss: 0.1970 - acc: 0.930 - ETA: 2:20 - loss: 0.1978 - acc: 0.929 - ETA: 2:18 - loss: 0.1990 - acc: 0.929 - ETA: 2:16 - loss: 0.1986 - acc: 0.929 - ETA: 2:15 - loss: 0.1989 - acc: 0.929 - ETA: 2:13 - loss: 0.1996 - acc: 0.929 - ETA: 2:11 - loss: 0.1990 - acc: 0.929 - ETA: 2:10 - loss: 0.1983 - acc: 0.930 - ETA: 2:08 - loss: 0.1995 - acc: 0.929 - ETA: 2:07 - loss: 0.1985 - acc: 0.929 - ETA: 2:05 - loss: 0.1980 - acc: 0.929 - ETA: 2:03 - loss: 0.1975 - acc: 0.930 - ETA: 2:02 - loss: 0.1986 - acc: 0.929 - ETA: 2:00 - loss: 0.1991 - acc: 0.929 - ETA: 1:58 - loss: 0.2004 - acc: 0.928 - ETA: 1:57 - loss: 0.1994 - acc: 0.929 - ETA: 1:55 - loss: 0.1992 - acc: 0.929 - ETA: 1:53 - loss: 0.1988 - acc: 0.929 - ETA: 1:52 - loss: 0.1993 - acc: 0.929 - ETA: 1:50 - loss: 0.1995 - acc: 0.929 - ETA: 1:48 - loss: 0.1999 - acc: 0.928 - ETA: 1:47 - loss: 0.1993 - acc: 0.929 - ETA: 1:45 - loss: 0.1998 - acc: 0.928 - ETA: 1:43 - loss: 0.2008 - acc: 0.928 - ETA: 1:41 - loss: 0.2010 - acc: 0.928 - ETA: 1:40 - loss: 0.2010 - acc: 0.928 - ETA: 1:38 - loss: 0.2009 - acc: 0.928 - ETA: 1:37 - loss: 0.2004 - acc: 0.928 - ETA: 1:35 - loss: 0.2006 - acc: 0.929 - ETA: 1:33 - loss: 0.2011 - acc: 0.929 - ETA: 1:32 - loss: 0.2017 - acc: 0.928 - ETA: 1:30 - loss: 0.2008 - acc: 0.929 - ETA: 1:28 - loss: 0.2007 - acc: 0.929 - ETA: 1:26 - loss: 0.2000 - acc: 0.929 - ETA: 1:25 - loss: 0.2000 - acc: 0.929 - ETA: 1:23 - loss: 0.1991 - acc: 0.929 - ETA: 1:21 - loss: 0.1987 - acc: 0.929 - ETA: 1:20 - loss: 0.1995 - acc: 0.929 - ETA: 1:18 - loss: 0.1994 - acc: 0.929 - ETA: 1:16 - loss: 0.1995 - acc: 0.929 - ETA: 1:14 - loss: 0.1996 - acc: 0.929 - ETA: 1:12 - loss: 0.2000 - acc: 0.929 - ETA: 1:11 - loss: 0.2006 - acc: 0.929 - ETA: 1:09 - loss: 0.2012 - acc: 0.929 - ETA: 1:07 - loss: 0.2015 - acc: 0.929 - ETA: 1:05 - loss: 0.2022 - acc: 0.928 - ETA: 1:04 - loss: 0.2040 - acc: 0.928 - ETA: 1:02 - loss: 0.2049 - acc: 0.928 - ETA: 1:00 - loss: 0.2050 - acc: 0.927 - ETA: 58s - loss: 0.2051 - acc: 0.927 - ETA: 57s - loss: 0.2044 - acc: 0.92 - ETA: 55s - loss: 0.2039 - acc: 0.92 - ETA: 53s - loss: 0.2033 - acc: 0.92 - ETA: 51s - loss: 0.2026 - acc: 0.92 - ETA: 50s - loss: 0.2019 - acc: 0.92 - ETA: 48s - loss: 0.2015 - acc: 0.92 - ETA: 46s - loss: 0.2015 - acc: 0.92 - ETA: 44s - loss: 0.2013 - acc: 0.92 - ETA: 43s - loss: 0.2012 - acc: 0.92 - ETA: 41s - loss: 0.2016 - acc: 0.92 - ETA: 39s - loss: 0.2017 - acc: 0.92 - ETA: 37s - loss: 0.2024 - acc: 0.92 - ETA: 36s - loss: 0.2026 - acc: 0.92 - ETA: 34s - loss: 0.2033 - acc: 0.92 - ETA: 32s - loss: 0.2025 - acc: 0.92 - ETA: 30s - loss: 0.2020 - acc: 0.92 - ETA: 29s - loss: 0.2022 - acc: 0.92 - ETA: 27s - loss: 0.2040 - acc: 0.92 - ETA: 25s - loss: 0.2039 - acc: 0.92 - ETA: 23s - loss: 0.2036 - acc: 0.92 - ETA: 22s - loss: 0.2040 - acc: 0.92 - ETA: 20s - loss: 0.2043 - acc: 0.92 - ETA: 18s - loss: 0.2034 - acc: 0.92 - ETA: 16s - loss: 0.2042 - acc: 0.92 - ETA: 15s - loss: 0.2039 - acc: 0.92 - ETA: 13s - loss: 0.2037 - acc: 0.92 - ETA: 11s - loss: 0.2047 - acc: 0.92 - ETA: 9s - loss: 0.2042 - acc: 0.9280 - ETA: 8s - loss: 0.2040 - acc: 0.928 - ETA: 6s - loss: 0.2045 - acc: 0.928 - ETA: 4s - loss: 0.2048 - acc: 0.927 - ETA: 2s - loss: 0.2043 - acc: 0.927 - ETA: 0s - loss: 0.2039 - acc: 0.928 - 319s 29ms/step - loss: 0.2036 - acc: 0.9281 - val_loss: 0.2299 - val_acc: 0.9179\n"
     ]
    }
   ],
   "source": [
    "batch_size=64\n",
    "epochs = 5\n",
    "history = model.fit(X_train, y_train, epochs=epochs, batch_size=batch_size,validation_split=0.33,\\\n",
    "                    callbacks=[EarlyStopping(monitor='val_loss', patience=3, min_delta=0.0001)])"
   ]
  },
  {
   "cell_type": "code",
   "execution_count": 49,
   "metadata": {},
   "outputs": [
    {
     "name": "stdout",
     "output_type": "stream",
     "text": [
      "8072/8072 [==============================] - ETA: 27 - ETA: 28 - ETA: 25 - ETA: 24 - ETA: 23 - ETA: 23 - ETA: 23 - ETA: 22 - ETA: 22 - ETA: 22 - ETA: 22 - ETA: 21 - ETA: 21 - ETA: 21 - ETA: 21 - ETA: 21 - ETA: 21 - ETA: 21 - ETA: 21 - ETA: 21 - ETA: 21 - ETA: 20 - ETA: 20 - ETA: 20 - ETA: 20 - ETA: 20 - ETA: 20 - ETA: 20 - ETA: 19 - ETA: 19 - ETA: 19 - ETA: 19 - ETA: 19 - ETA: 19 - ETA: 19 - ETA: 19 - ETA: 19 - ETA: 19 - ETA: 19 - ETA: 19 - ETA: 18 - ETA: 18 - ETA: 18 - ETA: 18 - ETA: 18 - ETA: 18 - ETA: 18 - ETA: 18 - ETA: 18 - ETA: 18 - ETA: 17 - ETA: 17 - ETA: 17 - ETA: 17 - ETA: 17 - ETA: 17 - ETA: 17 - ETA: 17 - ETA: 17 - ETA: 17 - ETA: 17 - ETA: 16 - ETA: 16 - ETA: 16 - ETA: 16 - ETA: 16 - ETA: 16 - ETA: 16 - ETA: 16 - ETA: 16 - ETA: 16 - ETA: 15 - ETA: 15 - ETA: 15 - ETA: 15 - ETA: 15 - ETA: 15 - ETA: 15 - ETA: 15 - ETA: 15 - ETA: 15 - ETA: 15 - ETA: 15 - ETA: 14 - ETA: 14 - ETA: 14 - ETA: 14 - ETA: 14 - ETA: 14 - ETA: 14 - ETA: 14 - ETA: 14 - ETA: 14 - ETA: 13 - ETA: 13 - ETA: 13 - ETA: 13 - ETA: 13 - ETA: 13 - ETA: 13 - ETA: 13 - ETA: 13 - ETA: 13 - ETA: 13 - ETA: 12 - ETA: 12 - ETA: 12 - ETA: 12 - ETA: 12 - ETA: 12 - ETA: 12 - ETA: 12 - ETA: 12 - ETA: 12 - ETA: 12 - ETA: 12 - ETA: 11 - ETA: 11 - ETA: 11 - ETA: 11 - ETA: 11 - ETA: 11 - ETA: 11 - ETA: 11 - ETA: 11 - ETA: 11 - ETA: 11 - ETA: 11 - ETA: 11 - ETA: 10 - ETA: 10 - ETA: 10 - ETA: 10 - ETA: 10 - ETA: 10 - ETA: 10 - ETA: 10 - ETA: 10 - ETA: 10 - ETA: 10 - ETA: 10 - ETA: 10 - ETA: 10 - ETA: 10 - ETA: 9 - ETA:  - ETA:  - ETA:  - ETA:  - ETA:  - ETA:  - ETA:  - ETA:  - ETA:  - ETA:  - ETA:  - ETA:  - ETA:  - ETA:  - ETA:  - ETA:  - ETA:  - ETA:  - ETA:  - ETA:  - ETA:  - ETA:  - ETA:  - ETA:  - ETA:  - ETA:  - ETA:  - ETA:  - ETA:  - ETA:  - ETA:  - ETA:  - ETA:  - ETA:  - ETA:  - ETA:  - ETA:  - ETA:  - ETA:  - ETA:  - ETA:  - ETA:  - ETA:  - ETA:  - ETA:  - ETA:  - ETA:  - ETA:  - ETA:  - ETA:  - ETA:  - ETA:  - ETA:  - ETA:  - ETA:  - ETA:  - ETA:  - ETA:  - ETA:  - ETA:  - ETA:  - ETA:  - ETA:  - ETA:  - ETA:  - ETA:  - ETA:  - ETA:  - ETA:  - ETA:  - ETA:  - ETA:  - ETA:  - ETA:  - ETA:  - ETA:  - ETA:  - ETA:  - ETA:  - ETA:  - ETA:  - ETA:  - ETA:  - ETA:  - ETA:  - ETA:  - ETA:  - ETA:  - ETA:  - ETA:  - ETA:  - ETA:  - ETA:  - ETA:  - ETA:  - ETA:  - ETA:  - ETA:  - ETA:  - ETA:  - ETA:  - ETA:  - ETA:  - ETA:  - ETA:  - ETA:  - ETA:  - 26s 3ms/step\n"
     ]
    },
    {
     "data": {
      "text/plain": [
       "[0.25054557839310676, 0.908201189296333]"
      ]
     },
     "execution_count": 49,
     "metadata": {},
     "output_type": "execute_result"
    }
   ],
   "source": [
    "accr = model.evaluate(X_test,y_test)\n",
    "accr"
   ]
  },
  {
   "cell_type": "code",
   "execution_count": 50,
   "metadata": {},
   "outputs": [],
   "source": [
    "#predicted = model.predict(X_test,batch_size=64)\n",
    "y_pred = model.predict(X_test)"
   ]
  },
  {
   "cell_type": "code",
   "execution_count": 51,
   "metadata": {},
   "outputs": [],
   "source": [
    "y_pred = pd.DataFrame(y_pred).apply(np.round)"
   ]
  },
  {
   "cell_type": "code",
   "execution_count": 52,
   "metadata": {},
   "outputs": [],
   "source": [
    "#s2 = dummies.idxmax(axis=1)\n",
    "y_test2 = y_test.idxmax(axis=1)"
   ]
  },
  {
   "cell_type": "code",
   "execution_count": 53,
   "metadata": {},
   "outputs": [],
   "source": [
    "y_pred.columns = ['High','Low','Mixed']"
   ]
  },
  {
   "cell_type": "code",
   "execution_count": 54,
   "metadata": {},
   "outputs": [],
   "source": [
    "y_pred2 = y_pred.idxmax(axis=1)"
   ]
  },
  {
   "cell_type": "code",
   "execution_count": 55,
   "metadata": {},
   "outputs": [
    {
     "name": "stdout",
     "output_type": "stream",
     "text": [
      "              precision    recall  f1-score   support\n",
      "\n",
      "        High       0.91      0.95      0.93      4090\n",
      "         Low       0.72      0.65      0.69       757\n",
      "       Mixed       0.95      0.91      0.93      3225\n",
      "\n",
      "    accuracy                           0.91      8072\n",
      "   macro avg       0.86      0.84      0.85      8072\n",
      "weighted avg       0.91      0.91      0.91      8072\n",
      "\n"
     ]
    }
   ],
   "source": [
    "genrate_classificatoin_report(y_test2,y_pred2)"
   ]
  },
  {
   "cell_type": "code",
   "execution_count": 56,
   "metadata": {},
   "outputs": [
    {
     "data": {
      "image/png": "[encoded data removed]",
      "text/plain": [
       "<Figure size 432x288 with 2 Axes>"
      ]
     },
     "metadata": {
      "needs_background": "light"
     },
     "output_type": "display_data"
    }
   ],
   "source": [
    "generate_confusion_matrix(y_test2,y_pred2)"
   ]
  },
  {
   "cell_type": "markdown",
   "metadata": {},
   "source": [
    "### Neural network with 2 bidirectional LSTM layers 1 dimentional convulutional layer and embedding layer"
   ]
  },
  {
   "cell_type": "code",
   "execution_count": 57,
   "metadata": {},
   "outputs": [
    {
     "name": "stdout",
     "output_type": "stream",
     "text": [
      "_________________________________________________________________\n",
      "Layer (type)                 Output Shape              Param #   \n",
      "=================================================================\n",
      "embedding_3 (Embedding)      (None, 350, 130)          260000    \n",
      "_________________________________________________________________\n",
      "conv1d_2 (Conv1D)            (None, 350, 32)           12512     \n",
      "_________________________________________________________________\n",
      "max_pooling1d_2 (MaxPooling1 (None, 175, 32)           0         \n",
      "_________________________________________________________________\n",
      "bidirectional_2 (Bidirection (None, 175, 200)          106400    \n",
      "_________________________________________________________________\n",
      "bidirectional_3 (Bidirection (None, 200)               240800    \n",
      "_________________________________________________________________\n",
      "dense_3 (Dense)              (None, 3)                 603       \n",
      "=================================================================\n",
      "Total params: 620,315\n",
      "Trainable params: 620,315\n",
      "Non-trainable params: 0\n",
      "_________________________________________________________________\n",
      "None\n"
     ]
    }
   ],
   "source": [
    "embed_size=130\n",
    "model = Sequential()\n",
    "model.add(Embedding(MAX_NB_WORDS,embed_size,input_length=X.shape[1]))\n",
    "model.add(Conv1D(filters=32, kernel_size=3, padding='same', activation='relu'))\n",
    "model.add(MaxPooling1D(pool_size=2))\n",
    "model.add(Bidirectional(LSTM(100,dropout=0.2,recurrent_dropout=0.2,return_sequences=True)))\n",
    "model.add(Bidirectional(LSTM(100,dropout=0.2,recurrent_dropout=0.2)))\n",
    "#model.add(GlobalMaxPool1D())\n",
    "model.add(Dense(3,activation='softmax'))\n",
    "model.compile(loss='categorical_crossentropy',optimizer='adam',metrics=['accuracy'])\n",
    "print(model.summary())"
   ]
  },
  {
   "cell_type": "code",
   "execution_count": 58,
   "metadata": {},
   "outputs": [
    {
     "name": "stdout",
     "output_type": "stream",
     "text": [
      "Train on 10979 samples, validate on 5409 samples\n",
      "Epoch 1/5\n",
      "10979/10979 [==============================] - ETA: 27:32 - loss: 1.1017 - acc: 0.20 - ETA: 19:08 - loss: 1.0935 - acc: 0.36 - ETA: 16:37 - loss: 1.0811 - acc: 0.43 - ETA: 15:09 - loss: 1.0675 - acc: 0.48 - ETA: 14:19 - loss: 1.0508 - acc: 0.50 - ETA: 13:48 - loss: 1.0447 - acc: 0.50 - ETA: 13:18 - loss: 1.0269 - acc: 0.50 - ETA: 12:57 - loss: 1.0146 - acc: 0.51 - ETA: 12:42 - loss: 1.0214 - acc: 0.50 - ETA: 12:33 - loss: 1.0164 - acc: 0.50 - ETA: 12:22 - loss: 0.9963 - acc: 0.51 - ETA: 12:13 - loss: 0.9912 - acc: 0.51 - ETA: 12:06 - loss: 0.9818 - acc: 0.51 - ETA: 11:57 - loss: 0.9860 - acc: 0.52 - ETA: 11:50 - loss: 0.9838 - acc: 0.52 - ETA: 11:43 - loss: 0.9800 - acc: 0.51 - ETA: 11:39 - loss: 0.9780 - acc: 0.51 - ETA: 11:32 - loss: 0.9773 - acc: 0.51 - ETA: 11:28 - loss: 0.9722 - acc: 0.51 - ETA: 11:22 - loss: 0.9695 - acc: 0.51 - ETA: 11:17 - loss: 0.9668 - acc: 0.52 - ETA: 11:11 - loss: 0.9648 - acc: 0.52 - ETA: 11:05 - loss: 0.9672 - acc: 0.52 - ETA: 11:00 - loss: 0.9665 - acc: 0.52 - ETA: 10:54 - loss: 0.9619 - acc: 0.52 - ETA: 10:49 - loss: 0.9584 - acc: 0.52 - ETA: 10:44 - loss: 0.9535 - acc: 0.52 - ETA: 10:39 - loss: 0.9527 - acc: 0.52 - ETA: 10:34 - loss: 0.9518 - acc: 0.52 - ETA: 10:28 - loss: 0.9494 - acc: 0.52 - ETA: 10:24 - loss: 0.9528 - acc: 0.52 - ETA: 10:19 - loss: 0.9468 - acc: 0.52 - ETA: 10:14 - loss: 0.9453 - acc: 0.52 - ETA: 10:09 - loss: 0.9428 - acc: 0.52 - ETA: 10:04 - loss: 0.9407 - acc: 0.52 - ETA: 9:59 - loss: 0.9383 - acc: 0.5286 - ETA: 9:55 - loss: 0.9357 - acc: 0.533 - ETA: 9:50 - loss: 0.9306 - acc: 0.538 - ETA: 9:46 - loss: 0.9276 - acc: 0.540 - ETA: 9:41 - loss: 0.9232 - acc: 0.543 - ETA: 9:36 - loss: 0.9190 - acc: 0.545 - ETA: 9:31 - loss: 0.9094 - acc: 0.550 - ETA: 9:27 - loss: 0.9082 - acc: 0.553 - ETA: 9:22 - loss: 0.9151 - acc: 0.552 - ETA: 9:17 - loss: 0.9108 - acc: 0.557 - ETA: 9:12 - loss: 0.9064 - acc: 0.559 - ETA: 9:09 - loss: 0.9035 - acc: 0.560 - ETA: 9:05 - loss: 0.8985 - acc: 0.564 - ETA: 9:00 - loss: 0.8950 - acc: 0.567 - ETA: 8:56 - loss: 0.8906 - acc: 0.570 - ETA: 8:52 - loss: 0.8886 - acc: 0.572 - ETA: 8:47 - loss: 0.8869 - acc: 0.574 - ETA: 8:42 - loss: 0.8829 - acc: 0.577 - ETA: 8:41 - loss: 0.8797 - acc: 0.580 - ETA: 8:38 - loss: 0.8757 - acc: 0.581 - ETA: 8:34 - loss: 0.8724 - acc: 0.584 - ETA: 8:29 - loss: 0.8676 - acc: 0.587 - ETA: 8:25 - loss: 0.8635 - acc: 0.590 - ETA: 8:20 - loss: 0.8616 - acc: 0.590 - ETA: 8:15 - loss: 0.8575 - acc: 0.592 - ETA: 8:10 - loss: 0.8519 - acc: 0.596 - ETA: 8:06 - loss: 0.8492 - acc: 0.597 - ETA: 8:01 - loss: 0.8440 - acc: 0.600 - ETA: 7:56 - loss: 0.8404 - acc: 0.602 - ETA: 7:52 - loss: 0.8349 - acc: 0.605 - ETA: 7:47 - loss: 0.8314 - acc: 0.607 - ETA: 7:43 - loss: 0.8303 - acc: 0.608 - ETA: 7:38 - loss: 0.8253 - acc: 0.611 - ETA: 7:34 - loss: 0.8226 - acc: 0.612 - ETA: 7:29 - loss: 0.8187 - acc: 0.615 - ETA: 7:25 - loss: 0.8156 - acc: 0.617 - ETA: 7:20 - loss: 0.8109 - acc: 0.620 - ETA: 7:16 - loss: 0.8080 - acc: 0.622 - ETA: 7:12 - loss: 0.8054 - acc: 0.623 - ETA: 7:07 - loss: 0.8036 - acc: 0.625 - ETA: 7:03 - loss: 0.8034 - acc: 0.625 - ETA: 6:58 - loss: 0.7995 - acc: 0.628 - ETA: 6:53 - loss: 0.7952 - acc: 0.631 - ETA: 6:49 - loss: 0.7949 - acc: 0.631 - ETA: 6:44 - loss: 0.7980 - acc: 0.631 - ETA: 6:40 - loss: 0.7965 - acc: 0.633 - ETA: 6:35 - loss: 0.7950 - acc: 0.634 - ETA: 6:31 - loss: 0.7918 - acc: 0.636 - ETA: 6:26 - loss: 0.7896 - acc: 0.638 - ETA: 6:22 - loss: 0.7870 - acc: 0.639 - ETA: 6:17 - loss: 0.7841 - acc: 0.641 - ETA: 6:13 - loss: 0.7824 - acc: 0.642 - ETA: 6:08 - loss: 0.7772 - acc: 0.645 - ETA: 6:03 - loss: 0.7739 - acc: 0.647 - ETA: 5:59 - loss: 0.7697 - acc: 0.649 - ETA: 5:54 - loss: 0.7665 - acc: 0.651 - ETA: 5:50 - loss: 0.7622 - acc: 0.653 - ETA: 5:46 - loss: 0.7592 - acc: 0.654 - ETA: 5:41 - loss: 0.7577 - acc: 0.655 - ETA: 5:37 - loss: 0.7569 - acc: 0.656 - ETA: 5:32 - loss: 0.7535 - acc: 0.658 - ETA: 5:28 - loss: 0.7510 - acc: 0.659 - ETA: 5:23 - loss: 0.7486 - acc: 0.661 - ETA: 5:19 - loss: 0.7451 - acc: 0.663 - ETA: 5:14 - loss: 0.7444 - acc: 0.663 - ETA: 5:10 - loss: 0.7430 - acc: 0.665 - ETA: 5:06 - loss: 0.7417 - acc: 0.666 - ETA: 5:01 - loss: 0.7403 - acc: 0.666 - ETA: 4:57 - loss: 0.7408 - acc: 0.666 - ETA: 4:53 - loss: 0.7380 - acc: 0.668 - ETA: 4:48 - loss: 0.7357 - acc: 0.669 - ETA: 4:44 - loss: 0.7337 - acc: 0.670 - ETA: 4:39 - loss: 0.7306 - acc: 0.672 - ETA: 4:35 - loss: 0.7297 - acc: 0.673 - ETA: 4:30 - loss: 0.7283 - acc: 0.674 - ETA: 4:26 - loss: 0.7264 - acc: 0.675 - ETA: 4:22 - loss: 0.7238 - acc: 0.677 - ETA: 4:17 - loss: 0.7220 - acc: 0.678 - ETA: 4:13 - loss: 0.7205 - acc: 0.678 - ETA: 4:08 - loss: 0.7186 - acc: 0.679 - ETA: 4:04 - loss: 0.7162 - acc: 0.681 - ETA: 3:59 - loss: 0.7147 - acc: 0.682 - ETA: 3:55 - loss: 0.7123 - acc: 0.683 - ETA: 3:51 - loss: 0.7098 - acc: 0.684 - ETA: 3:46 - loss: 0.7092 - acc: 0.685 - ETA: 3:42 - loss: 0.7077 - acc: 0.686 - ETA: 3:37 - loss: 0.7059 - acc: 0.687 - ETA: 3:33 - loss: 0.7036 - acc: 0.688 - ETA: 3:28 - loss: 0.7020 - acc: 0.689 - ETA: 3:24 - loss: 0.6999 - acc: 0.690 - ETA: 3:20 - loss: 0.6985 - acc: 0.691 - ETA: 3:15 - loss: 0.6972 - acc: 0.692 - ETA: 3:11 - loss: 0.6959 - acc: 0.692 - ETA: 3:06 - loss: 0.6933 - acc: 0.693 - ETA: 3:02 - loss: 0.6909 - acc: 0.695 - ETA: 2:58 - loss: 0.6914 - acc: 0.695 - ETA: 2:53 - loss: 0.6899 - acc: 0.696 - ETA: 2:49 - loss: 0.6877 - acc: 0.697 - ETA: 2:44 - loss: 0.6855 - acc: 0.698 - ETA: 2:40 - loss: 0.6839 - acc: 0.699 - ETA: 2:35 - loss: 0.6825 - acc: 0.700 - ETA: 2:31 - loss: 0.6803 - acc: 0.701 - ETA: 2:27 - loss: 0.6796 - acc: 0.702 - ETA: 2:22 - loss: 0.6786 - acc: 0.702 - ETA: 2:18 - loss: 0.6761 - acc: 0.703 - ETA: 2:14 - loss: 0.6748 - acc: 0.704 - ETA: 2:09 - loss: 0.6743 - acc: 0.704 - ETA: 2:05 - loss: 0.6732 - acc: 0.705 - ETA: 2:00 - loss: 0.6708 - acc: 0.706 - ETA: 1:56 - loss: 0.6695 - acc: 0.707 - ETA: 1:52 - loss: 0.6673 - acc: 0.708 - ETA: 1:47 - loss: 0.6658 - acc: 0.709 - ETA: 1:43 - loss: 0.6649 - acc: 0.709 - ETA: 1:38 - loss: 0.6635 - acc: 0.710 - ETA: 1:34 - loss: 0.6620 - acc: 0.711 - ETA: 1:30 - loss: 0.6611 - acc: 0.711 - ETA: 1:25 - loss: 0.6589 - acc: 0.712 - ETA: 1:21 - loss: 0.6579 - acc: 0.713 - ETA: 1:16 - loss: 0.6553 - acc: 0.714 - ETA: 1:12 - loss: 0.6548 - acc: 0.715 - ETA: 1:08 - loss: 0.6530 - acc: 0.716 - ETA: 1:03 - loss: 0.6519 - acc: 0.717 - ETA: 59s - loss: 0.6500 - acc: 0.718 - ETA: 54s - loss: 0.6482 - acc: 0.71 - ETA: 50s - loss: 0.6468 - acc: 0.71 - ETA: 46s - loss: 0.6461 - acc: 0.71 - ETA: 41s - loss: 0.6453 - acc: 0.72 - ETA: 37s - loss: 0.6431 - acc: 0.72 - ETA: 33s - loss: 0.6411 - acc: 0.72 - ETA: 28s - loss: 0.6400 - acc: 0.72 - ETA: 24s - loss: 0.6383 - acc: 0.72 - ETA: 19s - loss: 0.6370 - acc: 0.72 - ETA: 15s - loss: 0.6357 - acc: 0.72 - ETA: 11s - loss: 0.6333 - acc: 0.72 - ETA: 6s - loss: 0.6315 - acc: 0.7278 - ETA: 2s - loss: 0.6297 - acc: 0.728 - 796s 72ms/step - loss: 0.6291 - acc: 0.7290 - val_loss: 0.3187 - val_acc: 0.8828\n",
      "Epoch 2/5\n",
      "10979/10979 [==============================] - ETA: 12:15 - loss: 0.1704 - acc: 0.96 - ETA: 12:08 - loss: 0.2874 - acc: 0.92 - ETA: 12:01 - loss: 0.3137 - acc: 0.89 - ETA: 11:59 - loss: 0.3101 - acc: 0.90 - ETA: 11:53 - loss: 0.3077 - acc: 0.89 - ETA: 11:52 - loss: 0.3273 - acc: 0.87 - ETA: 11:48 - loss: 0.3067 - acc: 0.88 - ETA: 11:44 - loss: 0.3081 - acc: 0.88 - ETA: 11:41 - loss: 0.2985 - acc: 0.89 - ETA: 11:38 - loss: 0.2925 - acc: 0.89 - ETA: 11:32 - loss: 0.2905 - acc: 0.89 - ETA: 11:26 - loss: 0.2917 - acc: 0.89 - ETA: 11:23 - loss: 0.2826 - acc: 0.89 - ETA: 11:18 - loss: 0.2869 - acc: 0.89 - ETA: 11:19 - loss: 0.2853 - acc: 0.89 - ETA: 11:15 - loss: 0.2902 - acc: 0.89 - ETA: 11:10 - loss: 0.2807 - acc: 0.89 - ETA: 11:06 - loss: 0.2709 - acc: 0.90 - ETA: 11:01 - loss: 0.2785 - acc: 0.90 - ETA: 10:55 - loss: 0.2819 - acc: 0.90 - ETA: 10:51 - loss: 0.2841 - acc: 0.90 - ETA: 10:47 - loss: 0.2848 - acc: 0.90 - ETA: 10:42 - loss: 0.2849 - acc: 0.90 - ETA: 10:37 - loss: 0.2810 - acc: 0.90 - ETA: 10:32 - loss: 0.2842 - acc: 0.90 - ETA: 10:29 - loss: 0.2862 - acc: 0.89 - ETA: 10:24 - loss: 0.2857 - acc: 0.89 - ETA: 10:19 - loss: 0.2852 - acc: 0.89 - ETA: 10:16 - loss: 0.2842 - acc: 0.89 - ETA: 10:12 - loss: 0.2823 - acc: 0.89 - ETA: 10:08 - loss: 0.2885 - acc: 0.89 - ETA: 10:03 - loss: 0.2880 - acc: 0.89 - ETA: 9:58 - loss: 0.2881 - acc: 0.8944 - ETA: 9:54 - loss: 0.2871 - acc: 0.894 - ETA: 9:50 - loss: 0.2879 - acc: 0.894 - ETA: 9:49 - loss: 0.2854 - acc: 0.895 - ETA: 9:45 - loss: 0.2921 - acc: 0.893 - ETA: 9:41 - loss: 0.2915 - acc: 0.893 - ETA: 9:38 - loss: 0.2953 - acc: 0.893 - ETA: 9:34 - loss: 0.2952 - acc: 0.893 - ETA: 9:29 - loss: 0.2932 - acc: 0.893 - ETA: 9:25 - loss: 0.2920 - acc: 0.894 - ETA: 9:21 - loss: 0.2896 - acc: 0.895 - ETA: 9:16 - loss: 0.2901 - acc: 0.895 - ETA: 9:12 - loss: 0.2909 - acc: 0.895 - ETA: 9:07 - loss: 0.2932 - acc: 0.894 - ETA: 9:03 - loss: 0.2928 - acc: 0.894 - ETA: 8:59 - loss: 0.2928 - acc: 0.894 - ETA: 8:54 - loss: 0.2936 - acc: 0.893 - ETA: 8:50 - loss: 0.2940 - acc: 0.893 - ETA: 8:45 - loss: 0.2929 - acc: 0.894 - ETA: 8:41 - loss: 0.2922 - acc: 0.895 - ETA: 8:36 - loss: 0.2908 - acc: 0.896 - ETA: 8:32 - loss: 0.2893 - acc: 0.897 - ETA: 8:27 - loss: 0.2928 - acc: 0.896 - ETA: 8:23 - loss: 0.2913 - acc: 0.896 - ETA: 8:18 - loss: 0.2896 - acc: 0.897 - ETA: 8:14 - loss: 0.2928 - acc: 0.896 - ETA: 8:10 - loss: 0.2914 - acc: 0.896 - ETA: 8:05 - loss: 0.2940 - acc: 0.895 - ETA: 8:01 - loss: 0.2951 - acc: 0.895 - ETA: 7:56 - loss: 0.2953 - acc: 0.895 - ETA: 7:52 - loss: 0.2973 - acc: 0.893 - ETA: 7:47 - loss: 0.2969 - acc: 0.893 - ETA: 7:43 - loss: 0.2954 - acc: 0.894 - ETA: 7:38 - loss: 0.2980 - acc: 0.892 - ETA: 7:34 - loss: 0.2947 - acc: 0.893 - ETA: 7:29 - loss: 0.2990 - acc: 0.891 - ETA: 7:25 - loss: 0.2978 - acc: 0.892 - ETA: 7:20 - loss: 0.2953 - acc: 0.893 - ETA: 7:16 - loss: 0.2955 - acc: 0.893 - ETA: 7:12 - loss: 0.2981 - acc: 0.892 - ETA: 7:07 - loss: 0.2968 - acc: 0.893 - ETA: 7:03 - loss: 0.2961 - acc: 0.892 - ETA: 6:59 - loss: 0.2933 - acc: 0.894 - ETA: 6:54 - loss: 0.2938 - acc: 0.894 - ETA: 6:50 - loss: 0.2920 - acc: 0.895 - ETA: 6:46 - loss: 0.2921 - acc: 0.894 - ETA: 6:42 - loss: 0.2921 - acc: 0.893 - ETA: 6:37 - loss: 0.2915 - acc: 0.894 - ETA: 6:33 - loss: 0.2903 - acc: 0.894 - ETA: 6:28 - loss: 0.2905 - acc: 0.894 - ETA: 6:24 - loss: 0.2912 - acc: 0.894 - ETA: 6:20 - loss: 0.2920 - acc: 0.894 - ETA: 6:15 - loss: 0.2920 - acc: 0.894 - ETA: 6:11 - loss: 0.2940 - acc: 0.894 - ETA: 6:07 - loss: 0.2920 - acc: 0.895 - ETA: 6:02 - loss: 0.2930 - acc: 0.895 - ETA: 5:58 - loss: 0.2950 - acc: 0.894 - ETA: 5:53 - loss: 0.2956 - acc: 0.894 - ETA: 5:49 - loss: 0.2948 - acc: 0.894 - ETA: 5:45 - loss: 0.2967 - acc: 0.893 - ETA: 5:40 - loss: 0.2957 - acc: 0.894 - ETA: 5:36 - loss: 0.2953 - acc: 0.894 - ETA: 5:31 - loss: 0.2952 - acc: 0.894 - ETA: 5:27 - loss: 0.2950 - acc: 0.895 - ETA: 5:23 - loss: 0.2951 - acc: 0.895 - ETA: 5:18 - loss: 0.2947 - acc: 0.895 - ETA: 5:14 - loss: 0.2954 - acc: 0.895 - ETA: 5:10 - loss: 0.2960 - acc: 0.895 - ETA: 5:05 - loss: 0.2964 - acc: 0.895 - ETA: 5:01 - loss: 0.2949 - acc: 0.895 - ETA: 4:57 - loss: 0.2942 - acc: 0.895 - ETA: 4:52 - loss: 0.2937 - acc: 0.895 - ETA: 4:48 - loss: 0.2926 - acc: 0.896 - ETA: 4:44 - loss: 0.2916 - acc: 0.896 - ETA: 4:40 - loss: 0.2907 - acc: 0.897 - ETA: 4:36 - loss: 0.2906 - acc: 0.897 - ETA: 4:31 - loss: 0.2901 - acc: 0.897 - ETA: 4:27 - loss: 0.2902 - acc: 0.897 - ETA: 4:23 - loss: 0.2899 - acc: 0.897 - ETA: 4:18 - loss: 0.2898 - acc: 0.896 - ETA: 4:14 - loss: 0.2893 - acc: 0.897 - ETA: 4:10 - loss: 0.2884 - acc: 0.897 - ETA: 4:05 - loss: 0.2884 - acc: 0.897 - ETA: 4:01 - loss: 0.2877 - acc: 0.897 - ETA: 3:57 - loss: 0.2873 - acc: 0.897 - ETA: 3:52 - loss: 0.2863 - acc: 0.898 - ETA: 3:48 - loss: 0.2860 - acc: 0.898 - ETA: 3:44 - loss: 0.2856 - acc: 0.898 - ETA: 3:40 - loss: 0.2855 - acc: 0.898 - ETA: 3:35 - loss: 0.2847 - acc: 0.898 - ETA: 3:31 - loss: 0.2848 - acc: 0.898 - ETA: 3:27 - loss: 0.2858 - acc: 0.898 - ETA: 3:22 - loss: 0.2879 - acc: 0.897 - ETA: 3:18 - loss: 0.2876 - acc: 0.897 - ETA: 3:13 - loss: 0.2889 - acc: 0.897 - ETA: 3:09 - loss: 0.2887 - acc: 0.897 - ETA: 3:04 - loss: 0.2887 - acc: 0.897 - ETA: 3:00 - loss: 0.2887 - acc: 0.897 - ETA: 2:56 - loss: 0.2885 - acc: 0.897 - ETA: 2:51 - loss: 0.2883 - acc: 0.897 - ETA: 2:47 - loss: 0.2880 - acc: 0.897 - ETA: 2:42 - loss: 0.2906 - acc: 0.896 - ETA: 2:38 - loss: 0.2911 - acc: 0.896 - ETA: 2:33 - loss: 0.2910 - acc: 0.896 - ETA: 2:29 - loss: 0.2926 - acc: 0.895 - ETA: 2:25 - loss: 0.2940 - acc: 0.895 - ETA: 2:20 - loss: 0.2941 - acc: 0.895 - ETA: 2:16 - loss: 0.2949 - acc: 0.895 - ETA: 2:12 - loss: 0.2944 - acc: 0.895 - ETA: 2:07 - loss: 0.2952 - acc: 0.894 - ETA: 2:03 - loss: 0.2964 - acc: 0.894 - ETA: 1:58 - loss: 0.2967 - acc: 0.894 - ETA: 1:54 - loss: 0.2967 - acc: 0.894 - ETA: 1:50 - loss: 0.2969 - acc: 0.893 - ETA: 1:45 - loss: 0.2970 - acc: 0.893 - ETA: 1:41 - loss: 0.2975 - acc: 0.893 - ETA: 1:37 - loss: 0.2978 - acc: 0.892 - ETA: 1:32 - loss: 0.2978 - acc: 0.892 - ETA: 1:28 - loss: 0.2979 - acc: 0.892 - ETA: 1:24 - loss: 0.2984 - acc: 0.892 - ETA: 1:19 - loss: 0.2985 - acc: 0.892 - ETA: 1:15 - loss: 0.2985 - acc: 0.892 - ETA: 1:11 - loss: 0.2981 - acc: 0.892 - ETA: 1:06 - loss: 0.2980 - acc: 0.892 - ETA: 1:02 - loss: 0.2983 - acc: 0.893 - ETA: 58s - loss: 0.2989 - acc: 0.892 - ETA: 53s - loss: 0.2980 - acc: 0.89 - ETA: 49s - loss: 0.2983 - acc: 0.89 - ETA: 45s - loss: 0.2980 - acc: 0.89 - ETA: 41s - loss: 0.2996 - acc: 0.89 - ETA: 36s - loss: 0.2997 - acc: 0.89 - ETA: 32s - loss: 0.3007 - acc: 0.89 - ETA: 28s - loss: 0.3008 - acc: 0.89 - ETA: 23s - loss: 0.3008 - acc: 0.89 - ETA: 19s - loss: 0.3000 - acc: 0.89 - ETA: 15s - loss: 0.3006 - acc: 0.89 - ETA: 10s - loss: 0.3005 - acc: 0.89 - ETA: 6s - loss: 0.3003 - acc: 0.8922 - ETA: 2s - loss: 0.3001 - acc: 0.892 - 779s 71ms/step - loss: 0.2996 - acc: 0.8925 - val_loss: 0.2842 - val_acc: 0.9007\n",
      "Epoch 3/5\n"
     ]
    },
    {
     "name": "stdout",
     "output_type": "stream",
     "text": [
      "10979/10979 [==============================] - ETA: 12:14 - loss: 0.3224 - acc: 0.85 - ETA: 11:42 - loss: 0.2279 - acc: 0.90 - ETA: 11:27 - loss: 0.2072 - acc: 0.92 - ETA: 11:20 - loss: 0.2135 - acc: 0.91 - ETA: 11:17 - loss: 0.2203 - acc: 0.91 - ETA: 11:15 - loss: 0.2083 - acc: 0.92 - ETA: 11:11 - loss: 0.2094 - acc: 0.92 - ETA: 11:07 - loss: 0.2120 - acc: 0.91 - ETA: 11:04 - loss: 0.2109 - acc: 0.92 - ETA: 11:01 - loss: 0.2072 - acc: 0.92 - ETA: 10:57 - loss: 0.1988 - acc: 0.92 - ETA: 10:51 - loss: 0.1969 - acc: 0.92 - ETA: 10:49 - loss: 0.1987 - acc: 0.92 - ETA: 10:47 - loss: 0.2079 - acc: 0.92 - ETA: 10:44 - loss: 0.2047 - acc: 0.92 - ETA: 10:40 - loss: 0.2058 - acc: 0.92 - ETA: 10:38 - loss: 0.2030 - acc: 0.92 - ETA: 10:32 - loss: 0.2106 - acc: 0.92 - ETA: 10:29 - loss: 0.2127 - acc: 0.92 - ETA: 10:25 - loss: 0.2087 - acc: 0.92 - ETA: 10:21 - loss: 0.2087 - acc: 0.92 - ETA: 10:16 - loss: 0.2130 - acc: 0.92 - ETA: 10:11 - loss: 0.2137 - acc: 0.92 - ETA: 10:06 - loss: 0.2115 - acc: 0.92 - ETA: 10:02 - loss: 0.2197 - acc: 0.92 - ETA: 9:57 - loss: 0.2154 - acc: 0.9237 - ETA: 9:53 - loss: 0.2109 - acc: 0.925 - ETA: 9:48 - loss: 0.2111 - acc: 0.924 - ETA: 9:44 - loss: 0.2099 - acc: 0.925 - ETA: 9:40 - loss: 0.2062 - acc: 0.927 - ETA: 9:35 - loss: 0.2043 - acc: 0.928 - ETA: 9:31 - loss: 0.2095 - acc: 0.926 - ETA: 9:26 - loss: 0.2140 - acc: 0.925 - ETA: 9:21 - loss: 0.2153 - acc: 0.924 - ETA: 9:17 - loss: 0.2136 - acc: 0.925 - ETA: 9:13 - loss: 0.2173 - acc: 0.924 - ETA: 9:09 - loss: 0.2180 - acc: 0.924 - ETA: 9:04 - loss: 0.2180 - acc: 0.924 - ETA: 9:00 - loss: 0.2186 - acc: 0.923 - ETA: 8:56 - loss: 0.2200 - acc: 0.923 - ETA: 8:52 - loss: 0.2185 - acc: 0.923 - ETA: 8:48 - loss: 0.2190 - acc: 0.923 - ETA: 8:44 - loss: 0.2169 - acc: 0.923 - ETA: 8:40 - loss: 0.2177 - acc: 0.923 - ETA: 8:36 - loss: 0.2182 - acc: 0.923 - ETA: 8:32 - loss: 0.2227 - acc: 0.922 - ETA: 8:28 - loss: 0.2235 - acc: 0.922 - ETA: 8:24 - loss: 0.2259 - acc: 0.921 - ETA: 8:20 - loss: 0.2257 - acc: 0.921 - ETA: 8:16 - loss: 0.2273 - acc: 0.920 - ETA: 8:12 - loss: 0.2251 - acc: 0.921 - ETA: 8:08 - loss: 0.2240 - acc: 0.921 - ETA: 8:04 - loss: 0.2257 - acc: 0.921 - ETA: 8:00 - loss: 0.2309 - acc: 0.919 - ETA: 7:56 - loss: 0.2344 - acc: 0.917 - ETA: 7:52 - loss: 0.2394 - acc: 0.915 - ETA: 7:47 - loss: 0.2454 - acc: 0.912 - ETA: 7:44 - loss: 0.2472 - acc: 0.911 - ETA: 7:40 - loss: 0.2499 - acc: 0.910 - ETA: 7:36 - loss: 0.2518 - acc: 0.909 - ETA: 7:32 - loss: 0.2517 - acc: 0.910 - ETA: 7:28 - loss: 0.2556 - acc: 0.907 - ETA: 7:24 - loss: 0.2590 - acc: 0.905 - ETA: 7:20 - loss: 0.2603 - acc: 0.904 - ETA: 7:16 - loss: 0.2629 - acc: 0.903 - ETA: 7:12 - loss: 0.2648 - acc: 0.903 - ETA: 7:08 - loss: 0.2650 - acc: 0.904 - ETA: 7:04 - loss: 0.2652 - acc: 0.904 - ETA: 7:00 - loss: 0.2650 - acc: 0.904 - ETA: 6:56 - loss: 0.2647 - acc: 0.904 - ETA: 6:51 - loss: 0.2645 - acc: 0.903 - ETA: 6:47 - loss: 0.2641 - acc: 0.904 - ETA: 6:43 - loss: 0.2638 - acc: 0.903 - ETA: 6:39 - loss: 0.2617 - acc: 0.904 - ETA: 6:35 - loss: 0.2619 - acc: 0.904 - ETA: 6:31 - loss: 0.2617 - acc: 0.904 - ETA: 6:27 - loss: 0.2625 - acc: 0.903 - ETA: 6:23 - loss: 0.2607 - acc: 0.904 - ETA: 6:19 - loss: 0.2593 - acc: 0.904 - ETA: 6:15 - loss: 0.2583 - acc: 0.904 - ETA: 6:11 - loss: 0.2600 - acc: 0.904 - ETA: 6:07 - loss: 0.2607 - acc: 0.904 - ETA: 6:03 - loss: 0.2601 - acc: 0.904 - ETA: 5:59 - loss: 0.2588 - acc: 0.904 - ETA: 5:54 - loss: 0.2573 - acc: 0.905 - ETA: 5:50 - loss: 0.2590 - acc: 0.905 - ETA: 5:46 - loss: 0.2582 - acc: 0.905 - ETA: 5:42 - loss: 0.2573 - acc: 0.905 - ETA: 5:38 - loss: 0.2555 - acc: 0.906 - ETA: 5:34 - loss: 0.2548 - acc: 0.906 - ETA: 5:30 - loss: 0.2546 - acc: 0.906 - ETA: 5:26 - loss: 0.2549 - acc: 0.906 - ETA: 5:21 - loss: 0.2539 - acc: 0.907 - ETA: 5:17 - loss: 0.2539 - acc: 0.907 - ETA: 5:13 - loss: 0.2523 - acc: 0.907 - ETA: 5:09 - loss: 0.2514 - acc: 0.908 - ETA: 5:05 - loss: 0.2513 - acc: 0.908 - ETA: 5:01 - loss: 0.2509 - acc: 0.908 - ETA: 4:57 - loss: 0.2508 - acc: 0.908 - ETA: 4:52 - loss: 0.2506 - acc: 0.908 - ETA: 4:48 - loss: 0.2508 - acc: 0.908 - ETA: 4:44 - loss: 0.2503 - acc: 0.909 - ETA: 4:40 - loss: 0.2497 - acc: 0.909 - ETA: 4:36 - loss: 0.2490 - acc: 0.909 - ETA: 4:32 - loss: 0.2489 - acc: 0.909 - ETA: 4:28 - loss: 0.2478 - acc: 0.909 - ETA: 4:24 - loss: 0.2470 - acc: 0.909 - ETA: 4:20 - loss: 0.2463 - acc: 0.909 - ETA: 4:16 - loss: 0.2450 - acc: 0.910 - ETA: 4:12 - loss: 0.2453 - acc: 0.910 - ETA: 4:08 - loss: 0.2450 - acc: 0.909 - ETA: 4:03 - loss: 0.2444 - acc: 0.910 - ETA: 3:59 - loss: 0.2436 - acc: 0.911 - ETA: 3:55 - loss: 0.2443 - acc: 0.910 - ETA: 3:51 - loss: 0.2428 - acc: 0.911 - ETA: 3:47 - loss: 0.2422 - acc: 0.911 - ETA: 3:43 - loss: 0.2422 - acc: 0.911 - ETA: 3:39 - loss: 0.2423 - acc: 0.911 - ETA: 3:35 - loss: 0.2418 - acc: 0.912 - ETA: 3:31 - loss: 0.2418 - acc: 0.912 - ETA: 3:27 - loss: 0.2418 - acc: 0.912 - ETA: 3:23 - loss: 0.2412 - acc: 0.912 - ETA: 3:18 - loss: 0.2412 - acc: 0.912 - ETA: 3:14 - loss: 0.2408 - acc: 0.912 - ETA: 3:10 - loss: 0.2406 - acc: 0.912 - ETA: 3:06 - loss: 0.2402 - acc: 0.912 - ETA: 3:02 - loss: 0.2397 - acc: 0.913 - ETA: 2:58 - loss: 0.2400 - acc: 0.913 - ETA: 2:54 - loss: 0.2398 - acc: 0.913 - ETA: 2:50 - loss: 0.2408 - acc: 0.912 - ETA: 2:46 - loss: 0.2413 - acc: 0.912 - ETA: 2:42 - loss: 0.2410 - acc: 0.912 - ETA: 2:37 - loss: 0.2409 - acc: 0.912 - ETA: 2:33 - loss: 0.2408 - acc: 0.912 - ETA: 2:29 - loss: 0.2404 - acc: 0.913 - ETA: 2:25 - loss: 0.2419 - acc: 0.912 - ETA: 2:21 - loss: 0.2415 - acc: 0.912 - ETA: 2:17 - loss: 0.2422 - acc: 0.912 - ETA: 2:13 - loss: 0.2414 - acc: 0.912 - ETA: 2:09 - loss: 0.2409 - acc: 0.912 - ETA: 2:05 - loss: 0.2407 - acc: 0.913 - ETA: 2:01 - loss: 0.2410 - acc: 0.912 - ETA: 1:56 - loss: 0.2412 - acc: 0.912 - ETA: 1:52 - loss: 0.2416 - acc: 0.912 - ETA: 1:48 - loss: 0.2420 - acc: 0.912 - ETA: 1:44 - loss: 0.2414 - acc: 0.912 - ETA: 1:40 - loss: 0.2411 - acc: 0.912 - ETA: 1:36 - loss: 0.2412 - acc: 0.912 - ETA: 1:32 - loss: 0.2413 - acc: 0.912 - ETA: 1:28 - loss: 0.2408 - acc: 0.912 - ETA: 1:24 - loss: 0.2402 - acc: 0.912 - ETA: 1:20 - loss: 0.2395 - acc: 0.913 - ETA: 1:16 - loss: 0.2402 - acc: 0.913 - ETA: 1:11 - loss: 0.2410 - acc: 0.912 - ETA: 1:07 - loss: 0.2410 - acc: 0.912 - ETA: 1:03 - loss: 0.2401 - acc: 0.913 - ETA: 59s - loss: 0.2399 - acc: 0.913 - ETA: 55s - loss: 0.2409 - acc: 0.91 - ETA: 51s - loss: 0.2406 - acc: 0.91 - ETA: 47s - loss: 0.2400 - acc: 0.91 - ETA: 43s - loss: 0.2404 - acc: 0.91 - ETA: 39s - loss: 0.2405 - acc: 0.91 - ETA: 35s - loss: 0.2410 - acc: 0.91 - ETA: 30s - loss: 0.2418 - acc: 0.91 - ETA: 26s - loss: 0.2422 - acc: 0.91 - ETA: 22s - loss: 0.2417 - acc: 0.91 - ETA: 18s - loss: 0.2417 - acc: 0.91 - ETA: 14s - loss: 0.2419 - acc: 0.91 - ETA: 10s - loss: 0.2415 - acc: 0.91 - ETA: 6s - loss: 0.2411 - acc: 0.9121 - ETA: 2s - loss: 0.2405 - acc: 0.912 - 745s 68ms/step - loss: 0.2408 - acc: 0.9121 - val_loss: 0.2267 - val_acc: 0.9172\n",
      "Epoch 4/5\n",
      "10979/10979 [==============================] - ETA: 11:28 - loss: 0.1381 - acc: 0.95 - ETA: 11:20 - loss: 0.2184 - acc: 0.92 - ETA: 11:21 - loss: 0.2116 - acc: 0.94 - ETA: 11:30 - loss: 0.2129 - acc: 0.92 - ETA: 11:41 - loss: 0.2001 - acc: 0.93 - ETA: 11:31 - loss: 0.2210 - acc: 0.92 - ETA: 11:32 - loss: 0.1974 - acc: 0.93 - ETA: 11:26 - loss: 0.1875 - acc: 0.93 - ETA: 11:22 - loss: 0.1917 - acc: 0.93 - ETA: 11:17 - loss: 0.1963 - acc: 0.93 - ETA: 11:11 - loss: 0.2020 - acc: 0.93 - ETA: 11:05 - loss: 0.2091 - acc: 0.93 - ETA: 11:00 - loss: 0.2013 - acc: 0.93 - ETA: 10:56 - loss: 0.2059 - acc: 0.92 - ETA: 10:51 - loss: 0.2039 - acc: 0.92 - ETA: 10:47 - loss: 0.2028 - acc: 0.92 - ETA: 10:42 - loss: 0.2005 - acc: 0.92 - ETA: 10:38 - loss: 0.1974 - acc: 0.92 - ETA: 10:36 - loss: 0.1948 - acc: 0.92 - ETA: 10:34 - loss: 0.2050 - acc: 0.92 - ETA: 10:31 - loss: 0.2126 - acc: 0.92 - ETA: 10:31 - loss: 0.2205 - acc: 0.91 - ETA: 10:28 - loss: 0.2289 - acc: 0.90 - ETA: 10:23 - loss: 0.2389 - acc: 0.90 - ETA: 10:19 - loss: 0.2465 - acc: 0.89 - ETA: 10:15 - loss: 0.2552 - acc: 0.89 - ETA: 10:16 - loss: 0.2610 - acc: 0.89 - ETA: 10:16 - loss: 0.2627 - acc: 0.89 - ETA: 10:14 - loss: 0.2635 - acc: 0.89 - ETA: 10:09 - loss: 0.2651 - acc: 0.89 - ETA: 10:04 - loss: 0.2647 - acc: 0.89 - ETA: 10:00 - loss: 0.2655 - acc: 0.89 - ETA: 9:55 - loss: 0.2672 - acc: 0.8968 - ETA: 9:53 - loss: 0.2636 - acc: 0.898 - ETA: 9:48 - loss: 0.2647 - acc: 0.897 - ETA: 9:43 - loss: 0.2660 - acc: 0.897 - ETA: 9:39 - loss: 0.2692 - acc: 0.895 - ETA: 9:34 - loss: 0.2765 - acc: 0.890 - ETA: 9:31 - loss: 0.2785 - acc: 0.889 - ETA: 9:29 - loss: 0.2822 - acc: 0.887 - ETA: 9:24 - loss: 0.2897 - acc: 0.882 - ETA: 9:21 - loss: 0.2899 - acc: 0.882 - ETA: 9:18 - loss: 0.2900 - acc: 0.881 - ETA: 9:13 - loss: 0.2952 - acc: 0.880 - ETA: 9:11 - loss: 0.2968 - acc: 0.879 - ETA: 9:06 - loss: 0.2977 - acc: 0.879 - ETA: 9:02 - loss: 0.2964 - acc: 0.880 - ETA: 8:57 - loss: 0.2960 - acc: 0.881 - ETA: 8:53 - loss: 0.2955 - acc: 0.881 - ETA: 8:48 - loss: 0.2956 - acc: 0.882 - ETA: 8:46 - loss: 0.2955 - acc: 0.882 - ETA: 8:42 - loss: 0.2973 - acc: 0.881 - ETA: 8:37 - loss: 0.2997 - acc: 0.881 - ETA: 8:34 - loss: 0.3004 - acc: 0.880 - ETA: 8:30 - loss: 0.2986 - acc: 0.881 - ETA: 8:25 - loss: 0.2972 - acc: 0.881 - ETA: 8:21 - loss: 0.2990 - acc: 0.881 - ETA: 8:17 - loss: 0.2995 - acc: 0.880 - ETA: 8:13 - loss: 0.2995 - acc: 0.880 - ETA: 8:08 - loss: 0.2999 - acc: 0.880 - ETA: 8:03 - loss: 0.2983 - acc: 0.881 - ETA: 7:58 - loss: 0.2999 - acc: 0.882 - ETA: 7:53 - loss: 0.2989 - acc: 0.881 - ETA: 7:49 - loss: 0.3010 - acc: 0.882 - ETA: 7:44 - loss: 0.2993 - acc: 0.882 - ETA: 7:39 - loss: 0.2967 - acc: 0.884 - ETA: 7:34 - loss: 0.2956 - acc: 0.885 - ETA: 7:29 - loss: 0.2940 - acc: 0.885 - ETA: 7:24 - loss: 0.2944 - acc: 0.885 - ETA: 7:20 - loss: 0.2938 - acc: 0.886 - ETA: 7:15 - loss: 0.2920 - acc: 0.887 - ETA: 7:10 - loss: 0.2913 - acc: 0.887 - ETA: 7:06 - loss: 0.2937 - acc: 0.886 - ETA: 7:01 - loss: 0.2917 - acc: 0.887 - ETA: 6:57 - loss: 0.2912 - acc: 0.887 - ETA: 6:52 - loss: 0.2890 - acc: 0.888 - ETA: 6:47 - loss: 0.2880 - acc: 0.889 - ETA: 6:43 - loss: 0.2864 - acc: 0.890 - ETA: 6:38 - loss: 0.2846 - acc: 0.891 - ETA: 6:33 - loss: 0.2830 - acc: 0.891 - ETA: 6:29 - loss: 0.2838 - acc: 0.891 - ETA: 6:24 - loss: 0.2818 - acc: 0.892 - ETA: 6:20 - loss: 0.2807 - acc: 0.892 - ETA: 6:15 - loss: 0.2791 - acc: 0.893 - ETA: 6:11 - loss: 0.2791 - acc: 0.892 - ETA: 6:06 - loss: 0.2788 - acc: 0.893 - ETA: 6:02 - loss: 0.2772 - acc: 0.894 - ETA: 5:58 - loss: 0.2765 - acc: 0.894 - ETA: 5:54 - loss: 0.2764 - acc: 0.894 - ETA: 5:49 - loss: 0.2749 - acc: 0.895 - ETA: 5:46 - loss: 0.2730 - acc: 0.895 - ETA: 5:41 - loss: 0.2738 - acc: 0.895 - ETA: 5:37 - loss: 0.2726 - acc: 0.896 - ETA: 5:34 - loss: 0.2726 - acc: 0.896 - ETA: 5:30 - loss: 0.2732 - acc: 0.896 - ETA: 5:26 - loss: 0.2722 - acc: 0.896 - ETA: 5:21 - loss: 0.2701 - acc: 0.897 - ETA: 5:18 - loss: 0.2691 - acc: 0.898 - ETA: 5:13 - loss: 0.2675 - acc: 0.898 - ETA: 5:08 - loss: 0.2667 - acc: 0.899 - ETA: 5:04 - loss: 0.2657 - acc: 0.899 - ETA: 4:59 - loss: 0.2642 - acc: 0.900 - ETA: 4:55 - loss: 0.2649 - acc: 0.899 - ETA: 4:51 - loss: 0.2642 - acc: 0.899 - ETA: 4:46 - loss: 0.2630 - acc: 0.899 - ETA: 4:42 - loss: 0.2630 - acc: 0.900 - ETA: 4:38 - loss: 0.2619 - acc: 0.900 - ETA: 4:33 - loss: 0.2616 - acc: 0.900 - ETA: 4:29 - loss: 0.2606 - acc: 0.900 - ETA: 4:24 - loss: 0.2589 - acc: 0.901 - ETA: 4:20 - loss: 0.2589 - acc: 0.901 - ETA: 4:16 - loss: 0.2585 - acc: 0.901 - ETA: 4:11 - loss: 0.2574 - acc: 0.901 - ETA: 4:07 - loss: 0.2584 - acc: 0.901 - ETA: 4:02 - loss: 0.2573 - acc: 0.902 - ETA: 3:58 - loss: 0.2576 - acc: 0.902 - ETA: 3:54 - loss: 0.2564 - acc: 0.902 - ETA: 3:49 - loss: 0.2565 - acc: 0.902 - ETA: 3:45 - loss: 0.2556 - acc: 0.903 - ETA: 3:41 - loss: 0.2556 - acc: 0.903 - ETA: 3:36 - loss: 0.2552 - acc: 0.903 - ETA: 3:32 - loss: 0.2561 - acc: 0.903 - ETA: 3:28 - loss: 0.2570 - acc: 0.902 - ETA: 3:23 - loss: 0.2570 - acc: 0.903 - ETA: 3:19 - loss: 0.2570 - acc: 0.903 - ETA: 3:15 - loss: 0.2560 - acc: 0.903 - ETA: 3:10 - loss: 0.2574 - acc: 0.903 - ETA: 3:06 - loss: 0.2564 - acc: 0.903 - ETA: 3:02 - loss: 0.2553 - acc: 0.904 - ETA: 2:57 - loss: 0.2547 - acc: 0.904 - ETA: 2:53 - loss: 0.2540 - acc: 0.904 - ETA: 2:49 - loss: 0.2537 - acc: 0.904 - ETA: 2:44 - loss: 0.2533 - acc: 0.904 - ETA: 2:40 - loss: 0.2523 - acc: 0.905 - ETA: 2:36 - loss: 0.2528 - acc: 0.905 - ETA: 2:31 - loss: 0.2514 - acc: 0.905 - ETA: 2:27 - loss: 0.2504 - acc: 0.906 - ETA: 2:23 - loss: 0.2500 - acc: 0.906 - ETA: 2:18 - loss: 0.2498 - acc: 0.906 - ETA: 2:14 - loss: 0.2496 - acc: 0.906 - ETA: 2:10 - loss: 0.2493 - acc: 0.906 - ETA: 2:06 - loss: 0.2489 - acc: 0.906 - ETA: 2:02 - loss: 0.2495 - acc: 0.906 - ETA: 1:58 - loss: 0.2493 - acc: 0.906 - ETA: 1:53 - loss: 0.2483 - acc: 0.907 - ETA: 1:49 - loss: 0.2477 - acc: 0.907 - ETA: 1:45 - loss: 0.2479 - acc: 0.907 - ETA: 1:41 - loss: 0.2471 - acc: 0.907 - ETA: 1:36 - loss: 0.2468 - acc: 0.908 - ETA: 1:32 - loss: 0.2470 - acc: 0.908 - ETA: 1:28 - loss: 0.2465 - acc: 0.908 - ETA: 1:23 - loss: 0.2455 - acc: 0.908 - ETA: 1:19 - loss: 0.2450 - acc: 0.908 - ETA: 1:15 - loss: 0.2444 - acc: 0.908 - ETA: 1:10 - loss: 0.2437 - acc: 0.909 - ETA: 1:06 - loss: 0.2430 - acc: 0.909 - ETA: 1:02 - loss: 0.2428 - acc: 0.909 - ETA: 58s - loss: 0.2428 - acc: 0.909 - ETA: 53s - loss: 0.2425 - acc: 0.90 - ETA: 49s - loss: 0.2416 - acc: 0.91 - ETA: 45s - loss: 0.2438 - acc: 0.90 - ETA: 40s - loss: 0.2434 - acc: 0.90 - ETA: 36s - loss: 0.2431 - acc: 0.90 - ETA: 32s - loss: 0.2430 - acc: 0.91 - ETA: 28s - loss: 0.2428 - acc: 0.91 - ETA: 23s - loss: 0.2429 - acc: 0.91 - ETA: 19s - loss: 0.2427 - acc: 0.91 - ETA: 15s - loss: 0.2423 - acc: 0.91 - ETA: 10s - loss: 0.2414 - acc: 0.91 - ETA: 6s - loss: 0.2410 - acc: 0.9108 - ETA: 2s - loss: 0.2409 - acc: 0.910 - 775s 71ms/step - loss: 0.2404 - acc: 0.9110 - val_loss: 0.2187 - val_acc: 0.9240\n",
      "Epoch 5/5\n"
     ]
    },
    {
     "name": "stdout",
     "output_type": "stream",
     "text": [
      "10979/10979 [==============================] - ETA: 12:17 - loss: 0.1219 - acc: 0.95 - ETA: 11:50 - loss: 0.1264 - acc: 0.95 - ETA: 11:47 - loss: 0.1701 - acc: 0.95 - ETA: 11:38 - loss: 0.1926 - acc: 0.94 - ETA: 11:29 - loss: 0.1656 - acc: 0.95 - ETA: 11:26 - loss: 0.1551 - acc: 0.95 - ETA: 11:21 - loss: 0.1476 - acc: 0.95 - ETA: 11:16 - loss: 0.1350 - acc: 0.96 - ETA: 11:12 - loss: 0.1340 - acc: 0.95 - ETA: 11:06 - loss: 0.1311 - acc: 0.95 - ETA: 11:06 - loss: 0.1279 - acc: 0.95 - ETA: 11:02 - loss: 0.1267 - acc: 0.95 - ETA: 10:56 - loss: 0.1364 - acc: 0.95 - ETA: 10:53 - loss: 0.1395 - acc: 0.95 - ETA: 10:49 - loss: 0.1332 - acc: 0.95 - ETA: 10:46 - loss: 0.1306 - acc: 0.95 - ETA: 10:40 - loss: 0.1335 - acc: 0.95 - ETA: 10:37 - loss: 0.1385 - acc: 0.95 - ETA: 10:33 - loss: 0.1453 - acc: 0.95 - ETA: 10:28 - loss: 0.1474 - acc: 0.95 - ETA: 10:23 - loss: 0.1469 - acc: 0.95 - ETA: 10:20 - loss: 0.1435 - acc: 0.95 - ETA: 10:15 - loss: 0.1391 - acc: 0.95 - ETA: 10:11 - loss: 0.1388 - acc: 0.95 - ETA: 10:07 - loss: 0.1348 - acc: 0.95 - ETA: 10:02 - loss: 0.1324 - acc: 0.95 - ETA: 9:58 - loss: 0.1294 - acc: 0.9589 - ETA: 9:54 - loss: 0.1309 - acc: 0.958 - ETA: 9:50 - loss: 0.1287 - acc: 0.959 - ETA: 9:46 - loss: 0.1309 - acc: 0.958 - ETA: 9:42 - loss: 0.1368 - acc: 0.955 - ETA: 9:40 - loss: 0.1357 - acc: 0.956 - ETA: 9:38 - loss: 0.1364 - acc: 0.955 - ETA: 9:34 - loss: 0.1347 - acc: 0.955 - ETA: 9:30 - loss: 0.1340 - acc: 0.955 - ETA: 9:25 - loss: 0.1327 - acc: 0.955 - ETA: 9:21 - loss: 0.1319 - acc: 0.955 - ETA: 9:19 - loss: 0.1321 - acc: 0.955 - ETA: 9:15 - loss: 0.1327 - acc: 0.954 - ETA: 9:12 - loss: 0.1319 - acc: 0.954 - ETA: 9:11 - loss: 0.1309 - acc: 0.954 - ETA: 9:08 - loss: 0.1314 - acc: 0.955 - ETA: 9:05 - loss: 0.1328 - acc: 0.954 - ETA: 9:01 - loss: 0.1359 - acc: 0.954 - ETA: 8:58 - loss: 0.1354 - acc: 0.954 - ETA: 8:53 - loss: 0.1342 - acc: 0.954 - ETA: 8:50 - loss: 0.1359 - acc: 0.953 - ETA: 8:49 - loss: 0.1366 - acc: 0.952 - ETA: 8:47 - loss: 0.1370 - acc: 0.952 - ETA: 8:43 - loss: 0.1367 - acc: 0.951 - ETA: 8:38 - loss: 0.1359 - acc: 0.951 - ETA: 8:34 - loss: 0.1358 - acc: 0.952 - ETA: 8:30 - loss: 0.1382 - acc: 0.951 - ETA: 8:26 - loss: 0.1397 - acc: 0.950 - ETA: 8:23 - loss: 0.1412 - acc: 0.950 - ETA: 8:19 - loss: 0.1417 - acc: 0.950 - ETA: 8:14 - loss: 0.1451 - acc: 0.949 - ETA: 8:12 - loss: 0.1450 - acc: 0.949 - ETA: 8:08 - loss: 0.1453 - acc: 0.949 - ETA: 8:04 - loss: 0.1448 - acc: 0.949 - ETA: 8:00 - loss: 0.1461 - acc: 0.949 - ETA: 7:56 - loss: 0.1463 - acc: 0.949 - ETA: 7:51 - loss: 0.1470 - acc: 0.949 - ETA: 7:48 - loss: 0.1474 - acc: 0.949 - ETA: 7:43 - loss: 0.1496 - acc: 0.948 - ETA: 7:39 - loss: 0.1500 - acc: 0.947 - ETA: 7:34 - loss: 0.1497 - acc: 0.947 - ETA: 7:29 - loss: 0.1499 - acc: 0.948 - ETA: 7:25 - loss: 0.1504 - acc: 0.947 - ETA: 7:20 - loss: 0.1511 - acc: 0.947 - ETA: 7:15 - loss: 0.1524 - acc: 0.947 - ETA: 7:11 - loss: 0.1519 - acc: 0.947 - ETA: 7:06 - loss: 0.1511 - acc: 0.947 - ETA: 7:01 - loss: 0.1514 - acc: 0.947 - ETA: 6:57 - loss: 0.1518 - acc: 0.947 - ETA: 6:52 - loss: 0.1520 - acc: 0.947 - ETA: 6:47 - loss: 0.1527 - acc: 0.946 - ETA: 6:43 - loss: 0.1535 - acc: 0.946 - ETA: 6:38 - loss: 0.1538 - acc: 0.946 - ETA: 6:34 - loss: 0.1541 - acc: 0.946 - ETA: 6:29 - loss: 0.1549 - acc: 0.945 - ETA: 6:25 - loss: 0.1543 - acc: 0.946 - ETA: 6:20 - loss: 0.1541 - acc: 0.946 - ETA: 6:16 - loss: 0.1563 - acc: 0.945 - ETA: 6:11 - loss: 0.1557 - acc: 0.945 - ETA: 6:07 - loss: 0.1563 - acc: 0.945 - ETA: 6:02 - loss: 0.1593 - acc: 0.944 - ETA: 5:58 - loss: 0.1596 - acc: 0.944 - ETA: 5:53 - loss: 0.1600 - acc: 0.944 - ETA: 5:49 - loss: 0.1595 - acc: 0.944 - ETA: 5:44 - loss: 0.1585 - acc: 0.944 - ETA: 5:40 - loss: 0.1577 - acc: 0.945 - ETA: 5:35 - loss: 0.1568 - acc: 0.945 - ETA: 5:31 - loss: 0.1559 - acc: 0.946 - ETA: 5:27 - loss: 0.1556 - acc: 0.945 - ETA: 5:22 - loss: 0.1548 - acc: 0.946 - ETA: 5:18 - loss: 0.1560 - acc: 0.945 - ETA: 5:14 - loss: 0.1551 - acc: 0.945 - ETA: 5:09 - loss: 0.1544 - acc: 0.946 - ETA: 5:05 - loss: 0.1540 - acc: 0.946 - ETA: 5:01 - loss: 0.1549 - acc: 0.946 - ETA: 4:57 - loss: 0.1551 - acc: 0.946 - ETA: 4:52 - loss: 0.1553 - acc: 0.946 - ETA: 4:48 - loss: 0.1567 - acc: 0.946 - ETA: 4:44 - loss: 0.1571 - acc: 0.946 - ETA: 4:40 - loss: 0.1564 - acc: 0.946 - ETA: 4:35 - loss: 0.1569 - acc: 0.946 - ETA: 4:31 - loss: 0.1572 - acc: 0.945 - ETA: 4:26 - loss: 0.1569 - acc: 0.945 - ETA: 4:22 - loss: 0.1565 - acc: 0.945 - ETA: 4:18 - loss: 0.1575 - acc: 0.945 - ETA: 4:13 - loss: 0.1598 - acc: 0.944 - ETA: 4:09 - loss: 0.1592 - acc: 0.945 - ETA: 4:04 - loss: 0.1589 - acc: 0.945 - ETA: 4:00 - loss: 0.1582 - acc: 0.945 - ETA: 3:56 - loss: 0.1575 - acc: 0.946 - ETA: 3:51 - loss: 0.1567 - acc: 0.946 - ETA: 3:47 - loss: 0.1582 - acc: 0.945 - ETA: 3:43 - loss: 0.1581 - acc: 0.945 - ETA: 3:38 - loss: 0.1571 - acc: 0.945 - ETA: 3:34 - loss: 0.1564 - acc: 0.946 - ETA: 3:30 - loss: 0.1572 - acc: 0.945 - ETA: 3:25 - loss: 0.1576 - acc: 0.945 - ETA: 3:21 - loss: 0.1581 - acc: 0.944 - ETA: 3:17 - loss: 0.1574 - acc: 0.945 - ETA: 3:12 - loss: 0.1585 - acc: 0.944 - ETA: 3:08 - loss: 0.1581 - acc: 0.944 - ETA: 3:04 - loss: 0.1581 - acc: 0.944 - ETA: 3:00 - loss: 0.1576 - acc: 0.945 - ETA: 2:55 - loss: 0.1570 - acc: 0.945 - ETA: 2:51 - loss: 0.1572 - acc: 0.945 - ETA: 2:47 - loss: 0.1569 - acc: 0.945 - ETA: 2:42 - loss: 0.1569 - acc: 0.945 - ETA: 2:38 - loss: 0.1568 - acc: 0.945 - ETA: 2:34 - loss: 0.1570 - acc: 0.945 - ETA: 2:30 - loss: 0.1566 - acc: 0.945 - ETA: 2:25 - loss: 0.1562 - acc: 0.945 - ETA: 2:21 - loss: 0.1563 - acc: 0.945 - ETA: 2:17 - loss: 0.1559 - acc: 0.945 - ETA: 2:13 - loss: 0.1553 - acc: 0.945 - ETA: 2:08 - loss: 0.1560 - acc: 0.945 - ETA: 2:04 - loss: 0.1576 - acc: 0.945 - ETA: 2:00 - loss: 0.1586 - acc: 0.945 - ETA: 1:56 - loss: 0.1589 - acc: 0.945 - ETA: 1:51 - loss: 0.1584 - acc: 0.945 - ETA: 1:47 - loss: 0.1594 - acc: 0.944 - ETA: 1:43 - loss: 0.1594 - acc: 0.944 - ETA: 1:39 - loss: 0.1588 - acc: 0.945 - ETA: 1:35 - loss: 0.1594 - acc: 0.944 - ETA: 1:30 - loss: 0.1591 - acc: 0.945 - ETA: 1:26 - loss: 0.1586 - acc: 0.945 - ETA: 1:22 - loss: 0.1585 - acc: 0.945 - ETA: 1:18 - loss: 0.1582 - acc: 0.945 - ETA: 1:14 - loss: 0.1583 - acc: 0.945 - ETA: 1:09 - loss: 0.1583 - acc: 0.945 - ETA: 1:05 - loss: 0.1576 - acc: 0.945 - ETA: 1:01 - loss: 0.1575 - acc: 0.945 - ETA: 57s - loss: 0.1573 - acc: 0.945 - ETA: 52s - loss: 0.1570 - acc: 0.94 - ETA: 48s - loss: 0.1568 - acc: 0.94 - ETA: 44s - loss: 0.1579 - acc: 0.94 - ETA: 40s - loss: 0.1586 - acc: 0.94 - ETA: 36s - loss: 0.1581 - acc: 0.94 - ETA: 31s - loss: 0.1578 - acc: 0.94 - ETA: 27s - loss: 0.1584 - acc: 0.94 - ETA: 23s - loss: 0.1586 - acc: 0.94 - ETA: 19s - loss: 0.1587 - acc: 0.94 - ETA: 14s - loss: 0.1590 - acc: 0.94 - ETA: 10s - loss: 0.1582 - acc: 0.94 - ETA: 6s - loss: 0.1584 - acc: 0.9449 - ETA: 2s - loss: 0.1587 - acc: 0.944 - 763s 70ms/step - loss: 0.1587 - acc: 0.9448 - val_loss: 0.2119 - val_acc: 0.9253\n"
     ]
    }
   ],
   "source": [
    "batch_size=64\n",
    "epochs = 5\n",
    "history = model.fit(X_train, y_train, epochs=epochs, batch_size=batch_size,validation_split=0.33,\\\n",
    "                    callbacks=[EarlyStopping(monitor='val_loss', patience=3, min_delta=0.0001)])"
   ]
  },
  {
   "cell_type": "code",
   "execution_count": 59,
   "metadata": {},
   "outputs": [
    {
     "name": "stdout",
     "output_type": "stream",
     "text": [
      "8072/8072 [==============================] - ETA: 55 - ETA: 55 - ETA: 59 - ETA: 59 - ETA: 1: - ETA: 59s - ETA: 58 - ETA: 58 - ETA: 58 - ETA: 1: - ETA: 1: - ETA: 1: - ETA: 1: - ETA: 1: - ETA: 1: - ETA: 1: - ETA: 1: - ETA: 1: - ETA: 1: - ETA: 59s - ETA: 59 - ETA: 58 - ETA: 57 - ETA: 57 - ETA: 56 - ETA: 56 - ETA: 55 - ETA: 55 - ETA: 54 - ETA: 54 - ETA: 53 - ETA: 53 - ETA: 53 - ETA: 52 - ETA: 52 - ETA: 52 - ETA: 51 - ETA: 51 - ETA: 51 - ETA: 51 - ETA: 50 - ETA: 50 - ETA: 50 - ETA: 49 - ETA: 49 - ETA: 49 - ETA: 49 - ETA: 49 - ETA: 49 - ETA: 48 - ETA: 48 - ETA: 48 - ETA: 48 - ETA: 47 - ETA: 47 - ETA: 47 - ETA: 47 - ETA: 46 - ETA: 46 - ETA: 46 - ETA: 45 - ETA: 45 - ETA: 45 - ETA: 45 - ETA: 45 - ETA: 45 - ETA: 44 - ETA: 44 - ETA: 44 - ETA: 44 - ETA: 44 - ETA: 44 - ETA: 43 - ETA: 43 - ETA: 43 - ETA: 42 - ETA: 42 - ETA: 42 - ETA: 41 - ETA: 41 - ETA: 41 - ETA: 41 - ETA: 40 - ETA: 40 - ETA: 40 - ETA: 40 - ETA: 39 - ETA: 39 - ETA: 39 - ETA: 38 - ETA: 38 - ETA: 38 - ETA: 38 - ETA: 37 - ETA: 37 - ETA: 37 - ETA: 37 - ETA: 37 - ETA: 36 - ETA: 36 - ETA: 36 - ETA: 36 - ETA: 36 - ETA: 35 - ETA: 35 - ETA: 35 - ETA: 35 - ETA: 35 - ETA: 34 - ETA: 34 - ETA: 34 - ETA: 34 - ETA: 34 - ETA: 33 - ETA: 33 - ETA: 33 - ETA: 33 - ETA: 32 - ETA: 32 - ETA: 32 - ETA: 32 - ETA: 32 - ETA: 31 - ETA: 31 - ETA: 31 - ETA: 31 - ETA: 30 - ETA: 30 - ETA: 30 - ETA: 30 - ETA: 30 - ETA: 29 - ETA: 29 - ETA: 29 - ETA: 29 - ETA: 28 - ETA: 28 - ETA: 28 - ETA: 28 - ETA: 27 - ETA: 27 - ETA: 27 - ETA: 27 - ETA: 27 - ETA: 26 - ETA: 26 - ETA: 26 - ETA: 26 - ETA: 25 - ETA: 25 - ETA: 25 - ETA: 25 - ETA: 24 - ETA: 24 - ETA: 24 - ETA: 24 - ETA: 23 - ETA: 23 - ETA: 23 - ETA: 23 - ETA: 22 - ETA: 22 - ETA: 22 - ETA: 22 - ETA: 22 - ETA: 21 - ETA: 21 - ETA: 21 - ETA: 21 - ETA: 20 - ETA: 20 - ETA: 20 - ETA: 20 - ETA: 19 - ETA: 19 - ETA: 19 - ETA: 19 - ETA: 18 - ETA: 18 - ETA: 18 - ETA: 18 - ETA: 17 - ETA: 17 - ETA: 17 - ETA: 17 - ETA: 16 - ETA: 16 - ETA: 16 - ETA: 16 - ETA: 15 - ETA: 15 - ETA: 15 - ETA: 15 - ETA: 14 - ETA: 14 - ETA: 14 - ETA: 14 - ETA: 13 - ETA: 13 - ETA: 13 - ETA: 13 - ETA: 12 - ETA: 12 - ETA: 12 - ETA: 12 - ETA: 11 - ETA: 11 - ETA: 11 - ETA: 11 - ETA: 10 - ETA: 10 - ETA: 10 - ETA: 10 - ETA: 9 - ETA:  - ETA:  - ETA:  - ETA:  - ETA:  - ETA:  - ETA:  - ETA:  - ETA:  - ETA:  - ETA:  - ETA:  - ETA:  - ETA:  - ETA:  - ETA:  - ETA:  - ETA:  - ETA:  - ETA:  - ETA:  - ETA:  - ETA:  - ETA:  - ETA:  - ETA:  - ETA:  - ETA:  - ETA:  - ETA:  - ETA:  - ETA:  - ETA:  - ETA:  - ETA:  - ETA:  - ETA:  - ETA:  - 65s 8ms/step\n"
     ]
    },
    {
     "data": {
      "text/plain": [
       "[0.2157368725174955, 0.9208374628344896]"
      ]
     },
     "execution_count": 59,
     "metadata": {},
     "output_type": "execute_result"
    }
   ],
   "source": [
    "accr = model.evaluate(X_test,y_test)\n",
    "accr"
   ]
  },
  {
   "cell_type": "code",
   "execution_count": 61,
   "metadata": {},
   "outputs": [],
   "source": [
    "y_pred = pd.DataFrame(y_pred).apply(np.round)"
   ]
  },
  {
   "cell_type": "code",
   "execution_count": 62,
   "metadata": {},
   "outputs": [],
   "source": [
    "y_test2 = y_test.idxmax(axis=1)"
   ]
  },
  {
   "cell_type": "code",
   "execution_count": 63,
   "metadata": {},
   "outputs": [],
   "source": [
    "y_pred.columns = ['High','Low','Mixed']"
   ]
  },
  {
   "cell_type": "code",
   "execution_count": 64,
   "metadata": {},
   "outputs": [],
   "source": [
    "y_pred2 = y_pred.idxmax(axis=1)"
   ]
  },
  {
   "cell_type": "code",
   "execution_count": 65,
   "metadata": {},
   "outputs": [
    {
     "name": "stdout",
     "output_type": "stream",
     "text": [
      "              precision    recall  f1-score   support\n",
      "\n",
      "        High       0.91      0.95      0.93      4090\n",
      "         Low       0.72      0.65      0.69       757\n",
      "       Mixed       0.95      0.91      0.93      3225\n",
      "\n",
      "    accuracy                           0.91      8072\n",
      "   macro avg       0.86      0.84      0.85      8072\n",
      "weighted avg       0.91      0.91      0.91      8072\n",
      "\n"
     ]
    }
   ],
   "source": [
    "genrate_classificatoin_report(y_test2,y_pred2)"
   ]
  },
  {
   "cell_type": "code",
   "execution_count": 66,
   "metadata": {},
   "outputs": [
    {
     "data": {
      "image/png": "[encoded data removed]",
      "text/plain": [
       "<Figure size 432x288 with 2 Axes>"
      ]
     },
     "metadata": {
      "needs_background": "light"
     },
     "output_type": "display_data"
    }
   ],
   "source": [
    "generate_confusion_matrix(y_test2,y_pred2)"
   ]
  },
  {
   "cell_type": "markdown",
   "metadata": {},
   "source": [
    "### Handling class imbalance\n",
    "In this part I am handling the clas imbalance because I we have very few articles of Low class so we are upsampling the low class\n",
    "by resampling it."
   ]
  },
  {
   "cell_type": "code",
   "execution_count": 62,
   "metadata": {},
   "outputs": [],
   "source": [
    "def upsample_class(news_data_df):\n",
    "    df_low = news_data_df[news_data_df['factual_reporting']=='Low']\n",
    "    df_mixed = news_data_df[news_data_df['factual_reporting']=='Mixed']\n",
    "    df_high = news_data_df[news_data_df['factual_reporting']=='High']  \n",
    "    \n",
    "   \n",
    "\n",
    "    df_low_upsampled = resample(df_low, \n",
    "                                     replace=True,     # sample with replacement\n",
    "                                     n_samples=9000,    # to match majority class\n",
    "                                     random_state=47) # reproducible results\n",
    "\n",
    "    df_news_data_upsampled = pd.concat([df_high,df_mixed,df_low_upsampled])\n",
    " \n",
    "    return df_news_data_upsampled"
   ]
  },
  {
   "cell_type": "code",
   "execution_count": 63,
   "metadata": {},
   "outputs": [],
   "source": [
    "df_news_data_upsampled = upsample_class(news_df_new)"
   ]
  },
  {
   "cell_type": "code",
   "execution_count": 64,
   "metadata": {},
   "outputs": [
    {
     "data": {
      "text/plain": [
       "(31139, 18)"
      ]
     },
     "execution_count": 64,
     "metadata": {},
     "output_type": "execute_result"
    }
   ],
   "source": [
    "df_news_data_upsampled.shape"
   ]
  },
  {
   "cell_type": "code",
   "execution_count": 65,
   "metadata": {},
   "outputs": [],
   "source": [
    "lemmatizer = WordNetLemmatizer()\n",
    "custom_stop_words = ['correct','incorrect']\n",
    "stop_words = stopwords.words(\"english\")\n",
    "stop_words.extend(custom_stop_words)\n",
    "\n",
    "def preprocess_article(article_text):\n",
    "    article_text = re.sub(r'[^\\w\\s]','',article_text, re.UNICODE)\n",
    "    article_text = article_text.lower()\n",
    "    article_text = [lemmatizer.lemmatize(token) for token in article_text.split(\" \")]\n",
    "    article_text = [lemmatizer.lemmatize(token) for token in article_text]\n",
    "    article_text = [word for word in article_text if not word in stop_words]\n",
    "    article_text = \" \".join(article_text)\n",
    "    #print(article_text)\n",
    "    return article_text"
   ]
  },
  {
   "cell_type": "code",
   "execution_count": 66,
   "metadata": {},
   "outputs": [],
   "source": [
    "df_news_data_upsampled['processed_articles'] = df_news_data_upsampled['text'].apply(lambda x: preprocess_article(x))"
   ]
  },
  {
   "cell_type": "code",
   "execution_count": 67,
   "metadata": {},
   "outputs": [],
   "source": [
    "df_upsampled_processed_article = df_news_data_upsampled[['processed_articles','text','factual_reporting']];"
   ]
  },
  {
   "cell_type": "code",
   "execution_count": 68,
   "metadata": {},
   "outputs": [
    {
     "data": {
      "text/plain": [
       "361.09631009345196"
      ]
     },
     "execution_count": 68,
     "metadata": {},
     "output_type": "execute_result"
    }
   ],
   "source": [
    "df_upsampled_processed_article['processed_articles'].apply(lambda x: len(x.split(\" \"))).mean()\n"
   ]
  },
  {
   "cell_type": "code",
   "execution_count": 69,
   "metadata": {},
   "outputs": [
    {
     "name": "stdout",
     "output_type": "stream",
     "text": [
      "Found 180543 unique tokens.\n"
     ]
    }
   ],
   "source": [
    "#MAX_NB_WORDS = 20000\n",
    "MAX_NB_WORDS = 2000\n",
    "tokenizer = Tokenizer(num_words=MAX_NB_WORDS)\n",
    "tokenizer.fit_on_texts(df_upsampled_processed_article['processed_articles'])\n",
    "word_index = tokenizer.word_index\n",
    "print('Found %s unique tokens.' % len(word_index))"
   ]
  },
  {
   "cell_type": "code",
   "execution_count": 70,
   "metadata": {},
   "outputs": [],
   "source": [
    "#convert it sequence for computation\n",
    "#list_tokenized_train = tokenizer.texts_to_sequences(df_processed_article['processed_articles'])\n",
    "X = tokenizer.texts_to_sequences(df_upsampled_processed_article['processed_articles'].values)\n",
    "# Max number of words in each complaint.\n",
    "#MAX_SEQUENCE_LENGTH = 250\n",
    "MAX_SEQUENCE_LENGTH = 350\n",
    "X = pad_sequences(X, maxlen=MAX_SEQUENCE_LENGTH)"
   ]
  },
  {
   "cell_type": "code",
   "execution_count": 73,
   "metadata": {},
   "outputs": [],
   "source": [
    "y=pd.get_dummies(df_upsampled_processed_article['factual_reporting'].values)"
   ]
  },
  {
   "cell_type": "code",
   "execution_count": 3,
   "metadata": {},
   "outputs": [
    {
     "ename": "NameError",
     "evalue": "name 'train_test_split' is not defined",
     "output_type": "error",
     "traceback": [
      "\u001b[1;31m---------------------------------------------------------------------------\u001b[0m",
      "\u001b[1;31mNameError\u001b[0m                                 Traceback (most recent call last)",
      "\u001b[1;32m<ipython-input-3-7e04a7265d19>\u001b[0m in \u001b[0;36m<module>\u001b[1;34m\u001b[0m\n\u001b[1;32m----> 1\u001b[1;33m \u001b[0mX_train\u001b[0m\u001b[1;33m,\u001b[0m \u001b[0mX_test\u001b[0m\u001b[1;33m,\u001b[0m \u001b[0my_train\u001b[0m\u001b[1;33m,\u001b[0m \u001b[0my_test\u001b[0m \u001b[1;33m=\u001b[0m \u001b[0mtrain_test_split\u001b[0m\u001b[1;33m(\u001b[0m\u001b[0mX\u001b[0m\u001b[1;33m,\u001b[0m\u001b[0my\u001b[0m\u001b[1;33m,\u001b[0m \u001b[0mtest_size\u001b[0m \u001b[1;33m=\u001b[0m \u001b[1;36m0.33\u001b[0m\u001b[1;33m,\u001b[0m \u001b[0mrandom_state\u001b[0m \u001b[1;33m=\u001b[0m \u001b[1;36m43\u001b[0m\u001b[1;33m)\u001b[0m\u001b[1;33m\u001b[0m\u001b[1;33m\u001b[0m\u001b[0m\n\u001b[0m\u001b[0;32m      2\u001b[0m \u001b[0mprint\u001b[0m\u001b[1;33m(\u001b[0m\u001b[0mX_train\u001b[0m\u001b[1;33m.\u001b[0m\u001b[0mshape\u001b[0m\u001b[1;33m,\u001b[0m\u001b[0my_train\u001b[0m\u001b[1;33m.\u001b[0m\u001b[0mshape\u001b[0m\u001b[1;33m)\u001b[0m\u001b[1;33m\u001b[0m\u001b[1;33m\u001b[0m\u001b[0m\n\u001b[0;32m      3\u001b[0m \u001b[0mprint\u001b[0m\u001b[1;33m(\u001b[0m\u001b[0mX_test\u001b[0m\u001b[1;33m.\u001b[0m\u001b[0mshape\u001b[0m\u001b[1;33m,\u001b[0m\u001b[0my_test\u001b[0m\u001b[1;33m.\u001b[0m\u001b[0mshape\u001b[0m\u001b[1;33m)\u001b[0m\u001b[1;33m\u001b[0m\u001b[1;33m\u001b[0m\u001b[0m\n",
      "\u001b[1;31mNameError\u001b[0m: name 'train_test_split' is not defined"
     ]
    }
   ],
   "source": [
    "X_train, X_test, y_train, y_test = train_test_split(X,y, test_size = 0.33, random_state = 43)\n",
    "print(X_train.shape,y_train.shape)\n",
    "print(X_test.shape,y_test.shape)"
   ]
  },
  {
   "cell_type": "code",
   "execution_count": 78,
   "metadata": {},
   "outputs": [
    {
     "name": "stdout",
     "output_type": "stream",
     "text": [
      "_________________________________________________________________\n",
      "Layer (type)                 Output Shape              Param #   \n",
      "=================================================================\n",
      "embedding_4 (Embedding)      (None, 350, 130)          260000    \n",
      "_________________________________________________________________\n",
      "conv1d_3 (Conv1D)            (None, 350, 32)           12512     \n",
      "_________________________________________________________________\n",
      "max_pooling1d_3 (MaxPooling1 (None, 175, 32)           0         \n",
      "_________________________________________________________________\n",
      "bidirectional_4 (Bidirection (None, 200)               106400    \n",
      "_________________________________________________________________\n",
      "dense_4 (Dense)              (None, 3)                 603       \n",
      "=================================================================\n",
      "Total params: 379,515\n",
      "Trainable params: 379,515\n",
      "Non-trainable params: 0\n",
      "_________________________________________________________________\n",
      "None\n"
     ]
    }
   ],
   "source": [
    "embed_size=130\n",
    "model = Sequential()\n",
    "model.add(Embedding(MAX_NB_WORDS,embed_size,input_length=X.shape[1]))\n",
    "model.add(Conv1D(filters=32, kernel_size=3, padding='same', activation='relu'))\n",
    "model.add(MaxPooling1D(pool_size=2))\n",
    "model.add(Bidirectional(LSTM(100,dropout=0.2,recurrent_dropout=0.2)))\n",
    "model.add(Dense(3,activation='softmax'))\n",
    "model.compile(loss='categorical_crossentropy',optimizer='adam',metrics=['accuracy'])\n",
    "\n",
    "print(model.summary())"
   ]
  },
  {
   "cell_type": "code",
   "execution_count": 79,
   "metadata": {},
   "outputs": [
    {
     "name": "stdout",
     "output_type": "stream",
     "text": [
      "Train on 13978 samples, validate on 6885 samples\n",
      "Epoch 1/5\n",
      "13056/13978 [===========================>..] - ETA: 18:00 - loss: 1.1018 - acc: 0.21 - ETA: 12:13 - loss: 1.0999 - acc: 0.26 - ETA: 10:15 - loss: 1.0971 - acc: 0.31 - ETA: 9:09 - loss: 1.0957 - acc: 0.3320 - ETA: 8:20 - loss: 1.0958 - acc: 0.337 - ETA: 7:54 - loss: 1.0932 - acc: 0.356 - ETA: 7:33 - loss: 1.0919 - acc: 0.366 - ETA: 7:19 - loss: 1.0958 - acc: 0.349 - ETA: 7:07 - loss: 1.0975 - acc: 0.343 - ETA: 6:56 - loss: 1.0956 - acc: 0.351 - ETA: 6:47 - loss: 1.0932 - acc: 0.360 - ETA: 6:40 - loss: 1.0910 - acc: 0.369 - ETA: 6:33 - loss: 1.0916 - acc: 0.365 - ETA: 6:27 - loss: 1.0892 - acc: 0.371 - ETA: 6:24 - loss: 1.0878 - acc: 0.375 - ETA: 6:20 - loss: 1.0866 - acc: 0.377 - ETA: 6:14 - loss: 1.0842 - acc: 0.383 - ETA: 6:09 - loss: 1.0830 - acc: 0.383 - ETA: 6:05 - loss: 1.0842 - acc: 0.379 - ETA: 6:03 - loss: 1.0835 - acc: 0.378 - ETA: 6:00 - loss: 1.0820 - acc: 0.381 - ETA: 5:56 - loss: 1.0807 - acc: 0.381 - ETA: 5:53 - loss: 1.0808 - acc: 0.381 - ETA: 5:50 - loss: 1.0791 - acc: 0.384 - ETA: 5:49 - loss: 1.0777 - acc: 0.384 - ETA: 5:48 - loss: 1.0749 - acc: 0.389 - ETA: 5:47 - loss: 1.0744 - acc: 0.389 - ETA: 5:45 - loss: 1.0736 - acc: 0.389 - ETA: 5:43 - loss: 1.0714 - acc: 0.390 - ETA: 5:41 - loss: 1.0706 - acc: 0.390 - ETA: 5:39 - loss: 1.0672 - acc: 0.394 - ETA: 5:37 - loss: 1.0645 - acc: 0.397 - ETA: 5:34 - loss: 1.0604 - acc: 0.401 - ETA: 5:33 - loss: 1.0577 - acc: 0.406 - ETA: 5:30 - loss: 1.0528 - acc: 0.413 - ETA: 5:28 - loss: 1.0588 - acc: 0.414 - ETA: 5:26 - loss: 1.0562 - acc: 0.421 - ETA: 5:25 - loss: 1.0538 - acc: 0.426 - ETA: 5:22 - loss: 1.0501 - acc: 0.431 - ETA: 5:20 - loss: 1.0481 - acc: 0.433 - ETA: 5:18 - loss: 1.0461 - acc: 0.437 - ETA: 5:16 - loss: 1.0441 - acc: 0.441 - ETA: 5:14 - loss: 1.0421 - acc: 0.445 - ETA: 5:12 - loss: 1.0411 - acc: 0.448 - ETA: 5:10 - loss: 1.0384 - acc: 0.452 - ETA: 5:09 - loss: 1.0366 - acc: 0.456 - ETA: 5:07 - loss: 1.0348 - acc: 0.459 - ETA: 5:05 - loss: 1.0331 - acc: 0.462 - ETA: 5:03 - loss: 1.0303 - acc: 0.465 - ETA: 5:02 - loss: 1.0283 - acc: 0.467 - ETA: 4:59 - loss: 1.0246 - acc: 0.472 - ETA: 4:58 - loss: 1.0211 - acc: 0.474 - ETA: 4:56 - loss: 1.0186 - acc: 0.476 - ETA: 4:54 - loss: 1.0133 - acc: 0.481 - ETA: 4:52 - loss: 1.0095 - acc: 0.485 - ETA: 4:51 - loss: 1.0059 - acc: 0.489 - ETA: 4:48 - loss: 1.0026 - acc: 0.492 - ETA: 4:47 - loss: 1.0012 - acc: 0.494 - ETA: 4:45 - loss: 0.9975 - acc: 0.496 - ETA: 4:43 - loss: 0.9930 - acc: 0.501 - ETA: 4:41 - loss: 0.9880 - acc: 0.505 - ETA: 4:39 - loss: 0.9853 - acc: 0.507 - ETA: 4:37 - loss: 0.9823 - acc: 0.510 - ETA: 4:35 - loss: 0.9776 - acc: 0.514 - ETA: 4:33 - loss: 0.9731 - acc: 0.517 - ETA: 4:31 - loss: 0.9704 - acc: 0.520 - ETA: 4:30 - loss: 0.9687 - acc: 0.522 - ETA: 4:28 - loss: 0.9644 - acc: 0.524 - ETA: 4:26 - loss: 0.9619 - acc: 0.526 - ETA: 4:25 - loss: 0.9594 - acc: 0.527 - ETA: 4:23 - loss: 0.9551 - acc: 0.530 - ETA: 4:21 - loss: 0.9515 - acc: 0.533 - ETA: 4:19 - loss: 0.9498 - acc: 0.534 - ETA: 4:18 - loss: 0.9481 - acc: 0.535 - ETA: 4:16 - loss: 0.9437 - acc: 0.538 - ETA: 4:14 - loss: 0.9408 - acc: 0.540 - ETA: 4:12 - loss: 0.9386 - acc: 0.541 - ETA: 4:10 - loss: 0.9346 - acc: 0.543 - ETA: 4:08 - loss: 0.9317 - acc: 0.545 - ETA: 4:06 - loss: 0.9289 - acc: 0.547 - ETA: 4:04 - loss: 0.9242 - acc: 0.549 - ETA: 4:02 - loss: 0.9211 - acc: 0.551 - ETA: 4:01 - loss: 0.9171 - acc: 0.554 - ETA: 3:59 - loss: 0.9130 - acc: 0.556 - ETA: 3:57 - loss: 0.9083 - acc: 0.559 - ETA: 3:55 - loss: 0.9061 - acc: 0.560 - ETA: 3:53 - loss: 0.9014 - acc: 0.564 - ETA: 3:52 - loss: 0.8969 - acc: 0.567 - ETA: 3:50 - loss: 0.8931 - acc: 0.569 - ETA: 3:48 - loss: 0.8880 - acc: 0.572 - ETA: 3:46 - loss: 0.8852 - acc: 0.574 - ETA: 3:44 - loss: 0.8812 - acc: 0.577 - ETA: 3:43 - loss: 0.8778 - acc: 0.579 - ETA: 3:41 - loss: 0.8746 - acc: 0.581 - ETA: 3:39 - loss: 0.8709 - acc: 0.582 - ETA: 3:37 - loss: 0.8678 - acc: 0.584 - ETA: 3:36 - loss: 0.8631 - acc: 0.587 - ETA: 3:34 - loss: 0.8609 - acc: 0.589 - ETA: 3:32 - loss: 0.8583 - acc: 0.590 - ETA: 3:30 - loss: 0.8538 - acc: 0.592 - ETA: 3:28 - loss: 0.8500 - acc: 0.595 - ETA: 3:26 - loss: 0.8490 - acc: 0.596 - ETA: 3:25 - loss: 0.8441 - acc: 0.598 - ETA: 3:23 - loss: 0.8411 - acc: 0.601 - ETA: 3:21 - loss: 0.8380 - acc: 0.602 - ETA: 3:20 - loss: 0.8334 - acc: 0.605 - ETA: 3:18 - loss: 0.8309 - acc: 0.607 - ETA: 3:16 - loss: 0.8282 - acc: 0.608 - ETA: 3:14 - loss: 0.8254 - acc: 0.609 - ETA: 3:13 - loss: 0.8222 - acc: 0.611 - ETA: 3:11 - loss: 0.8186 - acc: 0.613 - ETA: 3:09 - loss: 0.8155 - acc: 0.615 - ETA: 3:07 - loss: 0.8131 - acc: 0.616 - ETA: 3:05 - loss: 0.8112 - acc: 0.617 - ETA: 3:04 - loss: 0.8098 - acc: 0.618 - ETA: 3:02 - loss: 0.8072 - acc: 0.620 - ETA: 3:00 - loss: 0.8061 - acc: 0.622 - ETA: 2:58 - loss: 0.8040 - acc: 0.623 - ETA: 2:56 - loss: 0.8028 - acc: 0.624 - ETA: 2:54 - loss: 0.8017 - acc: 0.625 - ETA: 2:53 - loss: 0.7987 - acc: 0.626 - ETA: 2:51 - loss: 0.7962 - acc: 0.628 - ETA: 2:49 - loss: 0.7941 - acc: 0.629 - ETA: 2:47 - loss: 0.7919 - acc: 0.630 - ETA: 2:45 - loss: 0.7899 - acc: 0.632 - ETA: 2:43 - loss: 0.7880 - acc: 0.633 - ETA: 2:42 - loss: 0.7856 - acc: 0.634 - ETA: 2:40 - loss: 0.7829 - acc: 0.636 - ETA: 2:38 - loss: 0.7804 - acc: 0.637 - ETA: 2:36 - loss: 0.7781 - acc: 0.638 - ETA: 2:35 - loss: 0.7762 - acc: 0.639 - ETA: 2:33 - loss: 0.7746 - acc: 0.641 - ETA: 2:31 - loss: 0.7734 - acc: 0.641 - ETA: 2:29 - loss: 0.7728 - acc: 0.642 - ETA: 2:27 - loss: 0.7715 - acc: 0.642 - ETA: 2:25 - loss: 0.7689 - acc: 0.644 - ETA: 2:24 - loss: 0.7666 - acc: 0.646 - ETA: 2:22 - loss: 0.7648 - acc: 0.647 - ETA: 2:20 - loss: 0.7631 - acc: 0.648 - ETA: 2:18 - loss: 0.7613 - acc: 0.649 - ETA: 2:16 - loss: 0.7588 - acc: 0.650 - ETA: 2:15 - loss: 0.7563 - acc: 0.652 - ETA: 2:13 - loss: 0.7550 - acc: 0.652 - ETA: 2:11 - loss: 0.7537 - acc: 0.653 - ETA: 2:09 - loss: 0.7517 - acc: 0.654 - ETA: 2:08 - loss: 0.7503 - acc: 0.655 - ETA: 2:06 - loss: 0.7476 - acc: 0.656 - ETA: 2:04 - loss: 0.7448 - acc: 0.658 - ETA: 2:02 - loss: 0.7444 - acc: 0.659 - ETA: 2:01 - loss: 0.7421 - acc: 0.660 - ETA: 1:59 - loss: 0.7390 - acc: 0.661 - ETA: 1:57 - loss: 0.7364 - acc: 0.663 - ETA: 1:55 - loss: 0.7351 - acc: 0.664 - ETA: 1:54 - loss: 0.7333 - acc: 0.665 - ETA: 1:52 - loss: 0.7307 - acc: 0.666 - ETA: 1:50 - loss: 0.7276 - acc: 0.668 - ETA: 1:48 - loss: 0.7265 - acc: 0.669 - ETA: 1:47 - loss: 0.7246 - acc: 0.670 - ETA: 1:45 - loss: 0.7233 - acc: 0.671 - ETA: 1:43 - loss: 0.7209 - acc: 0.672 - ETA: 1:41 - loss: 0.7188 - acc: 0.673 - ETA: 1:40 - loss: 0.7166 - acc: 0.675 - ETA: 1:38 - loss: 0.7146 - acc: 0.675 - ETA: 1:36 - loss: 0.7129 - acc: 0.676 - ETA: 1:34 - loss: 0.7126 - acc: 0.677 - ETA: 1:33 - loss: 0.7108 - acc: 0.678 - ETA: 1:31 - loss: 0.7089 - acc: 0.679 - ETA: 1:29 - loss: 0.7060 - acc: 0.681 - ETA: 1:27 - loss: 0.7044 - acc: 0.682 - ETA: 1:25 - loss: 0.7028 - acc: 0.683 - ETA: 1:24 - loss: 0.7012 - acc: 0.683 - ETA: 1:22 - loss: 0.6998 - acc: 0.684 - ETA: 1:20 - loss: 0.6991 - acc: 0.685 - ETA: 1:18 - loss: 0.6973 - acc: 0.686 - ETA: 1:17 - loss: 0.6955 - acc: 0.687 - ETA: 1:15 - loss: 0.6940 - acc: 0.687 - ETA: 1:13 - loss: 0.6928 - acc: 0.688 - ETA: 1:11 - loss: 0.6918 - acc: 0.689 - ETA: 1:09 - loss: 0.6907 - acc: 0.690 - ETA: 1:08 - loss: 0.6894 - acc: 0.690 - ETA: 1:06 - loss: 0.6881 - acc: 0.691 - ETA: 1:04 - loss: 0.6865 - acc: 0.692 - ETA: 1:02 - loss: 0.6846 - acc: 0.693 - ETA: 1:01 - loss: 0.6827 - acc: 0.694 - ETA: 59s - loss: 0.6817 - acc: 0.695 - ETA: 57s - loss: 0.6799 - acc: 0.69 - ETA: 55s - loss: 0.6779 - acc: 0.69 - ETA: 53s - loss: 0.6764 - acc: 0.69 - ETA: 52s - loss: 0.6746 - acc: 0.69 - ETA: 50s - loss: 0.6733 - acc: 0.69 - ETA: 48s - loss: 0.6719 - acc: 0.69 - ETA: 46s - loss: 0.6709 - acc: 0.70 - ETA: 45s - loss: 0.6721 - acc: 0.70 - ETA: 43s - loss: 0.6715 - acc: 0.70 - ETA: 41s - loss: 0.6703 - acc: 0.70 - ETA: 39s - loss: 0.6690 - acc: 0.70 - ETA: 38s - loss: 0.6675 - acc: 0.70 - ETA: 36s - loss: 0.6661 - acc: 0.70 - ETA: 34s - loss: 0.6646 - acc: 0.70 - ETA: 32s - loss: 0.6638 - acc: 0.70 - ETA: 30s - loss: 0.6629 - acc: 0.70 - ETA: 29s - loss: 0.6623 - acc: 0.70 - ETA: 27s - loss: 0.6614 - acc: 0.70 - ETA: 25s - loss: 0.6602 - acc: 0.7013978/13978 [==============================] - ETA: 23s - loss: 0.6588 - acc: 0.70 - ETA: 22s - loss: 0.6569 - acc: 0.70 - ETA: 20s - loss: 0.6558 - acc: 0.70 - ETA: 18s - loss: 0.6551 - acc: 0.71 - ETA: 16s - loss: 0.6556 - acc: 0.71 - ETA: 14s - loss: 0.6542 - acc: 0.71 - ETA: 13s - loss: 0.6526 - acc: 0.71 - ETA: 11s - loss: 0.6513 - acc: 0.71 - ETA: 9s - loss: 0.6503 - acc: 0.7129 - ETA: 7s - loss: 0.6492 - acc: 0.713 - ETA: 6s - loss: 0.6477 - acc: 0.714 - ETA: 4s - loss: 0.6460 - acc: 0.715 - ETA: 2s - loss: 0.6446 - acc: 0.716 - ETA: 0s - loss: 0.6433 - acc: 0.716 - 407s 29ms/step - loss: 0.6431 - acc: 0.7168 - val_loss: 0.3728 - val_acc: 0.8741\n",
      "Epoch 2/5\n"
     ]
    },
    {
     "name": "stdout",
     "output_type": "stream",
     "text": [
      "13120/13978 [===========================>..] - ETA: 6:16 - loss: 0.5612 - acc: 0.718 - ETA: 6:13 - loss: 0.4782 - acc: 0.789 - ETA: 6:21 - loss: 0.4308 - acc: 0.833 - ETA: 6:17 - loss: 0.4098 - acc: 0.843 - ETA: 6:14 - loss: 0.4081 - acc: 0.843 - ETA: 6:14 - loss: 0.3931 - acc: 0.849 - ETA: 6:08 - loss: 0.3978 - acc: 0.852 - ETA: 6:05 - loss: 0.4126 - acc: 0.847 - ETA: 6:03 - loss: 0.3941 - acc: 0.857 - ETA: 6:00 - loss: 0.3850 - acc: 0.862 - ETA: 5:58 - loss: 0.3744 - acc: 0.867 - ETA: 5:57 - loss: 0.3707 - acc: 0.868 - ETA: 5:55 - loss: 0.3805 - acc: 0.866 - ETA: 5:52 - loss: 0.3834 - acc: 0.861 - ETA: 5:50 - loss: 0.3800 - acc: 0.861 - ETA: 5:48 - loss: 0.3875 - acc: 0.858 - ETA: 5:45 - loss: 0.3902 - acc: 0.857 - ETA: 5:42 - loss: 0.3968 - acc: 0.854 - ETA: 5:42 - loss: 0.3956 - acc: 0.852 - ETA: 5:40 - loss: 0.3941 - acc: 0.852 - ETA: 5:38 - loss: 0.3929 - acc: 0.852 - ETA: 5:36 - loss: 0.3901 - acc: 0.852 - ETA: 5:35 - loss: 0.3876 - acc: 0.854 - ETA: 5:33 - loss: 0.3880 - acc: 0.853 - ETA: 5:32 - loss: 0.3907 - acc: 0.852 - ETA: 5:31 - loss: 0.3917 - acc: 0.852 - ETA: 5:30 - loss: 0.3975 - acc: 0.849 - ETA: 5:27 - loss: 0.3970 - acc: 0.849 - ETA: 5:25 - loss: 0.3965 - acc: 0.849 - ETA: 5:23 - loss: 0.3939 - acc: 0.851 - ETA: 5:21 - loss: 0.3930 - acc: 0.852 - ETA: 5:19 - loss: 0.3920 - acc: 0.852 - ETA: 5:18 - loss: 0.3906 - acc: 0.852 - ETA: 5:16 - loss: 0.3885 - acc: 0.853 - ETA: 5:15 - loss: 0.3903 - acc: 0.851 - ETA: 5:13 - loss: 0.3910 - acc: 0.851 - ETA: 5:11 - loss: 0.3912 - acc: 0.851 - ETA: 5:10 - loss: 0.3906 - acc: 0.851 - ETA: 5:07 - loss: 0.3900 - acc: 0.851 - ETA: 5:06 - loss: 0.3881 - acc: 0.852 - ETA: 5:04 - loss: 0.3834 - acc: 0.854 - ETA: 5:03 - loss: 0.3825 - acc: 0.854 - ETA: 5:01 - loss: 0.3850 - acc: 0.852 - ETA: 5:00 - loss: 0.3831 - acc: 0.854 - ETA: 4:58 - loss: 0.3839 - acc: 0.853 - ETA: 4:56 - loss: 0.3820 - acc: 0.854 - ETA: 4:54 - loss: 0.3801 - acc: 0.854 - ETA: 4:52 - loss: 0.3772 - acc: 0.855 - ETA: 4:51 - loss: 0.3752 - acc: 0.856 - ETA: 4:48 - loss: 0.3742 - acc: 0.857 - ETA: 4:47 - loss: 0.3727 - acc: 0.858 - ETA: 4:45 - loss: 0.3704 - acc: 0.859 - ETA: 4:44 - loss: 0.3725 - acc: 0.858 - ETA: 4:42 - loss: 0.3731 - acc: 0.858 - ETA: 4:41 - loss: 0.3734 - acc: 0.858 - ETA: 4:39 - loss: 0.3717 - acc: 0.858 - ETA: 4:37 - loss: 0.3693 - acc: 0.859 - ETA: 4:36 - loss: 0.3686 - acc: 0.859 - ETA: 4:35 - loss: 0.3664 - acc: 0.860 - ETA: 4:33 - loss: 0.3647 - acc: 0.861 - ETA: 4:32 - loss: 0.3662 - acc: 0.860 - ETA: 4:30 - loss: 0.3638 - acc: 0.861 - ETA: 4:28 - loss: 0.3635 - acc: 0.862 - ETA: 4:26 - loss: 0.3615 - acc: 0.862 - ETA: 4:25 - loss: 0.3618 - acc: 0.862 - ETA: 4:23 - loss: 0.3632 - acc: 0.861 - ETA: 4:21 - loss: 0.3632 - acc: 0.861 - ETA: 4:19 - loss: 0.3622 - acc: 0.862 - ETA: 4:18 - loss: 0.3618 - acc: 0.862 - ETA: 4:16 - loss: 0.3613 - acc: 0.863 - ETA: 4:14 - loss: 0.3614 - acc: 0.862 - ETA: 4:12 - loss: 0.3637 - acc: 0.861 - ETA: 4:10 - loss: 0.3624 - acc: 0.862 - ETA: 4:09 - loss: 0.3632 - acc: 0.861 - ETA: 4:07 - loss: 0.3631 - acc: 0.861 - ETA: 4:05 - loss: 0.3626 - acc: 0.861 - ETA: 4:03 - loss: 0.3629 - acc: 0.861 - ETA: 4:02 - loss: 0.3632 - acc: 0.861 - ETA: 4:00 - loss: 0.3630 - acc: 0.861 - ETA: 3:57 - loss: 0.3627 - acc: 0.861 - ETA: 3:56 - loss: 0.3623 - acc: 0.861 - ETA: 3:54 - loss: 0.3630 - acc: 0.861 - ETA: 3:52 - loss: 0.3640 - acc: 0.861 - ETA: 3:50 - loss: 0.3648 - acc: 0.860 - ETA: 3:48 - loss: 0.3632 - acc: 0.861 - ETA: 3:46 - loss: 0.3640 - acc: 0.861 - ETA: 3:44 - loss: 0.3622 - acc: 0.862 - ETA: 3:43 - loss: 0.3618 - acc: 0.862 - ETA: 3:41 - loss: 0.3614 - acc: 0.862 - ETA: 3:39 - loss: 0.3615 - acc: 0.862 - ETA: 3:37 - loss: 0.3624 - acc: 0.862 - ETA: 3:35 - loss: 0.3633 - acc: 0.861 - ETA: 3:34 - loss: 0.3628 - acc: 0.862 - ETA: 3:32 - loss: 0.3628 - acc: 0.861 - ETA: 3:30 - loss: 0.3624 - acc: 0.861 - ETA: 3:28 - loss: 0.3623 - acc: 0.862 - ETA: 3:27 - loss: 0.3624 - acc: 0.862 - ETA: 3:25 - loss: 0.3608 - acc: 0.863 - ETA: 3:23 - loss: 0.3593 - acc: 0.864 - ETA: 3:21 - loss: 0.3603 - acc: 0.863 - ETA: 3:20 - loss: 0.3602 - acc: 0.864 - ETA: 3:18 - loss: 0.3592 - acc: 0.864 - ETA: 3:16 - loss: 0.3586 - acc: 0.864 - ETA: 3:14 - loss: 0.3579 - acc: 0.864 - ETA: 3:13 - loss: 0.3566 - acc: 0.865 - ETA: 3:11 - loss: 0.3569 - acc: 0.865 - ETA: 3:09 - loss: 0.3553 - acc: 0.866 - ETA: 3:08 - loss: 0.3535 - acc: 0.867 - ETA: 3:06 - loss: 0.3536 - acc: 0.867 - ETA: 3:04 - loss: 0.3528 - acc: 0.867 - ETA: 3:03 - loss: 0.3520 - acc: 0.868 - ETA: 3:01 - loss: 0.3512 - acc: 0.868 - ETA: 2:59 - loss: 0.3511 - acc: 0.868 - ETA: 2:57 - loss: 0.3504 - acc: 0.868 - ETA: 2:56 - loss: 0.3501 - acc: 0.868 - ETA: 2:54 - loss: 0.3504 - acc: 0.869 - ETA: 2:52 - loss: 0.3503 - acc: 0.869 - ETA: 2:50 - loss: 0.3506 - acc: 0.869 - ETA: 2:48 - loss: 0.3485 - acc: 0.870 - ETA: 2:47 - loss: 0.3483 - acc: 0.869 - ETA: 2:45 - loss: 0.3467 - acc: 0.870 - ETA: 2:44 - loss: 0.3467 - acc: 0.870 - ETA: 2:42 - loss: 0.3460 - acc: 0.870 - ETA: 2:40 - loss: 0.3471 - acc: 0.870 - ETA: 2:38 - loss: 0.3483 - acc: 0.870 - ETA: 2:37 - loss: 0.3471 - acc: 0.871 - ETA: 2:35 - loss: 0.3480 - acc: 0.870 - ETA: 2:33 - loss: 0.3487 - acc: 0.871 - ETA: 2:31 - loss: 0.3496 - acc: 0.871 - ETA: 2:30 - loss: 0.3493 - acc: 0.871 - ETA: 2:28 - loss: 0.3490 - acc: 0.871 - ETA: 2:26 - loss: 0.3487 - acc: 0.871 - ETA: 2:25 - loss: 0.3477 - acc: 0.871 - ETA: 2:23 - loss: 0.3468 - acc: 0.872 - ETA: 2:21 - loss: 0.3465 - acc: 0.872 - ETA: 2:20 - loss: 0.3459 - acc: 0.872 - ETA: 2:18 - loss: 0.3462 - acc: 0.872 - ETA: 2:16 - loss: 0.3461 - acc: 0.872 - ETA: 2:14 - loss: 0.3454 - acc: 0.873 - ETA: 2:13 - loss: 0.3448 - acc: 0.873 - ETA: 2:11 - loss: 0.3441 - acc: 0.873 - ETA: 2:09 - loss: 0.3438 - acc: 0.874 - ETA: 2:08 - loss: 0.3440 - acc: 0.874 - ETA: 2:06 - loss: 0.3431 - acc: 0.874 - ETA: 2:04 - loss: 0.3428 - acc: 0.874 - ETA: 2:02 - loss: 0.3428 - acc: 0.874 - ETA: 2:01 - loss: 0.3425 - acc: 0.874 - ETA: 1:59 - loss: 0.3426 - acc: 0.874 - ETA: 1:57 - loss: 0.3424 - acc: 0.874 - ETA: 1:55 - loss: 0.3431 - acc: 0.874 - ETA: 1:54 - loss: 0.3438 - acc: 0.874 - ETA: 1:52 - loss: 0.3440 - acc: 0.874 - ETA: 1:50 - loss: 0.3430 - acc: 0.875 - ETA: 1:49 - loss: 0.3426 - acc: 0.875 - ETA: 1:47 - loss: 0.3425 - acc: 0.875 - ETA: 1:45 - loss: 0.3424 - acc: 0.875 - ETA: 1:44 - loss: 0.3438 - acc: 0.875 - ETA: 1:42 - loss: 0.3426 - acc: 0.875 - ETA: 1:40 - loss: 0.3428 - acc: 0.875 - ETA: 1:39 - loss: 0.3432 - acc: 0.875 - ETA: 1:37 - loss: 0.3432 - acc: 0.876 - ETA: 1:35 - loss: 0.3435 - acc: 0.876 - ETA: 1:33 - loss: 0.3447 - acc: 0.875 - ETA: 1:32 - loss: 0.3450 - acc: 0.875 - ETA: 1:30 - loss: 0.3447 - acc: 0.875 - ETA: 1:28 - loss: 0.3442 - acc: 0.876 - ETA: 1:27 - loss: 0.3441 - acc: 0.876 - ETA: 1:25 - loss: 0.3440 - acc: 0.875 - ETA: 1:23 - loss: 0.3433 - acc: 0.876 - ETA: 1:22 - loss: 0.3432 - acc: 0.876 - ETA: 1:20 - loss: 0.3431 - acc: 0.876 - ETA: 1:18 - loss: 0.3436 - acc: 0.876 - ETA: 1:16 - loss: 0.3435 - acc: 0.876 - ETA: 1:15 - loss: 0.3431 - acc: 0.876 - ETA: 1:13 - loss: 0.3428 - acc: 0.876 - ETA: 1:11 - loss: 0.3427 - acc: 0.876 - ETA: 1:10 - loss: 0.3419 - acc: 0.876 - ETA: 1:08 - loss: 0.3418 - acc: 0.876 - ETA: 1:06 - loss: 0.3415 - acc: 0.877 - ETA: 1:04 - loss: 0.3420 - acc: 0.876 - ETA: 1:03 - loss: 0.3415 - acc: 0.876 - ETA: 1:01 - loss: 0.3415 - acc: 0.877 - ETA: 59s - loss: 0.3411 - acc: 0.877 - ETA: 58s - loss: 0.3419 - acc: 0.87 - ETA: 56s - loss: 0.3421 - acc: 0.87 - ETA: 54s - loss: 0.3420 - acc: 0.87 - ETA: 53s - loss: 0.3415 - acc: 0.87 - ETA: 51s - loss: 0.3414 - acc: 0.87 - ETA: 49s - loss: 0.3412 - acc: 0.87 - ETA: 47s - loss: 0.3408 - acc: 0.87 - ETA: 46s - loss: 0.3405 - acc: 0.87 - ETA: 44s - loss: 0.3406 - acc: 0.87 - ETA: 42s - loss: 0.3410 - acc: 0.87 - ETA: 41s - loss: 0.3419 - acc: 0.87 - ETA: 39s - loss: 0.3416 - acc: 0.87 - ETA: 37s - loss: 0.3413 - acc: 0.87 - ETA: 36s - loss: 0.3407 - acc: 0.87 - ETA: 34s - loss: 0.3400 - acc: 0.87 - ETA: 32s - loss: 0.3392 - acc: 0.87 - ETA: 31s - loss: 0.3387 - acc: 0.87 - ETA: 29s - loss: 0.3394 - acc: 0.87 - ETA: 27s - loss: 0.3393 - acc: 0.87 - ETA: 26s - loss: 0.3403 - acc: 0.87 - ETA: 24s - loss: 0.3404 - acc: 0.87 - ETA: 22s - loss: 0.3401 - acc: 0.8774"
     ]
    },
    {
     "name": "stdout",
     "output_type": "stream",
     "text": [
      "13978/13978 [==============================] - ETA: 20s - loss: 0.3398 - acc: 0.87 - ETA: 19s - loss: 0.3405 - acc: 0.87 - ETA: 17s - loss: 0.3399 - acc: 0.87 - ETA: 15s - loss: 0.3399 - acc: 0.87 - ETA: 14s - loss: 0.3403 - acc: 0.87 - ETA: 12s - loss: 0.3406 - acc: 0.87 - ETA: 10s - loss: 0.3408 - acc: 0.87 - ETA: 9s - loss: 0.3407 - acc: 0.8777 - ETA: 7s - loss: 0.3407 - acc: 0.877 - ETA: 5s - loss: 0.3403 - acc: 0.878 - ETA: 4s - loss: 0.3409 - acc: 0.877 - ETA: 2s - loss: 0.3402 - acc: 0.878 - ETA: 0s - loss: 0.3401 - acc: 0.877 - 387s 28ms/step - loss: 0.3398 - acc: 0.8780 - val_loss: 0.3057 - val_acc: 0.8973\n",
      "Epoch 3/5\n",
      "13120/13978 [===========================>..] - ETA: 6:16 - loss: 0.2112 - acc: 0.968 - ETA: 6:17 - loss: 0.2424 - acc: 0.937 - ETA: 5:58 - loss: 0.2944 - acc: 0.911 - ETA: 5:58 - loss: 0.2652 - acc: 0.921 - ETA: 5:57 - loss: 0.2711 - acc: 0.912 - ETA: 5:51 - loss: 0.2717 - acc: 0.908 - ETA: 5:50 - loss: 0.2650 - acc: 0.915 - ETA: 5:47 - loss: 0.2635 - acc: 0.916 - ETA: 5:45 - loss: 0.2552 - acc: 0.921 - ETA: 5:43 - loss: 0.2502 - acc: 0.923 - ETA: 5:43 - loss: 0.2483 - acc: 0.926 - ETA: 5:43 - loss: 0.2609 - acc: 0.920 - ETA: 5:42 - loss: 0.2605 - acc: 0.919 - ETA: 5:40 - loss: 0.2598 - acc: 0.919 - ETA: 5:37 - loss: 0.2577 - acc: 0.921 - ETA: 5:37 - loss: 0.2526 - acc: 0.923 - ETA: 5:35 - loss: 0.2498 - acc: 0.926 - ETA: 5:35 - loss: 0.2481 - acc: 0.925 - ETA: 5:33 - loss: 0.2460 - acc: 0.926 - ETA: 5:31 - loss: 0.2495 - acc: 0.925 - ETA: 5:30 - loss: 0.2593 - acc: 0.921 - ETA: 5:28 - loss: 0.2538 - acc: 0.922 - ETA: 5:26 - loss: 0.2576 - acc: 0.920 - ETA: 5:25 - loss: 0.2529 - acc: 0.922 - ETA: 5:23 - loss: 0.2533 - acc: 0.921 - ETA: 5:21 - loss: 0.2537 - acc: 0.922 - ETA: 5:19 - loss: 0.2500 - acc: 0.924 - ETA: 5:16 - loss: 0.2506 - acc: 0.925 - ETA: 5:15 - loss: 0.2472 - acc: 0.926 - ETA: 5:14 - loss: 0.2571 - acc: 0.922 - ETA: 5:12 - loss: 0.2556 - acc: 0.922 - ETA: 5:10 - loss: 0.2598 - acc: 0.921 - ETA: 5:09 - loss: 0.2612 - acc: 0.920 - ETA: 5:07 - loss: 0.2575 - acc: 0.921 - ETA: 5:05 - loss: 0.2547 - acc: 0.922 - ETA: 5:04 - loss: 0.2556 - acc: 0.921 - ETA: 5:03 - loss: 0.2575 - acc: 0.920 - ETA: 5:01 - loss: 0.2577 - acc: 0.919 - ETA: 4:59 - loss: 0.2580 - acc: 0.918 - ETA: 4:57 - loss: 0.2585 - acc: 0.918 - ETA: 4:56 - loss: 0.2560 - acc: 0.920 - ETA: 4:54 - loss: 0.2546 - acc: 0.921 - ETA: 4:52 - loss: 0.2572 - acc: 0.920 - ETA: 4:50 - loss: 0.2597 - acc: 0.919 - ETA: 4:48 - loss: 0.2587 - acc: 0.919 - ETA: 4:46 - loss: 0.2591 - acc: 0.918 - ETA: 4:45 - loss: 0.2589 - acc: 0.918 - ETA: 4:43 - loss: 0.2591 - acc: 0.918 - ETA: 4:41 - loss: 0.2588 - acc: 0.918 - ETA: 4:40 - loss: 0.2616 - acc: 0.916 - ETA: 4:39 - loss: 0.2601 - acc: 0.916 - ETA: 4:38 - loss: 0.2589 - acc: 0.916 - ETA: 4:36 - loss: 0.2567 - acc: 0.917 - ETA: 4:34 - loss: 0.2558 - acc: 0.917 - ETA: 4:32 - loss: 0.2539 - acc: 0.918 - ETA: 4:31 - loss: 0.2525 - acc: 0.919 - ETA: 4:29 - loss: 0.2508 - acc: 0.919 - ETA: 4:27 - loss: 0.2514 - acc: 0.919 - ETA: 4:26 - loss: 0.2510 - acc: 0.919 - ETA: 4:24 - loss: 0.2517 - acc: 0.919 - ETA: 4:22 - loss: 0.2526 - acc: 0.918 - ETA: 4:21 - loss: 0.2535 - acc: 0.918 - ETA: 4:19 - loss: 0.2540 - acc: 0.918 - ETA: 4:18 - loss: 0.2558 - acc: 0.916 - ETA: 4:16 - loss: 0.2577 - acc: 0.916 - ETA: 4:14 - loss: 0.2562 - acc: 0.916 - ETA: 4:12 - loss: 0.2556 - acc: 0.917 - ETA: 4:11 - loss: 0.2537 - acc: 0.917 - ETA: 4:10 - loss: 0.2528 - acc: 0.917 - ETA: 4:08 - loss: 0.2510 - acc: 0.917 - ETA: 4:06 - loss: 0.2522 - acc: 0.917 - ETA: 4:05 - loss: 0.2519 - acc: 0.917 - ETA: 4:03 - loss: 0.2505 - acc: 0.917 - ETA: 4:02 - loss: 0.2501 - acc: 0.917 - ETA: 4:00 - loss: 0.2502 - acc: 0.918 - ETA: 3:58 - loss: 0.2487 - acc: 0.918 - ETA: 3:57 - loss: 0.2505 - acc: 0.917 - ETA: 3:55 - loss: 0.2499 - acc: 0.918 - ETA: 3:53 - loss: 0.2502 - acc: 0.918 - ETA: 3:51 - loss: 0.2496 - acc: 0.918 - ETA: 3:50 - loss: 0.2517 - acc: 0.917 - ETA: 3:48 - loss: 0.2514 - acc: 0.917 - ETA: 3:47 - loss: 0.2508 - acc: 0.917 - ETA: 3:45 - loss: 0.2504 - acc: 0.918 - ETA: 3:44 - loss: 0.2494 - acc: 0.918 - ETA: 3:42 - loss: 0.2509 - acc: 0.917 - ETA: 3:40 - loss: 0.2526 - acc: 0.917 - ETA: 3:39 - loss: 0.2542 - acc: 0.916 - ETA: 3:37 - loss: 0.2557 - acc: 0.915 - ETA: 3:36 - loss: 0.2558 - acc: 0.914 - ETA: 3:34 - loss: 0.2547 - acc: 0.915 - ETA: 3:32 - loss: 0.2554 - acc: 0.914 - ETA: 3:31 - loss: 0.2566 - acc: 0.914 - ETA: 3:29 - loss: 0.2574 - acc: 0.913 - ETA: 3:27 - loss: 0.2569 - acc: 0.914 - ETA: 3:25 - loss: 0.2568 - acc: 0.914 - ETA: 3:24 - loss: 0.2580 - acc: 0.913 - ETA: 3:22 - loss: 0.2572 - acc: 0.914 - ETA: 3:20 - loss: 0.2569 - acc: 0.914 - ETA: 3:18 - loss: 0.2560 - acc: 0.914 - ETA: 3:17 - loss: 0.2556 - acc: 0.914 - ETA: 3:15 - loss: 0.2558 - acc: 0.914 - ETA: 3:13 - loss: 0.2554 - acc: 0.914 - ETA: 3:11 - loss: 0.2557 - acc: 0.914 - ETA: 3:10 - loss: 0.2555 - acc: 0.914 - ETA: 3:08 - loss: 0.2560 - acc: 0.914 - ETA: 3:06 - loss: 0.2558 - acc: 0.914 - ETA: 3:05 - loss: 0.2555 - acc: 0.914 - ETA: 3:03 - loss: 0.2540 - acc: 0.914 - ETA: 3:01 - loss: 0.2531 - acc: 0.914 - ETA: 3:00 - loss: 0.2536 - acc: 0.915 - ETA: 2:58 - loss: 0.2525 - acc: 0.915 - ETA: 2:56 - loss: 0.2530 - acc: 0.915 - ETA: 2:55 - loss: 0.2523 - acc: 0.915 - ETA: 2:53 - loss: 0.2522 - acc: 0.915 - ETA: 2:52 - loss: 0.2514 - acc: 0.915 - ETA: 2:50 - loss: 0.2523 - acc: 0.915 - ETA: 2:48 - loss: 0.2524 - acc: 0.915 - ETA: 2:46 - loss: 0.2521 - acc: 0.915 - ETA: 2:45 - loss: 0.2526 - acc: 0.914 - ETA: 2:43 - loss: 0.2519 - acc: 0.914 - ETA: 2:42 - loss: 0.2506 - acc: 0.915 - ETA: 2:40 - loss: 0.2494 - acc: 0.916 - ETA: 2:38 - loss: 0.2482 - acc: 0.916 - ETA: 2:37 - loss: 0.2487 - acc: 0.916 - ETA: 2:35 - loss: 0.2480 - acc: 0.916 - ETA: 2:33 - loss: 0.2486 - acc: 0.915 - ETA: 2:31 - loss: 0.2483 - acc: 0.915 - ETA: 2:30 - loss: 0.2487 - acc: 0.915 - ETA: 2:28 - loss: 0.2497 - acc: 0.915 - ETA: 2:26 - loss: 0.2496 - acc: 0.915 - ETA: 2:25 - loss: 0.2502 - acc: 0.915 - ETA: 2:23 - loss: 0.2495 - acc: 0.915 - ETA: 2:21 - loss: 0.2504 - acc: 0.915 - ETA: 2:20 - loss: 0.2511 - acc: 0.914 - ETA: 2:18 - loss: 0.2506 - acc: 0.914 - ETA: 2:16 - loss: 0.2513 - acc: 0.914 - ETA: 2:15 - loss: 0.2509 - acc: 0.915 - ETA: 2:13 - loss: 0.2516 - acc: 0.915 - ETA: 2:11 - loss: 0.2523 - acc: 0.914 - ETA: 2:10 - loss: 0.2522 - acc: 0.914 - ETA: 2:08 - loss: 0.2518 - acc: 0.914 - ETA: 2:06 - loss: 0.2512 - acc: 0.915 - ETA: 2:05 - loss: 0.2503 - acc: 0.915 - ETA: 2:03 - loss: 0.2497 - acc: 0.915 - ETA: 2:01 - loss: 0.2496 - acc: 0.915 - ETA: 2:00 - loss: 0.2500 - acc: 0.915 - ETA: 1:58 - loss: 0.2490 - acc: 0.916 - ETA: 1:56 - loss: 0.2488 - acc: 0.916 - ETA: 1:54 - loss: 0.2479 - acc: 0.916 - ETA: 1:53 - loss: 0.2480 - acc: 0.916 - ETA: 1:51 - loss: 0.2481 - acc: 0.916 - ETA: 1:49 - loss: 0.2482 - acc: 0.916 - ETA: 1:48 - loss: 0.2485 - acc: 0.916 - ETA: 1:46 - loss: 0.2479 - acc: 0.916 - ETA: 1:44 - loss: 0.2480 - acc: 0.916 - ETA: 1:43 - loss: 0.2485 - acc: 0.916 - ETA: 1:41 - loss: 0.2481 - acc: 0.916 - ETA: 1:39 - loss: 0.2478 - acc: 0.917 - ETA: 1:38 - loss: 0.2472 - acc: 0.917 - ETA: 1:36 - loss: 0.2472 - acc: 0.917 - ETA: 1:34 - loss: 0.2476 - acc: 0.916 - ETA: 1:33 - loss: 0.2476 - acc: 0.916 - ETA: 1:31 - loss: 0.2479 - acc: 0.916 - ETA: 1:29 - loss: 0.2478 - acc: 0.917 - ETA: 1:28 - loss: 0.2474 - acc: 0.917 - ETA: 1:26 - loss: 0.2471 - acc: 0.917 - ETA: 1:24 - loss: 0.2469 - acc: 0.917 - ETA: 1:23 - loss: 0.2462 - acc: 0.917 - ETA: 1:21 - loss: 0.2458 - acc: 0.917 - ETA: 1:19 - loss: 0.2458 - acc: 0.917 - ETA: 1:18 - loss: 0.2477 - acc: 0.917 - ETA: 1:16 - loss: 0.2476 - acc: 0.917 - ETA: 1:14 - loss: 0.2466 - acc: 0.917 - ETA: 1:13 - loss: 0.2467 - acc: 0.917 - ETA: 1:11 - loss: 0.2462 - acc: 0.917 - ETA: 1:09 - loss: 0.2462 - acc: 0.917 - ETA: 1:08 - loss: 0.2457 - acc: 0.917 - ETA: 1:06 - loss: 0.2457 - acc: 0.917 - ETA: 1:04 - loss: 0.2459 - acc: 0.917 - ETA: 1:02 - loss: 0.2449 - acc: 0.918 - ETA: 1:01 - loss: 0.2459 - acc: 0.917 - ETA: 59s - loss: 0.2457 - acc: 0.917 - ETA: 57s - loss: 0.2456 - acc: 0.91 - ETA: 56s - loss: 0.2453 - acc: 0.91 - ETA: 54s - loss: 0.2454 - acc: 0.91 - ETA: 52s - loss: 0.2451 - acc: 0.91 - ETA: 51s - loss: 0.2443 - acc: 0.91 - ETA: 49s - loss: 0.2433 - acc: 0.91 - ETA: 47s - loss: 0.2432 - acc: 0.91 - ETA: 46s - loss: 0.2426 - acc: 0.91 - ETA: 44s - loss: 0.2427 - acc: 0.91 - ETA: 42s - loss: 0.2430 - acc: 0.91 - ETA: 41s - loss: 0.2424 - acc: 0.91 - ETA: 39s - loss: 0.2420 - acc: 0.91 - ETA: 37s - loss: 0.2423 - acc: 0.91 - ETA: 36s - loss: 0.2431 - acc: 0.91 - ETA: 34s - loss: 0.2429 - acc: 0.91 - ETA: 32s - loss: 0.2422 - acc: 0.91 - ETA: 31s - loss: 0.2426 - acc: 0.91 - ETA: 29s - loss: 0.2424 - acc: 0.91 - ETA: 27s - loss: 0.2425 - acc: 0.91 - ETA: 26s - loss: 0.2422 - acc: 0.91 - ETA: 24s - loss: 0.2417 - acc: 0.91 - ETA: 22s - loss: 0.2417 - acc: 0.919913978/13978 [==============================] - ETA: 20s - loss: 0.2412 - acc: 0.92 - ETA: 19s - loss: 0.2419 - acc: 0.91 - ETA: 17s - loss: 0.2422 - acc: 0.91 - ETA: 15s - loss: 0.2420 - acc: 0.91 - ETA: 14s - loss: 0.2416 - acc: 0.91 - ETA: 12s - loss: 0.2413 - acc: 0.91 - ETA: 10s - loss: 0.2413 - acc: 0.91 - ETA: 9s - loss: 0.2416 - acc: 0.9195 - ETA: 7s - loss: 0.2411 - acc: 0.919 - ETA: 5s - loss: 0.2407 - acc: 0.919 - ETA: 4s - loss: 0.2405 - acc: 0.920 - ETA: 2s - loss: 0.2400 - acc: 0.920 - ETA: 0s - loss: 0.2403 - acc: 0.920 - 389s 28ms/step - loss: 0.2400 - acc: 0.9203 - val_loss: 0.2146 - val_acc: 0.9317\n",
      "Epoch 4/5\n"
     ]
    },
    {
     "name": "stdout",
     "output_type": "stream",
     "text": [
      "13120/13978 [===========================>..] - ETA: 5:57 - loss: 0.1767 - acc: 0.953 - ETA: 6:05 - loss: 0.2201 - acc: 0.937 - ETA: 6:08 - loss: 0.2088 - acc: 0.942 - ETA: 5:58 - loss: 0.2357 - acc: 0.933 - ETA: 5:52 - loss: 0.2167 - acc: 0.934 - ETA: 5:47 - loss: 0.2222 - acc: 0.932 - ETA: 5:47 - loss: 0.2122 - acc: 0.933 - ETA: 5:50 - loss: 0.2176 - acc: 0.929 - ETA: 5:45 - loss: 0.2086 - acc: 0.932 - ETA: 5:42 - loss: 0.2073 - acc: 0.929 - ETA: 5:39 - loss: 0.2082 - acc: 0.927 - ETA: 5:38 - loss: 0.2106 - acc: 0.925 - ETA: 5:36 - loss: 0.2123 - acc: 0.924 - ETA: 5:34 - loss: 0.2073 - acc: 0.925 - ETA: 5:35 - loss: 0.2078 - acc: 0.926 - ETA: 5:33 - loss: 0.2049 - acc: 0.928 - ETA: 5:30 - loss: 0.2122 - acc: 0.924 - ETA: 5:30 - loss: 0.2068 - acc: 0.928 - ETA: 5:29 - loss: 0.2077 - acc: 0.927 - ETA: 5:26 - loss: 0.2023 - acc: 0.930 - ETA: 5:25 - loss: 0.2052 - acc: 0.929 - ETA: 5:25 - loss: 0.2086 - acc: 0.927 - ETA: 5:23 - loss: 0.2056 - acc: 0.929 - ETA: 5:22 - loss: 0.2071 - acc: 0.929 - ETA: 5:20 - loss: 0.2088 - acc: 0.928 - ETA: 5:19 - loss: 0.2101 - acc: 0.927 - ETA: 5:17 - loss: 0.2103 - acc: 0.928 - ETA: 5:16 - loss: 0.2083 - acc: 0.930 - ETA: 5:14 - loss: 0.2079 - acc: 0.931 - ETA: 5:13 - loss: 0.2083 - acc: 0.931 - ETA: 5:12 - loss: 0.2072 - acc: 0.931 - ETA: 5:10 - loss: 0.2075 - acc: 0.931 - ETA: 5:08 - loss: 0.2124 - acc: 0.930 - ETA: 5:06 - loss: 0.2108 - acc: 0.932 - ETA: 5:04 - loss: 0.2095 - acc: 0.933 - ETA: 5:03 - loss: 0.2105 - acc: 0.931 - ETA: 5:01 - loss: 0.2067 - acc: 0.933 - ETA: 4:59 - loss: 0.2079 - acc: 0.933 - ETA: 4:58 - loss: 0.2058 - acc: 0.934 - ETA: 4:57 - loss: 0.2042 - acc: 0.934 - ETA: 4:56 - loss: 0.2055 - acc: 0.934 - ETA: 4:55 - loss: 0.2062 - acc: 0.933 - ETA: 4:54 - loss: 0.2053 - acc: 0.933 - ETA: 4:53 - loss: 0.2034 - acc: 0.934 - ETA: 4:52 - loss: 0.2028 - acc: 0.934 - ETA: 4:51 - loss: 0.2032 - acc: 0.934 - ETA: 4:49 - loss: 0.2025 - acc: 0.934 - ETA: 4:47 - loss: 0.2009 - acc: 0.934 - ETA: 4:45 - loss: 0.1975 - acc: 0.936 - ETA: 4:43 - loss: 0.1957 - acc: 0.936 - ETA: 4:42 - loss: 0.1983 - acc: 0.936 - ETA: 4:41 - loss: 0.1990 - acc: 0.935 - ETA: 4:39 - loss: 0.1975 - acc: 0.935 - ETA: 4:37 - loss: 0.1953 - acc: 0.935 - ETA: 4:35 - loss: 0.1959 - acc: 0.935 - ETA: 4:33 - loss: 0.1945 - acc: 0.936 - ETA: 4:31 - loss: 0.1950 - acc: 0.936 - ETA: 4:30 - loss: 0.1949 - acc: 0.936 - ETA: 4:29 - loss: 0.1963 - acc: 0.936 - ETA: 4:27 - loss: 0.1950 - acc: 0.936 - ETA: 4:25 - loss: 0.1950 - acc: 0.936 - ETA: 4:23 - loss: 0.1942 - acc: 0.937 - ETA: 4:22 - loss: 0.1936 - acc: 0.937 - ETA: 4:20 - loss: 0.1950 - acc: 0.936 - ETA: 4:18 - loss: 0.1939 - acc: 0.936 - ETA: 4:17 - loss: 0.1939 - acc: 0.937 - ETA: 4:15 - loss: 0.1932 - acc: 0.937 - ETA: 4:13 - loss: 0.1947 - acc: 0.936 - ETA: 4:11 - loss: 0.1944 - acc: 0.936 - ETA: 4:10 - loss: 0.1953 - acc: 0.936 - ETA: 4:08 - loss: 0.1945 - acc: 0.936 - ETA: 4:06 - loss: 0.1931 - acc: 0.937 - ETA: 4:05 - loss: 0.1925 - acc: 0.937 - ETA: 4:03 - loss: 0.1928 - acc: 0.937 - ETA: 4:01 - loss: 0.1924 - acc: 0.937 - ETA: 4:00 - loss: 0.1930 - acc: 0.937 - ETA: 3:58 - loss: 0.1940 - acc: 0.937 - ETA: 3:56 - loss: 0.1936 - acc: 0.937 - ETA: 3:54 - loss: 0.1933 - acc: 0.937 - ETA: 3:53 - loss: 0.1926 - acc: 0.937 - ETA: 3:51 - loss: 0.1933 - acc: 0.937 - ETA: 3:49 - loss: 0.1940 - acc: 0.937 - ETA: 3:47 - loss: 0.1937 - acc: 0.937 - ETA: 3:46 - loss: 0.1944 - acc: 0.937 - ETA: 3:44 - loss: 0.1939 - acc: 0.937 - ETA: 3:43 - loss: 0.1956 - acc: 0.937 - ETA: 3:41 - loss: 0.1950 - acc: 0.937 - ETA: 3:39 - loss: 0.1942 - acc: 0.937 - ETA: 3:37 - loss: 0.1970 - acc: 0.937 - ETA: 3:36 - loss: 0.1962 - acc: 0.937 - ETA: 3:34 - loss: 0.1952 - acc: 0.937 - ETA: 3:33 - loss: 0.1937 - acc: 0.938 - ETA: 3:31 - loss: 0.1947 - acc: 0.937 - ETA: 3:29 - loss: 0.1932 - acc: 0.938 - ETA: 3:27 - loss: 0.1921 - acc: 0.938 - ETA: 3:26 - loss: 0.1915 - acc: 0.939 - ETA: 3:24 - loss: 0.1909 - acc: 0.939 - ETA: 3:22 - loss: 0.1903 - acc: 0.939 - ETA: 3:21 - loss: 0.1911 - acc: 0.939 - ETA: 3:19 - loss: 0.1911 - acc: 0.939 - ETA: 3:17 - loss: 0.1906 - acc: 0.939 - ETA: 3:16 - loss: 0.1899 - acc: 0.940 - ETA: 3:14 - loss: 0.1898 - acc: 0.940 - ETA: 3:12 - loss: 0.1900 - acc: 0.940 - ETA: 3:10 - loss: 0.1916 - acc: 0.939 - ETA: 3:09 - loss: 0.1917 - acc: 0.939 - ETA: 3:07 - loss: 0.1918 - acc: 0.939 - ETA: 3:05 - loss: 0.1921 - acc: 0.938 - ETA: 3:03 - loss: 0.1920 - acc: 0.938 - ETA: 3:02 - loss: 0.1923 - acc: 0.938 - ETA: 3:00 - loss: 0.1919 - acc: 0.938 - ETA: 2:58 - loss: 0.1925 - acc: 0.938 - ETA: 2:57 - loss: 0.1931 - acc: 0.938 - ETA: 2:55 - loss: 0.1926 - acc: 0.938 - ETA: 2:53 - loss: 0.1917 - acc: 0.938 - ETA: 2:52 - loss: 0.1916 - acc: 0.938 - ETA: 2:50 - loss: 0.1923 - acc: 0.937 - ETA: 2:48 - loss: 0.1929 - acc: 0.937 - ETA: 2:47 - loss: 0.1921 - acc: 0.937 - ETA: 2:45 - loss: 0.1919 - acc: 0.937 - ETA: 2:43 - loss: 0.1916 - acc: 0.937 - ETA: 2:41 - loss: 0.1917 - acc: 0.937 - ETA: 2:40 - loss: 0.1919 - acc: 0.937 - ETA: 2:38 - loss: 0.1922 - acc: 0.937 - ETA: 2:36 - loss: 0.1927 - acc: 0.937 - ETA: 2:35 - loss: 0.1925 - acc: 0.937 - ETA: 2:33 - loss: 0.1922 - acc: 0.937 - ETA: 2:31 - loss: 0.1927 - acc: 0.937 - ETA: 2:30 - loss: 0.1923 - acc: 0.937 - ETA: 2:28 - loss: 0.1928 - acc: 0.937 - ETA: 2:26 - loss: 0.1940 - acc: 0.936 - ETA: 2:25 - loss: 0.1949 - acc: 0.936 - ETA: 2:23 - loss: 0.1949 - acc: 0.936 - ETA: 2:21 - loss: 0.1950 - acc: 0.937 - ETA: 2:19 - loss: 0.1953 - acc: 0.937 - ETA: 2:18 - loss: 0.1950 - acc: 0.937 - ETA: 2:16 - loss: 0.1941 - acc: 0.937 - ETA: 2:14 - loss: 0.1936 - acc: 0.937 - ETA: 2:13 - loss: 0.1938 - acc: 0.937 - ETA: 2:11 - loss: 0.1935 - acc: 0.937 - ETA: 2:09 - loss: 0.1952 - acc: 0.936 - ETA: 2:08 - loss: 0.1958 - acc: 0.936 - ETA: 2:06 - loss: 0.1976 - acc: 0.935 - ETA: 2:04 - loss: 0.1992 - acc: 0.935 - ETA: 2:03 - loss: 0.2019 - acc: 0.934 - ETA: 2:01 - loss: 0.2035 - acc: 0.933 - ETA: 1:59 - loss: 0.2043 - acc: 0.932 - ETA: 1:58 - loss: 0.2053 - acc: 0.932 - ETA: 1:56 - loss: 0.2071 - acc: 0.931 - ETA: 1:54 - loss: 0.2077 - acc: 0.931 - ETA: 1:53 - loss: 0.2077 - acc: 0.931 - ETA: 1:51 - loss: 0.2088 - acc: 0.930 - ETA: 1:49 - loss: 0.2085 - acc: 0.930 - ETA: 1:48 - loss: 0.2089 - acc: 0.930 - ETA: 1:46 - loss: 0.2091 - acc: 0.930 - ETA: 1:44 - loss: 0.2092 - acc: 0.930 - ETA: 1:43 - loss: 0.2115 - acc: 0.929 - ETA: 1:41 - loss: 0.2115 - acc: 0.928 - ETA: 1:39 - loss: 0.2114 - acc: 0.929 - ETA: 1:38 - loss: 0.2124 - acc: 0.928 - ETA: 1:36 - loss: 0.2121 - acc: 0.928 - ETA: 1:34 - loss: 0.2114 - acc: 0.928 - ETA: 1:33 - loss: 0.2124 - acc: 0.928 - ETA: 1:31 - loss: 0.2119 - acc: 0.928 - ETA: 1:29 - loss: 0.2122 - acc: 0.928 - ETA: 1:28 - loss: 0.2127 - acc: 0.928 - ETA: 1:26 - loss: 0.2125 - acc: 0.928 - ETA: 1:24 - loss: 0.2122 - acc: 0.928 - ETA: 1:23 - loss: 0.2123 - acc: 0.928 - ETA: 1:21 - loss: 0.2119 - acc: 0.929 - ETA: 1:19 - loss: 0.2122 - acc: 0.929 - ETA: 1:17 - loss: 0.2118 - acc: 0.929 - ETA: 1:16 - loss: 0.2124 - acc: 0.928 - ETA: 1:14 - loss: 0.2119 - acc: 0.929 - ETA: 1:12 - loss: 0.2118 - acc: 0.929 - ETA: 1:11 - loss: 0.2119 - acc: 0.929 - ETA: 1:09 - loss: 0.2115 - acc: 0.929 - ETA: 1:07 - loss: 0.2116 - acc: 0.929 - ETA: 1:06 - loss: 0.2119 - acc: 0.929 - ETA: 1:04 - loss: 0.2115 - acc: 0.929 - ETA: 1:02 - loss: 0.2109 - acc: 0.929 - ETA: 1:01 - loss: 0.2107 - acc: 0.930 - ETA: 59s - loss: 0.2109 - acc: 0.929 - ETA: 57s - loss: 0.2109 - acc: 0.92 - ETA: 56s - loss: 0.2103 - acc: 0.93 - ETA: 54s - loss: 0.2108 - acc: 0.92 - ETA: 52s - loss: 0.2100 - acc: 0.93 - ETA: 51s - loss: 0.2105 - acc: 0.92 - ETA: 49s - loss: 0.2104 - acc: 0.92 - ETA: 47s - loss: 0.2108 - acc: 0.92 - ETA: 46s - loss: 0.2107 - acc: 0.92 - ETA: 44s - loss: 0.2099 - acc: 0.92 - ETA: 42s - loss: 0.2106 - acc: 0.92 - ETA: 41s - loss: 0.2108 - acc: 0.92 - ETA: 39s - loss: 0.2104 - acc: 0.92 - ETA: 37s - loss: 0.2108 - acc: 0.92 - ETA: 36s - loss: 0.2109 - acc: 0.92 - ETA: 34s - loss: 0.2108 - acc: 0.92 - ETA: 32s - loss: 0.2116 - acc: 0.92 - ETA: 30s - loss: 0.2122 - acc: 0.92 - ETA: 29s - loss: 0.2122 - acc: 0.92 - ETA: 27s - loss: 0.2125 - acc: 0.92 - ETA: 25s - loss: 0.2134 - acc: 0.92 - ETA: 24s - loss: 0.2139 - acc: 0.92 - ETA: 22s - loss: 0.2144 - acc: 0.9285"
     ]
    },
    {
     "name": "stdout",
     "output_type": "stream",
     "text": [
      "13978/13978 [==============================] - ETA: 20s - loss: 0.2146 - acc: 0.92 - ETA: 19s - loss: 0.2147 - acc: 0.92 - ETA: 17s - loss: 0.2152 - acc: 0.92 - ETA: 15s - loss: 0.2148 - acc: 0.92 - ETA: 14s - loss: 0.2147 - acc: 0.92 - ETA: 12s - loss: 0.2146 - acc: 0.92 - ETA: 10s - loss: 0.2145 - acc: 0.92 - ETA: 9s - loss: 0.2144 - acc: 0.9285 - ETA: 7s - loss: 0.2145 - acc: 0.928 - ETA: 5s - loss: 0.2149 - acc: 0.928 - ETA: 4s - loss: 0.2157 - acc: 0.927 - ETA: 2s - loss: 0.2153 - acc: 0.927 - ETA: 0s - loss: 0.2159 - acc: 0.927 - 385s 28ms/step - loss: 0.2165 - acc: 0.9274 - val_loss: 0.3851 - val_acc: 0.8601\n",
      "Epoch 5/5\n",
      "13120/13978 [===========================>..] - ETA: 6:16 - loss: 0.1849 - acc: 0.937 - ETA: 6:03 - loss: 0.2748 - acc: 0.890 - ETA: 6:09 - loss: 0.2569 - acc: 0.906 - ETA: 6:16 - loss: 0.3003 - acc: 0.898 - ETA: 6:06 - loss: 0.2735 - acc: 0.909 - ETA: 6:05 - loss: 0.2776 - acc: 0.914 - ETA: 6:05 - loss: 0.2856 - acc: 0.901 - ETA: 6:02 - loss: 0.2701 - acc: 0.908 - ETA: 5:58 - loss: 0.2759 - acc: 0.904 - ETA: 5:57 - loss: 0.2702 - acc: 0.907 - ETA: 5:56 - loss: 0.2685 - acc: 0.907 - ETA: 5:54 - loss: 0.2796 - acc: 0.903 - ETA: 5:51 - loss: 0.2703 - acc: 0.906 - ETA: 5:48 - loss: 0.2684 - acc: 0.907 - ETA: 5:44 - loss: 0.2640 - acc: 0.909 - ETA: 5:41 - loss: 0.2595 - acc: 0.911 - ETA: 5:40 - loss: 0.2566 - acc: 0.911 - ETA: 5:39 - loss: 0.2531 - acc: 0.914 - ETA: 5:38 - loss: 0.2541 - acc: 0.913 - ETA: 5:34 - loss: 0.2503 - acc: 0.915 - ETA: 5:32 - loss: 0.2533 - acc: 0.915 - ETA: 5:30 - loss: 0.2547 - acc: 0.915 - ETA: 5:30 - loss: 0.2527 - acc: 0.916 - ETA: 5:27 - loss: 0.2498 - acc: 0.917 - ETA: 5:26 - loss: 0.2487 - acc: 0.918 - ETA: 5:24 - loss: 0.2441 - acc: 0.919 - ETA: 5:21 - loss: 0.2408 - acc: 0.920 - ETA: 5:20 - loss: 0.2385 - acc: 0.921 - ETA: 5:18 - loss: 0.2354 - acc: 0.923 - ETA: 5:17 - loss: 0.2384 - acc: 0.922 - ETA: 5:14 - loss: 0.2333 - acc: 0.923 - ETA: 5:13 - loss: 0.2300 - acc: 0.924 - ETA: 5:11 - loss: 0.2291 - acc: 0.925 - ETA: 5:09 - loss: 0.2283 - acc: 0.926 - ETA: 5:07 - loss: 0.2252 - acc: 0.927 - ETA: 5:06 - loss: 0.2213 - acc: 0.928 - ETA: 5:05 - loss: 0.2196 - acc: 0.929 - ETA: 5:04 - loss: 0.2186 - acc: 0.929 - ETA: 5:02 - loss: 0.2224 - acc: 0.927 - ETA: 5:01 - loss: 0.2216 - acc: 0.928 - ETA: 4:59 - loss: 0.2209 - acc: 0.928 - ETA: 4:57 - loss: 0.2190 - acc: 0.928 - ETA: 4:55 - loss: 0.2167 - acc: 0.929 - ETA: 4:54 - loss: 0.2137 - acc: 0.930 - ETA: 4:52 - loss: 0.2153 - acc: 0.929 - ETA: 4:50 - loss: 0.2160 - acc: 0.929 - ETA: 4:49 - loss: 0.2155 - acc: 0.929 - ETA: 4:47 - loss: 0.2174 - acc: 0.928 - ETA: 4:46 - loss: 0.2142 - acc: 0.929 - ETA: 4:45 - loss: 0.2121 - acc: 0.930 - ETA: 4:43 - loss: 0.2120 - acc: 0.930 - ETA: 4:41 - loss: 0.2102 - acc: 0.930 - ETA: 4:40 - loss: 0.2127 - acc: 0.929 - ETA: 4:38 - loss: 0.2138 - acc: 0.928 - ETA: 4:36 - loss: 0.2143 - acc: 0.928 - ETA: 4:34 - loss: 0.2163 - acc: 0.927 - ETA: 4:32 - loss: 0.2176 - acc: 0.926 - ETA: 4:31 - loss: 0.2206 - acc: 0.925 - ETA: 4:29 - loss: 0.2217 - acc: 0.925 - ETA: 4:27 - loss: 0.2212 - acc: 0.925 - ETA: 4:25 - loss: 0.2209 - acc: 0.926 - ETA: 4:23 - loss: 0.2224 - acc: 0.925 - ETA: 4:22 - loss: 0.2241 - acc: 0.924 - ETA: 4:20 - loss: 0.2273 - acc: 0.922 - ETA: 4:18 - loss: 0.2285 - acc: 0.921 - ETA: 4:17 - loss: 0.2283 - acc: 0.921 - ETA: 4:15 - loss: 0.2311 - acc: 0.920 - ETA: 4:13 - loss: 0.2327 - acc: 0.918 - ETA: 4:11 - loss: 0.2342 - acc: 0.917 - ETA: 4:09 - loss: 0.2344 - acc: 0.917 - ETA: 4:08 - loss: 0.2346 - acc: 0.916 - ETA: 4:06 - loss: 0.2358 - acc: 0.916 - ETA: 4:05 - loss: 0.2369 - acc: 0.916 - ETA: 4:03 - loss: 0.2398 - acc: 0.914 - ETA: 4:01 - loss: 0.2406 - acc: 0.914 - ETA: 3:59 - loss: 0.2408 - acc: 0.913 - ETA: 3:57 - loss: 0.2412 - acc: 0.913 - ETA: 3:56 - loss: 0.2414 - acc: 0.913 - ETA: 3:54 - loss: 0.2413 - acc: 0.913 - ETA: 3:52 - loss: 0.2421 - acc: 0.913 - ETA: 3:50 - loss: 0.2424 - acc: 0.913 - ETA: 3:49 - loss: 0.2422 - acc: 0.913 - ETA: 3:47 - loss: 0.2412 - acc: 0.913 - ETA: 3:46 - loss: 0.2410 - acc: 0.913 - ETA: 3:44 - loss: 0.2394 - acc: 0.914 - ETA: 3:42 - loss: 0.2383 - acc: 0.914 - ETA: 3:40 - loss: 0.2370 - acc: 0.915 - ETA: 3:39 - loss: 0.2394 - acc: 0.914 - ETA: 3:37 - loss: 0.2371 - acc: 0.915 - ETA: 3:36 - loss: 0.2394 - acc: 0.915 - ETA: 3:34 - loss: 0.2382 - acc: 0.915 - ETA: 3:32 - loss: 0.2384 - acc: 0.915 - ETA: 3:31 - loss: 0.2378 - acc: 0.916 - ETA: 3:29 - loss: 0.2389 - acc: 0.915 - ETA: 3:27 - loss: 0.2391 - acc: 0.916 - ETA: 3:25 - loss: 0.2384 - acc: 0.916 - ETA: 3:24 - loss: 0.2381 - acc: 0.916 - ETA: 3:22 - loss: 0.2378 - acc: 0.916 - ETA: 3:21 - loss: 0.2383 - acc: 0.916 - ETA: 3:19 - loss: 0.2373 - acc: 0.917 - ETA: 3:17 - loss: 0.2369 - acc: 0.917 - ETA: 3:15 - loss: 0.2375 - acc: 0.917 - ETA: 3:13 - loss: 0.2365 - acc: 0.918 - ETA: 3:12 - loss: 0.2377 - acc: 0.917 - ETA: 3:10 - loss: 0.2380 - acc: 0.917 - ETA: 3:09 - loss: 0.2371 - acc: 0.918 - ETA: 3:07 - loss: 0.2358 - acc: 0.918 - ETA: 3:05 - loss: 0.2355 - acc: 0.919 - ETA: 3:04 - loss: 0.2343 - acc: 0.919 - ETA: 3:02 - loss: 0.2340 - acc: 0.919 - ETA: 3:00 - loss: 0.2340 - acc: 0.919 - ETA: 2:59 - loss: 0.2328 - acc: 0.919 - ETA: 2:57 - loss: 0.2325 - acc: 0.920 - ETA: 2:55 - loss: 0.2327 - acc: 0.920 - ETA: 2:54 - loss: 0.2322 - acc: 0.920 - ETA: 2:52 - loss: 0.2319 - acc: 0.920 - ETA: 2:50 - loss: 0.2315 - acc: 0.920 - ETA: 2:49 - loss: 0.2305 - acc: 0.920 - ETA: 2:47 - loss: 0.2296 - acc: 0.921 - ETA: 2:45 - loss: 0.2296 - acc: 0.921 - ETA: 2:44 - loss: 0.2301 - acc: 0.921 - ETA: 2:42 - loss: 0.2291 - acc: 0.921 - ETA: 2:40 - loss: 0.2292 - acc: 0.921 - ETA: 2:39 - loss: 0.2277 - acc: 0.922 - ETA: 2:37 - loss: 0.2265 - acc: 0.922 - ETA: 2:35 - loss: 0.2276 - acc: 0.922 - ETA: 2:34 - loss: 0.2280 - acc: 0.922 - ETA: 2:32 - loss: 0.2274 - acc: 0.922 - ETA: 2:30 - loss: 0.2280 - acc: 0.922 - ETA: 2:29 - loss: 0.2273 - acc: 0.922 - ETA: 2:27 - loss: 0.2268 - acc: 0.923 - ETA: 2:25 - loss: 0.2261 - acc: 0.923 - ETA: 2:24 - loss: 0.2253 - acc: 0.923 - ETA: 2:22 - loss: 0.2258 - acc: 0.923 - ETA: 2:20 - loss: 0.2249 - acc: 0.923 - ETA: 2:19 - loss: 0.2245 - acc: 0.923 - ETA: 2:17 - loss: 0.2235 - acc: 0.923 - ETA: 2:15 - loss: 0.2242 - acc: 0.923 - ETA: 2:14 - loss: 0.2238 - acc: 0.923 - ETA: 2:12 - loss: 0.2240 - acc: 0.923 - ETA: 2:10 - loss: 0.2242 - acc: 0.923 - ETA: 2:09 - loss: 0.2237 - acc: 0.924 - ETA: 2:07 - loss: 0.2238 - acc: 0.924 - ETA: 2:05 - loss: 0.2233 - acc: 0.924 - ETA: 2:03 - loss: 0.2230 - acc: 0.924 - ETA: 2:02 - loss: 0.2227 - acc: 0.924 - ETA: 2:00 - loss: 0.2223 - acc: 0.924 - ETA: 1:58 - loss: 0.2216 - acc: 0.924 - ETA: 1:57 - loss: 0.2213 - acc: 0.924 - ETA: 1:55 - loss: 0.2203 - acc: 0.925 - ETA: 1:53 - loss: 0.2192 - acc: 0.925 - ETA: 1:52 - loss: 0.2194 - acc: 0.925 - ETA: 1:50 - loss: 0.2183 - acc: 0.926 - ETA: 1:48 - loss: 0.2180 - acc: 0.926 - ETA: 1:46 - loss: 0.2177 - acc: 0.926 - ETA: 1:45 - loss: 0.2171 - acc: 0.926 - ETA: 1:43 - loss: 0.2166 - acc: 0.927 - ETA: 1:41 - loss: 0.2165 - acc: 0.926 - ETA: 1:40 - loss: 0.2164 - acc: 0.926 - ETA: 1:38 - loss: 0.2165 - acc: 0.926 - ETA: 1:36 - loss: 0.2161 - acc: 0.927 - ETA: 1:35 - loss: 0.2155 - acc: 0.927 - ETA: 1:33 - loss: 0.2153 - acc: 0.927 - ETA: 1:31 - loss: 0.2147 - acc: 0.927 - ETA: 1:29 - loss: 0.2142 - acc: 0.927 - ETA: 1:28 - loss: 0.2144 - acc: 0.927 - ETA: 1:26 - loss: 0.2136 - acc: 0.927 - ETA: 1:24 - loss: 0.2133 - acc: 0.928 - ETA: 1:23 - loss: 0.2126 - acc: 0.928 - ETA: 1:21 - loss: 0.2123 - acc: 0.928 - ETA: 1:19 - loss: 0.2115 - acc: 0.928 - ETA: 1:18 - loss: 0.2108 - acc: 0.928 - ETA: 1:16 - loss: 0.2121 - acc: 0.928 - ETA: 1:14 - loss: 0.2119 - acc: 0.928 - ETA: 1:13 - loss: 0.2117 - acc: 0.928 - ETA: 1:11 - loss: 0.2113 - acc: 0.928 - ETA: 1:09 - loss: 0.2112 - acc: 0.928 - ETA: 1:08 - loss: 0.2109 - acc: 0.928 - ETA: 1:06 - loss: 0.2107 - acc: 0.929 - ETA: 1:04 - loss: 0.2103 - acc: 0.929 - ETA: 1:03 - loss: 0.2099 - acc: 0.929 - ETA: 1:01 - loss: 0.2096 - acc: 0.929 - ETA: 59s - loss: 0.2089 - acc: 0.929 - ETA: 57s - loss: 0.2082 - acc: 0.93 - ETA: 56s - loss: 0.2084 - acc: 0.93 - ETA: 54s - loss: 0.2086 - acc: 0.92 - ETA: 52s - loss: 0.2079 - acc: 0.93 - ETA: 51s - loss: 0.2075 - acc: 0.93 - ETA: 49s - loss: 0.2070 - acc: 0.93 - ETA: 47s - loss: 0.2075 - acc: 0.93 - ETA: 46s - loss: 0.2068 - acc: 0.93 - ETA: 44s - loss: 0.2068 - acc: 0.93 - ETA: 42s - loss: 0.2072 - acc: 0.93 - ETA: 41s - loss: 0.2065 - acc: 0.93 - ETA: 39s - loss: 0.2063 - acc: 0.93 - ETA: 37s - loss: 0.2062 - acc: 0.93 - ETA: 36s - loss: 0.2056 - acc: 0.93 - ETA: 34s - loss: 0.2055 - acc: 0.93 - ETA: 32s - loss: 0.2051 - acc: 0.93 - ETA: 30s - loss: 0.2053 - acc: 0.93 - ETA: 29s - loss: 0.2044 - acc: 0.93 - ETA: 27s - loss: 0.2043 - acc: 0.93 - ETA: 25s - loss: 0.2040 - acc: 0.93 - ETA: 24s - loss: 0.2042 - acc: 0.93 - ETA: 22s - loss: 0.2043 - acc: 0.931713978/13978 [==============================] - ETA: 20s - loss: 0.2045 - acc: 0.93 - ETA: 19s - loss: 0.2041 - acc: 0.93 - ETA: 17s - loss: 0.2047 - acc: 0.93 - ETA: 15s - loss: 0.2042 - acc: 0.93 - ETA: 14s - loss: 0.2036 - acc: 0.93 - ETA: 12s - loss: 0.2035 - acc: 0.93 - ETA: 10s - loss: 0.2030 - acc: 0.93 - ETA: 9s - loss: 0.2035 - acc: 0.9321 - ETA: 7s - loss: 0.2036 - acc: 0.932 - ETA: 5s - loss: 0.2030 - acc: 0.932 - ETA: 4s - loss: 0.2023 - acc: 0.932 - ETA: 2s - loss: 0.2026 - acc: 0.932 - ETA: 0s - loss: 0.2028 - acc: 0.932 - 385s 28ms/step - loss: 0.2026 - acc: 0.9328 - val_loss: 0.2402 - val_acc: 0.9230\n"
     ]
    }
   ],
   "source": [
    "batch_size=64\n",
    "epochs = 5\n",
    "history = model.fit(X_train, y_train, epochs=epochs, batch_size=batch_size,validation_split=0.33,\\\n",
    "                    callbacks=[EarlyStopping(monitor='val_loss', patience=3, min_delta=0.0001)])"
   ]
  },
  {
   "cell_type": "code",
   "execution_count": 80,
   "metadata": {},
   "outputs": [
    {
     "name": "stdout",
     "output_type": "stream",
     "text": [
      "10276/10276 [==============================] - ETA: 26 - ETA: 27 - ETA: 26 - ETA: 26 - ETA: 27 - ETA: 27 - ETA: 26 - ETA: 26 - ETA: 26 - ETA: 26 - ETA: 26 - ETA: 26 - ETA: 26 - ETA: 26 - ETA: 26 - ETA: 26 - ETA: 26 - ETA: 26 - ETA: 26 - ETA: 26 - ETA: 26 - ETA: 26 - ETA: 26 - ETA: 26 - ETA: 26 - ETA: 26 - ETA: 26 - ETA: 26 - ETA: 26 - ETA: 25 - ETA: 25 - ETA: 25 - ETA: 25 - ETA: 25 - ETA: 25 - ETA: 25 - ETA: 25 - ETA: 25 - ETA: 24 - ETA: 24 - ETA: 24 - ETA: 24 - ETA: 24 - ETA: 24 - ETA: 24 - ETA: 24 - ETA: 24 - ETA: 24 - ETA: 24 - ETA: 23 - ETA: 23 - ETA: 23 - ETA: 23 - ETA: 23 - ETA: 23 - ETA: 23 - ETA: 23 - ETA: 23 - ETA: 23 - ETA: 23 - ETA: 22 - ETA: 22 - ETA: 22 - ETA: 22 - ETA: 22 - ETA: 22 - ETA: 22 - ETA: 22 - ETA: 22 - ETA: 22 - ETA: 22 - ETA: 22 - ETA: 22 - ETA: 21 - ETA: 21 - ETA: 21 - ETA: 21 - ETA: 21 - ETA: 21 - ETA: 21 - ETA: 21 - ETA: 21 - ETA: 21 - ETA: 21 - ETA: 20 - ETA: 20 - ETA: 20 - ETA: 20 - ETA: 20 - ETA: 20 - ETA: 20 - ETA: 20 - ETA: 20 - ETA: 20 - ETA: 20 - ETA: 20 - ETA: 20 - ETA: 20 - ETA: 20 - ETA: 20 - ETA: 20 - ETA: 20 - ETA: 20 - ETA: 20 - ETA: 20 - ETA: 20 - ETA: 19 - ETA: 19 - ETA: 19 - ETA: 19 - ETA: 19 - ETA: 19 - ETA: 19 - ETA: 19 - ETA: 19 - ETA: 19 - ETA: 18 - ETA: 18 - ETA: 18 - ETA: 18 - ETA: 18 - ETA: 18 - ETA: 18 - ETA: 18 - ETA: 18 - ETA: 18 - ETA: 18 - ETA: 17 - ETA: 17 - ETA: 17 - ETA: 17 - ETA: 17 - ETA: 17 - ETA: 17 - ETA: 17 - ETA: 17 - ETA: 17 - ETA: 17 - ETA: 17 - ETA: 17 - ETA: 17 - ETA: 17 - ETA: 16 - ETA: 16 - ETA: 16 - ETA: 16 - ETA: 16 - ETA: 16 - ETA: 16 - ETA: 16 - ETA: 16 - ETA: 16 - ETA: 16 - ETA: 16 - ETA: 16 - ETA: 15 - ETA: 15 - ETA: 15 - ETA: 15 - ETA: 15 - ETA: 15 - ETA: 15 - ETA: 15 - ETA: 15 - ETA: 15 - ETA: 15 - ETA: 15 - ETA: 14 - ETA: 14 - ETA: 14 - ETA: 14 - ETA: 14 - ETA: 14 - ETA: 14 - ETA: 14 - ETA: 14 - ETA: 14 - ETA: 14 - ETA: 13 - ETA: 13 - ETA: 13 - ETA: 13 - ETA: 13 - ETA: 13 - ETA: 13 - ETA: 13 - ETA: 13 - ETA: 13 - ETA: 13 - ETA: 12 - ETA: 12 - ETA: 12 - ETA: 12 - ETA: 12 - ETA: 12 - ETA: 12 - ETA: 12 - ETA: 12 - ETA: 12 - ETA: 12 - ETA: 11 - ETA: 11 - ETA: 11 - ETA: 11 - ETA: 11 - ETA: 11 - ETA: 11 - ETA: 11 - ETA: 11 - ETA: 11 - ETA: 11 - ETA: 10 - ETA: 10 - ETA: 10 - ETA: 10 - ETA: 10 - ETA: 10 - ETA: 10 - ETA: 10 - ETA: 10 - ETA: 10 - ETA: 9 - ETA:  - ETA:  - ETA:  - ETA:  - ETA:  - ETA:  - ETA:  - ETA:  - ETA:  - ETA:  - ETA:  - ETA:  - ETA:  - ETA:  - ETA:  - ETA:  - ETA:  - ETA:  - ETA:  - ETA:  - ETA:  - ETA:  - ETA:  - ETA:  - ETA:  - ETA:  - ETA:  - ETA:  - ETA:  - ETA:  - ETA:  - ETA:  - ETA:  - ETA:  - ETA:  - ETA:  - ETA:  - ETA:  - ETA:  - ETA:  - ETA:  - ETA:  - ETA:  - ETA:  - ETA:  - ETA:  - ETA:  - ETA:  - ETA:  - ETA:  - ETA:  - ETA:  - ETA:  - ETA:  - ETA:  - ETA:  - ETA:  - ETA:  - ETA:  - ETA:  - ETA:  - ETA:  - ETA:  - ETA:  - ETA:  - ETA:  - ETA:  - ETA:  - ETA:  - ETA:  - ETA:  - ETA:  - ETA:  - ETA:  - ETA:  - ETA:  - ETA:  - ETA:  - ETA:  - ETA:  - ETA:  - ETA:  - ETA:  - ETA:  - ETA:  - ETA:  - ETA:  - ETA:  - ETA:  - ETA:  - ETA:  - ETA:  - ETA:  - ETA:  - ETA:  - ETA:  - ETA:  - ETA:  - ETA:  - 33s 3ms/step\n"
     ]
    },
    {
     "data": {
      "text/plain": [
       "[0.23577434107017406, 0.9242896068509148]"
      ]
     },
     "execution_count": 80,
     "metadata": {},
     "output_type": "execute_result"
    }
   ],
   "source": [
    "accr = model.evaluate(X_test,y_test)\n",
    "accr"
   ]
  },
  {
   "cell_type": "code",
   "execution_count": 82,
   "metadata": {},
   "outputs": [],
   "source": [
    "y_pred = model.predict(X_test)"
   ]
  },
  {
   "cell_type": "code",
   "execution_count": 83,
   "metadata": {},
   "outputs": [],
   "source": [
    "y_pred = pd.DataFrame(y_pred).apply(np.round)"
   ]
  },
  {
   "cell_type": "code",
   "execution_count": 84,
   "metadata": {},
   "outputs": [],
   "source": [
    "y_test2 = y_test.idxmax(axis=1)"
   ]
  },
  {
   "cell_type": "code",
   "execution_count": 85,
   "metadata": {},
   "outputs": [],
   "source": [
    "y_pred.columns = ['High','Low','Mixed']"
   ]
  },
  {
   "cell_type": "code",
   "execution_count": 86,
   "metadata": {},
   "outputs": [],
   "source": [
    "y_pred2 = y_pred.idxmax(axis=1)"
   ]
  },
  {
   "cell_type": "code",
   "execution_count": 91,
   "metadata": {},
   "outputs": [
    {
     "data": {
      "text/plain": [
       "Counter({'Low': 3092, 'Mixed': 3164, 'High': 4020})"
      ]
     },
     "execution_count": 91,
     "metadata": {},
     "output_type": "execute_result"
    }
   ],
   "source": [
    "from collections import Counter\n",
    "Counter(y_pred2)"
   ]
  },
  {
   "cell_type": "code",
   "execution_count": 87,
   "metadata": {},
   "outputs": [
    {
     "data": {
      "text/plain": [
       "((10276,), (10276,))"
      ]
     },
     "execution_count": 87,
     "metadata": {},
     "output_type": "execute_result"
    }
   ],
   "source": [
    "y_pred2.shape,y_test2.shape"
   ]
  },
  {
   "cell_type": "code",
   "execution_count": 88,
   "metadata": {},
   "outputs": [
    {
     "name": "stdout",
     "output_type": "stream",
     "text": [
      "              precision    recall  f1-score   support\n",
      "\n",
      "        High       0.90      0.96      0.93      4139\n",
      "         Low       0.91      0.95      0.93      2967\n",
      "       Mixed       0.99      0.85      0.92      3170\n",
      "\n",
      "    accuracy                           0.92     10276\n",
      "   macro avg       0.93      0.92      0.92     10276\n",
      "weighted avg       0.93      0.92      0.92     10276\n",
      "\n"
     ]
    }
   ],
   "source": [
    "genrate_classificatoin_report(y_test2,y_pred2)"
   ]
  },
  {
   "cell_type": "code",
   "execution_count": 89,
   "metadata": {},
   "outputs": [
    {
     "data": {
      "image/png": "[encoded data removed]",
      "text/plain": [
       "<Figure size 432x288 with 2 Axes>"
      ]
     },
     "metadata": {
      "needs_background": "light"
     },
     "output_type": "display_data"
    }
   ],
   "source": [
    "generate_confusion_matrix(y_test2,y_pred2)"
   ]
  },
  {
   "cell_type": "code",
   "execution_count": 45,
   "metadata": {},
   "outputs": [
    {
     "name": "stdout",
     "output_type": "stream",
     "text": [
      "_________________________________________________________________\n",
      "Layer (type)                 Output Shape              Param #   \n",
      "=================================================================\n",
      "embedding_1 (Embedding)      (None, 350, 130)          260000    \n",
      "_________________________________________________________________\n",
      "conv1d_1 (Conv1D)            (None, 350, 32)           12512     \n",
      "_________________________________________________________________\n",
      "max_pooling1d_1 (MaxPooling1 (None, 175, 32)           0         \n",
      "_________________________________________________________________\n",
      "bidirectional_1 (Bidirection (None, 175, 200)          106400    \n",
      "_________________________________________________________________\n",
      "bidirectional_2 (Bidirection (None, 100)               100400    \n",
      "_________________________________________________________________\n",
      "dense_1 (Dense)              (None, 1000)              101000    \n",
      "_________________________________________________________________\n",
      "dense_2 (Dense)              (None, 3)                 3003      \n",
      "=================================================================\n",
      "Total params: 583,315\n",
      "Trainable params: 583,315\n",
      "Non-trainable params: 0\n",
      "_________________________________________________________________\n",
      "None\n"
     ]
    }
   ],
   "source": [
    "embed_size=130\n",
    "model = Sequential()\n",
    "model.add(Embedding(MAX_NB_WORDS,embed_size,input_length=X.shape[1]))\n",
    "model.add(Conv1D(filters=32, kernel_size=3, padding='same', activation='relu'))\n",
    "model.add(MaxPooling1D(pool_size=2))\n",
    "model.add(Bidirectional(LSTM(100,dropout=0.2,recurrent_dropout=0.2,return_sequences=True)))\n",
    "model.add(Bidirectional(LSTM(50,dropout=0.2,recurrent_dropout=0.2)))\n",
    "model.add(Dense(1000, activation='relu'))\n",
    "model.add(Dense(3,activation='softmax'))\n",
    "model.compile(loss='categorical_crossentropy',optimizer='adam',metrics=['accuracy'])\n",
    "print(model.summary())\n",
    "\n"
   ]
  },
  {
   "cell_type": "code",
   "execution_count": 46,
   "metadata": {},
   "outputs": [
    {
     "name": "stdout",
     "output_type": "stream",
     "text": [
      "Train on 13978 samples, validate on 6885 samples\n",
      "Epoch 1/5\n",
      "13978/13978 [==============================] - ETA: 16:07 - loss: 1.0988 - acc: 0.32 - ETA: 12:47 - loss: 1.0990 - acc: 0.32 - ETA: 11:22 - loss: 1.0997 - acc: 0.32 - ETA: 10:42 - loss: 1.0994 - acc: 0.32 - ETA: 10:12 - loss: 1.0986 - acc: 0.33 - ETA: 9:55 - loss: 1.0974 - acc: 0.3500 - ETA: 9:42 - loss: 1.0972 - acc: 0.347 - ETA: 9:38 - loss: 1.0968 - acc: 0.348 - ETA: 9:31 - loss: 1.0952 - acc: 0.355 - ETA: 9:19 - loss: 1.0939 - acc: 0.357 - ETA: 9:08 - loss: 1.0923 - acc: 0.360 - ETA: 8:58 - loss: 1.0873 - acc: 0.372 - ETA: 8:47 - loss: 1.0854 - acc: 0.373 - ETA: 8:37 - loss: 1.0835 - acc: 0.377 - ETA: 8:26 - loss: 1.0816 - acc: 0.381 - ETA: 8:16 - loss: 1.0785 - acc: 0.386 - ETA: 8:05 - loss: 1.0757 - acc: 0.388 - ETA: 7:56 - loss: 1.0690 - acc: 0.398 - ETA: 7:48 - loss: 1.0618 - acc: 0.407 - ETA: 7:40 - loss: 1.0570 - acc: 0.413 - ETA: 7:30 - loss: 1.0510 - acc: 0.417 - ETA: 7:20 - loss: 1.0435 - acc: 0.423 - ETA: 7:10 - loss: 1.0385 - acc: 0.426 - ETA: 7:01 - loss: 1.0303 - acc: 0.433 - ETA: 6:52 - loss: 1.0221 - acc: 0.438 - ETA: 6:43 - loss: 1.0160 - acc: 0.441 - ETA: 6:36 - loss: 1.0076 - acc: 0.446 - ETA: 6:27 - loss: 0.9998 - acc: 0.452 - ETA: 6:21 - loss: 0.9897 - acc: 0.458 - ETA: 6:14 - loss: 0.9818 - acc: 0.464 - ETA: 6:06 - loss: 0.9742 - acc: 0.468 - ETA: 6:00 - loss: 0.9674 - acc: 0.471 - ETA: 5:53 - loss: 0.9631 - acc: 0.474 - ETA: 5:43 - loss: 0.9568 - acc: 0.478 - ETA: 5:33 - loss: 0.9515 - acc: 0.481 - ETA: 5:23 - loss: 0.9442 - acc: 0.487 - ETA: 5:13 - loss: 0.9406 - acc: 0.491 - ETA: 5:04 - loss: 0.9372 - acc: 0.494 - ETA: 4:55 - loss: 0.9337 - acc: 0.496 - ETA: 4:45 - loss: 0.9279 - acc: 0.501 - ETA: 4:35 - loss: 0.9223 - acc: 0.505 - ETA: 4:27 - loss: 0.9170 - acc: 0.510 - ETA: 4:19 - loss: 0.9126 - acc: 0.512 - ETA: 4:10 - loss: 0.9072 - acc: 0.516 - ETA: 4:00 - loss: 0.9018 - acc: 0.519 - ETA: 3:51 - loss: 0.8986 - acc: 0.523 - ETA: 3:41 - loss: 0.8930 - acc: 0.527 - ETA: 3:31 - loss: 0.8878 - acc: 0.531 - ETA: 3:21 - loss: 0.8831 - acc: 0.535 - ETA: 3:11 - loss: 0.8779 - acc: 0.539 - ETA: 3:01 - loss: 0.8751 - acc: 0.541 - ETA: 2:51 - loss: 0.8721 - acc: 0.544 - ETA: 2:42 - loss: 0.8701 - acc: 0.546 - ETA: 2:32 - loss: 0.8664 - acc: 0.549 - ETA: 2:22 - loss: 0.8643 - acc: 0.550 - ETA: 2:12 - loss: 0.8599 - acc: 0.552 - ETA: 2:03 - loss: 0.8567 - acc: 0.555 - ETA: 1:53 - loss: 0.8528 - acc: 0.559 - ETA: 1:44 - loss: 0.8497 - acc: 0.560 - ETA: 1:34 - loss: 0.8473 - acc: 0.562 - ETA: 1:24 - loss: 0.8451 - acc: 0.565 - ETA: 1:15 - loss: 0.8411 - acc: 0.568 - ETA: 1:05 - loss: 0.8376 - acc: 0.570 - ETA: 56s - loss: 0.8335 - acc: 0.573 - ETA: 46s - loss: 0.8315 - acc: 0.57 - ETA: 37s - loss: 0.8285 - acc: 0.57 - ETA: 27s - loss: 0.8256 - acc: 0.57 - ETA: 18s - loss: 0.8227 - acc: 0.58 - ETA: 8s - loss: 0.8204 - acc: 0.5825 - 716s 51ms/step - loss: 0.8181 - acc: 0.5843 - val_loss: 0.5894 - val_acc: 0.7486\n",
      "Epoch 2/5\n",
      "13978/13978 [==============================] - ETA: 10:37 - loss: 0.5184 - acc: 0.77 - ETA: 10:19 - loss: 0.5332 - acc: 0.77 - ETA: 10:19 - loss: 0.5256 - acc: 0.77 - ETA: 10:07 - loss: 0.5066 - acc: 0.78 - ETA: 9:58 - loss: 0.5013 - acc: 0.7880 - ETA: 9:47 - loss: 0.5113 - acc: 0.782 - ETA: 9:40 - loss: 0.5149 - acc: 0.785 - ETA: 9:34 - loss: 0.5123 - acc: 0.783 - ETA: 9:39 - loss: 0.5003 - acc: 0.787 - ETA: 9:34 - loss: 0.4974 - acc: 0.788 - ETA: 9:29 - loss: 0.4985 - acc: 0.791 - ETA: 9:19 - loss: 0.5066 - acc: 0.785 - ETA: 9:07 - loss: 0.5038 - acc: 0.786 - ETA: 8:56 - loss: 0.5002 - acc: 0.785 - ETA: 8:46 - loss: 0.4967 - acc: 0.788 - ETA: 8:34 - loss: 0.4900 - acc: 0.793 - ETA: 8:23 - loss: 0.4905 - acc: 0.796 - ETA: 8:12 - loss: 0.4877 - acc: 0.799 - ETA: 8:02 - loss: 0.4878 - acc: 0.798 - ETA: 7:51 - loss: 0.4843 - acc: 0.801 - ETA: 7:42 - loss: 0.4814 - acc: 0.803 - ETA: 7:34 - loss: 0.4746 - acc: 0.807 - ETA: 7:30 - loss: 0.4720 - acc: 0.808 - ETA: 7:23 - loss: 0.4738 - acc: 0.808 - ETA: 7:15 - loss: 0.4720 - acc: 0.809 - ETA: 7:06 - loss: 0.4706 - acc: 0.810 - ETA: 6:58 - loss: 0.4710 - acc: 0.810 - ETA: 6:48 - loss: 0.4706 - acc: 0.809 - ETA: 6:38 - loss: 0.4719 - acc: 0.809 - ETA: 6:30 - loss: 0.4675 - acc: 0.810 - ETA: 6:22 - loss: 0.4646 - acc: 0.812 - ETA: 6:12 - loss: 0.4641 - acc: 0.812 - ETA: 6:03 - loss: 0.4641 - acc: 0.812 - ETA: 5:53 - loss: 0.4636 - acc: 0.812 - ETA: 5:43 - loss: 0.4613 - acc: 0.814 - ETA: 5:33 - loss: 0.4595 - acc: 0.814 - ETA: 5:23 - loss: 0.4607 - acc: 0.814 - ETA: 5:13 - loss: 0.4608 - acc: 0.814 - ETA: 5:03 - loss: 0.4589 - acc: 0.815 - ETA: 4:52 - loss: 0.4600 - acc: 0.814 - ETA: 4:42 - loss: 0.4614 - acc: 0.814 - ETA: 4:32 - loss: 0.4617 - acc: 0.814 - ETA: 4:22 - loss: 0.4593 - acc: 0.816 - ETA: 4:12 - loss: 0.4599 - acc: 0.816 - ETA: 4:02 - loss: 0.4596 - acc: 0.817 - ETA: 3:52 - loss: 0.4583 - acc: 0.818 - ETA: 3:41 - loss: 0.4569 - acc: 0.818 - ETA: 3:31 - loss: 0.4550 - acc: 0.819 - ETA: 3:22 - loss: 0.4545 - acc: 0.820 - ETA: 3:12 - loss: 0.4526 - acc: 0.820 - ETA: 3:02 - loss: 0.4498 - acc: 0.822 - ETA: 2:52 - loss: 0.4488 - acc: 0.823 - ETA: 2:43 - loss: 0.4464 - acc: 0.824 - ETA: 2:33 - loss: 0.4452 - acc: 0.824 - ETA: 2:23 - loss: 0.4442 - acc: 0.825 - ETA: 2:13 - loss: 0.4408 - acc: 0.826 - ETA: 2:04 - loss: 0.4396 - acc: 0.826 - ETA: 1:54 - loss: 0.4376 - acc: 0.827 - ETA: 1:44 - loss: 0.4353 - acc: 0.828 - ETA: 1:35 - loss: 0.4321 - acc: 0.830 - ETA: 1:25 - loss: 0.4295 - acc: 0.831 - ETA: 1:15 - loss: 0.4279 - acc: 0.832 - ETA: 1:06 - loss: 0.4281 - acc: 0.831 - ETA: 56s - loss: 0.4271 - acc: 0.832 - ETA: 46s - loss: 0.4250 - acc: 0.83 - ETA: 37s - loss: 0.4245 - acc: 0.83 - ETA: 27s - loss: 0.4244 - acc: 0.83 - ETA: 18s - loss: 0.4222 - acc: 0.83 - ETA: 8s - loss: 0.4230 - acc: 0.8353 - 712s 51ms/step - loss: 0.4210 - acc: 0.8362 - val_loss: 0.2756 - val_acc: 0.9053\n",
      "Epoch 3/5\n",
      "13978/13978 [==============================] - ETA: 10:18 - loss: 0.2352 - acc: 0.92 - ETA: 10:10 - loss: 0.2322 - acc: 0.93 - ETA: 10:01 - loss: 0.2623 - acc: 0.91 - ETA: 9:54 - loss: 0.2450 - acc: 0.9213 - ETA: 9:47 - loss: 0.2529 - acc: 0.917 - ETA: 9:38 - loss: 0.2568 - acc: 0.916 - ETA: 9:30 - loss: 0.2606 - acc: 0.915 - ETA: 9:22 - loss: 0.2522 - acc: 0.917 - ETA: 9:18 - loss: 0.2431 - acc: 0.921 - ETA: 9:13 - loss: 0.2390 - acc: 0.922 - ETA: 9:04 - loss: 0.2379 - acc: 0.922 - ETA: 8:55 - loss: 0.2346 - acc: 0.922 - ETA: 8:45 - loss: 0.2385 - acc: 0.919 - ETA: 8:36 - loss: 0.2394 - acc: 0.919 - ETA: 8:28 - loss: 0.2406 - acc: 0.917 - ETA: 8:20 - loss: 0.2417 - acc: 0.917 - ETA: 8:13 - loss: 0.2476 - acc: 0.913 - ETA: 8:04 - loss: 0.2470 - acc: 0.914 - ETA: 7:54 - loss: 0.2522 - acc: 0.911 - ETA: 7:44 - loss: 0.2509 - acc: 0.911 - ETA: 7:35 - loss: 0.2514 - acc: 0.910 - ETA: 7:25 - loss: 0.2516 - acc: 0.910 - ETA: 7:16 - loss: 0.2541 - acc: 0.910 - ETA: 7:06 - loss: 0.2524 - acc: 0.911 - ETA: 6:58 - loss: 0.2489 - acc: 0.912 - ETA: 6:50 - loss: 0.2475 - acc: 0.912 - ETA: 6:41 - loss: 0.2486 - acc: 0.913 - ETA: 6:34 - loss: 0.2478 - acc: 0.913 - ETA: 6:25 - loss: 0.2466 - acc: 0.913 - ETA: 6:16 - loss: 0.2478 - acc: 0.913 - ETA: 6:07 - loss: 0.2471 - acc: 0.913 - ETA: 5:57 - loss: 0.2461 - acc: 0.913 - ETA: 5:48 - loss: 0.2427 - acc: 0.915 - ETA: 5:38 - loss: 0.2421 - acc: 0.915 - ETA: 5:29 - loss: 0.2451 - acc: 0.915 - ETA: 5:19 - loss: 0.2423 - acc: 0.916 - ETA: 5:09 - loss: 0.2413 - acc: 0.917 - ETA: 5:01 - loss: 0.2408 - acc: 0.917 - ETA: 4:52 - loss: 0.2390 - acc: 0.917 - ETA: 4:46 - loss: 0.2383 - acc: 0.918 - ETA: 4:39 - loss: 0.2408 - acc: 0.917 - ETA: 4:30 - loss: 0.2389 - acc: 0.918 - ETA: 4:21 - loss: 0.2372 - acc: 0.919 - ETA: 4:12 - loss: 0.2375 - acc: 0.919 - ETA: 4:02 - loss: 0.2381 - acc: 0.918 - ETA: 3:53 - loss: 0.2410 - acc: 0.917 - ETA: 3:43 - loss: 0.2460 - acc: 0.915 - ETA: 3:34 - loss: 0.2485 - acc: 0.914 - ETA: 3:24 - loss: 0.2513 - acc: 0.913 - ETA: 3:14 - loss: 0.2539 - acc: 0.912 - ETA: 3:04 - loss: 0.2565 - acc: 0.911 - ETA: 2:55 - loss: 0.2573 - acc: 0.910 - ETA: 2:45 - loss: 0.2583 - acc: 0.910 - ETA: 2:35 - loss: 0.2589 - acc: 0.910 - ETA: 2:25 - loss: 0.2583 - acc: 0.910 - ETA: 2:15 - loss: 0.2621 - acc: 0.909 - ETA: 2:05 - loss: 0.2630 - acc: 0.908 - ETA: 1:55 - loss: 0.2618 - acc: 0.909 - ETA: 1:46 - loss: 0.2615 - acc: 0.909 - ETA: 1:36 - loss: 0.2616 - acc: 0.909 - ETA: 1:26 - loss: 0.2633 - acc: 0.908 - ETA: 1:16 - loss: 0.2647 - acc: 0.908 - ETA: 1:06 - loss: 0.2657 - acc: 0.907 - ETA: 57s - loss: 0.2656 - acc: 0.907 - ETA: 47s - loss: 0.2654 - acc: 0.90 - ETA: 37s - loss: 0.2654 - acc: 0.90 - ETA: 28s - loss: 0.2646 - acc: 0.90 - ETA: 18s - loss: 0.2645 - acc: 0.90 - ETA: 8s - loss: 0.2651 - acc: 0.9081 - 720s 52ms/step - loss: 0.2662 - acc: 0.9078 - val_loss: 0.2485 - val_acc: 0.9126\n",
      "Epoch 4/5\n",
      "13978/13978 [==============================] - ETA: 11:30 - loss: 0.2538 - acc: 0.93 - ETA: 10:56 - loss: 0.2345 - acc: 0.93 - ETA: 10:42 - loss: 0.2051 - acc: 0.93 - ETA: 10:27 - loss: 0.1924 - acc: 0.94 - ETA: 10:14 - loss: 0.1974 - acc: 0.93 - ETA: 10:02 - loss: 0.1936 - acc: 0.93 - ETA: 9:51 - loss: 0.2059 - acc: 0.9357 - ETA: 9:42 - loss: 0.2084 - acc: 0.935 - ETA: 9:33 - loss: 0.2031 - acc: 0.936 - ETA: 9:23 - loss: 0.2017 - acc: 0.936 - ETA: 9:13 - loss: 0.2010 - acc: 0.935 - ETA: 9:04 - loss: 0.1995 - acc: 0.935 - ETA: 8:55 - loss: 0.1984 - acc: 0.936 - ETA: 8:45 - loss: 0.1993 - acc: 0.937 - ETA: 8:36 - loss: 0.2027 - acc: 0.935 - ETA: 8:26 - loss: 0.2005 - acc: 0.936 - ETA: 8:18 - loss: 0.2035 - acc: 0.935 - ETA: 8:09 - loss: 0.2008 - acc: 0.936 - ETA: 7:59 - loss: 0.2044 - acc: 0.934 - ETA: 7:49 - loss: 0.2051 - acc: 0.934 - ETA: 7:39 - loss: 0.2104 - acc: 0.931 - ETA: 7:30 - loss: 0.2129 - acc: 0.930 - ETA: 7:20 - loss: 0.2160 - acc: 0.928 - ETA: 7:11 - loss: 0.2136 - acc: 0.929 - ETA: 7:01 - loss: 0.2109 - acc: 0.930 - ETA: 6:51 - loss: 0.2089 - acc: 0.931 - ETA: 6:42 - loss: 0.2083 - acc: 0.931 - ETA: 6:33 - loss: 0.2082 - acc: 0.931 - ETA: 6:24 - loss: 0.2095 - acc: 0.930 - ETA: 6:15 - loss: 0.2098 - acc: 0.930 - ETA: 6:05 - loss: 0.2085 - acc: 0.930 - ETA: 5:55 - loss: 0.2095 - acc: 0.930 - ETA: 5:46 - loss: 0.2113 - acc: 0.930 - ETA: 5:36 - loss: 0.2097 - acc: 0.931 - ETA: 5:27 - loss: 0.2111 - acc: 0.931 - ETA: 5:18 - loss: 0.2115 - acc: 0.931 - ETA: 5:08 - loss: 0.2106 - acc: 0.931 - ETA: 4:58 - loss: 0.2100 - acc: 0.931 - ETA: 4:49 - loss: 0.2098 - acc: 0.931 - ETA: 4:40 - loss: 0.2118 - acc: 0.930 - ETA: 4:30 - loss: 0.2098 - acc: 0.931 - ETA: 4:21 - loss: 0.2119 - acc: 0.930 - ETA: 4:11 - loss: 0.2118 - acc: 0.930 - ETA: 4:02 - loss: 0.2143 - acc: 0.929 - ETA: 3:53 - loss: 0.2144 - acc: 0.929 - ETA: 3:43 - loss: 0.2142 - acc: 0.928 - ETA: 3:34 - loss: 0.2127 - acc: 0.929 - ETA: 3:24 - loss: 0.2109 - acc: 0.929 - ETA: 3:15 - loss: 0.2107 - acc: 0.930 - ETA: 3:06 - loss: 0.2098 - acc: 0.930 - ETA: 2:56 - loss: 0.2091 - acc: 0.930 - ETA: 2:47 - loss: 0.2087 - acc: 0.930 - ETA: 2:38 - loss: 0.2082 - acc: 0.930 - ETA: 2:28 - loss: 0.2085 - acc: 0.930 - ETA: 2:19 - loss: 0.2083 - acc: 0.930 - ETA: 2:10 - loss: 0.2084 - acc: 0.930 - ETA: 2:00 - loss: 0.2079 - acc: 0.930 - ETA: 1:51 - loss: 0.2074 - acc: 0.930 - ETA: 1:42 - loss: 0.2070 - acc: 0.930 - ETA: 1:32 - loss: 0.2065 - acc: 0.931 - ETA: 1:23 - loss: 0.2069 - acc: 0.930 - ETA: 1:13 - loss: 0.2069 - acc: 0.930 - ETA: 1:04 - loss: 0.2067 - acc: 0.930 - ETA: 55s - loss: 0.2063 - acc: 0.930 - ETA: 45s - loss: 0.2062 - acc: 0.93 - ETA: 36s - loss: 0.2054 - acc: 0.93 - ETA: 27s - loss: 0.2053 - acc: 0.93 - ETA: 17s - loss: 0.2040 - acc: 0.93 - ETA: 8s - loss: 0.2043 - acc: 0.9320 - 698s 50ms/step - loss: 0.2041 - acc: 0.9320 - val_loss: 0.2124 - val_acc: 0.9322\n",
      "Epoch 5/5\n"
     ]
    },
    {
     "name": "stdout",
     "output_type": "stream",
     "text": [
      "13978/13978 [==============================] - ETA: 10:17 - loss: 0.2247 - acc: 0.92 - ETA: 10:17 - loss: 0.1625 - acc: 0.94 - ETA: 10:09 - loss: 0.1546 - acc: 0.95 - ETA: 10:05 - loss: 0.1555 - acc: 0.95 - ETA: 10:01 - loss: 0.1509 - acc: 0.95 - ETA: 9:51 - loss: 0.1579 - acc: 0.9508 - ETA: 9:43 - loss: 0.1673 - acc: 0.945 - ETA: 9:35 - loss: 0.1671 - acc: 0.946 - ETA: 9:25 - loss: 0.1645 - acc: 0.947 - ETA: 9:16 - loss: 0.1583 - acc: 0.949 - ETA: 9:08 - loss: 0.1537 - acc: 0.950 - ETA: 8:58 - loss: 0.1559 - acc: 0.950 - ETA: 8:50 - loss: 0.1512 - acc: 0.952 - ETA: 8:40 - loss: 0.1531 - acc: 0.951 - ETA: 8:32 - loss: 0.1631 - acc: 0.947 - ETA: 8:23 - loss: 0.1883 - acc: 0.938 - ETA: 8:13 - loss: 0.2029 - acc: 0.931 - ETA: 8:04 - loss: 0.2149 - acc: 0.925 - ETA: 7:55 - loss: 0.2228 - acc: 0.921 - ETA: 7:47 - loss: 0.2252 - acc: 0.920 - ETA: 7:38 - loss: 0.2265 - acc: 0.920 - ETA: 7:29 - loss: 0.2349 - acc: 0.917 - ETA: 7:20 - loss: 0.2413 - acc: 0.913 - ETA: 7:10 - loss: 0.2434 - acc: 0.911 - ETA: 7:01 - loss: 0.2433 - acc: 0.911 - ETA: 6:52 - loss: 0.2491 - acc: 0.908 - ETA: 6:43 - loss: 0.2510 - acc: 0.907 - ETA: 6:33 - loss: 0.2564 - acc: 0.905 - ETA: 6:24 - loss: 0.2577 - acc: 0.905 - ETA: 6:14 - loss: 0.2560 - acc: 0.906 - ETA: 6:05 - loss: 0.2548 - acc: 0.906 - ETA: 5:57 - loss: 0.2576 - acc: 0.906 - ETA: 5:49 - loss: 0.2581 - acc: 0.906 - ETA: 5:41 - loss: 0.2600 - acc: 0.905 - ETA: 5:32 - loss: 0.2607 - acc: 0.904 - ETA: 5:22 - loss: 0.2614 - acc: 0.904 - ETA: 5:13 - loss: 0.2620 - acc: 0.904 - ETA: 5:03 - loss: 0.2604 - acc: 0.904 - ETA: 4:53 - loss: 0.2598 - acc: 0.904 - ETA: 4:44 - loss: 0.2602 - acc: 0.904 - ETA: 4:34 - loss: 0.2599 - acc: 0.904 - ETA: 4:24 - loss: 0.2604 - acc: 0.904 - ETA: 4:15 - loss: 0.2597 - acc: 0.905 - ETA: 4:05 - loss: 0.2595 - acc: 0.904 - ETA: 3:56 - loss: 0.2581 - acc: 0.905 - ETA: 3:46 - loss: 0.2566 - acc: 0.906 - ETA: 3:37 - loss: 0.2550 - acc: 0.906 - ETA: 3:27 - loss: 0.2555 - acc: 0.906 - ETA: 3:18 - loss: 0.2535 - acc: 0.907 - ETA: 3:08 - loss: 0.2519 - acc: 0.908 - ETA: 2:59 - loss: 0.2504 - acc: 0.908 - ETA: 2:49 - loss: 0.2500 - acc: 0.908 - ETA: 2:40 - loss: 0.2492 - acc: 0.909 - ETA: 2:30 - loss: 0.2502 - acc: 0.909 - ETA: 2:21 - loss: 0.2480 - acc: 0.909 - ETA: 2:11 - loss: 0.2460 - acc: 0.910 - ETA: 2:02 - loss: 0.2454 - acc: 0.911 - ETA: 1:52 - loss: 0.2460 - acc: 0.911 - ETA: 1:43 - loss: 0.2441 - acc: 0.911 - ETA: 1:33 - loss: 0.2426 - acc: 0.912 - ETA: 1:24 - loss: 0.2418 - acc: 0.913 - ETA: 1:14 - loss: 0.2414 - acc: 0.913 - ETA: 1:05 - loss: 0.2397 - acc: 0.913 - ETA: 55s - loss: 0.2382 - acc: 0.914 - ETA: 46s - loss: 0.2386 - acc: 0.91 - ETA: 36s - loss: 0.2380 - acc: 0.91 - ETA: 27s - loss: 0.2380 - acc: 0.91 - ETA: 17s - loss: 0.2370 - acc: 0.91 - ETA: 8s - loss: 0.2366 - acc: 0.9153 - 709s 51ms/step - loss: 0.2358 - acc: 0.9156 - val_loss: 0.2387 - val_acc: 0.9214\n"
     ]
    }
   ],
   "source": [
    "batch_size=200\n",
    "epochs = 5\n",
    "history = model.fit(X_train, y_train, epochs=epochs, batch_size=batch_size,validation_split=0.33,\\\n",
    "                    callbacks=[EarlyStopping(monitor='val_loss', patience=3, min_delta=0.0001)])"
   ]
  },
  {
   "cell_type": "code",
   "execution_count": 47,
   "metadata": {},
   "outputs": [
    {
     "name": "stdout",
     "output_type": "stream",
     "text": [
      "10276/10276 [==============================] - ETA: 1: - ETA: 1: - ETA: 1: - ETA: 1: - ETA: 1: - ETA: 1: - ETA: 1: - ETA: 1: - ETA: 1: - ETA: 1: - ETA: 59s - ETA: 59 - ETA: 1: - ETA: 1: - ETA: 59s - ETA: 59 - ETA: 59 - ETA: 59 - ETA: 59 - ETA: 59 - ETA: 58 - ETA: 58 - ETA: 58 - ETA: 57 - ETA: 57 - ETA: 57 - ETA: 57 - ETA: 56 - ETA: 56 - ETA: 56 - ETA: 56 - ETA: 55 - ETA: 55 - ETA: 55 - ETA: 54 - ETA: 54 - ETA: 54 - ETA: 54 - ETA: 53 - ETA: 53 - ETA: 53 - ETA: 53 - ETA: 53 - ETA: 52 - ETA: 52 - ETA: 52 - ETA: 52 - ETA: 52 - ETA: 52 - ETA: 52 - ETA: 51 - ETA: 51 - ETA: 51 - ETA: 51 - ETA: 51 - ETA: 51 - ETA: 51 - ETA: 51 - ETA: 51 - ETA: 51 - ETA: 51 - ETA: 51 - ETA: 51 - ETA: 51 - ETA: 51 - ETA: 51 - ETA: 50 - ETA: 50 - ETA: 50 - ETA: 50 - ETA: 50 - ETA: 50 - ETA: 50 - ETA: 50 - ETA: 50 - ETA: 50 - ETA: 49 - ETA: 49 - ETA: 49 - ETA: 49 - ETA: 49 - ETA: 49 - ETA: 49 - ETA: 48 - ETA: 48 - ETA: 48 - ETA: 48 - ETA: 48 - ETA: 48 - ETA: 47 - ETA: 47 - ETA: 47 - ETA: 47 - ETA: 47 - ETA: 47 - ETA: 47 - ETA: 46 - ETA: 46 - ETA: 46 - ETA: 46 - ETA: 46 - ETA: 45 - ETA: 45 - ETA: 45 - ETA: 45 - ETA: 45 - ETA: 45 - ETA: 44 - ETA: 44 - ETA: 44 - ETA: 44 - ETA: 44 - ETA: 43 - ETA: 43 - ETA: 43 - ETA: 43 - ETA: 43 - ETA: 42 - ETA: 42 - ETA: 42 - ETA: 42 - ETA: 42 - ETA: 42 - ETA: 41 - ETA: 41 - ETA: 41 - ETA: 41 - ETA: 41 - ETA: 40 - ETA: 40 - ETA: 40 - ETA: 40 - ETA: 40 - ETA: 40 - ETA: 39 - ETA: 39 - ETA: 39 - ETA: 39 - ETA: 39 - ETA: 39 - ETA: 39 - ETA: 38 - ETA: 38 - ETA: 38 - ETA: 38 - ETA: 37 - ETA: 37 - ETA: 37 - ETA: 37 - ETA: 37 - ETA: 36 - ETA: 36 - ETA: 36 - ETA: 36 - ETA: 35 - ETA: 35 - ETA: 35 - ETA: 35 - ETA: 35 - ETA: 34 - ETA: 34 - ETA: 34 - ETA: 34 - ETA: 34 - ETA: 33 - ETA: 33 - ETA: 33 - ETA: 33 - ETA: 32 - ETA: 32 - ETA: 32 - ETA: 32 - ETA: 32 - ETA: 31 - ETA: 31 - ETA: 31 - ETA: 31 - ETA: 31 - ETA: 30 - ETA: 30 - ETA: 30 - ETA: 30 - ETA: 30 - ETA: 29 - ETA: 29 - ETA: 29 - ETA: 29 - ETA: 28 - ETA: 28 - ETA: 28 - ETA: 28 - ETA: 28 - ETA: 27 - ETA: 27 - ETA: 27 - ETA: 27 - ETA: 27 - ETA: 26 - ETA: 26 - ETA: 26 - ETA: 26 - ETA: 26 - ETA: 25 - ETA: 25 - ETA: 25 - ETA: 25 - ETA: 25 - ETA: 24 - ETA: 24 - ETA: 24 - ETA: 24 - ETA: 24 - ETA: 23 - ETA: 23 - ETA: 23 - ETA: 23 - ETA: 22 - ETA: 22 - ETA: 22 - ETA: 22 - ETA: 22 - ETA: 21 - ETA: 21 - ETA: 21 - ETA: 21 - ETA: 20 - ETA: 20 - ETA: 20 - ETA: 20 - ETA: 20 - ETA: 19 - ETA: 19 - ETA: 19 - ETA: 19 - ETA: 19 - ETA: 18 - ETA: 18 - ETA: 18 - ETA: 18 - ETA: 17 - ETA: 17 - ETA: 17 - ETA: 17 - ETA: 17 - ETA: 16 - ETA: 16 - ETA: 16 - ETA: 16 - ETA: 15 - ETA: 15 - ETA: 15 - ETA: 15 - ETA: 15 - ETA: 14 - ETA: 14 - ETA: 14 - ETA: 14 - ETA: 13 - ETA: 13 - ETA: 13 - ETA: 13 - ETA: 13 - ETA: 12 - ETA: 12 - ETA: 12 - ETA: 12 - ETA: 11 - ETA: 11 - ETA: 11 - ETA: 11 - ETA: 11 - ETA: 10 - ETA: 10 - ETA: 10 - ETA: 10 - ETA: 10 - ETA: 9 - ETA:  - ETA:  - ETA:  - ETA:  - ETA:  - ETA:  - ETA:  - ETA:  - ETA:  - ETA:  - ETA:  - ETA:  - ETA:  - ETA:  - ETA:  - ETA:  - ETA:  - ETA:  - ETA:  - ETA:  - ETA:  - ETA:  - ETA:  - ETA:  - ETA:  - ETA:  - ETA:  - ETA:  - ETA:  - ETA:  - ETA:  - ETA:  - ETA:  - ETA:  - ETA:  - ETA:  - ETA:  - ETA:  - ETA:  - ETA:  - ETA:  - ETA:  - ETA:  - ETA:  - 72s 7ms/step\n"
     ]
    },
    {
     "data": {
      "text/plain": [
       "[0.24665559241283538, 0.9222460101206695]"
      ]
     },
     "execution_count": 47,
     "metadata": {},
     "output_type": "execute_result"
    }
   ],
   "source": [
    "accr = model.evaluate(X_test,y_test)\n",
    "accr"
   ]
  },
  {
   "cell_type": "code",
   "execution_count": 48,
   "metadata": {},
   "outputs": [],
   "source": [
    "model.save('news_classification')"
   ]
  },
  {
   "cell_type": "code",
   "execution_count": 49,
   "metadata": {},
   "outputs": [],
   "source": [
    "y_pred = model.predict(X_test)"
   ]
  },
  {
   "cell_type": "code",
   "execution_count": 50,
   "metadata": {},
   "outputs": [],
   "source": [
    "y_pred = pd.DataFrame(y_pred).apply(np.round)"
   ]
  },
  {
   "cell_type": "code",
   "execution_count": 51,
   "metadata": {},
   "outputs": [],
   "source": [
    "y_test2 = y_test.idxmax(axis=1)"
   ]
  },
  {
   "cell_type": "code",
   "execution_count": 52,
   "metadata": {},
   "outputs": [],
   "source": [
    "y_pred.columns = ['High','Low','Mixed']"
   ]
  },
  {
   "cell_type": "code",
   "execution_count": 53,
   "metadata": {},
   "outputs": [],
   "source": [
    "y_pred2 = y_pred.idxmax(axis=1)"
   ]
  },
  {
   "cell_type": "code",
   "execution_count": 57,
   "metadata": {},
   "outputs": [
    {
     "name": "stdout",
     "output_type": "stream",
     "text": [
      "              precision    recall  f1-score   support\n",
      "\n",
      "        High       0.94      0.91      0.92      4139\n",
      "         Low       0.92      0.93      0.93      2967\n",
      "       Mixed       0.91      0.93      0.92      3170\n",
      "\n",
      "    accuracy                           0.92     10276\n",
      "   macro avg       0.92      0.92      0.92     10276\n",
      "weighted avg       0.92      0.92      0.92     10276\n",
      "\n"
     ]
    }
   ],
   "source": [
    "genrate_classificatoin_report(y_test2,y_pred2)"
   ]
  },
  {
   "cell_type": "code",
   "execution_count": 58,
   "metadata": {},
   "outputs": [
    {
     "data": {
      "image/png": "[encoded data removed]",
      "text/plain": [
       "<Figure size 432x288 with 2 Axes>"
      ]
     },
     "metadata": {
      "needs_background": "light"
     },
     "output_type": "display_data"
    }
   ],
   "source": [
    "generate_confusion_matrix(y_test2,y_pred2)"
   ]
  }
 ],
 "metadata": {
  "kernelspec": {
   "display_name": "Python 3",
   "language": "python",
   "name": "python3"
  },
  "language_info": {
   "codemirror_mode": {
    "name": "ipython",
    "version": 3
   },
   "file_extension": ".py",
   "mimetype": "text/x-python",
   "name": "python",
   "nbconvert_exporter": "python",
   "pygments_lexer": "ipython3",
   "version": "3.7.3"
  }
 },
 "nbformat": 4,
 "nbformat_minor": 2
}
