{
 "cells": [
  {
   "cell_type": "markdown",
   "metadata": {},
   "source": [
    "In this notebook, I used Doc2vec to convert the article text into their numerical representation. Doc2vec provide the word embeddings so it can retain the meaning."
   ]
  },
  {
   "cell_type": "code",
   "execution_count": 1,
   "metadata": {},
   "outputs": [
    {
     "name": "stderr",
     "output_type": "stream",
     "text": [
      "C:\\Users\\Hardik\\Anaconda3\\lib\\site-packages\\smart_open\\ssh.py:34: UserWarning: paramiko missing, opening SSH/SCP/SFTP paths will be disabled.  `pip install paramiko` to suppress\n",
      "  warnings.warn('paramiko missing, opening SSH/SCP/SFTP paths will be disabled.  `pip install paramiko` to suppress')\n"
     ]
    }
   ],
   "source": [
    "## Importing all the important libararies\n",
    "import numpy as np\n",
    "import pandas as pd\n",
    "\n",
    "import re\n",
    "import string\n",
    "from tqdm import tqdm\n",
    "tqdm.pandas(desc=\"progress-bar\")\n",
    "from sklearn.utils import shuffle,resample\n",
    "\n",
    "\n",
    "import matplotlib.pyplot as plt\n",
    "import seaborn as sns\n",
    "\n",
    "from nltk import word_tokenize\n",
    "from nltk import sent_tokenize\n",
    "from nltk.corpus import stopwords\n",
    "from nltk.stem import WordNetLemmatizer\n",
    "\n",
    "from gensim.models import Doc2Vec\n",
    "from gensim.models.doc2vec import TaggedDocument\n",
    "\n",
    "from sklearn.model_selection import train_test_split,cross_val_score,StratifiedKFold\n",
    "\n",
    "from sklearn.linear_model import LogisticRegression\n",
    "from sklearn.ensemble import RandomForestClassifier,BaggingClassifier,ExtraTreesClassifier\n",
    "from sklearn.svm import SVC\n",
    "\n",
    "\n",
    "from sklearn.metrics import accuracy_score,classification_report,confusion_matrix,roc_auc_score \n",
    "\n",
    "import warnings\n",
    "warnings.simplefilter(action='ignore')"
   ]
  },
  {
   "cell_type": "code",
   "execution_count": 83,
   "metadata": {},
   "outputs": [],
   "source": [
    "data_file = './data/news_data.csv'"
   ]
  },
  {
   "cell_type": "code",
   "execution_count": 84,
   "metadata": {},
   "outputs": [],
   "source": [
    "## Load data into dataframe\n",
    "news_df = pd.read_csv(data_file)"
   ]
  },
  {
   "cell_type": "code",
   "execution_count": 85,
   "metadata": {},
   "outputs": [
    {
     "data": {
      "text/html": [
       "<div>\n",
       "<style scoped>\n",
       "    .dataframe tbody tr th:only-of-type {\n",
       "        vertical-align: middle;\n",
       "    }\n",
       "\n",
       "    .dataframe tbody tr th {\n",
       "        vertical-align: top;\n",
       "    }\n",
       "\n",
       "    .dataframe thead th {\n",
       "        text-align: right;\n",
       "    }\n",
       "</style>\n",
       "<table border=\"1\" class=\"dataframe\">\n",
       "  <thead>\n",
       "    <tr style=\"text-align: right;\">\n",
       "      <th></th>\n",
       "      <th>Unnamed: 0</th>\n",
       "      <th>author</th>\n",
       "      <th>country</th>\n",
       "      <th>crawled</th>\n",
       "      <th>domain_rank</th>\n",
       "      <th>facebook_comments</th>\n",
       "      <th>facebook_likes</th>\n",
       "      <th>language</th>\n",
       "      <th>main_image</th>\n",
       "      <th>participants_count</th>\n",
       "      <th>published</th>\n",
       "      <th>rating</th>\n",
       "      <th>site</th>\n",
       "      <th>site_categories</th>\n",
       "      <th>site_type</th>\n",
       "      <th>text</th>\n",
       "      <th>title</th>\n",
       "      <th>url</th>\n",
       "      <th>factual_reporting</th>\n",
       "    </tr>\n",
       "  </thead>\n",
       "  <tbody>\n",
       "    <tr>\n",
       "      <th>0</th>\n",
       "      <td>0</td>\n",
       "      <td>Javier Moreno</td>\n",
       "      <td>US</td>\n",
       "      <td>2019-04-11T07:20:39.028+03:00</td>\n",
       "      <td>137.0</td>\n",
       "      <td>319</td>\n",
       "      <td>382</td>\n",
       "      <td>english</td>\n",
       "      <td>https://img.buzzfeed.com/buzzfeed-static/stati...</td>\n",
       "      <td>1</td>\n",
       "      <td>2019-04-11T12:14:00.000+03:00</td>\n",
       "      <td>NaN</td>\n",
       "      <td>www.buzzfeed.com</td>\n",
       "      <td>['media', 'homework_study_tips', 'education']</td>\n",
       "      <td>blogs</td>\n",
       "      <td>Questions are coming. HBO Correct Incorrect Co...</td>\n",
       "      <td>Which \"Game Of Thrones\" Group Do You Really Be...</td>\n",
       "      <td>https://www.buzzfeed.com/javiermoreno/game-of-...</td>\n",
       "      <td>Mixed</td>\n",
       "    </tr>\n",
       "    <tr>\n",
       "      <th>1</th>\n",
       "      <td>1</td>\n",
       "      <td>Political Reporter Jackson Gothe-Snape</td>\n",
       "      <td>AU</td>\n",
       "      <td>2019-04-11T07:25:13.024+03:00</td>\n",
       "      <td>1455.0</td>\n",
       "      <td>45</td>\n",
       "      <td>43</td>\n",
       "      <td>english</td>\n",
       "      <td>https://www.abc.net.au/news/image/9226414-16x9...</td>\n",
       "      <td>1</td>\n",
       "      <td>2019-04-11T03:00:00.000+03:00</td>\n",
       "      <td>NaN</td>\n",
       "      <td>www.abc.net.au</td>\n",
       "      <td>['television', 'music', 'entertainment']</td>\n",
       "      <td>news</td>\n",
       "      <td>Australians are increasingly suspicious of gov...</td>\n",
       "      <td>Election to focus on economy but voters losing...</td>\n",
       "      <td>https://www.abc.net.au/news/2019-04-11/federal...</td>\n",
       "      <td>High</td>\n",
       "    </tr>\n",
       "    <tr>\n",
       "      <th>2</th>\n",
       "      <td>2</td>\n",
       "      <td>sports.yahoo.com</td>\n",
       "      <td>US</td>\n",
       "      <td>2019-04-11T07:35:44.051+03:00</td>\n",
       "      <td>137.0</td>\n",
       "      <td>0</td>\n",
       "      <td>0</td>\n",
       "      <td>english</td>\n",
       "      <td>https://img.buzzfeed.com/buzzfeed-static/stati...</td>\n",
       "      <td>1</td>\n",
       "      <td>2019-04-11T03:00:00.000+03:00</td>\n",
       "      <td>NaN</td>\n",
       "      <td>www.buzzfeed.com</td>\n",
       "      <td>['media', 'homework_study_tips', 'education']</td>\n",
       "      <td>news</td>\n",
       "      <td>Share On facebook Share On facebook Compartilh...</td>\n",
       "      <td>Responda estas perguntas sobre sexo e adivinha...</td>\n",
       "      <td>https://www.buzzfeed.com/br/luisdelvalle/respo...</td>\n",
       "      <td>Mixed</td>\n",
       "    </tr>\n",
       "    <tr>\n",
       "      <th>3</th>\n",
       "      <td>3</td>\n",
       "      <td>Yoonjung Seo</td>\n",
       "      <td>US</td>\n",
       "      <td>2019-04-11T07:36:28.007+03:00</td>\n",
       "      <td>81.0</td>\n",
       "      <td>3031</td>\n",
       "      <td>24808</td>\n",
       "      <td>english</td>\n",
       "      <td>https://cdn.cnn.com/cnnnext/dam/assets/1904101...</td>\n",
       "      <td>1</td>\n",
       "      <td>2019-04-11T12:19:00.000+03:00</td>\n",
       "      <td>NaN</td>\n",
       "      <td>edition.cnn.com</td>\n",
       "      <td>['media']</td>\n",
       "      <td>news</td>\n",
       "      <td>Seoul (CNN) South Korea's 66-year abortion ban...</td>\n",
       "      <td>Will South Korea legalize abortion after 50-ye...</td>\n",
       "      <td>https://edition.cnn.com/2019/04/11/health/sout...</td>\n",
       "      <td>Mixed</td>\n",
       "    </tr>\n",
       "    <tr>\n",
       "      <th>4</th>\n",
       "      <td>4</td>\n",
       "      <td>Caroline Kelly</td>\n",
       "      <td>US</td>\n",
       "      <td>2019-04-11T07:36:45.001+03:00</td>\n",
       "      <td>81.0</td>\n",
       "      <td>5701</td>\n",
       "      <td>20690</td>\n",
       "      <td>english</td>\n",
       "      <td>https://cdn.cnn.com/cnnnext/dam/assets/1603211...</td>\n",
       "      <td>1</td>\n",
       "      <td>2019-04-11T12:24:00.000+03:00</td>\n",
       "      <td>NaN</td>\n",
       "      <td>edition.cnn.com</td>\n",
       "      <td>['media']</td>\n",
       "      <td>news</td>\n",
       "      <td>Washington (CNN) President Donald Trump's olde...</td>\n",
       "      <td>Investigation into Maryanne Trump Barry, Presi...</td>\n",
       "      <td>https://edition.cnn.com/2019/04/11/politics/ma...</td>\n",
       "      <td>Mixed</td>\n",
       "    </tr>\n",
       "  </tbody>\n",
       "</table>\n",
       "</div>"
      ],
      "text/plain": [
       "   Unnamed: 0                                  author country  \\\n",
       "0           0                           Javier Moreno      US   \n",
       "1           1  Political Reporter Jackson Gothe-Snape      AU   \n",
       "2           2                        sports.yahoo.com      US   \n",
       "3           3                            Yoonjung Seo      US   \n",
       "4           4                          Caroline Kelly      US   \n",
       "\n",
       "                         crawled  domain_rank  facebook_comments  \\\n",
       "0  2019-04-11T07:20:39.028+03:00        137.0                319   \n",
       "1  2019-04-11T07:25:13.024+03:00       1455.0                 45   \n",
       "2  2019-04-11T07:35:44.051+03:00        137.0                  0   \n",
       "3  2019-04-11T07:36:28.007+03:00         81.0               3031   \n",
       "4  2019-04-11T07:36:45.001+03:00         81.0               5701   \n",
       "\n",
       "   facebook_likes language                                         main_image  \\\n",
       "0             382  english  https://img.buzzfeed.com/buzzfeed-static/stati...   \n",
       "1              43  english  https://www.abc.net.au/news/image/9226414-16x9...   \n",
       "2               0  english  https://img.buzzfeed.com/buzzfeed-static/stati...   \n",
       "3           24808  english  https://cdn.cnn.com/cnnnext/dam/assets/1904101...   \n",
       "4           20690  english  https://cdn.cnn.com/cnnnext/dam/assets/1603211...   \n",
       "\n",
       "   participants_count                      published  rating  \\\n",
       "0                   1  2019-04-11T12:14:00.000+03:00     NaN   \n",
       "1                   1  2019-04-11T03:00:00.000+03:00     NaN   \n",
       "2                   1  2019-04-11T03:00:00.000+03:00     NaN   \n",
       "3                   1  2019-04-11T12:19:00.000+03:00     NaN   \n",
       "4                   1  2019-04-11T12:24:00.000+03:00     NaN   \n",
       "\n",
       "               site                                site_categories site_type  \\\n",
       "0  www.buzzfeed.com  ['media', 'homework_study_tips', 'education']     blogs   \n",
       "1    www.abc.net.au       ['television', 'music', 'entertainment']      news   \n",
       "2  www.buzzfeed.com  ['media', 'homework_study_tips', 'education']      news   \n",
       "3   edition.cnn.com                                      ['media']      news   \n",
       "4   edition.cnn.com                                      ['media']      news   \n",
       "\n",
       "                                                text  \\\n",
       "0  Questions are coming. HBO Correct Incorrect Co...   \n",
       "1  Australians are increasingly suspicious of gov...   \n",
       "2  Share On facebook Share On facebook Compartilh...   \n",
       "3  Seoul (CNN) South Korea's 66-year abortion ban...   \n",
       "4  Washington (CNN) President Donald Trump's olde...   \n",
       "\n",
       "                                               title  \\\n",
       "0  Which \"Game Of Thrones\" Group Do You Really Be...   \n",
       "1  Election to focus on economy but voters losing...   \n",
       "2  Responda estas perguntas sobre sexo e adivinha...   \n",
       "3  Will South Korea legalize abortion after 50-ye...   \n",
       "4  Investigation into Maryanne Trump Barry, Presi...   \n",
       "\n",
       "                                                 url factual_reporting  \n",
       "0  https://www.buzzfeed.com/javiermoreno/game-of-...             Mixed  \n",
       "1  https://www.abc.net.au/news/2019-04-11/federal...              High  \n",
       "2  https://www.buzzfeed.com/br/luisdelvalle/respo...             Mixed  \n",
       "3  https://edition.cnn.com/2019/04/11/health/sout...             Mixed  \n",
       "4  https://edition.cnn.com/2019/04/11/politics/ma...             Mixed  "
      ]
     },
     "execution_count": 85,
     "metadata": {},
     "output_type": "execute_result"
    }
   ],
   "source": [
    "news_df.head()"
   ]
  },
  {
   "cell_type": "code",
   "execution_count": 86,
   "metadata": {},
   "outputs": [
    {
     "data": {
      "text/plain": [
       "(34680, 19)"
      ]
     },
     "execution_count": 86,
     "metadata": {},
     "output_type": "execute_result"
    }
   ],
   "source": [
    "news_df.shape"
   ]
  },
  {
   "cell_type": "markdown",
   "metadata": {},
   "source": [
    "<a id='EDA'></a>\n",
    "\n",
    "## Exploratory Data Analysis"
   ]
  },
  {
   "cell_type": "code",
   "execution_count": 87,
   "metadata": {},
   "outputs": [
    {
     "data": {
      "text/plain": [
       "Unnamed: 0                0\n",
       "author                 7624\n",
       "country                 426\n",
       "crawled                   0\n",
       "domain_rank            1768\n",
       "facebook_comments         0\n",
       "facebook_likes            0\n",
       "language                  0\n",
       "main_image             1183\n",
       "participants_count        0\n",
       "published                 0\n",
       "rating                34680\n",
       "site                      0\n",
       "site_categories           0\n",
       "site_type                 0\n",
       "text                      0\n",
       "title                  3005\n",
       "url                       0\n",
       "factual_reporting         0\n",
       "dtype: int64"
      ]
     },
     "execution_count": 87,
     "metadata": {},
     "output_type": "execute_result"
    }
   ],
   "source": [
    "news_df.isnull().sum()"
   ]
  },
  {
   "cell_type": "markdown",
   "metadata": {},
   "source": [
    "### It seems that unnamed is an extra column so we need to drop it and also rating value of each article is not available.So we need to drop both of them"
   ]
  },
  {
   "cell_type": "code",
   "execution_count": 88,
   "metadata": {},
   "outputs": [],
   "source": [
    "news_df.drop(['Unnamed: 0','rating'],axis=1,inplace=True)"
   ]
  },
  {
   "cell_type": "code",
   "execution_count": 89,
   "metadata": {},
   "outputs": [
    {
     "data": {
      "text/plain": [
       "(34680, 17)"
      ]
     },
     "execution_count": 89,
     "metadata": {},
     "output_type": "execute_result"
    }
   ],
   "source": [
    "news_df.shape"
   ]
  },
  {
   "cell_type": "code",
   "execution_count": 90,
   "metadata": {},
   "outputs": [
    {
     "data": {
      "text/plain": [
       "['author', 'country', 'main_image', 'title']"
      ]
     },
     "execution_count": 90,
     "metadata": {},
     "output_type": "execute_result"
    }
   ],
   "source": [
    "#finding the columns having null values and data type is object\n",
    "null_columns_with_dt_object = [col for col in news_df.columns if (news_df[col].isnull().sum()>0) & (news_df[col].dtype == np.object)]\n",
    "null_columns_with_dt_object"
   ]
  },
  {
   "cell_type": "code",
   "execution_count": 91,
   "metadata": {},
   "outputs": [],
   "source": [
    "#replacing the null values\n",
    "for each_column in null_columns_with_dt_object:\n",
    "    news_df[each_column].fillna('NA',inplace=True)\n",
    "    "
   ]
  },
  {
   "cell_type": "code",
   "execution_count": 92,
   "metadata": {},
   "outputs": [],
   "source": [
    "#replacing the null values for domain rank\n",
    "news_df['domain_rank'].fillna(0,inplace=True)\n"
   ]
  },
  {
   "cell_type": "code",
   "execution_count": 93,
   "metadata": {},
   "outputs": [],
   "source": [
    "#changing the country code to their corresponsing name\n",
    "country_encoded_dict = {'US' :  'United States', 'AU' : 'Australia', 'JP' : 'Japan', 'CZ' : 'Czech Repulbic', 'GB' : 'United Kingdom(GB)', 'CA' : 'Canada', \n",
    "             'DE' : 'Germany', 'CC' : 'Cocos (Keeling) Islands', 'CH' : 'Switzerland', 'TK' : 'Tokelau', 'ID' :  'Indonesia',\n",
    "             'BG' :  'Bulgaria','EU':'European Union','PH': 'Philippines','ML': 'Mali','IN':'India','NG':'Nigeria','TR':'Turkey',\n",
    "            'MA': 'Morocco','LI': 'Liechtenstein','FR':'France','IT':'Italy','NL':'Netherlands','IL':'Israel','NA':'NA'}\n",
    "news_df['country'] = news_df['country'].map(lambda x: country_encoded_dict[x])"
   ]
  },
  {
   "cell_type": "code",
   "execution_count": 94,
   "metadata": {},
   "outputs": [],
   "source": [
    "# creating the copy of actual df and from now onwords we will work on this copy\n",
    "news_df_new = news_df.copy()"
   ]
  },
  {
   "cell_type": "markdown",
   "metadata": {},
   "source": [
    "### Removing all the duplicate articles"
   ]
  },
  {
   "cell_type": "code",
   "execution_count": 95,
   "metadata": {},
   "outputs": [],
   "source": [
    "news_df_new.drop_duplicates(subset='title',inplace=True,keep='first')"
   ]
  },
  {
   "cell_type": "code",
   "execution_count": 96,
   "metadata": {},
   "outputs": [
    {
     "data": {
      "text/plain": [
       "(26754, 17)"
      ]
     },
     "execution_count": 96,
     "metadata": {},
     "output_type": "execute_result"
    }
   ],
   "source": [
    "news_df_new.shape"
   ]
  },
  {
   "cell_type": "code",
   "execution_count": 97,
   "metadata": {},
   "outputs": [
    {
     "data": {
      "text/plain": [
       "High     12311\n",
       "Mixed    12121\n",
       "Low       2322\n",
       "Name: factual_reporting, dtype: int64"
      ]
     },
     "execution_count": 97,
     "metadata": {},
     "output_type": "execute_result"
    }
   ],
   "source": [
    "#No. of articles in each category after remoc=ving duplicate articles\n",
    "news_df_new['factual_reporting'].value_counts()"
   ]
  },
  {
   "cell_type": "code",
   "execution_count": 98,
   "metadata": {},
   "outputs": [
    {
     "data": {
      "text/plain": [
       "author                0\n",
       "country               0\n",
       "crawled               0\n",
       "domain_rank           0\n",
       "facebook_comments     0\n",
       "facebook_likes        0\n",
       "language              0\n",
       "main_image            0\n",
       "participants_count    0\n",
       "published             0\n",
       "site                  0\n",
       "site_categories       0\n",
       "site_type             0\n",
       "text                  0\n",
       "title                 0\n",
       "url                   0\n",
       "factual_reporting     0\n",
       "dtype: int64"
      ]
     },
     "execution_count": 98,
     "metadata": {},
     "output_type": "execute_result"
    }
   ],
   "source": [
    "news_df_new.isnull().sum()"
   ]
  },
  {
   "cell_type": "markdown",
   "metadata": {},
   "source": [
    "### Look at how many articles are there other than English language and drop all those articles"
   ]
  },
  {
   "cell_type": "code",
   "execution_count": 99,
   "metadata": {},
   "outputs": [
    {
     "data": {
      "text/plain": [
       "english       24460\n",
       "arabic          936\n",
       "spanish         643\n",
       "japanese        525\n",
       "portuguese      180\n",
       "french            3\n",
       "german            3\n",
       "chinese           2\n",
       "welsh             1\n",
       "indonesian        1\n",
       "Name: language, dtype: int64"
      ]
     },
     "execution_count": 99,
     "metadata": {},
     "output_type": "execute_result"
    }
   ],
   "source": [
    "news_df_new['language'].value_counts()"
   ]
  },
  {
   "cell_type": "code",
   "execution_count": 100,
   "metadata": {},
   "outputs": [
    {
     "data": {
      "text/plain": [
       "(24460, 17)"
      ]
     },
     "execution_count": 100,
     "metadata": {},
     "output_type": "execute_result"
    }
   ],
   "source": [
    "news_df_new.drop(news_df_new[news_df_new['language'] != 'english'].index,inplace=True)\n",
    "news_df_new.shape"
   ]
  },
  {
   "cell_type": "code",
   "execution_count": 101,
   "metadata": {},
   "outputs": [
    {
     "data": {
      "text/plain": [
       "High     12306\n",
       "Mixed     9833\n",
       "Low       2321\n",
       "Name: factual_reporting, dtype: int64"
      ]
     },
     "execution_count": 101,
     "metadata": {},
     "output_type": "execute_result"
    }
   ],
   "source": [
    "# No of articles in each category after removing all non-english articles\n",
    "news_df_new['factual_reporting'].value_counts()"
   ]
  },
  {
   "cell_type": "code",
   "execution_count": 102,
   "metadata": {},
   "outputs": [
    {
     "name": "stdout",
     "output_type": "stream",
     "text": [
      "Minimum published date: 2019-04-10T02:29:00.000+03:00\n",
      "Maximum published date: 2019-05-11T12:28:00.000+03:00\n"
     ]
    }
   ],
   "source": [
    "#Minimum and maximum published date in data set\n",
    "print(\"Minimum published date:\", news_df_new['published'].min())\n",
    "print(\"Maximum published date:\", news_df_new['published'].max())\n"
   ]
  },
  {
   "cell_type": "code",
   "execution_count": 103,
   "metadata": {},
   "outputs": [
    {
     "data": {
      "text/plain": [
       "High     0.503107\n",
       "Mixed    0.402003\n",
       "Low      0.094890\n",
       "Name: factual_reporting, dtype: float64"
      ]
     },
     "execution_count": 103,
     "metadata": {},
     "output_type": "execute_result"
    }
   ],
   "source": [
    "#baseline\n",
    "news_df_new['factual_reporting'].value_counts(normalize=True)"
   ]
  },
  {
   "cell_type": "code",
   "execution_count": 104,
   "metadata": {},
   "outputs": [],
   "source": [
    "custom_stop_words = ['correct','incorrect','']\n",
    "stop_words = stopwords.words(\"english\")\n",
    "stop_words.extend(custom_stop_words)"
   ]
  },
  {
   "cell_type": "markdown",
   "metadata": {},
   "source": [
    "### Working with Doc2vec"
   ]
  },
  {
   "cell_type": "code",
   "execution_count": 105,
   "metadata": {},
   "outputs": [],
   "source": [
    "#Ths function is used to preprocess all the text to remove punctuation marks, converting text to lower case and removing numerical data\n",
    "def preprocess_article(article_text_lines):\n",
    "    article_tokens = []\n",
    "    for line in sent_tokenize(article_text_lines):\n",
    "        #tokenize words in each line\n",
    "        for each_word in word_tokenize(line):\n",
    "            #lower word\n",
    "            each_word = each_word.lower()\n",
    "            #remove non alphabets\n",
    "            each_word = re.sub('[^a-zA-Z]','', each_word)\n",
    "            #remove the punctuation mark\n",
    "            each_word = re.sub(r'[^\\w\\s]','',each_word)\n",
    "            article_tokens.append(each_word)\n",
    "    article_tokens = [word for word in article_tokens if not word in stop_words]\n",
    "    return article_tokens\n",
    "    "
   ]
  },
  {
   "cell_type": "code",
   "execution_count": 106,
   "metadata": {},
   "outputs": [],
   "source": [
    "#creatig a seprate dataframe having processed articles and type of articles(target) \n",
    "df_processed_article = pd.DataFrame({'processed_article': news_df_new['text'].apply(lambda x:preprocess_article(x)),\\\n",
    "                                     'factual_reporting': news_df_new['factual_reporting']})"
   ]
  },
  {
   "cell_type": "code",
   "execution_count": 107,
   "metadata": {},
   "outputs": [
    {
     "data": {
      "text/html": [
       "<div>\n",
       "<style scoped>\n",
       "    .dataframe tbody tr th:only-of-type {\n",
       "        vertical-align: middle;\n",
       "    }\n",
       "\n",
       "    .dataframe tbody tr th {\n",
       "        vertical-align: top;\n",
       "    }\n",
       "\n",
       "    .dataframe thead th {\n",
       "        text-align: right;\n",
       "    }\n",
       "</style>\n",
       "<table border=\"1\" class=\"dataframe\">\n",
       "  <thead>\n",
       "    <tr style=\"text-align: right;\">\n",
       "      <th></th>\n",
       "      <th>processed_article</th>\n",
       "      <th>factual_reporting</th>\n",
       "    </tr>\n",
       "  </thead>\n",
       "  <tbody>\n",
       "    <tr>\n",
       "      <th>0</th>\n",
       "      <td>[questions, coming, hbo, disney, disney, king,...</td>\n",
       "      <td>Mixed</td>\n",
       "    </tr>\n",
       "    <tr>\n",
       "      <th>1</th>\n",
       "      <td>[australians, increasingly, suspicious, govern...</td>\n",
       "      <td>High</td>\n",
       "    </tr>\n",
       "    <tr>\n",
       "      <th>2</th>\n",
       "      <td>[share, facebook, share, facebook, compartilha...</td>\n",
       "      <td>Mixed</td>\n",
       "    </tr>\n",
       "    <tr>\n",
       "      <th>3</th>\n",
       "      <td>[seoul, cnn, south, korea, year, abortion, ban...</td>\n",
       "      <td>Mixed</td>\n",
       "    </tr>\n",
       "    <tr>\n",
       "      <th>4</th>\n",
       "      <td>[washington, cnn, president, donald, trump, ol...</td>\n",
       "      <td>Mixed</td>\n",
       "    </tr>\n",
       "  </tbody>\n",
       "</table>\n",
       "</div>"
      ],
      "text/plain": [
       "                                   processed_article factual_reporting\n",
       "0  [questions, coming, hbo, disney, disney, king,...             Mixed\n",
       "1  [australians, increasingly, suspicious, govern...              High\n",
       "2  [share, facebook, share, facebook, compartilha...             Mixed\n",
       "3  [seoul, cnn, south, korea, year, abortion, ban...             Mixed\n",
       "4  [washington, cnn, president, donald, trump, ol...             Mixed"
      ]
     },
     "execution_count": 107,
     "metadata": {},
     "output_type": "execute_result"
    }
   ],
   "source": [
    "df_processed_article.head()"
   ]
  },
  {
   "cell_type": "code",
   "execution_count": 50,
   "metadata": {},
   "outputs": [],
   "source": [
    "#sentences = TaggedDocument(words=df_processed_article['processed_article'],tags=df_processed_article['factual_reporting'])"
   ]
  },
  {
   "cell_type": "code",
   "execution_count": 108,
   "metadata": {},
   "outputs": [],
   "source": [
    "#tagging the articles with their corresponding type from factual reporting to used it for Doc2vec\n",
    "tagged_sentences = df_processed_article.apply(lambda x: TaggedDocument(words=x['processed_article'],tags = [x['factual_reporting']]),axis=1)"
   ]
  },
  {
   "cell_type": "markdown",
   "metadata": {},
   "source": [
    "### Generating Doc2vec model"
   ]
  },
  {
   "cell_type": "code",
   "execution_count": 109,
   "metadata": {},
   "outputs": [],
   "source": [
    "#Building the vocabulary from the tagged data\n",
    "def build_vocab(tagged_sentences):\n",
    "    model_article_dbow = Doc2Vec(dm=1,vector_size=250,negative=5,min_count=1,alpha=0.025,min_alpha=0.00025)\n",
    "    model_article_dbow.build_vocab([x for x in tqdm(tagged_sentences)])\n",
    "    return model_article_dbow"
   ]
  },
  {
   "cell_type": "code",
   "execution_count": 110,
   "metadata": {},
   "outputs": [
    {
     "name": "stderr",
     "output_type": "stream",
     "text": [
      "100%|███████████████████████████████████████████████████████████████████████| 24460/24460 [00:00<00:00, 1019807.91it/s]\n"
     ]
    }
   ],
   "source": [
    "model_article_dbow = build_vocab(tagged_sentences)"
   ]
  },
  {
   "cell_type": "code",
   "execution_count": 111,
   "metadata": {},
   "outputs": [],
   "source": [
    "#train the Doc2vec model \n",
    "def train_doc2vec_model(tagged_sentences):\n",
    "    for epoch in range(30):\n",
    "        print('iteration {0}'.format(epoch))\n",
    "        model_article_dbow.train(shuffle([x for x in tqdm(tagged_sentences)]),\\\n",
    "                             total_examples = len(tagged_sentences),epochs=1)\n",
    "        model_article_dbow.alpha -= 0.02\n",
    "        model_article_dbow.min_alpha = model_article_dbow.alpha\n",
    "    model_article_dbow.save('d2v.model')\n",
    "    return model_article_dbow"
   ]
  },
  {
   "cell_type": "code",
   "execution_count": 112,
   "metadata": {},
   "outputs": [
    {
     "name": "stdout",
     "output_type": "stream",
     "text": [
      "iteration 0\n"
     ]
    },
    {
     "name": "stderr",
     "output_type": "stream",
     "text": [
      "100%|███████████████████████████████████████████████████████████████████████| 24460/24460 [00:00<00:00, 1631536.96it/s]\n"
     ]
    },
    {
     "name": "stdout",
     "output_type": "stream",
     "text": [
      "iteration 1\n"
     ]
    },
    {
     "name": "stderr",
     "output_type": "stream",
     "text": [
      "100%|███████████████████████████████████████████████████████████████████████| 24460/24460 [00:00<00:00, 1882814.44it/s]\n"
     ]
    },
    {
     "name": "stdout",
     "output_type": "stream",
     "text": [
      "iteration 2\n"
     ]
    },
    {
     "name": "stderr",
     "output_type": "stream",
     "text": [
      "100%|████████████████████████████████████████████████████████████████████████| 24460/24460 [00:00<00:00, 661465.75it/s]\n"
     ]
    },
    {
     "name": "stdout",
     "output_type": "stream",
     "text": [
      "iteration 3\n"
     ]
    },
    {
     "name": "stderr",
     "output_type": "stream",
     "text": [
      "100%|███████████████████████████████████████████████████████████████████████| 24460/24460 [00:00<00:00, 1019757.23it/s]\n"
     ]
    },
    {
     "name": "stdout",
     "output_type": "stream",
     "text": [
      "iteration 4\n"
     ]
    },
    {
     "name": "stderr",
     "output_type": "stream",
     "text": [
      "100%|███████████████████████████████████████████████████████████████████████| 24460/24460 [00:00<00:00, 1439654.74it/s]\n"
     ]
    },
    {
     "name": "stdout",
     "output_type": "stream",
     "text": [
      "iteration 5\n"
     ]
    },
    {
     "name": "stderr",
     "output_type": "stream",
     "text": [
      "100%|████████████████████████████████████████████████████████████████████████| 24460/24460 [00:00<00:00, 843932.68it/s]\n"
     ]
    },
    {
     "name": "stdout",
     "output_type": "stream",
     "text": [
      "iteration 6\n"
     ]
    },
    {
     "name": "stderr",
     "output_type": "stream",
     "text": [
      "100%|███████████████████████████████████████████████████████████████████████| 24460/24460 [00:00<00:00, 1439654.74it/s]\n"
     ]
    },
    {
     "name": "stdout",
     "output_type": "stream",
     "text": [
      "iteration 7\n"
     ]
    },
    {
     "name": "stderr",
     "output_type": "stream",
     "text": [
      "100%|███████████████████████████████████████████████████████████████████████| 24460/24460 [00:00<00:00, 1748192.48it/s]\n"
     ]
    },
    {
     "name": "stdout",
     "output_type": "stream",
     "text": [
      "iteration 8\n"
     ]
    },
    {
     "name": "stderr",
     "output_type": "stream",
     "text": [
      "100%|███████████████████████████████████████████████████████████████████████| 24460/24460 [00:00<00:00, 1288011.30it/s]\n"
     ]
    },
    {
     "name": "stdout",
     "output_type": "stream",
     "text": [
      "iteration 9\n"
     ]
    },
    {
     "name": "stderr",
     "output_type": "stream",
     "text": [
      "100%|████████████████████████████████████████████████████████████████████████| 24460/24460 [00:00<00:00, 906447.87it/s]\n"
     ]
    },
    {
     "name": "stdout",
     "output_type": "stream",
     "text": [
      "iteration 10\n"
     ]
    },
    {
     "name": "stderr",
     "output_type": "stream",
     "text": [
      "100%|███████████████████████████████████████████████████████████████████████| 24460/24460 [00:00<00:00, 1359617.74it/s]\n"
     ]
    },
    {
     "name": "stdout",
     "output_type": "stream",
     "text": [
      "iteration 11\n"
     ]
    },
    {
     "name": "stderr",
     "output_type": "stream",
     "text": [
      "100%|███████████████████████████████████████████████████████████████████████| 24460/24460 [00:00<00:00, 1223701.37it/s]\n"
     ]
    },
    {
     "name": "stdout",
     "output_type": "stream",
     "text": [
      "iteration 12\n"
     ]
    },
    {
     "name": "stderr",
     "output_type": "stream",
     "text": [
      "100%|████████████████████████████████████████████████████████████████████████| 24460/24460 [00:00<00:00, 815781.46it/s]\n"
     ]
    },
    {
     "name": "stdout",
     "output_type": "stream",
     "text": [
      "iteration 13\n"
     ]
    },
    {
     "name": "stderr",
     "output_type": "stream",
     "text": [
      "100%|████████████████████████████████████████████████████████████████████████| 24460/24460 [00:00<00:00, 661482.81it/s]\n"
     ]
    },
    {
     "name": "stdout",
     "output_type": "stream",
     "text": [
      "iteration 14\n"
     ]
    },
    {
     "name": "stderr",
     "output_type": "stream",
     "text": [
      "100%|████████████████████████████████████████████████████████████████████████| 24460/24460 [00:00<00:00, 941355.39it/s]\n"
     ]
    },
    {
     "name": "stdout",
     "output_type": "stream",
     "text": [
      "iteration 15\n"
     ]
    },
    {
     "name": "stderr",
     "output_type": "stream",
     "text": [
      "100%|████████████████████████████████████████████████████████████████████████| 24460/24460 [00:00<00:00, 978993.80it/s]\n"
     ]
    },
    {
     "name": "stdout",
     "output_type": "stream",
     "text": [
      "iteration 16\n"
     ]
    },
    {
     "name": "stderr",
     "output_type": "stream",
     "text": [
      "100%|████████████████████████████████████████████████████████████████████████| 24460/24460 [00:00<00:00, 627531.87it/s]\n"
     ]
    },
    {
     "name": "stdout",
     "output_type": "stream",
     "text": [
      "iteration 17\n"
     ]
    },
    {
     "name": "stderr",
     "output_type": "stream",
     "text": [
      "100%|████████████████████████████████████████████████████████████████████████| 24460/24460 [00:00<00:00, 719827.37it/s]\n"
     ]
    },
    {
     "name": "stdout",
     "output_type": "stream",
     "text": [
      "iteration 18\n"
     ]
    },
    {
     "name": "stderr",
     "output_type": "stream",
     "text": [
      "100%|████████████████████████████████████████████████████████████████████████| 24460/24460 [00:00<00:00, 509893.82it/s]\n"
     ]
    },
    {
     "name": "stdout",
     "output_type": "stream",
     "text": [
      "iteration 19\n"
     ]
    },
    {
     "name": "stderr",
     "output_type": "stream",
     "text": [
      "100%|████████████████████████████████████████████████████████████████████████| 24460/24460 [00:00<00:00, 815794.43it/s]\n"
     ]
    },
    {
     "name": "stdout",
     "output_type": "stream",
     "text": [
      "iteration 20\n"
     ]
    },
    {
     "name": "stderr",
     "output_type": "stream",
     "text": [
      "100%|████████████████████████████████████████████████████████████████████████| 24460/24460 [00:00<00:00, 741662.40it/s]\n"
     ]
    },
    {
     "name": "stdout",
     "output_type": "stream",
     "text": [
      "iteration 21\n"
     ]
    },
    {
     "name": "stderr",
     "output_type": "stream",
     "text": [
      "100%|███████████████████████████████████████████████████████████████████████| 24460/24460 [00:00<00:00, 1112465.45it/s]\n"
     ]
    },
    {
     "name": "stdout",
     "output_type": "stream",
     "text": [
      "iteration 22\n"
     ]
    },
    {
     "name": "stderr",
     "output_type": "stream",
     "text": [
      "100%|███████████████████████████████████████████████████████████████████████| 24460/24460 [00:00<00:00, 1112658.49it/s]\n"
     ]
    },
    {
     "name": "stdout",
     "output_type": "stream",
     "text": [
      "iteration 23\n"
     ]
    },
    {
     "name": "stderr",
     "output_type": "stream",
     "text": [
      "100%|███████████████████████████████████████████████████████████████████████| 24460/24460 [00:00<00:00, 1223759.76it/s]\n"
     ]
    },
    {
     "name": "stdout",
     "output_type": "stream",
     "text": [
      "iteration 24\n"
     ]
    },
    {
     "name": "stderr",
     "output_type": "stream",
     "text": [
      "100%|████████████████████████████████████████████████████████████████████████| 24460/24460 [00:00<00:00, 874088.79it/s]\n"
     ]
    },
    {
     "name": "stdout",
     "output_type": "stream",
     "text": [
      "iteration 25\n"
     ]
    },
    {
     "name": "stderr",
     "output_type": "stream",
     "text": [
      "100%|████████████████████████████████████████████████████████████████████████| 24460/24460 [00:00<00:00, 661431.63it/s]\n"
     ]
    },
    {
     "name": "stdout",
     "output_type": "stream",
     "text": [
      "iteration 26\n"
     ]
    },
    {
     "name": "stderr",
     "output_type": "stream",
     "text": [
      "100%|███████████████████████████████████████████████████████████████████████| 24460/24460 [00:00<00:00, 1165441.80it/s]\n"
     ]
    },
    {
     "name": "stdout",
     "output_type": "stream",
     "text": [
      "iteration 27\n"
     ]
    },
    {
     "name": "stderr",
     "output_type": "stream",
     "text": [
      "100%|███████████████████████████████████████████████████████████████████████| 24460/24460 [00:00<00:00, 1748132.91it/s]\n"
     ]
    },
    {
     "name": "stdout",
     "output_type": "stream",
     "text": [
      "iteration 28\n"
     ]
    },
    {
     "name": "stderr",
     "output_type": "stream",
     "text": [
      "100%|███████████████████████████████████████████████████████████████████████| 24460/24460 [00:00<00:00, 1529795.50it/s]\n"
     ]
    },
    {
     "name": "stdout",
     "output_type": "stream",
     "text": [
      "iteration 29\n"
     ]
    },
    {
     "name": "stderr",
     "output_type": "stream",
     "text": [
      "100%|███████████████████████████████████████████████████████████████████████| 24460/24460 [00:00<00:00, 1223701.37it/s]\n"
     ]
    }
   ],
   "source": [
    "model_article_dbow = train_doc2vec_model(tagged_sentences)"
   ]
  },
  {
   "cell_type": "code",
   "execution_count": 113,
   "metadata": {},
   "outputs": [],
   "source": [
    "#generating the vectors from the trained Doc2vec model\n",
    "def vector_for_learning(model, input_docs):\n",
    "    sents = input_docs\n",
    "    #print(sents)\n",
    "    targets, feature_vectors = zip(*[(doc.tags[0], model.infer_vector(doc.words, steps=50)) for doc in sents])\n",
    "    return targets, feature_vectors"
   ]
  },
  {
   "cell_type": "code",
   "execution_count": 114,
   "metadata": {},
   "outputs": [
    {
     "data": {
      "text/plain": [
       "8045321"
      ]
     },
     "execution_count": 114,
     "metadata": {},
     "output_type": "execute_result"
    }
   ],
   "source": [
    "model_article_dbow.corpus_total_words"
   ]
  },
  {
   "cell_type": "code",
   "execution_count": 115,
   "metadata": {},
   "outputs": [
    {
     "data": {
      "text/plain": [
       "250"
      ]
     },
     "execution_count": 115,
     "metadata": {},
     "output_type": "execute_result"
    }
   ],
   "source": [
    "#vector_for_learning(model_article_dbow,tagged_sentences)\n",
    "len(model_article_dbow.infer_vector(tagged_sentences[0].words,steps=10))"
   ]
  },
  {
   "cell_type": "code",
   "execution_count": 116,
   "metadata": {},
   "outputs": [],
   "source": [
    "#generting the features and target vectors from trained Doc2vec model\n",
    "targets,article_vectors_dbow = vector_for_learning(model_article_dbow, tagged_sentences)"
   ]
  },
  {
   "cell_type": "code",
   "execution_count": 117,
   "metadata": {},
   "outputs": [],
   "source": [
    "y = targets\n",
    "X = article_vectors_dbow"
   ]
  },
  {
   "cell_type": "code",
   "execution_count": 120,
   "metadata": {},
   "outputs": [],
   "source": [
    "#generate test-train split\n",
    "def create_test_train_split(X,y):\n",
    "    X_train,X_test,y_train,y_test = train_test_split(X,y,random_state=43,test_size=0.33,shuffle=True)\n",
    "    return X_train,X_test,y_train,y_test"
   ]
  },
  {
   "cell_type": "code",
   "execution_count": 121,
   "metadata": {},
   "outputs": [],
   "source": [
    "def generate_model_result(model_obj,X,y):\n",
    "    X_train,X_test,y_train,y_test = create_test_train_split(X,y)\n",
    "#    print(X_train.shape,X_test.shape,y_train.shape,y_test.shape)\n",
    "    model = model_obj.fit(X_train,y_train)\n",
    "    training_score = model.score(X_train,y_train)\n",
    "    testing_score = model.score(X_test,y_test)\n",
    "    cv_train_score = np.mean(cross_val_score(model,X_train,y_train,cv=5,n_jobs=3))\n",
    "    cv_test_score = np.mean(cross_val_score(model,X_test,y_test,cv=5,n_jobs=3))\n",
    "    y_pred = model.predict(X_test)\n",
    "    return training_score,testing_score,cv_train_score,cv_test_score,y_pred,y_test"
   ]
  },
  {
   "cell_type": "markdown",
   "metadata": {},
   "source": [
    "### Applying Logistic Regression on Doc2vec vectors"
   ]
  },
  {
   "cell_type": "code",
   "execution_count": 122,
   "metadata": {},
   "outputs": [],
   "source": [
    "lr=LogisticRegression(C=0.01,penalty='l1',random_state=43)"
   ]
  },
  {
   "cell_type": "code",
   "execution_count": 123,
   "metadata": {},
   "outputs": [],
   "source": [
    "training_score , testing_score ,cv_train_score,cv_test_score,y_pred,y_test = generate_model_result(lr,X,y)"
   ]
  },
  {
   "cell_type": "code",
   "execution_count": 124,
   "metadata": {},
   "outputs": [
    {
     "data": {
      "text/plain": [
       "(0.7008786917256529,\n",
       " 0.7015609514370664,\n",
       " 0.6978893476750032,\n",
       " 0.6935080430137228)"
      ]
     },
     "execution_count": 124,
     "metadata": {},
     "output_type": "execute_result"
    }
   ],
   "source": [
    "training_score , testing_score ,cv_train_score,cv_test_score "
   ]
  },
  {
   "cell_type": "code",
   "execution_count": 125,
   "metadata": {},
   "outputs": [],
   "source": [
    "def genrate_classificatoin_report(y_test,y_pred):\n",
    "    print(classification_report(y_test,y_pred))"
   ]
  },
  {
   "cell_type": "code",
   "execution_count": 126,
   "metadata": {},
   "outputs": [],
   "source": [
    "def generate_confusion_matrix(y_test,y_pred):\n",
    "    class_names=['High','Low','Mixed'] \n",
    "    cnf_matrix = confusion_matrix(y_test, y_pred)\n",
    "\n",
    "    fig, ax = plt.subplots()\n",
    "\n",
    "    sns.heatmap(pd.DataFrame(cnf_matrix,columns=['High','Low','Medium'],index=['High','Low','Medium']), annot=True, cmap=\"YlGnBu\" ,fmt='g')\n",
    "    ax.xaxis.set_label_position(\"top\")\n",
    "    plt.tight_layout()\n",
    "    plt.title('Confusion matrix', y=1.1)\n",
    "    plt.ylabel('Actual label')\n",
    "    plt.xlabel('Predicted label')"
   ]
  },
  {
   "cell_type": "code",
   "execution_count": 127,
   "metadata": {},
   "outputs": [
    {
     "name": "stdout",
     "output_type": "stream",
     "text": [
      "              precision    recall  f1-score   support\n",
      "\n",
      "        High       0.73      0.83      0.78      4090\n",
      "         Low       0.51      0.04      0.07       757\n",
      "       Mixed       0.66      0.70      0.68      3225\n",
      "\n",
      "   micro avg       0.70      0.70      0.70      8072\n",
      "   macro avg       0.63      0.52      0.51      8072\n",
      "weighted avg       0.68      0.70      0.67      8072\n",
      "\n"
     ]
    }
   ],
   "source": [
    "genrate_classificatoin_report(y_test,y_pred)"
   ]
  },
  {
   "cell_type": "code",
   "execution_count": 128,
   "metadata": {},
   "outputs": [
    {
     "data": {
      "image/png": "[encoded data removed]",
      "text/plain": [
       "<Figure size 432x288 with 2 Axes>"
      ]
     },
     "metadata": {
      "needs_background": "light"
     },
     "output_type": "display_data"
    }
   ],
   "source": [
    "generate_confusion_matrix(y_test,y_pred)"
   ]
  },
  {
   "cell_type": "markdown",
   "metadata": {},
   "source": [
    "### Resample the low class to handle class imbalancem"
   ]
  },
  {
   "cell_type": "code",
   "execution_count": 129,
   "metadata": {},
   "outputs": [],
   "source": [
    "## Function to upsampale the low class\n",
    "def upsample_class(news_data_df):\n",
    "    df_low = news_data_df[news_data_df['factual_reporting']=='Low']\n",
    "    df_mixed = news_data_df[news_data_df['factual_reporting']=='Mixed']\n",
    "    df_high = news_data_df[news_data_df['factual_reporting']=='High']  \n",
    "    \n",
    "   \n",
    "\n",
    "    df_low_upsampled = resample(df_low, \n",
    "                                     replace=True,     # sample with replacement\n",
    "                                     n_samples=9000,    # to match majority class\n",
    "                                     random_state=47) # reproducible results\n",
    "\n",
    "    df_news_data_upsampled = pd.concat([df_high,df_mixed,df_low_upsampled])\n",
    " \n",
    "    return df_news_data_upsampled"
   ]
  },
  {
   "cell_type": "code",
   "execution_count": 130,
   "metadata": {},
   "outputs": [],
   "source": [
    "df_news_data_upsampled = upsample_class(news_df_new)"
   ]
  },
  {
   "cell_type": "code",
   "execution_count": 131,
   "metadata": {},
   "outputs": [
    {
     "data": {
      "text/plain": [
       "(24460, 17)"
      ]
     },
     "execution_count": 131,
     "metadata": {},
     "output_type": "execute_result"
    }
   ],
   "source": [
    "news_df_new.shape"
   ]
  },
  {
   "cell_type": "code",
   "execution_count": 132,
   "metadata": {},
   "outputs": [
    {
     "data": {
      "text/plain": [
       "(31139, 17)"
      ]
     },
     "execution_count": 132,
     "metadata": {},
     "output_type": "execute_result"
    }
   ],
   "source": [
    "df_news_data_upsampled.shape"
   ]
  },
  {
   "cell_type": "code",
   "execution_count": 133,
   "metadata": {},
   "outputs": [],
   "source": [
    "df_upsampled_processed_article = pd.DataFrame({'processed_article': df_news_data_upsampled['text'].apply(lambda x:preprocess_article(x)),\\\n",
    "                                     'factual_reporting': df_news_data_upsampled['factual_reporting']})"
   ]
  },
  {
   "cell_type": "code",
   "execution_count": 134,
   "metadata": {},
   "outputs": [
    {
     "data": {
      "text/html": [
       "<div>\n",
       "<style scoped>\n",
       "    .dataframe tbody tr th:only-of-type {\n",
       "        vertical-align: middle;\n",
       "    }\n",
       "\n",
       "    .dataframe tbody tr th {\n",
       "        vertical-align: top;\n",
       "    }\n",
       "\n",
       "    .dataframe thead th {\n",
       "        text-align: right;\n",
       "    }\n",
       "</style>\n",
       "<table border=\"1\" class=\"dataframe\">\n",
       "  <thead>\n",
       "    <tr style=\"text-align: right;\">\n",
       "      <th></th>\n",
       "      <th>processed_article</th>\n",
       "      <th>factual_reporting</th>\n",
       "    </tr>\n",
       "  </thead>\n",
       "  <tbody>\n",
       "    <tr>\n",
       "      <th>1</th>\n",
       "      <td>[australians, increasingly, suspicious, govern...</td>\n",
       "      <td>High</td>\n",
       "    </tr>\n",
       "    <tr>\n",
       "      <th>6</th>\n",
       "      <td>[faqs, sorry, browser, needs, javascript, use,...</td>\n",
       "      <td>High</td>\n",
       "    </tr>\n",
       "    <tr>\n",
       "      <th>13</th>\n",
       "      <td>[map, australia, shade, thursday, scott, morri...</td>\n",
       "      <td>High</td>\n",
       "    </tr>\n",
       "    <tr>\n",
       "      <th>14</th>\n",
       "      <td>[map, australia, choice, voters, federal, elec...</td>\n",
       "      <td>High</td>\n",
       "    </tr>\n",
       "    <tr>\n",
       "      <th>15</th>\n",
       "      <td>[could, dealt, outside, harsh, adversarial, wo...</td>\n",
       "      <td>High</td>\n",
       "    </tr>\n",
       "  </tbody>\n",
       "</table>\n",
       "</div>"
      ],
      "text/plain": [
       "                                    processed_article factual_reporting\n",
       "1   [australians, increasingly, suspicious, govern...              High\n",
       "6   [faqs, sorry, browser, needs, javascript, use,...              High\n",
       "13  [map, australia, shade, thursday, scott, morri...              High\n",
       "14  [map, australia, choice, voters, federal, elec...              High\n",
       "15  [could, dealt, outside, harsh, adversarial, wo...              High"
      ]
     },
     "execution_count": 134,
     "metadata": {},
     "output_type": "execute_result"
    }
   ],
   "source": [
    "df_upsampled_processed_article.head()"
   ]
  },
  {
   "cell_type": "code",
   "execution_count": 135,
   "metadata": {},
   "outputs": [],
   "source": [
    "tagged_sentences_upsampled = df_upsampled_processed_article.apply(lambda x: TaggedDocument(words=x['processed_article'],tags = [x['factual_reporting']]),axis=1)"
   ]
  },
  {
   "cell_type": "code",
   "execution_count": 136,
   "metadata": {},
   "outputs": [
    {
     "name": "stderr",
     "output_type": "stream",
     "text": [
      "100%|███████████████████████████████████████████████████████████████████████| 31139/31139 [00:00<00:00, 1112661.50it/s]\n"
     ]
    }
   ],
   "source": [
    "model_article_dbow_upsampled = build_vocab(tagged_sentences_upsampled)"
   ]
  },
  {
   "cell_type": "code",
   "execution_count": 137,
   "metadata": {},
   "outputs": [
    {
     "name": "stdout",
     "output_type": "stream",
     "text": [
      "iteration 0\n"
     ]
    },
    {
     "name": "stderr",
     "output_type": "stream",
     "text": [
      "100%|███████████████████████████████████████████████████████████████████████| 31139/31139 [00:00<00:00, 1639733.74it/s]\n"
     ]
    },
    {
     "name": "stdout",
     "output_type": "stream",
     "text": [
      "iteration 1\n"
     ]
    },
    {
     "name": "stderr",
     "output_type": "stream",
     "text": [
      "100%|███████████████████████████████████████████████████████████████████████| 31139/31139 [00:00<00:00, 1298223.06it/s]\n"
     ]
    },
    {
     "name": "stdout",
     "output_type": "stream",
     "text": [
      "iteration 2\n"
     ]
    },
    {
     "name": "stderr",
     "output_type": "stream",
     "text": [
      "100%|███████████████████████████████████████████████████████████████████████| 31139/31139 [00:00<00:00, 1298171.44it/s]\n"
     ]
    },
    {
     "name": "stdout",
     "output_type": "stream",
     "text": [
      "iteration 3\n"
     ]
    },
    {
     "name": "stderr",
     "output_type": "stream",
     "text": [
      "100%|███████████████████████████████████████████████████████████████████████| 31139/31139 [00:00<00:00, 1730964.07it/s]\n"
     ]
    },
    {
     "name": "stdout",
     "output_type": "stream",
     "text": [
      "iteration 4\n"
     ]
    },
    {
     "name": "stderr",
     "output_type": "stream",
     "text": [
      "100%|███████████████████████████████████████████████████████████████████████| 31139/31139 [00:00<00:00, 1557861.47it/s]\n"
     ]
    },
    {
     "name": "stdout",
     "output_type": "stream",
     "text": [
      "iteration 5\n"
     ]
    },
    {
     "name": "stderr",
     "output_type": "stream",
     "text": [
      "100%|███████████████████████████████████████████████████████████████████████| 31139/31139 [00:00<00:00, 1298184.34it/s]\n"
     ]
    },
    {
     "name": "stdout",
     "output_type": "stream",
     "text": [
      "iteration 6\n"
     ]
    },
    {
     "name": "stderr",
     "output_type": "stream",
     "text": [
      "100%|███████████████████████████████████████████████████████████████████████| 31139/31139 [00:00<00:00, 1198345.08it/s]\n"
     ]
    },
    {
     "name": "stdout",
     "output_type": "stream",
     "text": [
      "iteration 7\n"
     ]
    },
    {
     "name": "stderr",
     "output_type": "stream",
     "text": [
      "100%|███████████████████████████████████████████████████████████████████████| 31139/31139 [00:00<00:00, 1639795.50it/s]\n"
     ]
    },
    {
     "name": "stdout",
     "output_type": "stream",
     "text": [
      "iteration 8\n"
     ]
    },
    {
     "name": "stderr",
     "output_type": "stream",
     "text": [
      "100%|███████████████████████████████████████████████████████████████████████| 31139/31139 [00:00<00:00, 1557749.99it/s]\n"
     ]
    },
    {
     "name": "stdout",
     "output_type": "stream",
     "text": [
      "iteration 9\n"
     ]
    },
    {
     "name": "stderr",
     "output_type": "stream",
     "text": [
      "100%|███████████████████████████████████████████████████████████████████████| 31139/31139 [00:00<00:00, 1639774.92it/s]\n"
     ]
    },
    {
     "name": "stdout",
     "output_type": "stream",
     "text": [
      "iteration 10\n"
     ]
    },
    {
     "name": "stderr",
     "output_type": "stream",
     "text": [
      "100%|███████████████████████████████████████████████████████████████████████| 31139/31139 [00:00<00:00, 1416233.10it/s]\n"
     ]
    },
    {
     "name": "stdout",
     "output_type": "stream",
     "text": [
      "iteration 11\n"
     ]
    },
    {
     "name": "stderr",
     "output_type": "stream",
     "text": [
      "100%|████████████████████████████████████████████████████████████████████████| 31139/31139 [00:00<00:00, 708116.55it/s]\n"
     ]
    },
    {
     "name": "stdout",
     "output_type": "stream",
     "text": [
      "iteration 12\n"
     ]
    },
    {
     "name": "stderr",
     "output_type": "stream",
     "text": [
      "100%|███████████████████████████████████████████████████████████████████████| 31139/31139 [00:00<00:00, 1416340.60it/s]\n"
     ]
    },
    {
     "name": "stdout",
     "output_type": "stream",
     "text": [
      "iteration 13\n"
     ]
    },
    {
     "name": "stderr",
     "output_type": "stream",
     "text": [
      "100%|███████████████████████████████████████████████████████████████████████| 31139/31139 [00:00<00:00, 1832815.50it/s]\n"
     ]
    },
    {
     "name": "stdout",
     "output_type": "stream",
     "text": [
      "iteration 14\n"
     ]
    },
    {
     "name": "stderr",
     "output_type": "stream",
     "text": [
      "100%|███████████████████████████████████████████████████████████████████████| 31139/31139 [00:00<00:00, 1246208.91it/s]\n"
     ]
    },
    {
     "name": "stdout",
     "output_type": "stream",
     "text": [
      "iteration 15\n"
     ]
    },
    {
     "name": "stderr",
     "output_type": "stream",
     "text": [
      "100%|████████████████████████████████████████████████████████████████████████| 31139/31139 [00:00<00:00, 724580.90it/s]\n"
     ]
    },
    {
     "name": "stdout",
     "output_type": "stream",
     "text": [
      "iteration 16\n"
     ]
    },
    {
     "name": "stderr",
     "output_type": "stream",
     "text": [
      "100%|███████████████████████████████████████████████████████████████████████| 31139/31139 [00:00<00:00, 1298197.25it/s]\n"
     ]
    },
    {
     "name": "stdout",
     "output_type": "stream",
     "text": [
      "iteration 17\n"
     ]
    },
    {
     "name": "stderr",
     "output_type": "stream",
     "text": [
      "100%|███████████████████████████████████████████████████████████████████████| 31139/31139 [00:00<00:00, 1416125.60it/s]\n"
     ]
    },
    {
     "name": "stdout",
     "output_type": "stream",
     "text": [
      "iteration 18\n"
     ]
    },
    {
     "name": "stderr",
     "output_type": "stream",
     "text": [
      "100%|███████████████████████████████████████████████████████████████████████| 31139/31139 [00:00<00:00, 1416187.03it/s]\n"
     ]
    },
    {
     "name": "stdout",
     "output_type": "stream",
     "text": [
      "iteration 19\n"
     ]
    },
    {
     "name": "stderr",
     "output_type": "stream",
     "text": [
      "100%|████████████████████████████████████████████████████████████████████████| 31139/31139 [00:00<00:00, 890144.37it/s]\n"
     ]
    },
    {
     "name": "stdout",
     "output_type": "stream",
     "text": [
      "iteration 20\n"
     ]
    },
    {
     "name": "stderr",
     "output_type": "stream",
     "text": [
      "100%|███████████████████████████████████████████████████████████████████████| 31139/31139 [00:00<00:00, 1557768.57it/s]\n"
     ]
    },
    {
     "name": "stdout",
     "output_type": "stream",
     "text": [
      "iteration 21\n"
     ]
    },
    {
     "name": "stderr",
     "output_type": "stream",
     "text": [
      "100%|███████████████████████████████████████████████████████████████████████| 31139/31139 [00:00<00:00, 1557824.31it/s]\n"
     ]
    },
    {
     "name": "stdout",
     "output_type": "stream",
     "text": [
      "iteration 22\n"
     ]
    },
    {
     "name": "stderr",
     "output_type": "stream",
     "text": [
      "100%|███████████████████████████████████████████████████████████████████████| 31139/31139 [00:00<00:00, 1730941.13it/s]\n"
     ]
    },
    {
     "name": "stdout",
     "output_type": "stream",
     "text": [
      "iteration 23\n"
     ]
    },
    {
     "name": "stderr",
     "output_type": "stream",
     "text": [
      "100%|███████████████████████████████████████████████████████████████████████| 31139/31139 [00:00<00:00, 1416202.38it/s]\n"
     ]
    },
    {
     "name": "stdout",
     "output_type": "stream",
     "text": [
      "iteration 24\n"
     ]
    },
    {
     "name": "stderr",
     "output_type": "stream",
     "text": [
      "100%|███████████████████████████████████████████████████████████████████████| 31139/31139 [00:00<00:00, 1354627.73it/s]\n"
     ]
    },
    {
     "name": "stdout",
     "output_type": "stream",
     "text": [
      "iteration 25\n"
     ]
    },
    {
     "name": "stderr",
     "output_type": "stream",
     "text": [
      "100%|███████████████████████████████████████████████████████████████████████| 31139/31139 [00:00<00:00, 1198323.09it/s]\n"
     ]
    },
    {
     "name": "stdout",
     "output_type": "stream",
     "text": [
      "iteration 26\n"
     ]
    },
    {
     "name": "stderr",
     "output_type": "stream",
     "text": [
      "100%|███████████████████████████████████████████████████████████████████████| 31139/31139 [00:00<00:00, 1483573.95it/s]\n"
     ]
    },
    {
     "name": "stdout",
     "output_type": "stream",
     "text": [
      "iteration 27\n"
     ]
    },
    {
     "name": "stderr",
     "output_type": "stream",
     "text": [
      "100%|███████████████████████████████████████████████████████████████████████| 31139/31139 [00:00<00:00, 1639857.27it/s]\n"
     ]
    },
    {
     "name": "stdout",
     "output_type": "stream",
     "text": [
      "iteration 28\n"
     ]
    },
    {
     "name": "stderr",
     "output_type": "stream",
     "text": [
      "100%|███████████████████████████████████████████████████████████████████████| 31139/31139 [00:00<00:00, 1557842.89it/s]\n"
     ]
    },
    {
     "name": "stdout",
     "output_type": "stream",
     "text": [
      "iteration 29\n"
     ]
    },
    {
     "name": "stderr",
     "output_type": "stream",
     "text": [
      "100%|████████████████████████████████████████████████████████████████████████| 31139/31139 [00:00<00:00, 973650.35it/s]\n"
     ]
    }
   ],
   "source": [
    "model_article_dbow_upsampled = train_doc2vec_model(tagged_sentences_upsampled)"
   ]
  },
  {
   "cell_type": "code",
   "execution_count": 138,
   "metadata": {},
   "outputs": [
    {
     "data": {
      "text/plain": [
       "8045321"
      ]
     },
     "execution_count": 138,
     "metadata": {},
     "output_type": "execute_result"
    }
   ],
   "source": [
    "model_article_dbow_upsampled.corpus_total_words"
   ]
  },
  {
   "cell_type": "code",
   "execution_count": 139,
   "metadata": {},
   "outputs": [],
   "source": [
    "targets_upsampled,article_vectors_dbow_upsampled = vector_for_learning(model_article_dbow_upsampled, tagged_sentences_upsampled)"
   ]
  },
  {
   "cell_type": "code",
   "execution_count": 140,
   "metadata": {},
   "outputs": [],
   "source": [
    "y_upsampled = targets_upsampled\n",
    "X_upsampled = article_vectors_dbow_upsampled"
   ]
  },
  {
   "cell_type": "code",
   "execution_count": 146,
   "metadata": {},
   "outputs": [],
   "source": [
    "lr=LogisticRegression(C=100,penalty='l2',random_state=43)"
   ]
  },
  {
   "cell_type": "code",
   "execution_count": 147,
   "metadata": {},
   "outputs": [],
   "source": [
    "training_score , testing_score ,cv_train_score,cv_test_score,y_pred,y_test = generate_model_result(lr,X_upsampled,y_upsampled)"
   ]
  },
  {
   "cell_type": "code",
   "execution_count": 148,
   "metadata": {},
   "outputs": [
    {
     "data": {
      "text/plain": [
       "(0.6740162009298759, 0.6698131568703776, 0.6686008275916191, 0.676528035274021)"
      ]
     },
     "execution_count": 148,
     "metadata": {},
     "output_type": "execute_result"
    }
   ],
   "source": [
    "training_score , testing_score ,cv_train_score,cv_test_score"
   ]
  },
  {
   "cell_type": "code",
   "execution_count": 149,
   "metadata": {},
   "outputs": [
    {
     "name": "stdout",
     "output_type": "stream",
     "text": [
      "              precision    recall  f1-score   support\n",
      "\n",
      "        High       0.72      0.77      0.74      4139\n",
      "         Low       0.63      0.61      0.62      2967\n",
      "       Mixed       0.64      0.59      0.62      3170\n",
      "\n",
      "   micro avg       0.67      0.67      0.67     10276\n",
      "   macro avg       0.66      0.66      0.66     10276\n",
      "weighted avg       0.67      0.67      0.67     10276\n",
      "\n"
     ]
    }
   ],
   "source": [
    "genrate_classificatoin_report(y_test,y_pred)"
   ]
  },
  {
   "cell_type": "code",
   "execution_count": 150,
   "metadata": {},
   "outputs": [
    {
     "data": {
      "image/png": "[encoded data removed]",
      "text/plain": [
       "<Figure size 432x288 with 2 Axes>"
      ]
     },
     "metadata": {
      "needs_background": "light"
     },
     "output_type": "display_data"
    }
   ],
   "source": [
    "generate_confusion_matrix(y_test,y_pred)"
   ]
  },
  {
   "cell_type": "markdown",
   "metadata": {},
   "source": [
    "### Random forest classification"
   ]
  },
  {
   "cell_type": "code",
   "execution_count": 176,
   "metadata": {},
   "outputs": [],
   "source": [
    "forest_clf=RandomForestClassifier(n_estimators=30,max_depth=10,random_state=43,criterion='entropy', \\\n",
    "                                 max_features=10)"
   ]
  },
  {
   "cell_type": "code",
   "execution_count": 177,
   "metadata": {},
   "outputs": [],
   "source": [
    "training_score , testing_score ,cv_train_score,cv_test_score,y_pred,y_test = generate_model_result(forest_clf,X_upsampled,y_upsampled)"
   ]
  },
  {
   "cell_type": "code",
   "execution_count": 178,
   "metadata": {},
   "outputs": [
    {
     "data": {
      "text/plain": [
       "(0.763169246992283, 0.6563838069287661, 0.6523019761623957, 0.6515163860992764)"
      ]
     },
     "execution_count": 178,
     "metadata": {},
     "output_type": "execute_result"
    }
   ],
   "source": [
    "training_score , testing_score ,cv_train_score,cv_test_score"
   ]
  },
  {
   "cell_type": "code",
   "execution_count": 179,
   "metadata": {},
   "outputs": [
    {
     "name": "stdout",
     "output_type": "stream",
     "text": [
      "              precision    recall  f1-score   support\n",
      "\n",
      "        High       0.71      0.76      0.73      4139\n",
      "         Low       0.59      0.65      0.62      2967\n",
      "       Mixed       0.64      0.54      0.58      3170\n",
      "\n",
      "   micro avg       0.66      0.66      0.66     10276\n",
      "   macro avg       0.65      0.65      0.65     10276\n",
      "weighted avg       0.66      0.66      0.65     10276\n",
      "\n"
     ]
    }
   ],
   "source": [
    "genrate_classificatoin_report(y_test,y_pred)"
   ]
  },
  {
   "cell_type": "code",
   "execution_count": 169,
   "metadata": {},
   "outputs": [
    {
     "data": {
      "image/png": "[encoded data removed]",
      "text/plain": [
       "<Figure size 432x288 with 2 Axes>"
      ]
     },
     "metadata": {
      "needs_background": "light"
     },
     "output_type": "display_data"
    }
   ],
   "source": [
    "generate_confusion_matrix(y_test,y_pred)"
   ]
  }
 ],
 "metadata": {
  "kernelspec": {
   "display_name": "Python 3",
   "language": "python",
   "name": "python3"
  },
  "language_info": {
   "codemirror_mode": {
    "name": "ipython",
    "version": 3
   },
   "file_extension": ".py",
   "mimetype": "text/x-python",
   "name": "python",
   "nbconvert_exporter": "python",
   "pygments_lexer": "ipython3",
   "version": "3.7.3"
  }
 },
 "nbformat": 4,
 "nbformat_minor": 2
}
